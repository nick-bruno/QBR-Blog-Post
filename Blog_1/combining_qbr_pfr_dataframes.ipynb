{
 "cells": [
  {
   "cell_type": "markdown",
   "metadata": {},
   "source": [
    "# Combine ESPN and Pro Football Reference Dataframes\n",
    "## By: Nick Bruno"
   ]
  },
  {
   "cell_type": "markdown",
   "metadata": {},
   "source": [
    "### Import libraries"
   ]
  },
  {
   "cell_type": "code",
   "execution_count": 1,
   "metadata": {},
   "outputs": [],
   "source": [
    "import pandas as pd\n",
    "import os\n",
    "import numpy as np"
   ]
  },
  {
   "cell_type": "markdown",
   "metadata": {},
   "source": [
    "### Import datasets"
   ]
  },
  {
   "cell_type": "markdown",
   "metadata": {},
   "source": [
    "##### Import QBR dataset"
   ]
  },
  {
   "cell_type": "code",
   "execution_count": 2,
   "metadata": {},
   "outputs": [],
   "source": [
    "qbr_data = pd.read_csv('regular_season_qbr_2006_to_2018.csv', index_col=None)"
   ]
  },
  {
   "cell_type": "code",
   "execution_count": 3,
   "metadata": {},
   "outputs": [],
   "source": [
    "# Drop index column\n",
    "qbr_data = qbr_data.drop(columns='Unnamed: 0')"
   ]
  },
  {
   "cell_type": "code",
   "execution_count": 4,
   "metadata": {},
   "outputs": [
    {
     "data": {
      "text/plain": [
       "Index(['PASS', 'PENALTY', 'PLAYER', 'PTS ADDED', 'QB PLAYS', 'RAW QBR',\n",
       "       'RESULT', 'RK', 'RUN', 'TOTAL EPA', 'TOTAL QBR', 'WEEK', 'YEAR'],\n",
       "      dtype='object')"
      ]
     },
     "execution_count": 4,
     "metadata": {},
     "output_type": "execute_result"
    }
   ],
   "source": [
    "# List columns\n",
    "qbr_data.columns"
   ]
  },
  {
   "cell_type": "code",
   "execution_count": 5,
   "metadata": {},
   "outputs": [
    {
     "data": {
      "text/html": [
       "<div>\n",
       "<style scoped>\n",
       "    .dataframe tbody tr th:only-of-type {\n",
       "        vertical-align: middle;\n",
       "    }\n",
       "\n",
       "    .dataframe tbody tr th {\n",
       "        vertical-align: top;\n",
       "    }\n",
       "\n",
       "    .dataframe thead th {\n",
       "        text-align: right;\n",
       "    }\n",
       "</style>\n",
       "<table border=\"1\" class=\"dataframe\">\n",
       "  <thead>\n",
       "    <tr style=\"text-align: right;\">\n",
       "      <th></th>\n",
       "      <th>PASS</th>\n",
       "      <th>PENALTY</th>\n",
       "      <th>PLAYER</th>\n",
       "      <th>PTS ADDED</th>\n",
       "      <th>QB PLAYS</th>\n",
       "      <th>RAW QBR</th>\n",
       "      <th>RESULT</th>\n",
       "      <th>RK</th>\n",
       "      <th>RUN</th>\n",
       "      <th>TOTAL EPA</th>\n",
       "      <th>TOTAL QBR</th>\n",
       "      <th>WEEK</th>\n",
       "      <th>YEAR</th>\n",
       "    </tr>\n",
       "  </thead>\n",
       "  <tbody>\n",
       "    <tr>\n",
       "      <th>0</th>\n",
       "      <td>4.3</td>\n",
       "      <td>0.1</td>\n",
       "      <td>Rex Grossman, CHI</td>\n",
       "      <td>5.5</td>\n",
       "      <td>31</td>\n",
       "      <td>92.4</td>\n",
       "      <td>W 26-0  @ GB in Wk 1</td>\n",
       "      <td>1.0</td>\n",
       "      <td>0.6</td>\n",
       "      <td>5.4</td>\n",
       "      <td>96.4</td>\n",
       "      <td>1.0</td>\n",
       "      <td>2006.0</td>\n",
       "    </tr>\n",
       "    <tr>\n",
       "      <th>1</th>\n",
       "      <td>8.6</td>\n",
       "      <td>-0.1</td>\n",
       "      <td>Donovan McNabb, PHI</td>\n",
       "      <td>8.1</td>\n",
       "      <td>38</td>\n",
       "      <td>95.4</td>\n",
       "      <td>W 24-10  @ HOU in Wk 1</td>\n",
       "      <td>2.0</td>\n",
       "      <td>0.1</td>\n",
       "      <td>8.9</td>\n",
       "      <td>92.5</td>\n",
       "      <td>1.0</td>\n",
       "      <td>2006.0</td>\n",
       "    </tr>\n",
       "    <tr>\n",
       "      <th>2</th>\n",
       "      <td>6.5</td>\n",
       "      <td>0.2</td>\n",
       "      <td>Chad Pennington, NYJ</td>\n",
       "      <td>6.1</td>\n",
       "      <td>43</td>\n",
       "      <td>88.1</td>\n",
       "      <td>W 23-16  @ TEN in Wk 1</td>\n",
       "      <td>3.0</td>\n",
       "      <td>-0.3</td>\n",
       "      <td>7.5</td>\n",
       "      <td>90.1</td>\n",
       "      <td>1.0</td>\n",
       "      <td>2006.0</td>\n",
       "    </tr>\n",
       "    <tr>\n",
       "      <th>3</th>\n",
       "      <td>8.4</td>\n",
       "      <td>-0.3</td>\n",
       "      <td>Peyton Manning, IND</td>\n",
       "      <td>5.8</td>\n",
       "      <td>45</td>\n",
       "      <td>86.0</td>\n",
       "      <td>W 26-21  @ NYG in Wk 1</td>\n",
       "      <td>4.0</td>\n",
       "      <td>0.0</td>\n",
       "      <td>8.3</td>\n",
       "      <td>86.0</td>\n",
       "      <td>1.0</td>\n",
       "      <td>2006.0</td>\n",
       "    </tr>\n",
       "    <tr>\n",
       "      <th>4</th>\n",
       "      <td>1.3</td>\n",
       "      <td>0.4</td>\n",
       "      <td>Mike Vick, ATL</td>\n",
       "      <td>1.8</td>\n",
       "      <td>30</td>\n",
       "      <td>70.5</td>\n",
       "      <td>W 20-6  @ CAR in Wk 1</td>\n",
       "      <td>5.0</td>\n",
       "      <td>1.1</td>\n",
       "      <td>3.4</td>\n",
       "      <td>79.4</td>\n",
       "      <td>1.0</td>\n",
       "      <td>2006.0</td>\n",
       "    </tr>\n",
       "  </tbody>\n",
       "</table>\n",
       "</div>"
      ],
      "text/plain": [
       "   PASS  PENALTY                PLAYER  PTS ADDED  QB PLAYS  RAW QBR  \\\n",
       "0   4.3      0.1     Rex Grossman, CHI        5.5        31     92.4   \n",
       "1   8.6     -0.1   Donovan McNabb, PHI        8.1        38     95.4   \n",
       "2   6.5      0.2  Chad Pennington, NYJ        6.1        43     88.1   \n",
       "3   8.4     -0.3   Peyton Manning, IND        5.8        45     86.0   \n",
       "4   1.3      0.4        Mike Vick, ATL        1.8        30     70.5   \n",
       "\n",
       "                   RESULT   RK  RUN  TOTAL EPA  TOTAL QBR  WEEK    YEAR  \n",
       "0    W 26-0  @ GB in Wk 1  1.0  0.6        5.4       96.4   1.0  2006.0  \n",
       "1  W 24-10  @ HOU in Wk 1  2.0  0.1        8.9       92.5   1.0  2006.0  \n",
       "2  W 23-16  @ TEN in Wk 1  3.0 -0.3        7.5       90.1   1.0  2006.0  \n",
       "3  W 26-21  @ NYG in Wk 1  4.0  0.0        8.3       86.0   1.0  2006.0  \n",
       "4   W 20-6  @ CAR in Wk 1  5.0  1.1        3.4       79.4   1.0  2006.0  "
      ]
     },
     "execution_count": 5,
     "metadata": {},
     "output_type": "execute_result"
    }
   ],
   "source": [
    "# Checkout first 5 rows\n",
    "qbr_data.head()"
   ]
  },
  {
   "cell_type": "code",
   "execution_count": 6,
   "metadata": {},
   "outputs": [
    {
     "data": {
      "text/plain": [
       "(6537, 13)"
      ]
     },
     "execution_count": 6,
     "metadata": {},
     "output_type": "execute_result"
    }
   ],
   "source": [
    "# Shape\n",
    "qbr_data.shape"
   ]
  },
  {
   "cell_type": "markdown",
   "metadata": {},
   "source": [
    "##### Import pro-football-reference quarterback dataset"
   ]
  },
  {
   "cell_type": "code",
   "execution_count": 7,
   "metadata": {},
   "outputs": [],
   "source": [
    "pfr_data = pd.read_csv('qb_data.csv')"
   ]
  },
  {
   "cell_type": "code",
   "execution_count": 8,
   "metadata": {},
   "outputs": [
    {
     "data": {
      "text/plain": [
       "Index(['name', 'id', 'Year', 'Date', 'G.', 'Age', 'Tm', 'X', 'Opp', 'Result',\n",
       "       'GS', 'Cmp', 'Att', 'Cmp.', 'Yds', 'TD', 'Int', 'Rate', 'Sk', 'Yds.1',\n",
       "       'Y.A', 'AY.A', 'Att.1', 'Yds.2', 'Y.A.1', 'TD.1', 'TD.2', 'Pts', 'Fmb',\n",
       "       'FF', 'FR', 'Yds.3', 'TD.3', 'team_win', 'start_win', 'game_count',\n",
       "       'start_count'],\n",
       "      dtype='object')"
      ]
     },
     "execution_count": 8,
     "metadata": {},
     "output_type": "execute_result"
    }
   ],
   "source": [
    "# List columns\n",
    "pfr_data.columns"
   ]
  },
  {
   "cell_type": "code",
   "execution_count": 9,
   "metadata": {},
   "outputs": [
    {
     "data": {
      "text/html": [
       "<div>\n",
       "<style scoped>\n",
       "    .dataframe tbody tr th:only-of-type {\n",
       "        vertical-align: middle;\n",
       "    }\n",
       "\n",
       "    .dataframe tbody tr th {\n",
       "        vertical-align: top;\n",
       "    }\n",
       "\n",
       "    .dataframe thead th {\n",
       "        text-align: right;\n",
       "    }\n",
       "</style>\n",
       "<table border=\"1\" class=\"dataframe\">\n",
       "  <thead>\n",
       "    <tr style=\"text-align: right;\">\n",
       "      <th></th>\n",
       "      <th>name</th>\n",
       "      <th>id</th>\n",
       "      <th>Year</th>\n",
       "      <th>Date</th>\n",
       "      <th>G.</th>\n",
       "      <th>Age</th>\n",
       "      <th>Tm</th>\n",
       "      <th>X</th>\n",
       "      <th>Opp</th>\n",
       "      <th>Result</th>\n",
       "      <th>...</th>\n",
       "      <th>Pts</th>\n",
       "      <th>Fmb</th>\n",
       "      <th>FF</th>\n",
       "      <th>FR</th>\n",
       "      <th>Yds.3</th>\n",
       "      <th>TD.3</th>\n",
       "      <th>team_win</th>\n",
       "      <th>start_win</th>\n",
       "      <th>game_count</th>\n",
       "      <th>start_count</th>\n",
       "    </tr>\n",
       "  </thead>\n",
       "  <tbody>\n",
       "    <tr>\n",
       "      <th>0</th>\n",
       "      <td>A.J. Feeley</td>\n",
       "      <td>FeelA.00</td>\n",
       "      <td>2001</td>\n",
       "      <td>1/6/02</td>\n",
       "      <td>16</td>\n",
       "      <td>24.235</td>\n",
       "      <td>PHI</td>\n",
       "      <td>@</td>\n",
       "      <td>TAM</td>\n",
       "      <td>W 17-13</td>\n",
       "      <td>...</td>\n",
       "      <td>0</td>\n",
       "      <td>0</td>\n",
       "      <td>0</td>\n",
       "      <td>0</td>\n",
       "      <td>0</td>\n",
       "      <td>0</td>\n",
       "      <td>1</td>\n",
       "      <td>0</td>\n",
       "      <td>1</td>\n",
       "      <td>0</td>\n",
       "    </tr>\n",
       "    <tr>\n",
       "      <th>1</th>\n",
       "      <td>A.J. Feeley</td>\n",
       "      <td>FeelA.00</td>\n",
       "      <td>2002</td>\n",
       "      <td>12/1/02</td>\n",
       "      <td>12</td>\n",
       "      <td>25.199</td>\n",
       "      <td>PHI</td>\n",
       "      <td>NaN</td>\n",
       "      <td>STL</td>\n",
       "      <td>W 10-3</td>\n",
       "      <td>...</td>\n",
       "      <td>0</td>\n",
       "      <td>0</td>\n",
       "      <td>0</td>\n",
       "      <td>0</td>\n",
       "      <td>0</td>\n",
       "      <td>0</td>\n",
       "      <td>1</td>\n",
       "      <td>1</td>\n",
       "      <td>2</td>\n",
       "      <td>1</td>\n",
       "    </tr>\n",
       "    <tr>\n",
       "      <th>2</th>\n",
       "      <td>A.J. Feeley</td>\n",
       "      <td>FeelA.00</td>\n",
       "      <td>2002</td>\n",
       "      <td>12/8/02</td>\n",
       "      <td>13</td>\n",
       "      <td>25.206</td>\n",
       "      <td>PHI</td>\n",
       "      <td>@</td>\n",
       "      <td>SEA</td>\n",
       "      <td>W 27-20</td>\n",
       "      <td>...</td>\n",
       "      <td>0</td>\n",
       "      <td>0</td>\n",
       "      <td>0</td>\n",
       "      <td>0</td>\n",
       "      <td>0</td>\n",
       "      <td>0</td>\n",
       "      <td>1</td>\n",
       "      <td>1</td>\n",
       "      <td>3</td>\n",
       "      <td>2</td>\n",
       "    </tr>\n",
       "    <tr>\n",
       "      <th>3</th>\n",
       "      <td>A.J. Feeley</td>\n",
       "      <td>FeelA.00</td>\n",
       "      <td>2002</td>\n",
       "      <td>12/15/02</td>\n",
       "      <td>14</td>\n",
       "      <td>25.213</td>\n",
       "      <td>PHI</td>\n",
       "      <td>NaN</td>\n",
       "      <td>WAS</td>\n",
       "      <td>W 34-21</td>\n",
       "      <td>...</td>\n",
       "      <td>0</td>\n",
       "      <td>0</td>\n",
       "      <td>0</td>\n",
       "      <td>0</td>\n",
       "      <td>0</td>\n",
       "      <td>0</td>\n",
       "      <td>1</td>\n",
       "      <td>1</td>\n",
       "      <td>4</td>\n",
       "      <td>3</td>\n",
       "    </tr>\n",
       "    <tr>\n",
       "      <th>4</th>\n",
       "      <td>A.J. Feeley</td>\n",
       "      <td>FeelA.00</td>\n",
       "      <td>2002</td>\n",
       "      <td>12/21/02</td>\n",
       "      <td>15</td>\n",
       "      <td>25.219</td>\n",
       "      <td>PHI</td>\n",
       "      <td>@</td>\n",
       "      <td>DAL</td>\n",
       "      <td>W 27-3</td>\n",
       "      <td>...</td>\n",
       "      <td>0</td>\n",
       "      <td>0</td>\n",
       "      <td>0</td>\n",
       "      <td>0</td>\n",
       "      <td>0</td>\n",
       "      <td>0</td>\n",
       "      <td>1</td>\n",
       "      <td>1</td>\n",
       "      <td>5</td>\n",
       "      <td>4</td>\n",
       "    </tr>\n",
       "  </tbody>\n",
       "</table>\n",
       "<p>5 rows × 37 columns</p>\n",
       "</div>"
      ],
      "text/plain": [
       "          name        id  Year      Date  G.     Age   Tm    X  Opp   Result  \\\n",
       "0  A.J. Feeley  FeelA.00  2001    1/6/02  16  24.235  PHI    @  TAM  W 17-13   \n",
       "1  A.J. Feeley  FeelA.00  2002   12/1/02  12  25.199  PHI  NaN  STL   W 10-3   \n",
       "2  A.J. Feeley  FeelA.00  2002   12/8/02  13  25.206  PHI    @  SEA  W 27-20   \n",
       "3  A.J. Feeley  FeelA.00  2002  12/15/02  14  25.213  PHI  NaN  WAS  W 34-21   \n",
       "4  A.J. Feeley  FeelA.00  2002  12/21/02  15  25.219  PHI    @  DAL   W 27-3   \n",
       "\n",
       "      ...       Pts  Fmb  FF  FR  Yds.3  TD.3  team_win  start_win  \\\n",
       "0     ...         0    0   0   0      0     0         1          0   \n",
       "1     ...         0    0   0   0      0     0         1          1   \n",
       "2     ...         0    0   0   0      0     0         1          1   \n",
       "3     ...         0    0   0   0      0     0         1          1   \n",
       "4     ...         0    0   0   0      0     0         1          1   \n",
       "\n",
       "   game_count  start_count  \n",
       "0           1            0  \n",
       "1           2            1  \n",
       "2           3            2  \n",
       "3           4            3  \n",
       "4           5            4  \n",
       "\n",
       "[5 rows x 37 columns]"
      ]
     },
     "execution_count": 9,
     "metadata": {},
     "output_type": "execute_result"
    }
   ],
   "source": [
    "# Checkout first 5 rows\n",
    "pfr_data.head()"
   ]
  },
  {
   "cell_type": "markdown",
   "metadata": {},
   "source": [
    "We can tell that the pro-football-reference.com data contains more data compared to the ESPN data. This will be helpful when conducting analysis. For now, we are trying to merge the espn.com and pro-football-reference.com, so it is important to find which data is included in both dataframes and how this data can be used to correctly identify individual games, leading to an eventual natural join between the dataframes."
   ]
  },
  {
   "cell_type": "markdown",
   "metadata": {},
   "source": [
    "### Subset 'pfr_data' to only include statistics from years 2006 to 2018"
   ]
  },
  {
   "cell_type": "markdown",
   "metadata": {},
   "source": [
    "The data gathered from espn.com only includes data starting from the 2006 NFL season, so we should subset the pro-football-reference.com data to only include data starting in 2006."
   ]
  },
  {
   "cell_type": "code",
   "execution_count": 14,
   "metadata": {},
   "outputs": [],
   "source": [
    "pfr_data = pfr_data[pfr_data.Year > 2005]"
   ]
  },
  {
   "cell_type": "code",
   "execution_count": 15,
   "metadata": {},
   "outputs": [
    {
     "data": {
      "text/plain": [
       "array([2006, 2007, 2011, 2015, 2008, 2009, 2010, 2012, 2013, 2014, 2016,\n",
       "       2017, 2018])"
      ]
     },
     "execution_count": 15,
     "metadata": {},
     "output_type": "execute_result"
    }
   ],
   "source": [
    "pfr_data.Year.unique() # dataframe contains data from years 2006 to 2018"
   ]
  },
  {
   "cell_type": "code",
   "execution_count": 16,
   "metadata": {},
   "outputs": [
    {
     "data": {
      "text/plain": [
       "(6453, 37)"
      ]
     },
     "execution_count": 16,
     "metadata": {},
     "output_type": "execute_result"
    }
   ],
   "source": [
    "pfr_data.shape"
   ]
  },
  {
   "cell_type": "markdown",
   "metadata": {},
   "source": [
    "## Feature Generation"
   ]
  },
  {
   "cell_type": "markdown",
   "metadata": {},
   "source": [
    "Because there is no common column between the two dataframes, we will have to get creative in combining them. My initial thought is to merge them by name, year, and result. This will require some column manipulation, which I will demonstrate in the following code."
   ]
  },
  {
   "cell_type": "markdown",
   "metadata": {},
   "source": [
    "### Name column"
   ]
  },
  {
   "cell_type": "code",
   "execution_count": 17,
   "metadata": {},
   "outputs": [],
   "source": [
    "# First, edit the qbr_data 'PLAYER' column to a 'name' column and a 'team' column\n",
    "qbr_data['name'] = qbr_data.PLAYER.str.split(',').str[0]\n",
    "qbr_data['Tm'] = qbr_data.PLAYER.str.split(',').str[1].str.lstrip() # strip initial whitespace"
   ]
  },
  {
   "cell_type": "code",
   "execution_count": 18,
   "metadata": {},
   "outputs": [
    {
     "data": {
      "text/html": [
       "<div>\n",
       "<style scoped>\n",
       "    .dataframe tbody tr th:only-of-type {\n",
       "        vertical-align: middle;\n",
       "    }\n",
       "\n",
       "    .dataframe tbody tr th {\n",
       "        vertical-align: top;\n",
       "    }\n",
       "\n",
       "    .dataframe thead th {\n",
       "        text-align: right;\n",
       "    }\n",
       "</style>\n",
       "<table border=\"1\" class=\"dataframe\">\n",
       "  <thead>\n",
       "    <tr style=\"text-align: right;\">\n",
       "      <th></th>\n",
       "      <th>name</th>\n",
       "      <th>Tm</th>\n",
       "    </tr>\n",
       "  </thead>\n",
       "  <tbody>\n",
       "    <tr>\n",
       "      <th>0</th>\n",
       "      <td>Rex Grossman</td>\n",
       "      <td>CHI</td>\n",
       "    </tr>\n",
       "    <tr>\n",
       "      <th>1</th>\n",
       "      <td>Donovan McNabb</td>\n",
       "      <td>PHI</td>\n",
       "    </tr>\n",
       "    <tr>\n",
       "      <th>2</th>\n",
       "      <td>Chad Pennington</td>\n",
       "      <td>NYJ</td>\n",
       "    </tr>\n",
       "    <tr>\n",
       "      <th>3</th>\n",
       "      <td>Peyton Manning</td>\n",
       "      <td>IND</td>\n",
       "    </tr>\n",
       "    <tr>\n",
       "      <th>4</th>\n",
       "      <td>Mike Vick</td>\n",
       "      <td>ATL</td>\n",
       "    </tr>\n",
       "  </tbody>\n",
       "</table>\n",
       "</div>"
      ],
      "text/plain": [
       "              name   Tm\n",
       "0     Rex Grossman  CHI\n",
       "1   Donovan McNabb  PHI\n",
       "2  Chad Pennington  NYJ\n",
       "3   Peyton Manning  IND\n",
       "4        Mike Vick  ATL"
      ]
     },
     "execution_count": 18,
     "metadata": {},
     "output_type": "execute_result"
    }
   ],
   "source": [
    "qbr_data[['name','Tm']].head()"
   ]
  },
  {
   "cell_type": "markdown",
   "metadata": {},
   "source": [
    "##### Compare QB names in both dataframes"
   ]
  },
  {
   "cell_type": "code",
   "execution_count": 19,
   "metadata": {},
   "outputs": [],
   "source": [
    "# Get a list of each QB name from both dataframes\n",
    "qbr_names = qbr_data.name.unique()\n",
    "pfr_names = pfr_data.name.unique()"
   ]
  },
  {
   "cell_type": "code",
   "execution_count": 20,
   "metadata": {},
   "outputs": [
    {
     "data": {
      "text/plain": [
       "191"
      ]
     },
     "execution_count": 20,
     "metadata": {},
     "output_type": "execute_result"
    }
   ],
   "source": [
    "len(qbr_names)"
   ]
  },
  {
   "cell_type": "code",
   "execution_count": 21,
   "metadata": {},
   "outputs": [
    {
     "data": {
      "text/plain": [
       "171"
      ]
     },
     "execution_count": 21,
     "metadata": {},
     "output_type": "execute_result"
    }
   ],
   "source": [
    "len(pfr_names)"
   ]
  },
  {
   "cell_type": "markdown",
   "metadata": {},
   "source": [
    "Here, we can see that espn.com dataframe contains 20 more quarterbacks compared to pro-football-reference.com. Now, its important to find a list of common quarterbacks between the dataframes, identify potential name differences in the dataframes, and understand why a quarterback may be excluded from one dataframe and not the other."
   ]
  },
  {
   "cell_type": "markdown",
   "metadata": {},
   "source": [
    "##### Identify quarterback names that occur in both dataframes"
   ]
  },
  {
   "cell_type": "code",
   "execution_count": 22,
   "metadata": {},
   "outputs": [],
   "source": [
    "common_names = list(set(qbr_names).intersection(pfr_names))"
   ]
  },
  {
   "cell_type": "code",
   "execution_count": 23,
   "metadata": {},
   "outputs": [
    {
     "data": {
      "text/plain": [
       "160"
      ]
     },
     "execution_count": 23,
     "metadata": {},
     "output_type": "execute_result"
    }
   ],
   "source": [
    "len(common_names) # 160, 11 less than the number of QB names in the pfr dataframe"
   ]
  },
  {
   "cell_type": "markdown",
   "metadata": {},
   "source": [
    "##### Identify QBs in pfd dataframe not in espn dataframe"
   ]
  },
  {
   "cell_type": "code",
   "execution_count": 24,
   "metadata": {},
   "outputs": [
    {
     "data": {
      "text/plain": [
       "array(['A.J. McCarron', 'Alex Tanney', 'Brett Basanez', 'Brett Favre+',\n",
       "       'Craig Nall', 'Kurt Warner+', 'Michael Vick', 'Mitch Trubisky',\n",
       "       'Robert Griffin', 'Terrelle Pryor', 'Tony Pike'], dtype=object)"
      ]
     },
     "execution_count": 24,
     "metadata": {},
     "output_type": "execute_result"
    }
   ],
   "source": [
    "pfr_diff = np.setdiff1d(pfr_names, common_names)\n",
    "pfr_diff # most of these names are slightly different in the qbr dataset"
   ]
  },
  {
   "cell_type": "markdown",
   "metadata": {},
   "source": [
    "Some of the names are slightly different in the datasets. For example, the qbr_data uses \"Mike Vick\" rather than \"Michael Vick\". I will fix these issues. Also, pfr_data adds a '+' symbol to the names of hall of fame quarterbacks. That will also be adjusted."
   ]
  },
  {
   "cell_type": "code",
   "execution_count": 25,
   "metadata": {},
   "outputs": [],
   "source": [
    "# Change hall of fame quarterbacks to exclude the '+' symbol\n",
    "pfr_data['name'] = pfr_data['name'].replace('Brett Favre+', 'Brett Favre')\n",
    "pfr_data['name'] = pfr_data['name'].replace('Kurt Warner+', 'Kurt Warner')"
   ]
  },
  {
   "cell_type": "code",
   "execution_count": 26,
   "metadata": {},
   "outputs": [],
   "source": [
    "# Replace Names in pfr dataframe to match espn dataframe\n",
    "pfr_data['name'] = pfr_data['name'].replace('Michael Vick', 'Mike Vick')\n",
    "pfr_data['name'] = pfr_data['name'].replace('Robert Griffin', 'Robert Griffin III')\n",
    "pfr_data['name'] = pfr_data['name'].replace('Mitch Trubisky', 'Mitchell Trubisky')\n",
    "pfr_data['name'] = pfr_data['name'].replace('A.J. McCarron', 'AJ McCarron')\n",
    "pfr_data['name'] = pfr_data['name'].replace('Terrelle Pryor', 'Terrelle Pryor Sr.')"
   ]
  },
  {
   "cell_type": "markdown",
   "metadata": {},
   "source": [
    "Now that these changes have been made, the list of 'common names' should increase."
   ]
  },
  {
   "cell_type": "code",
   "execution_count": 27,
   "metadata": {},
   "outputs": [
    {
     "data": {
      "text/plain": [
       "167"
      ]
     },
     "execution_count": 27,
     "metadata": {},
     "output_type": "execute_result"
    }
   ],
   "source": [
    "# Edit lists to account for adjustments in pfr_data\n",
    "qbr_names = qbr_data.name.unique()\n",
    "pfr_names = pfr_data.name.unique()\n",
    "common_names_mod = list(set(qbr_names).intersection(pfr_names))\n",
    "len(common_names_mod) # Now 167 common QBs"
   ]
  },
  {
   "cell_type": "code",
   "execution_count": 28,
   "metadata": {},
   "outputs": [
    {
     "data": {
      "text/plain": [
       "array(['Brian St. Pierre', 'Charlie Whitehurst', \"J.T. O'Sullivan\",\n",
       "       'Jameis Winston', 'Jeff Driskel', 'Joe Webb III', 'Josh Johnson',\n",
       "       'Josh McCown', 'Josh Rosen', 'Kellen Moore', 'Kyle Allen',\n",
       "       'Lamar Jackson', 'Landry Jones', 'Matt McGloin', 'Matt Moore',\n",
       "       'Nick Mullens', 'Russell Wilson', 'Rusty Smith', 'T.J. Yates',\n",
       "       'Taylor Heinicke', 'Thaddeus Lewis', 'Trent Edwards', 'Troy Smith',\n",
       "       'Vince Young'], dtype=object)"
      ]
     },
     "execution_count": 28,
     "metadata": {},
     "output_type": "execute_result"
    }
   ],
   "source": [
    "# Find the quarterbacks in the ESPN data that are not in the pro-football-reference data\n",
    "np.setdiff1d(qbr_names, common_names_mod)"
   ]
  },
  {
   "cell_type": "markdown",
   "metadata": {},
   "source": [
    "There are some quarterbacks that are in the ESPN QBR dataset that are not in the pro-football-reference dataset. That is likely a result in the collection of the pro-football-reference Quarterback data. Although there are some big name quarterbacks excluded from the data (Russell Wilson, Jameis Winston, Vince Young), we will continue with the analysis with the 167 common quarterbacks in both datasets."
   ]
  },
  {
   "cell_type": "code",
   "execution_count": 29,
   "metadata": {},
   "outputs": [],
   "source": [
    "# Edit dataframes to only include data on these quarterbacks\n",
    "pfr_data_mod1 = pfr_data[pfr_data.name.isin(common_names_mod)]"
   ]
  },
  {
   "cell_type": "code",
   "execution_count": 30,
   "metadata": {},
   "outputs": [],
   "source": [
    "qbr_data_mod1 = qbr_data[qbr_data.name.isin(common_names_mod)]"
   ]
  },
  {
   "cell_type": "code",
   "execution_count": 31,
   "metadata": {},
   "outputs": [
    {
     "data": {
      "text/plain": [
       "6449"
      ]
     },
     "execution_count": 31,
     "metadata": {},
     "output_type": "execute_result"
    }
   ],
   "source": [
    "pfr_data_mod1.shape[0]"
   ]
  },
  {
   "cell_type": "code",
   "execution_count": 32,
   "metadata": {},
   "outputs": [
    {
     "data": {
      "text/plain": [
       "6094"
      ]
     },
     "execution_count": 32,
     "metadata": {},
     "output_type": "execute_result"
    }
   ],
   "source": [
    "qbr_data_mod1.shape[0]"
   ]
  },
  {
   "cell_type": "markdown",
   "metadata": {},
   "source": [
    "pro-football-reference subset contains 400 more games compared to the ESPN data. This is likely because QBR is not calculated for each quarterback every week on the ESPN website. Hopefully, however, the merged dataframe will contain close to the 6,094 rows in the qbr_data_mod1 dataframe."
   ]
  },
  {
   "cell_type": "markdown",
   "metadata": {},
   "source": [
    "### Mark home (vs) and away (@) games in both dataframes"
   ]
  },
  {
   "cell_type": "markdown",
   "metadata": {},
   "source": [
    "##### Check both dataframes"
   ]
  },
  {
   "cell_type": "code",
   "execution_count": 33,
   "metadata": {},
   "outputs": [
    {
     "data": {
      "text/html": [
       "<div>\n",
       "<style scoped>\n",
       "    .dataframe tbody tr th:only-of-type {\n",
       "        vertical-align: middle;\n",
       "    }\n",
       "\n",
       "    .dataframe tbody tr th {\n",
       "        vertical-align: top;\n",
       "    }\n",
       "\n",
       "    .dataframe thead th {\n",
       "        text-align: right;\n",
       "    }\n",
       "</style>\n",
       "<table border=\"1\" class=\"dataframe\">\n",
       "  <thead>\n",
       "    <tr style=\"text-align: right;\">\n",
       "      <th></th>\n",
       "      <th>name</th>\n",
       "      <th>id</th>\n",
       "      <th>Year</th>\n",
       "      <th>Date</th>\n",
       "      <th>G.</th>\n",
       "      <th>Age</th>\n",
       "      <th>Tm</th>\n",
       "      <th>X</th>\n",
       "      <th>Opp</th>\n",
       "      <th>Result</th>\n",
       "      <th>...</th>\n",
       "      <th>Pts</th>\n",
       "      <th>Fmb</th>\n",
       "      <th>FF</th>\n",
       "      <th>FR</th>\n",
       "      <th>Yds.3</th>\n",
       "      <th>TD.3</th>\n",
       "      <th>team_win</th>\n",
       "      <th>start_win</th>\n",
       "      <th>game_count</th>\n",
       "      <th>start_count</th>\n",
       "    </tr>\n",
       "  </thead>\n",
       "  <tbody>\n",
       "    <tr>\n",
       "      <th>16</th>\n",
       "      <td>A.J. Feeley</td>\n",
       "      <td>FeelA.00</td>\n",
       "      <td>2006</td>\n",
       "      <td>12/31/06</td>\n",
       "      <td>16</td>\n",
       "      <td>29.229</td>\n",
       "      <td>PHI</td>\n",
       "      <td>NaN</td>\n",
       "      <td>ATL</td>\n",
       "      <td>W 24-17</td>\n",
       "      <td>...</td>\n",
       "      <td>0</td>\n",
       "      <td>0</td>\n",
       "      <td>0</td>\n",
       "      <td>0</td>\n",
       "      <td>0</td>\n",
       "      <td>0</td>\n",
       "      <td>1</td>\n",
       "      <td>0</td>\n",
       "      <td>17</td>\n",
       "      <td>13</td>\n",
       "    </tr>\n",
       "  </tbody>\n",
       "</table>\n",
       "<p>1 rows × 37 columns</p>\n",
       "</div>"
      ],
      "text/plain": [
       "           name        id  Year      Date  G.     Age   Tm    X  Opp   Result  \\\n",
       "16  A.J. Feeley  FeelA.00  2006  12/31/06  16  29.229  PHI  NaN  ATL  W 24-17   \n",
       "\n",
       "       ...       Pts  Fmb  FF  FR  Yds.3  TD.3  team_win  start_win  \\\n",
       "16     ...         0    0   0   0      0     0         1          0   \n",
       "\n",
       "    game_count  start_count  \n",
       "16          17           13  \n",
       "\n",
       "[1 rows x 37 columns]"
      ]
     },
     "execution_count": 33,
     "metadata": {},
     "output_type": "execute_result"
    }
   ],
   "source": [
    "# Check pfr dataframe\n",
    "pfr_data_mod1.head(1)"
   ]
  },
  {
   "cell_type": "code",
   "execution_count": 34,
   "metadata": {},
   "outputs": [
    {
     "data": {
      "text/html": [
       "<div>\n",
       "<style scoped>\n",
       "    .dataframe tbody tr th:only-of-type {\n",
       "        vertical-align: middle;\n",
       "    }\n",
       "\n",
       "    .dataframe tbody tr th {\n",
       "        vertical-align: top;\n",
       "    }\n",
       "\n",
       "    .dataframe thead th {\n",
       "        text-align: right;\n",
       "    }\n",
       "</style>\n",
       "<table border=\"1\" class=\"dataframe\">\n",
       "  <thead>\n",
       "    <tr style=\"text-align: right;\">\n",
       "      <th></th>\n",
       "      <th>PASS</th>\n",
       "      <th>PENALTY</th>\n",
       "      <th>PLAYER</th>\n",
       "      <th>PTS ADDED</th>\n",
       "      <th>QB PLAYS</th>\n",
       "      <th>RAW QBR</th>\n",
       "      <th>RESULT</th>\n",
       "      <th>RK</th>\n",
       "      <th>RUN</th>\n",
       "      <th>TOTAL EPA</th>\n",
       "      <th>TOTAL QBR</th>\n",
       "      <th>WEEK</th>\n",
       "      <th>YEAR</th>\n",
       "      <th>name</th>\n",
       "      <th>Tm</th>\n",
       "    </tr>\n",
       "  </thead>\n",
       "  <tbody>\n",
       "    <tr>\n",
       "      <th>0</th>\n",
       "      <td>4.3</td>\n",
       "      <td>0.1</td>\n",
       "      <td>Rex Grossman, CHI</td>\n",
       "      <td>5.5</td>\n",
       "      <td>31</td>\n",
       "      <td>92.4</td>\n",
       "      <td>W 26-0  @ GB in Wk 1</td>\n",
       "      <td>1.0</td>\n",
       "      <td>0.6</td>\n",
       "      <td>5.4</td>\n",
       "      <td>96.4</td>\n",
       "      <td>1.0</td>\n",
       "      <td>2006.0</td>\n",
       "      <td>Rex Grossman</td>\n",
       "      <td>CHI</td>\n",
       "    </tr>\n",
       "  </tbody>\n",
       "</table>\n",
       "</div>"
      ],
      "text/plain": [
       "   PASS  PENALTY             PLAYER  PTS ADDED  QB PLAYS  RAW QBR  \\\n",
       "0   4.3      0.1  Rex Grossman, CHI        5.5        31     92.4   \n",
       "\n",
       "                 RESULT   RK  RUN  TOTAL EPA  TOTAL QBR  WEEK    YEAR  \\\n",
       "0  W 26-0  @ GB in Wk 1  1.0  0.6        5.4       96.4   1.0  2006.0   \n",
       "\n",
       "           name   Tm  \n",
       "0  Rex Grossman  CHI  "
      ]
     },
     "execution_count": 34,
     "metadata": {},
     "output_type": "execute_result"
    }
   ],
   "source": [
    "# Check espn dataframe\n",
    "qbr_data_mod1.head(1)"
   ]
  },
  {
   "cell_type": "markdown",
   "metadata": {},
   "source": [
    "pfr_data_mod1 marks home or away in the 'X' column, while qbr_data_mod1 marks this in 'RESULT' column"
   ]
  },
  {
   "cell_type": "code",
   "execution_count": 35,
   "metadata": {},
   "outputs": [
    {
     "data": {
      "text/plain": [
       "array([nan, '@', 'N'], dtype=object)"
      ]
     },
     "execution_count": 35,
     "metadata": {},
     "output_type": "execute_result"
    }
   ],
   "source": [
    "# pfr_dat_mod1 \n",
    "pfr_data_mod1.X.unique()"
   ]
  },
  {
   "cell_type": "code",
   "execution_count": 36,
   "metadata": {},
   "outputs": [
    {
     "data": {
      "text/html": [
       "<div>\n",
       "<style scoped>\n",
       "    .dataframe tbody tr th:only-of-type {\n",
       "        vertical-align: middle;\n",
       "    }\n",
       "\n",
       "    .dataframe tbody tr th {\n",
       "        vertical-align: top;\n",
       "    }\n",
       "\n",
       "    .dataframe thead th {\n",
       "        text-align: right;\n",
       "    }\n",
       "</style>\n",
       "<table border=\"1\" class=\"dataframe\">\n",
       "  <thead>\n",
       "    <tr style=\"text-align: right;\">\n",
       "      <th></th>\n",
       "      <th>name</th>\n",
       "      <th>id</th>\n",
       "      <th>Year</th>\n",
       "      <th>Date</th>\n",
       "      <th>G.</th>\n",
       "      <th>Age</th>\n",
       "      <th>Tm</th>\n",
       "      <th>X</th>\n",
       "      <th>Opp</th>\n",
       "      <th>Result</th>\n",
       "      <th>...</th>\n",
       "      <th>Pts</th>\n",
       "      <th>Fmb</th>\n",
       "      <th>FF</th>\n",
       "      <th>FR</th>\n",
       "      <th>Yds.3</th>\n",
       "      <th>TD.3</th>\n",
       "      <th>team_win</th>\n",
       "      <th>start_win</th>\n",
       "      <th>game_count</th>\n",
       "      <th>start_count</th>\n",
       "    </tr>\n",
       "  </thead>\n",
       "  <tbody>\n",
       "    <tr>\n",
       "      <th>275</th>\n",
       "      <td>Aaron Rodgers</td>\n",
       "      <td>RodgAa00</td>\n",
       "      <td>2010</td>\n",
       "      <td>2/6/11</td>\n",
       "      <td>20</td>\n",
       "      <td>27.066</td>\n",
       "      <td>GNB</td>\n",
       "      <td>N</td>\n",
       "      <td>PIT</td>\n",
       "      <td>W 31-25</td>\n",
       "      <td>...</td>\n",
       "      <td>0</td>\n",
       "      <td>0</td>\n",
       "      <td>0</td>\n",
       "      <td>0</td>\n",
       "      <td>0</td>\n",
       "      <td>0</td>\n",
       "      <td>1</td>\n",
       "      <td>1</td>\n",
       "      <td>156</td>\n",
       "      <td>153</td>\n",
       "    </tr>\n",
       "    <tr>\n",
       "      <th>1457</th>\n",
       "      <td>Ben Roethlisberger</td>\n",
       "      <td>RoetBe00</td>\n",
       "      <td>2008</td>\n",
       "      <td>2/1/09</td>\n",
       "      <td>19</td>\n",
       "      <td>26.336</td>\n",
       "      <td>PIT</td>\n",
       "      <td>N</td>\n",
       "      <td>ARI</td>\n",
       "      <td>W 27-23</td>\n",
       "      <td>...</td>\n",
       "      <td>0</td>\n",
       "      <td>0</td>\n",
       "      <td>0</td>\n",
       "      <td>0</td>\n",
       "      <td>0</td>\n",
       "      <td>0</td>\n",
       "      <td>1</td>\n",
       "      <td>1</td>\n",
       "      <td>218</td>\n",
       "      <td>216</td>\n",
       "    </tr>\n",
       "  </tbody>\n",
       "</table>\n",
       "<p>2 rows × 37 columns</p>\n",
       "</div>"
      ],
      "text/plain": [
       "                    name        id  Year    Date  G.     Age   Tm  X  Opp  \\\n",
       "275        Aaron Rodgers  RodgAa00  2010  2/6/11  20  27.066  GNB  N  PIT   \n",
       "1457  Ben Roethlisberger  RoetBe00  2008  2/1/09  19  26.336  PIT  N  ARI   \n",
       "\n",
       "       Result     ...       Pts  Fmb  FF  FR  Yds.3  TD.3  team_win  \\\n",
       "275   W 31-25     ...         0    0   0   0      0     0         1   \n",
       "1457  W 27-23     ...         0    0   0   0      0     0         1   \n",
       "\n",
       "      start_win  game_count  start_count  \n",
       "275           1         156          153  \n",
       "1457          1         218          216  \n",
       "\n",
       "[2 rows x 37 columns]"
      ]
     },
     "execution_count": 36,
     "metadata": {},
     "output_type": "execute_result"
    }
   ],
   "source": [
    "# Investigate what 'N' means\n",
    "pfr_data_mod1[pfr_data_mod1.X == 'N'].iloc[:2] # these represent superbowl games ('N' means neutral)"
   ]
  },
  {
   "cell_type": "code",
   "execution_count": 37,
   "metadata": {},
   "outputs": [
    {
     "data": {
      "text/html": [
       "<div>\n",
       "<style scoped>\n",
       "    .dataframe tbody tr th:only-of-type {\n",
       "        vertical-align: middle;\n",
       "    }\n",
       "\n",
       "    .dataframe tbody tr th {\n",
       "        vertical-align: top;\n",
       "    }\n",
       "\n",
       "    .dataframe thead th {\n",
       "        text-align: right;\n",
       "    }\n",
       "</style>\n",
       "<table border=\"1\" class=\"dataframe\">\n",
       "  <thead>\n",
       "    <tr style=\"text-align: right;\">\n",
       "      <th></th>\n",
       "      <th>name</th>\n",
       "      <th>id</th>\n",
       "      <th>Year</th>\n",
       "      <th>Date</th>\n",
       "      <th>G.</th>\n",
       "      <th>Age</th>\n",
       "      <th>Tm</th>\n",
       "      <th>X</th>\n",
       "      <th>Opp</th>\n",
       "      <th>Result</th>\n",
       "      <th>...</th>\n",
       "      <th>Pts</th>\n",
       "      <th>Fmb</th>\n",
       "      <th>FF</th>\n",
       "      <th>FR</th>\n",
       "      <th>Yds.3</th>\n",
       "      <th>TD.3</th>\n",
       "      <th>team_win</th>\n",
       "      <th>start_win</th>\n",
       "      <th>game_count</th>\n",
       "      <th>start_count</th>\n",
       "    </tr>\n",
       "  </thead>\n",
       "  <tbody>\n",
       "    <tr>\n",
       "      <th>16</th>\n",
       "      <td>A.J. Feeley</td>\n",
       "      <td>FeelA.00</td>\n",
       "      <td>2006</td>\n",
       "      <td>12/31/06</td>\n",
       "      <td>16</td>\n",
       "      <td>29.229</td>\n",
       "      <td>PHI</td>\n",
       "      <td>NaN</td>\n",
       "      <td>ATL</td>\n",
       "      <td>W 24-17</td>\n",
       "      <td>...</td>\n",
       "      <td>0</td>\n",
       "      <td>0</td>\n",
       "      <td>0</td>\n",
       "      <td>0</td>\n",
       "      <td>0</td>\n",
       "      <td>0</td>\n",
       "      <td>1</td>\n",
       "      <td>0</td>\n",
       "      <td>17</td>\n",
       "      <td>13</td>\n",
       "    </tr>\n",
       "    <tr>\n",
       "      <th>17</th>\n",
       "      <td>A.J. Feeley</td>\n",
       "      <td>FeelA.00</td>\n",
       "      <td>2007</td>\n",
       "      <td>11/18/07</td>\n",
       "      <td>10</td>\n",
       "      <td>30.186</td>\n",
       "      <td>PHI</td>\n",
       "      <td>NaN</td>\n",
       "      <td>MIA</td>\n",
       "      <td>W 17-7</td>\n",
       "      <td>...</td>\n",
       "      <td>0</td>\n",
       "      <td>0</td>\n",
       "      <td>0</td>\n",
       "      <td>0</td>\n",
       "      <td>0</td>\n",
       "      <td>0</td>\n",
       "      <td>1</td>\n",
       "      <td>0</td>\n",
       "      <td>18</td>\n",
       "      <td>13</td>\n",
       "    </tr>\n",
       "  </tbody>\n",
       "</table>\n",
       "<p>2 rows × 37 columns</p>\n",
       "</div>"
      ],
      "text/plain": [
       "           name        id  Year      Date  G.     Age   Tm    X  Opp   Result  \\\n",
       "16  A.J. Feeley  FeelA.00  2006  12/31/06  16  29.229  PHI  NaN  ATL  W 24-17   \n",
       "17  A.J. Feeley  FeelA.00  2007  11/18/07  10  30.186  PHI  NaN  MIA   W 17-7   \n",
       "\n",
       "       ...       Pts  Fmb  FF  FR  Yds.3  TD.3  team_win  start_win  \\\n",
       "16     ...         0    0   0   0      0     0         1          0   \n",
       "17     ...         0    0   0   0      0     0         1          0   \n",
       "\n",
       "    game_count  start_count  \n",
       "16          17           13  \n",
       "17          18           13  \n",
       "\n",
       "[2 rows x 37 columns]"
      ]
     },
     "execution_count": 37,
     "metadata": {},
     "output_type": "execute_result"
    }
   ],
   "source": [
    "pfr_data_mod1[pfr_data_mod1.X.isnull()].iloc[:2] # represents home games"
   ]
  },
  {
   "cell_type": "code",
   "execution_count": 38,
   "metadata": {},
   "outputs": [
    {
     "name": "stderr",
     "output_type": "stream",
     "text": [
      "/Library/Frameworks/Python.framework/Versions/3.6/lib/python3.6/site-packages/ipykernel_launcher.py:2: SettingWithCopyWarning: \n",
      "A value is trying to be set on a copy of a slice from a DataFrame.\n",
      "Try using .loc[row_indexer,col_indexer] = value instead\n",
      "\n",
      "See the caveats in the documentation: http://pandas.pydata.org/pandas-docs/stable/indexing.html#indexing-view-versus-copy\n",
      "  \n"
     ]
    }
   ],
   "source": [
    "# Replace null values with vs\n",
    "pfr_data_mod1['X'] = pfr_data_mod1['X'].fillna('vs')"
   ]
  },
  {
   "cell_type": "code",
   "execution_count": 39,
   "metadata": {},
   "outputs": [
    {
     "name": "stderr",
     "output_type": "stream",
     "text": [
      "/Library/Frameworks/Python.framework/Versions/3.6/lib/python3.6/site-packages/ipykernel_launcher.py:3: SettingWithCopyWarning: \n",
      "A value is trying to be set on a copy of a slice from a DataFrame.\n",
      "Try using .loc[row_indexer,col_indexer] = value instead\n",
      "\n",
      "See the caveats in the documentation: http://pandas.pydata.org/pandas-docs/stable/indexing.html#indexing-view-versus-copy\n",
      "  This is separate from the ipykernel package so we can avoid doing imports until\n"
     ]
    }
   ],
   "source": [
    "# qbr_data_mod1\n",
    "# Create an 'X' column like in pfr_data_mod1\n",
    "qbr_data_mod1['X'] = \"\" # initiate new column\n",
    "qbr_data_mod2 = qbr_data_mod1.assign(X=qbr_data_mod1.RESULT.str.contains('@').map({True: '@', False: 'vs'}))\n",
    "\n",
    "# https://stackoverflow.com/questions/43290762/how-to-check-pandas-dataframe-for-true-or-false-python"
   ]
  },
  {
   "cell_type": "markdown",
   "metadata": {},
   "source": [
    "### RESULT column split to show scores and opponent"
   ]
  },
  {
   "cell_type": "markdown",
   "metadata": {},
   "source": [
    "Now, we want to split up the RESULT column in qbr_data_mod2 to separately display the score and opponent in the same manner for both dataframes."
   ]
  },
  {
   "cell_type": "code",
   "execution_count": 40,
   "metadata": {},
   "outputs": [],
   "source": [
    "# First, to make it easier to follow, I will set a new dataframe, pfr_data_mod2 equal to pfr_data_mod1.\n",
    "pfr_data_mod2 = pfr_data_mod1"
   ]
  },
  {
   "cell_type": "markdown",
   "metadata": {},
   "source": [
    "Because we already have the 'X' column, I will go ahead and replace the 'vs' in RESULTS with '@' so that there is a consistent delimiter, making it easier to split the RESULT column"
   ]
  },
  {
   "cell_type": "code",
   "execution_count": 41,
   "metadata": {},
   "outputs": [],
   "source": [
    "# Replace 'vs' with '@' in qbr_data_mod2 to make it easier to split the score and game result\n",
    "qbr_data_mod2.RESULT = qbr_data_mod2.RESULT.str.replace('vs','@')"
   ]
  },
  {
   "cell_type": "markdown",
   "metadata": {},
   "source": [
    "### Expand RESULT and Score columns to [Result, Hm_score, Away_score]"
   ]
  },
  {
   "cell_type": "markdown",
   "metadata": {},
   "source": [
    "Important note: espn.com presents the score with the highest score (winning team) presented first while pfr.com presents the score with the winning quarterback's team first."
   ]
  },
  {
   "cell_type": "markdown",
   "metadata": {},
   "source": [
    "##### qbr"
   ]
  },
  {
   "cell_type": "code",
   "execution_count": 42,
   "metadata": {},
   "outputs": [
    {
     "data": {
      "text/plain": [
       "'L 19-17  @ NE in Wk 1'"
      ]
     },
     "execution_count": 42,
     "metadata": {},
     "output_type": "execute_result"
    }
   ],
   "source": [
    "qbr_data_mod2.RESULT.iloc[9]"
   ]
  },
  {
   "cell_type": "code",
   "execution_count": 43,
   "metadata": {},
   "outputs": [],
   "source": [
    "qbr_data_mod2['Game_result'] = qbr_data_mod2.RESULT.str.split('@').str[0].str.split(' ').str[0]"
   ]
  },
  {
   "cell_type": "code",
   "execution_count": 44,
   "metadata": {},
   "outputs": [
    {
     "data": {
      "text/plain": [
       "array(['W', 'L', 'T'], dtype=object)"
      ]
     },
     "execution_count": 44,
     "metadata": {},
     "output_type": "execute_result"
    }
   ],
   "source": [
    "qbr_data_mod2.Game_result.unique() # win, lose, or draw"
   ]
  },
  {
   "cell_type": "code",
   "execution_count": 45,
   "metadata": {},
   "outputs": [],
   "source": [
    "def home_score(string):\n",
    "    if string[0] == 'W':\n",
    "        home_score = int(string.strip().split('-')[0].split(' ')[1])\n",
    "    elif string[0] == 'L':\n",
    "        home_score = int(string.split('-')[1].split('@')[0].strip())\n",
    "    elif string[0] == 'T':\n",
    "        home_score = int(string.strip().split('-')[0].split(' ')[1]) # doesn't matter, both scores are same\n",
    "    else:\n",
    "        home_score = 'NA'\n",
    "    return home_score"
   ]
  },
  {
   "cell_type": "code",
   "execution_count": 46,
   "metadata": {},
   "outputs": [],
   "source": [
    "def away_score(string):\n",
    "    if string[0] == 'W':\n",
    "        away_score = int(string.split('-')[1].split('@')[0].strip())\n",
    "    elif string[0] == 'L':\n",
    "        away_score = int(string.strip().split('-')[0].split(' ')[1])\n",
    "    elif string[0] == 'T':\n",
    "        away_score = int(string.strip().split('-')[0].split(' ')[1])\n",
    "    else:\n",
    "        away_score = 'NA'\n",
    "    return away_score"
   ]
  },
  {
   "cell_type": "code",
   "execution_count": 47,
   "metadata": {},
   "outputs": [],
   "source": [
    "qbr_data_mod2['Home_score'] = qbr_data_mod2.RESULT.apply(home_score)"
   ]
  },
  {
   "cell_type": "code",
   "execution_count": 48,
   "metadata": {},
   "outputs": [],
   "source": [
    "qbr_data_mod2['Away_score'] = qbr_data_mod2.RESULT.apply(away_score)"
   ]
  },
  {
   "cell_type": "code",
   "execution_count": 49,
   "metadata": {},
   "outputs": [],
   "source": [
    "# Split 'RESULT' to only show the Opponent\n",
    "qbr_data_mod2['Opp'] = qbr_data_mod2.RESULT.str.split('@').str[1].str.split('in').str[0].str.strip()"
   ]
  },
  {
   "cell_type": "markdown",
   "metadata": {},
   "source": [
    "##### pfr"
   ]
  },
  {
   "cell_type": "code",
   "execution_count": 50,
   "metadata": {},
   "outputs": [
    {
     "data": {
      "text/plain": [
       "16    W 24-17\n",
       "17     W 17-7\n",
       "Name: Result, dtype: object"
      ]
     },
     "execution_count": 50,
     "metadata": {},
     "output_type": "execute_result"
    }
   ],
   "source": [
    "pfr_data_mod2.Result.iloc[:2]"
   ]
  },
  {
   "cell_type": "code",
   "execution_count": 51,
   "metadata": {},
   "outputs": [
    {
     "name": "stderr",
     "output_type": "stream",
     "text": [
      "/Library/Frameworks/Python.framework/Versions/3.6/lib/python3.6/site-packages/ipykernel_launcher.py:1: SettingWithCopyWarning: \n",
      "A value is trying to be set on a copy of a slice from a DataFrame.\n",
      "Try using .loc[row_indexer,col_indexer] = value instead\n",
      "\n",
      "See the caveats in the documentation: http://pandas.pydata.org/pandas-docs/stable/indexing.html#indexing-view-versus-copy\n",
      "  \"\"\"Entry point for launching an IPython kernel.\n"
     ]
    }
   ],
   "source": [
    "pfr_data_mod2['Game_result'] = pfr_data_mod2.Result.str.split('-').str[0].str.strip().str.split(' ').str[0]"
   ]
  },
  {
   "cell_type": "code",
   "execution_count": 52,
   "metadata": {},
   "outputs": [
    {
     "name": "stderr",
     "output_type": "stream",
     "text": [
      "/Library/Frameworks/Python.framework/Versions/3.6/lib/python3.6/site-packages/ipykernel_launcher.py:1: SettingWithCopyWarning: \n",
      "A value is trying to be set on a copy of a slice from a DataFrame.\n",
      "Try using .loc[row_indexer,col_indexer] = value instead\n",
      "\n",
      "See the caveats in the documentation: http://pandas.pydata.org/pandas-docs/stable/indexing.html#indexing-view-versus-copy\n",
      "  \"\"\"Entry point for launching an IPython kernel.\n"
     ]
    }
   ],
   "source": [
    "pfr_data_mod2['Home_score'] = pfr_data_mod2.Result.str.split('-').str[0].str.strip().str.split(' ').str[1].astype(int)"
   ]
  },
  {
   "cell_type": "code",
   "execution_count": 53,
   "metadata": {},
   "outputs": [
    {
     "name": "stderr",
     "output_type": "stream",
     "text": [
      "/Library/Frameworks/Python.framework/Versions/3.6/lib/python3.6/site-packages/ipykernel_launcher.py:1: SettingWithCopyWarning: \n",
      "A value is trying to be set on a copy of a slice from a DataFrame.\n",
      "Try using .loc[row_indexer,col_indexer] = value instead\n",
      "\n",
      "See the caveats in the documentation: http://pandas.pydata.org/pandas-docs/stable/indexing.html#indexing-view-versus-copy\n",
      "  \"\"\"Entry point for launching an IPython kernel.\n"
     ]
    }
   ],
   "source": [
    "pfr_data_mod2['Away_score'] = pfr_data_mod2.Result.str.split('-').str[1].str.strip().astype(int)"
   ]
  },
  {
   "cell_type": "code",
   "execution_count": 54,
   "metadata": {},
   "outputs": [
    {
     "data": {
      "text/html": [
       "<div>\n",
       "<style scoped>\n",
       "    .dataframe tbody tr th:only-of-type {\n",
       "        vertical-align: middle;\n",
       "    }\n",
       "\n",
       "    .dataframe tbody tr th {\n",
       "        vertical-align: top;\n",
       "    }\n",
       "\n",
       "    .dataframe thead th {\n",
       "        text-align: right;\n",
       "    }\n",
       "</style>\n",
       "<table border=\"1\" class=\"dataframe\">\n",
       "  <thead>\n",
       "    <tr style=\"text-align: right;\">\n",
       "      <th></th>\n",
       "      <th>Game_result</th>\n",
       "      <th>Home_score</th>\n",
       "      <th>Away_score</th>\n",
       "      <th>Opp</th>\n",
       "    </tr>\n",
       "  </thead>\n",
       "  <tbody>\n",
       "    <tr>\n",
       "      <th>0</th>\n",
       "      <td>W</td>\n",
       "      <td>26</td>\n",
       "      <td>0</td>\n",
       "      <td>GB</td>\n",
       "    </tr>\n",
       "    <tr>\n",
       "      <th>1</th>\n",
       "      <td>W</td>\n",
       "      <td>24</td>\n",
       "      <td>10</td>\n",
       "      <td>HOU</td>\n",
       "    </tr>\n",
       "  </tbody>\n",
       "</table>\n",
       "</div>"
      ],
      "text/plain": [
       "  Game_result  Home_score  Away_score  Opp\n",
       "0           W          26           0   GB\n",
       "1           W          24          10  HOU"
      ]
     },
     "execution_count": 54,
     "metadata": {},
     "output_type": "execute_result"
    }
   ],
   "source": [
    "qbr_data_mod2[['Game_result','Home_score','Away_score','Opp']].head(2)"
   ]
  },
  {
   "cell_type": "markdown",
   "metadata": {},
   "source": [
    "We will use these four columns to help merge."
   ]
  },
  {
   "cell_type": "markdown",
   "metadata": {},
   "source": [
    "### Investigate Team name abbreviations"
   ]
  },
  {
   "cell_type": "markdown",
   "metadata": {},
   "source": [
    "##### Change 'Opp' columns to share the same abbreviations"
   ]
  },
  {
   "cell_type": "code",
   "execution_count": 55,
   "metadata": {},
   "outputs": [],
   "source": [
    "# Get unique list of team abbreviations\n",
    "qbr_opp = qbr_data_mod2.Opp.unique()\n",
    "pfr_opp = pfr_data_mod2.Opp.unique()"
   ]
  },
  {
   "cell_type": "code",
   "execution_count": 56,
   "metadata": {},
   "outputs": [
    {
     "data": {
      "text/plain": [
       "array(['GB', 'HOU', 'TEN', 'NYG', 'CAR', 'MIA', 'TB', 'DAL', 'WSH', 'NE',\n",
       "       'MIN', 'IND', 'JAX', 'BUF', 'CLE', 'PHI', 'ARI', 'SF', 'SEA', 'NO',\n",
       "       'KC', 'DET', 'CHI', 'PIT', 'CIN', 'LAC', 'NYJ', 'BAL', 'ATL',\n",
       "       'LAR', 'OAK', 'DEN'], dtype=object)"
      ]
     },
     "execution_count": 56,
     "metadata": {},
     "output_type": "execute_result"
    }
   ],
   "source": [
    "qbr_opp"
   ]
  },
  {
   "cell_type": "code",
   "execution_count": 57,
   "metadata": {},
   "outputs": [
    {
     "data": {
      "text/plain": [
       "array(['ATL', 'MIA', 'NWE', 'SEA', 'DAL', 'NOR', 'SFO', 'PIT', 'DEN',\n",
       "       'BAL', 'SDG', 'KAN', 'HOU', 'CIN', 'STL', 'NYJ', 'MIN', 'DET',\n",
       "       'TAM', 'IND', 'TEN', 'CHI', 'CAR', 'JAX', 'CLE', 'ARI', 'PHI',\n",
       "       'BUF', 'WAS', 'NYG', 'OAK', 'LAR', 'GNB', 'LAC'], dtype=object)"
      ]
     },
     "execution_count": 57,
     "metadata": {},
     "output_type": "execute_result"
    }
   ],
   "source": [
    "pfr_opp"
   ]
  },
  {
   "cell_type": "markdown",
   "metadata": {},
   "source": [
    "pro-football-reference uses 3 letter abbreviations for each team. ESPN, however, uses the regular abbreviations. I will change the pro-football-reference team abbreviations to match ESPN's."
   ]
  },
  {
   "cell_type": "code",
   "execution_count": 58,
   "metadata": {},
   "outputs": [
    {
     "data": {
      "text/plain": [
       "32"
      ]
     },
     "execution_count": 58,
     "metadata": {},
     "output_type": "execute_result"
    }
   ],
   "source": [
    "len(qbr_opp)"
   ]
  },
  {
   "cell_type": "code",
   "execution_count": 59,
   "metadata": {},
   "outputs": [
    {
     "data": {
      "text/plain": [
       "34"
      ]
     },
     "execution_count": 59,
     "metadata": {},
     "output_type": "execute_result"
    }
   ],
   "source": [
    "len(pfr_opp)"
   ]
  },
  {
   "cell_type": "code",
   "execution_count": 60,
   "metadata": {},
   "outputs": [
    {
     "data": {
      "text/plain": [
       "array(['GB', 'KC', 'NE', 'NO', 'SF', 'TB', 'WSH'], dtype=object)"
      ]
     },
     "execution_count": 60,
     "metadata": {},
     "output_type": "execute_result"
    }
   ],
   "source": [
    "np.setdiff1d(qbr_opp, pfr_opp)"
   ]
  },
  {
   "cell_type": "code",
   "execution_count": 61,
   "metadata": {},
   "outputs": [
    {
     "name": "stderr",
     "output_type": "stream",
     "text": [
      "/Library/Frameworks/Python.framework/Versions/3.6/lib/python3.6/site-packages/ipykernel_launcher.py:2: SettingWithCopyWarning: \n",
      "A value is trying to be set on a copy of a slice from a DataFrame.\n",
      "Try using .loc[row_indexer,col_indexer] = value instead\n",
      "\n",
      "See the caveats in the documentation: http://pandas.pydata.org/pandas-docs/stable/indexing.html#indexing-view-versus-copy\n",
      "  \n",
      "/Library/Frameworks/Python.framework/Versions/3.6/lib/python3.6/site-packages/ipykernel_launcher.py:3: SettingWithCopyWarning: \n",
      "A value is trying to be set on a copy of a slice from a DataFrame.\n",
      "Try using .loc[row_indexer,col_indexer] = value instead\n",
      "\n",
      "See the caveats in the documentation: http://pandas.pydata.org/pandas-docs/stable/indexing.html#indexing-view-versus-copy\n",
      "  This is separate from the ipykernel package so we can avoid doing imports until\n",
      "/Library/Frameworks/Python.framework/Versions/3.6/lib/python3.6/site-packages/ipykernel_launcher.py:4: SettingWithCopyWarning: \n",
      "A value is trying to be set on a copy of a slice from a DataFrame.\n",
      "Try using .loc[row_indexer,col_indexer] = value instead\n",
      "\n",
      "See the caveats in the documentation: http://pandas.pydata.org/pandas-docs/stable/indexing.html#indexing-view-versus-copy\n",
      "  after removing the cwd from sys.path.\n",
      "/Library/Frameworks/Python.framework/Versions/3.6/lib/python3.6/site-packages/ipykernel_launcher.py:5: SettingWithCopyWarning: \n",
      "A value is trying to be set on a copy of a slice from a DataFrame.\n",
      "Try using .loc[row_indexer,col_indexer] = value instead\n",
      "\n",
      "See the caveats in the documentation: http://pandas.pydata.org/pandas-docs/stable/indexing.html#indexing-view-versus-copy\n",
      "  \"\"\"\n",
      "/Library/Frameworks/Python.framework/Versions/3.6/lib/python3.6/site-packages/ipykernel_launcher.py:6: SettingWithCopyWarning: \n",
      "A value is trying to be set on a copy of a slice from a DataFrame.\n",
      "Try using .loc[row_indexer,col_indexer] = value instead\n",
      "\n",
      "See the caveats in the documentation: http://pandas.pydata.org/pandas-docs/stable/indexing.html#indexing-view-versus-copy\n",
      "  \n",
      "/Library/Frameworks/Python.framework/Versions/3.6/lib/python3.6/site-packages/ipykernel_launcher.py:7: SettingWithCopyWarning: \n",
      "A value is trying to be set on a copy of a slice from a DataFrame.\n",
      "Try using .loc[row_indexer,col_indexer] = value instead\n",
      "\n",
      "See the caveats in the documentation: http://pandas.pydata.org/pandas-docs/stable/indexing.html#indexing-view-versus-copy\n",
      "  import sys\n",
      "/Library/Frameworks/Python.framework/Versions/3.6/lib/python3.6/site-packages/ipykernel_launcher.py:8: SettingWithCopyWarning: \n",
      "A value is trying to be set on a copy of a slice from a DataFrame.\n",
      "Try using .loc[row_indexer,col_indexer] = value instead\n",
      "\n",
      "See the caveats in the documentation: http://pandas.pydata.org/pandas-docs/stable/indexing.html#indexing-view-versus-copy\n",
      "  \n"
     ]
    }
   ],
   "source": [
    "# Replace the incorrect abbreviations in pro-football-reference data for the 'Opp' column\n",
    "pfr_data_mod2['Opp'] = pfr_data_mod2['Opp'].replace('GNB', 'GB')\n",
    "pfr_data_mod2['Opp'] = pfr_data_mod2['Opp'].replace('KAN', 'KC')\n",
    "pfr_data_mod2['Opp'] = pfr_data_mod2['Opp'].replace('NWE', 'NE')\n",
    "pfr_data_mod2['Opp'] = pfr_data_mod2['Opp'].replace('NOR', 'NO')\n",
    "pfr_data_mod2['Opp'] = pfr_data_mod2['Opp'].replace('SFO', 'SF')\n",
    "pfr_data_mod2['Opp'] = pfr_data_mod2['Opp'].replace('TAM', 'TB')\n",
    "pfr_data_mod2['Opp'] = pfr_data_mod2['Opp'].replace('WAS', 'WSH')"
   ]
  },
  {
   "cell_type": "code",
   "execution_count": 62,
   "metadata": {},
   "outputs": [
    {
     "data": {
      "text/plain": [
       "array(['GNB', 'KAN', 'NOR', 'NWE', 'SDG', 'SFO', 'STL', 'TAM', 'WAS'],\n",
       "      dtype=object)"
      ]
     },
     "execution_count": 62,
     "metadata": {},
     "output_type": "execute_result"
    }
   ],
   "source": [
    "np.setdiff1d(pfr_opp, qbr_opp)"
   ]
  },
  {
   "cell_type": "markdown",
   "metadata": {},
   "source": [
    "There are two extra abbreviations in the pro-football-reference data. This is because the San Diego Chargers and St. Louis Rams both moved to Los Angeles. This is reflected in the ESPN data, as all of the old teams were replaced with the new abbreviations. I will make the changes to the pro-football-reference data."
   ]
  },
  {
   "cell_type": "code",
   "execution_count": 63,
   "metadata": {},
   "outputs": [
    {
     "name": "stderr",
     "output_type": "stream",
     "text": [
      "/Library/Frameworks/Python.framework/Versions/3.6/lib/python3.6/site-packages/ipykernel_launcher.py:1: SettingWithCopyWarning: \n",
      "A value is trying to be set on a copy of a slice from a DataFrame.\n",
      "Try using .loc[row_indexer,col_indexer] = value instead\n",
      "\n",
      "See the caveats in the documentation: http://pandas.pydata.org/pandas-docs/stable/indexing.html#indexing-view-versus-copy\n",
      "  \"\"\"Entry point for launching an IPython kernel.\n",
      "/Library/Frameworks/Python.framework/Versions/3.6/lib/python3.6/site-packages/ipykernel_launcher.py:2: SettingWithCopyWarning: \n",
      "A value is trying to be set on a copy of a slice from a DataFrame.\n",
      "Try using .loc[row_indexer,col_indexer] = value instead\n",
      "\n",
      "See the caveats in the documentation: http://pandas.pydata.org/pandas-docs/stable/indexing.html#indexing-view-versus-copy\n",
      "  \n"
     ]
    }
   ],
   "source": [
    "pfr_data_mod2['Opp'] = pfr_data_mod2['Opp'].replace('STL', 'LAR')\n",
    "pfr_data_mod2['Opp'] = pfr_data_mod2['Opp'].replace('SDG', 'LAC')"
   ]
  },
  {
   "cell_type": "code",
   "execution_count": 64,
   "metadata": {},
   "outputs": [
    {
     "name": "stderr",
     "output_type": "stream",
     "text": [
      "/Library/Frameworks/Python.framework/Versions/3.6/lib/python3.6/site-packages/ipykernel_launcher.py:2: SettingWithCopyWarning: \n",
      "A value is trying to be set on a copy of a slice from a DataFrame.\n",
      "Try using .loc[row_indexer,col_indexer] = value instead\n",
      "\n",
      "See the caveats in the documentation: http://pandas.pydata.org/pandas-docs/stable/indexing.html#indexing-view-versus-copy\n",
      "  \n",
      "/Library/Frameworks/Python.framework/Versions/3.6/lib/python3.6/site-packages/ipykernel_launcher.py:3: SettingWithCopyWarning: \n",
      "A value is trying to be set on a copy of a slice from a DataFrame.\n",
      "Try using .loc[row_indexer,col_indexer] = value instead\n",
      "\n",
      "See the caveats in the documentation: http://pandas.pydata.org/pandas-docs/stable/indexing.html#indexing-view-versus-copy\n",
      "  This is separate from the ipykernel package so we can avoid doing imports until\n",
      "/Library/Frameworks/Python.framework/Versions/3.6/lib/python3.6/site-packages/ipykernel_launcher.py:4: SettingWithCopyWarning: \n",
      "A value is trying to be set on a copy of a slice from a DataFrame.\n",
      "Try using .loc[row_indexer,col_indexer] = value instead\n",
      "\n",
      "See the caveats in the documentation: http://pandas.pydata.org/pandas-docs/stable/indexing.html#indexing-view-versus-copy\n",
      "  after removing the cwd from sys.path.\n",
      "/Library/Frameworks/Python.framework/Versions/3.6/lib/python3.6/site-packages/ipykernel_launcher.py:5: SettingWithCopyWarning: \n",
      "A value is trying to be set on a copy of a slice from a DataFrame.\n",
      "Try using .loc[row_indexer,col_indexer] = value instead\n",
      "\n",
      "See the caveats in the documentation: http://pandas.pydata.org/pandas-docs/stable/indexing.html#indexing-view-versus-copy\n",
      "  \"\"\"\n",
      "/Library/Frameworks/Python.framework/Versions/3.6/lib/python3.6/site-packages/ipykernel_launcher.py:6: SettingWithCopyWarning: \n",
      "A value is trying to be set on a copy of a slice from a DataFrame.\n",
      "Try using .loc[row_indexer,col_indexer] = value instead\n",
      "\n",
      "See the caveats in the documentation: http://pandas.pydata.org/pandas-docs/stable/indexing.html#indexing-view-versus-copy\n",
      "  \n",
      "/Library/Frameworks/Python.framework/Versions/3.6/lib/python3.6/site-packages/ipykernel_launcher.py:7: SettingWithCopyWarning: \n",
      "A value is trying to be set on a copy of a slice from a DataFrame.\n",
      "Try using .loc[row_indexer,col_indexer] = value instead\n",
      "\n",
      "See the caveats in the documentation: http://pandas.pydata.org/pandas-docs/stable/indexing.html#indexing-view-versus-copy\n",
      "  import sys\n",
      "/Library/Frameworks/Python.framework/Versions/3.6/lib/python3.6/site-packages/ipykernel_launcher.py:8: SettingWithCopyWarning: \n",
      "A value is trying to be set on a copy of a slice from a DataFrame.\n",
      "Try using .loc[row_indexer,col_indexer] = value instead\n",
      "\n",
      "See the caveats in the documentation: http://pandas.pydata.org/pandas-docs/stable/indexing.html#indexing-view-versus-copy\n",
      "  \n",
      "/Library/Frameworks/Python.framework/Versions/3.6/lib/python3.6/site-packages/ipykernel_launcher.py:9: SettingWithCopyWarning: \n",
      "A value is trying to be set on a copy of a slice from a DataFrame.\n",
      "Try using .loc[row_indexer,col_indexer] = value instead\n",
      "\n",
      "See the caveats in the documentation: http://pandas.pydata.org/pandas-docs/stable/indexing.html#indexing-view-versus-copy\n",
      "  if __name__ == '__main__':\n",
      "/Library/Frameworks/Python.framework/Versions/3.6/lib/python3.6/site-packages/ipykernel_launcher.py:10: SettingWithCopyWarning: \n",
      "A value is trying to be set on a copy of a slice from a DataFrame.\n",
      "Try using .loc[row_indexer,col_indexer] = value instead\n",
      "\n",
      "See the caveats in the documentation: http://pandas.pydata.org/pandas-docs/stable/indexing.html#indexing-view-versus-copy\n",
      "  # Remove the CWD from sys.path while we load stuff.\n"
     ]
    }
   ],
   "source": [
    "# Make the same changes for the 'Tm' Column of pfr_data_mod2\n",
    "pfr_data_mod2['Tm'] = pfr_data_mod2['Tm'].replace('GNB', 'GB')\n",
    "pfr_data_mod2['Tm'] = pfr_data_mod2['Tm'].replace('KAN', 'KC')\n",
    "pfr_data_mod2['Tm'] = pfr_data_mod2['Tm'].replace('NWE', 'NE')\n",
    "pfr_data_mod2['Tm'] = pfr_data_mod2['Tm'].replace('NOR', 'NO')\n",
    "pfr_data_mod2['Tm'] = pfr_data_mod2['Tm'].replace('SFO', 'SF')\n",
    "pfr_data_mod2['Tm'] = pfr_data_mod2['Tm'].replace('TAM', 'TB')\n",
    "pfr_data_mod2['Tm'] = pfr_data_mod2['Tm'].replace('WAS', 'WSH')\n",
    "pfr_data_mod2['Tm'] = pfr_data_mod2['Tm'].replace('STL', 'LAR')\n",
    "pfr_data_mod2['Tm'] = pfr_data_mod2['Tm'].replace('SDG', 'LAC')"
   ]
  },
  {
   "cell_type": "markdown",
   "metadata": {},
   "source": [
    "We should now have enough matching columns that we can merge the dataframes."
   ]
  },
  {
   "cell_type": "markdown",
   "metadata": {},
   "source": [
    "### Clean columns for dataframe merging"
   ]
  },
  {
   "cell_type": "code",
   "execution_count": 65,
   "metadata": {},
   "outputs": [
    {
     "data": {
      "text/plain": [
       "Index(['PASS', 'PENALTY', 'PLAYER', 'PTS ADDED', 'QB PLAYS', 'RAW QBR',\n",
       "       'RESULT', 'RK', 'RUN', 'TOTAL EPA', 'TOTAL QBR', 'WEEK', 'YEAR', 'name',\n",
       "       'Tm', 'X', 'Game_result', 'Home_score', 'Away_score', 'Opp'],\n",
       "      dtype='object')"
      ]
     },
     "execution_count": 65,
     "metadata": {},
     "output_type": "execute_result"
    }
   ],
   "source": [
    "# List qbr columns\n",
    "qbr_columns = qbr_data_mod2.columns\n",
    "qbr_columns"
   ]
  },
  {
   "cell_type": "code",
   "execution_count": 66,
   "metadata": {},
   "outputs": [
    {
     "data": {
      "text/plain": [
       "Index(['name', 'id', 'Year', 'Date', 'G.', 'Age', 'Tm', 'X', 'Opp', 'Result',\n",
       "       'GS', 'Cmp', 'Att', 'Cmp.', 'Yds', 'TD', 'Int', 'Rate', 'Sk', 'Yds.1',\n",
       "       'Y.A', 'AY.A', 'Att.1', 'Yds.2', 'Y.A.1', 'TD.1', 'TD.2', 'Pts', 'Fmb',\n",
       "       'FF', 'FR', 'Yds.3', 'TD.3', 'team_win', 'start_win', 'game_count',\n",
       "       'start_count', 'Game_result', 'Home_score', 'Away_score'],\n",
       "      dtype='object')"
      ]
     },
     "execution_count": 66,
     "metadata": {},
     "output_type": "execute_result"
    }
   ],
   "source": [
    "# List pfr columns\n",
    "pfr_columns = pfr_data_mod2.columns\n",
    "pfr_columns"
   ]
  },
  {
   "cell_type": "code",
   "execution_count": 67,
   "metadata": {},
   "outputs": [],
   "source": [
    "# Change 'YEAR' to 'Year' in qbr_data_mod2\n",
    "qbr_data_mod2 = qbr_data_mod2.rename(columns={'YEAR':'Year'})"
   ]
  },
  {
   "cell_type": "code",
   "execution_count": 68,
   "metadata": {},
   "outputs": [
    {
     "data": {
      "text/plain": [
       "['name', 'Game_result', 'Year', 'Away_score', 'Opp', 'X', 'Tm', 'Home_score']"
      ]
     },
     "execution_count": 68,
     "metadata": {},
     "output_type": "execute_result"
    }
   ],
   "source": [
    "# Common columns\n",
    "common_cols = list(set(pfr_data_mod2.columns).intersection(qbr_data_mod2.columns))\n",
    "common_cols"
   ]
  },
  {
   "cell_type": "code",
   "execution_count": 69,
   "metadata": {},
   "outputs": [],
   "source": [
    "# Change Year float to int in qbr\n",
    "qbr_data_mod2['Year'] = qbr_data_mod2['Year'].astype(int)"
   ]
  },
  {
   "cell_type": "markdown",
   "metadata": {},
   "source": [
    "Now we have enough similar columns to merge the dataframes."
   ]
  },
  {
   "cell_type": "markdown",
   "metadata": {},
   "source": [
    "### Merge without scores"
   ]
  },
  {
   "cell_type": "code",
   "execution_count": 70,
   "metadata": {},
   "outputs": [],
   "source": [
    "old_df = pd.merge(left=qbr_data_mod2, right=pfr_data_mod2, on=['name','Year','Opp','X'], how='inner')"
   ]
  },
  {
   "cell_type": "code",
   "execution_count": 71,
   "metadata": {},
   "outputs": [
    {
     "data": {
      "text/plain": [
       "(5979, 56)"
      ]
     },
     "execution_count": 71,
     "metadata": {},
     "output_type": "execute_result"
    }
   ],
   "source": [
    "old_df.shape"
   ]
  },
  {
   "cell_type": "code",
   "execution_count": 72,
   "metadata": {},
   "outputs": [],
   "source": [
    "old_df['Home_score_diff'] = old_df.Home_score_x - old_df.Home_score_y"
   ]
  },
  {
   "cell_type": "code",
   "execution_count": 73,
   "metadata": {},
   "outputs": [
    {
     "data": {
      "text/html": [
       "<div>\n",
       "<style scoped>\n",
       "    .dataframe tbody tr th:only-of-type {\n",
       "        vertical-align: middle;\n",
       "    }\n",
       "\n",
       "    .dataframe tbody tr th {\n",
       "        vertical-align: top;\n",
       "    }\n",
       "\n",
       "    .dataframe thead th {\n",
       "        text-align: right;\n",
       "    }\n",
       "</style>\n",
       "<table border=\"1\" class=\"dataframe\">\n",
       "  <thead>\n",
       "    <tr style=\"text-align: right;\">\n",
       "      <th></th>\n",
       "      <th>name</th>\n",
       "      <th>Year</th>\n",
       "      <th>Tm_x</th>\n",
       "      <th>Tm_y</th>\n",
       "      <th>Opp</th>\n",
       "      <th>X</th>\n",
       "      <th>Home_score_diff</th>\n",
       "      <th>Home_score_x</th>\n",
       "      <th>Home_score_y</th>\n",
       "      <th>Away_score_y</th>\n",
       "      <th>Away_score_x</th>\n",
       "      <th>Game_result_x</th>\n",
       "      <th>Game_result_y</th>\n",
       "    </tr>\n",
       "  </thead>\n",
       "  <tbody>\n",
       "    <tr>\n",
       "      <th>40</th>\n",
       "      <td>Eli Manning</td>\n",
       "      <td>2006</td>\n",
       "      <td>NYG</td>\n",
       "      <td>NYG</td>\n",
       "      <td>PHI</td>\n",
       "      <td>@</td>\n",
       "      <td>10</td>\n",
       "      <td>30</td>\n",
       "      <td>20</td>\n",
       "      <td>23</td>\n",
       "      <td>24</td>\n",
       "      <td>W</td>\n",
       "      <td>L</td>\n",
       "    </tr>\n",
       "    <tr>\n",
       "      <th>96</th>\n",
       "      <td>Rex Grossman</td>\n",
       "      <td>2006</td>\n",
       "      <td>CHI</td>\n",
       "      <td>CHI</td>\n",
       "      <td>SEA</td>\n",
       "      <td>vs</td>\n",
       "      <td>10</td>\n",
       "      <td>37</td>\n",
       "      <td>27</td>\n",
       "      <td>24</td>\n",
       "      <td>6</td>\n",
       "      <td>W</td>\n",
       "      <td>W</td>\n",
       "    </tr>\n",
       "    <tr>\n",
       "      <th>112</th>\n",
       "      <td>Matt Hasselbeck</td>\n",
       "      <td>2006</td>\n",
       "      <td>SEA</td>\n",
       "      <td>SEA</td>\n",
       "      <td>CHI</td>\n",
       "      <td>@</td>\n",
       "      <td>-18</td>\n",
       "      <td>6</td>\n",
       "      <td>24</td>\n",
       "      <td>27</td>\n",
       "      <td>37</td>\n",
       "      <td>L</td>\n",
       "      <td>L</td>\n",
       "    </tr>\n",
       "    <tr>\n",
       "      <th>261</th>\n",
       "      <td>Tom Brady</td>\n",
       "      <td>2006</td>\n",
       "      <td>NE</td>\n",
       "      <td>NE</td>\n",
       "      <td>NYJ</td>\n",
       "      <td>vs</td>\n",
       "      <td>-23</td>\n",
       "      <td>14</td>\n",
       "      <td>37</td>\n",
       "      <td>16</td>\n",
       "      <td>17</td>\n",
       "      <td>L</td>\n",
       "      <td>W</td>\n",
       "    </tr>\n",
       "    <tr>\n",
       "      <th>263</th>\n",
       "      <td>Chad Pennington</td>\n",
       "      <td>2006</td>\n",
       "      <td>NYJ</td>\n",
       "      <td>NYJ</td>\n",
       "      <td>NE</td>\n",
       "      <td>@</td>\n",
       "      <td>1</td>\n",
       "      <td>17</td>\n",
       "      <td>16</td>\n",
       "      <td>37</td>\n",
       "      <td>14</td>\n",
       "      <td>W</td>\n",
       "      <td>L</td>\n",
       "    </tr>\n",
       "    <tr>\n",
       "      <th>489</th>\n",
       "      <td>Tony Romo</td>\n",
       "      <td>2007</td>\n",
       "      <td>DAL</td>\n",
       "      <td>DAL</td>\n",
       "      <td>NYG</td>\n",
       "      <td>vs</td>\n",
       "      <td>28</td>\n",
       "      <td>45</td>\n",
       "      <td>17</td>\n",
       "      <td>21</td>\n",
       "      <td>35</td>\n",
       "      <td>W</td>\n",
       "      <td>L</td>\n",
       "    </tr>\n",
       "    <tr>\n",
       "      <th>491</th>\n",
       "      <td>Eli Manning</td>\n",
       "      <td>2007</td>\n",
       "      <td>NYG</td>\n",
       "      <td>NYG</td>\n",
       "      <td>DAL</td>\n",
       "      <td>@</td>\n",
       "      <td>14</td>\n",
       "      <td>35</td>\n",
       "      <td>21</td>\n",
       "      <td>17</td>\n",
       "      <td>45</td>\n",
       "      <td>L</td>\n",
       "      <td>W</td>\n",
       "    </tr>\n",
       "    <tr>\n",
       "      <th>520</th>\n",
       "      <td>Tom Brady</td>\n",
       "      <td>2007</td>\n",
       "      <td>NE</td>\n",
       "      <td>NE</td>\n",
       "      <td>LAC</td>\n",
       "      <td>vs</td>\n",
       "      <td>17</td>\n",
       "      <td>38</td>\n",
       "      <td>21</td>\n",
       "      <td>12</td>\n",
       "      <td>14</td>\n",
       "      <td>W</td>\n",
       "      <td>W</td>\n",
       "    </tr>\n",
       "    <tr>\n",
       "      <th>545</th>\n",
       "      <td>Philip Rivers</td>\n",
       "      <td>2007</td>\n",
       "      <td>LAC</td>\n",
       "      <td>LAC</td>\n",
       "      <td>NE</td>\n",
       "      <td>@</td>\n",
       "      <td>2</td>\n",
       "      <td>14</td>\n",
       "      <td>12</td>\n",
       "      <td>21</td>\n",
       "      <td>38</td>\n",
       "      <td>L</td>\n",
       "      <td>L</td>\n",
       "    </tr>\n",
       "    <tr>\n",
       "      <th>873</th>\n",
       "      <td>David Garrard</td>\n",
       "      <td>2007</td>\n",
       "      <td>JAX</td>\n",
       "      <td>JAX</td>\n",
       "      <td>PIT</td>\n",
       "      <td>@</td>\n",
       "      <td>-2</td>\n",
       "      <td>29</td>\n",
       "      <td>31</td>\n",
       "      <td>29</td>\n",
       "      <td>22</td>\n",
       "      <td>W</td>\n",
       "      <td>W</td>\n",
       "    </tr>\n",
       "    <tr>\n",
       "      <th>884</th>\n",
       "      <td>Ben Roethlisberger</td>\n",
       "      <td>2007</td>\n",
       "      <td>PIT</td>\n",
       "      <td>PIT</td>\n",
       "      <td>JAX</td>\n",
       "      <td>vs</td>\n",
       "      <td>-7</td>\n",
       "      <td>22</td>\n",
       "      <td>29</td>\n",
       "      <td>31</td>\n",
       "      <td>29</td>\n",
       "      <td>L</td>\n",
       "      <td>L</td>\n",
       "    </tr>\n",
       "    <tr>\n",
       "      <th>1045</th>\n",
       "      <td>Joe Flacco</td>\n",
       "      <td>2008</td>\n",
       "      <td>BAL</td>\n",
       "      <td>BAL</td>\n",
       "      <td>PIT</td>\n",
       "      <td>@</td>\n",
       "      <td>6</td>\n",
       "      <td>20</td>\n",
       "      <td>14</td>\n",
       "      <td>23</td>\n",
       "      <td>23</td>\n",
       "      <td>L</td>\n",
       "      <td>L</td>\n",
       "    </tr>\n",
       "    <tr>\n",
       "      <th>1121</th>\n",
       "      <td>Chad Pennington</td>\n",
       "      <td>2008</td>\n",
       "      <td>MIA</td>\n",
       "      <td>MIA</td>\n",
       "      <td>BAL</td>\n",
       "      <td>vs</td>\n",
       "      <td>4</td>\n",
       "      <td>13</td>\n",
       "      <td>9</td>\n",
       "      <td>27</td>\n",
       "      <td>27</td>\n",
       "      <td>L</td>\n",
       "      <td>L</td>\n",
       "    </tr>\n",
       "    <tr>\n",
       "      <th>1143</th>\n",
       "      <td>Kurt Warner</td>\n",
       "      <td>2008</td>\n",
       "      <td>ARI</td>\n",
       "      <td>ARI</td>\n",
       "      <td>CAR</td>\n",
       "      <td>@</td>\n",
       "      <td>-10</td>\n",
       "      <td>23</td>\n",
       "      <td>33</td>\n",
       "      <td>13</td>\n",
       "      <td>27</td>\n",
       "      <td>L</td>\n",
       "      <td>W</td>\n",
       "    </tr>\n",
       "    <tr>\n",
       "      <th>1153</th>\n",
       "      <td>Jake Delhomme</td>\n",
       "      <td>2008</td>\n",
       "      <td>CAR</td>\n",
       "      <td>CAR</td>\n",
       "      <td>ARI</td>\n",
       "      <td>vs</td>\n",
       "      <td>14</td>\n",
       "      <td>27</td>\n",
       "      <td>13</td>\n",
       "      <td>33</td>\n",
       "      <td>23</td>\n",
       "      <td>W</td>\n",
       "      <td>L</td>\n",
       "    </tr>\n",
       "    <tr>\n",
       "      <th>1238</th>\n",
       "      <td>Ben Roethlisberger</td>\n",
       "      <td>2008</td>\n",
       "      <td>PIT</td>\n",
       "      <td>PIT</td>\n",
       "      <td>LAC</td>\n",
       "      <td>vs</td>\n",
       "      <td>-24</td>\n",
       "      <td>11</td>\n",
       "      <td>35</td>\n",
       "      <td>24</td>\n",
       "      <td>10</td>\n",
       "      <td>W</td>\n",
       "      <td>W</td>\n",
       "    </tr>\n",
       "    <tr>\n",
       "      <th>1251</th>\n",
       "      <td>Philip Rivers</td>\n",
       "      <td>2008</td>\n",
       "      <td>LAC</td>\n",
       "      <td>LAC</td>\n",
       "      <td>PIT</td>\n",
       "      <td>@</td>\n",
       "      <td>-14</td>\n",
       "      <td>10</td>\n",
       "      <td>24</td>\n",
       "      <td>35</td>\n",
       "      <td>11</td>\n",
       "      <td>L</td>\n",
       "      <td>L</td>\n",
       "    </tr>\n",
       "    <tr>\n",
       "      <th>1258</th>\n",
       "      <td>Peyton Manning</td>\n",
       "      <td>2008</td>\n",
       "      <td>IND</td>\n",
       "      <td>IND</td>\n",
       "      <td>LAC</td>\n",
       "      <td>@</td>\n",
       "      <td>6</td>\n",
       "      <td>23</td>\n",
       "      <td>17</td>\n",
       "      <td>23</td>\n",
       "      <td>20</td>\n",
       "      <td>W</td>\n",
       "      <td>L</td>\n",
       "    </tr>\n",
       "    <tr>\n",
       "      <th>1262</th>\n",
       "      <td>Philip Rivers</td>\n",
       "      <td>2008</td>\n",
       "      <td>LAC</td>\n",
       "      <td>LAC</td>\n",
       "      <td>IND</td>\n",
       "      <td>vs</td>\n",
       "      <td>-3</td>\n",
       "      <td>20</td>\n",
       "      <td>23</td>\n",
       "      <td>17</td>\n",
       "      <td>23</td>\n",
       "      <td>L</td>\n",
       "      <td>W</td>\n",
       "    </tr>\n",
       "    <tr>\n",
       "      <th>1319</th>\n",
       "      <td>Donovan McNabb</td>\n",
       "      <td>2008</td>\n",
       "      <td>PHI</td>\n",
       "      <td>PHI</td>\n",
       "      <td>NYG</td>\n",
       "      <td>@</td>\n",
       "      <td>-3</td>\n",
       "      <td>20</td>\n",
       "      <td>23</td>\n",
       "      <td>11</td>\n",
       "      <td>14</td>\n",
       "      <td>W</td>\n",
       "      <td>W</td>\n",
       "    </tr>\n",
       "    <tr>\n",
       "      <th>1334</th>\n",
       "      <td>Eli Manning</td>\n",
       "      <td>2008</td>\n",
       "      <td>NYG</td>\n",
       "      <td>NYG</td>\n",
       "      <td>PHI</td>\n",
       "      <td>vs</td>\n",
       "      <td>3</td>\n",
       "      <td>14</td>\n",
       "      <td>11</td>\n",
       "      <td>23</td>\n",
       "      <td>20</td>\n",
       "      <td>L</td>\n",
       "      <td>L</td>\n",
       "    </tr>\n",
       "    <tr>\n",
       "      <th>1531</th>\n",
       "      <td>Tom Brady</td>\n",
       "      <td>2009</td>\n",
       "      <td>NE</td>\n",
       "      <td>NE</td>\n",
       "      <td>BAL</td>\n",
       "      <td>vs</td>\n",
       "      <td>13</td>\n",
       "      <td>27</td>\n",
       "      <td>14</td>\n",
       "      <td>33</td>\n",
       "      <td>21</td>\n",
       "      <td>W</td>\n",
       "      <td>L</td>\n",
       "    </tr>\n",
       "    <tr>\n",
       "      <th>1840</th>\n",
       "      <td>Peyton Manning</td>\n",
       "      <td>2009</td>\n",
       "      <td>IND</td>\n",
       "      <td>IND</td>\n",
       "      <td>NYJ</td>\n",
       "      <td>vs</td>\n",
       "      <td>-15</td>\n",
       "      <td>15</td>\n",
       "      <td>30</td>\n",
       "      <td>17</td>\n",
       "      <td>29</td>\n",
       "      <td>L</td>\n",
       "      <td>W</td>\n",
       "    </tr>\n",
       "    <tr>\n",
       "      <th>1863</th>\n",
       "      <td>Mark Sanchez</td>\n",
       "      <td>2009</td>\n",
       "      <td>NYJ</td>\n",
       "      <td>NYJ</td>\n",
       "      <td>IND</td>\n",
       "      <td>@</td>\n",
       "      <td>12</td>\n",
       "      <td>29</td>\n",
       "      <td>17</td>\n",
       "      <td>30</td>\n",
       "      <td>15</td>\n",
       "      <td>W</td>\n",
       "      <td>L</td>\n",
       "    </tr>\n",
       "    <tr>\n",
       "      <th>1870</th>\n",
       "      <td>Aaron Rodgers</td>\n",
       "      <td>2009</td>\n",
       "      <td>GB</td>\n",
       "      <td>GB</td>\n",
       "      <td>ARI</td>\n",
       "      <td>@</td>\n",
       "      <td>-12</td>\n",
       "      <td>33</td>\n",
       "      <td>45</td>\n",
       "      <td>51</td>\n",
       "      <td>7</td>\n",
       "      <td>W</td>\n",
       "      <td>L</td>\n",
       "    </tr>\n",
       "    <tr>\n",
       "      <th>1878</th>\n",
       "      <td>Tony Romo</td>\n",
       "      <td>2009</td>\n",
       "      <td>DAL</td>\n",
       "      <td>DAL</td>\n",
       "      <td>PHI</td>\n",
       "      <td>vs</td>\n",
       "      <td>-10</td>\n",
       "      <td>24</td>\n",
       "      <td>34</td>\n",
       "      <td>14</td>\n",
       "      <td>0</td>\n",
       "      <td>W</td>\n",
       "      <td>W</td>\n",
       "    </tr>\n",
       "    <tr>\n",
       "      <th>1894</th>\n",
       "      <td>Donovan McNabb</td>\n",
       "      <td>2009</td>\n",
       "      <td>PHI</td>\n",
       "      <td>PHI</td>\n",
       "      <td>DAL</td>\n",
       "      <td>@</td>\n",
       "      <td>-14</td>\n",
       "      <td>0</td>\n",
       "      <td>14</td>\n",
       "      <td>34</td>\n",
       "      <td>24</td>\n",
       "      <td>L</td>\n",
       "      <td>L</td>\n",
       "    </tr>\n",
       "    <tr>\n",
       "      <th>1903</th>\n",
       "      <td>Mike Vick</td>\n",
       "      <td>2010</td>\n",
       "      <td>PHI</td>\n",
       "      <td>PHI</td>\n",
       "      <td>GB</td>\n",
       "      <td>vs</td>\n",
       "      <td>4</td>\n",
       "      <td>20</td>\n",
       "      <td>16</td>\n",
       "      <td>21</td>\n",
       "      <td>27</td>\n",
       "      <td>L</td>\n",
       "      <td>L</td>\n",
       "    </tr>\n",
       "    <tr>\n",
       "      <th>1906</th>\n",
       "      <td>Aaron Rodgers</td>\n",
       "      <td>2010</td>\n",
       "      <td>GB</td>\n",
       "      <td>GB</td>\n",
       "      <td>PHI</td>\n",
       "      <td>@</td>\n",
       "      <td>6</td>\n",
       "      <td>27</td>\n",
       "      <td>21</td>\n",
       "      <td>16</td>\n",
       "      <td>20</td>\n",
       "      <td>W</td>\n",
       "      <td>W</td>\n",
       "    </tr>\n",
       "    <tr>\n",
       "      <th>1963</th>\n",
       "      <td>Aaron Rodgers</td>\n",
       "      <td>2010</td>\n",
       "      <td>GB</td>\n",
       "      <td>GB</td>\n",
       "      <td>CHI</td>\n",
       "      <td>@</td>\n",
       "      <td>-4</td>\n",
       "      <td>17</td>\n",
       "      <td>21</td>\n",
       "      <td>14</td>\n",
       "      <td>20</td>\n",
       "      <td>L</td>\n",
       "      <td>W</td>\n",
       "    </tr>\n",
       "    <tr>\n",
       "      <th>...</th>\n",
       "      <td>...</td>\n",
       "      <td>...</td>\n",
       "      <td>...</td>\n",
       "      <td>...</td>\n",
       "      <td>...</td>\n",
       "      <td>...</td>\n",
       "      <td>...</td>\n",
       "      <td>...</td>\n",
       "      <td>...</td>\n",
       "      <td>...</td>\n",
       "      <td>...</td>\n",
       "      <td>...</td>\n",
       "      <td>...</td>\n",
       "    </tr>\n",
       "    <tr>\n",
       "      <th>2738</th>\n",
       "      <td>Matthew Stafford</td>\n",
       "      <td>2011</td>\n",
       "      <td>DET</td>\n",
       "      <td>DET</td>\n",
       "      <td>NO</td>\n",
       "      <td>@</td>\n",
       "      <td>-11</td>\n",
       "      <td>17</td>\n",
       "      <td>28</td>\n",
       "      <td>45</td>\n",
       "      <td>31</td>\n",
       "      <td>L</td>\n",
       "      <td>L</td>\n",
       "    </tr>\n",
       "    <tr>\n",
       "      <th>3197</th>\n",
       "      <td>Aaron Rodgers</td>\n",
       "      <td>2012</td>\n",
       "      <td>GB</td>\n",
       "      <td>GB</td>\n",
       "      <td>MIN</td>\n",
       "      <td>vs</td>\n",
       "      <td>-1</td>\n",
       "      <td>23</td>\n",
       "      <td>24</td>\n",
       "      <td>10</td>\n",
       "      <td>14</td>\n",
       "      <td>W</td>\n",
       "      <td>W</td>\n",
       "    </tr>\n",
       "    <tr>\n",
       "      <th>3222</th>\n",
       "      <td>Tom Brady</td>\n",
       "      <td>2012</td>\n",
       "      <td>NE</td>\n",
       "      <td>NE</td>\n",
       "      <td>HOU</td>\n",
       "      <td>vs</td>\n",
       "      <td>1</td>\n",
       "      <td>42</td>\n",
       "      <td>41</td>\n",
       "      <td>28</td>\n",
       "      <td>14</td>\n",
       "      <td>W</td>\n",
       "      <td>W</td>\n",
       "    </tr>\n",
       "    <tr>\n",
       "      <th>3251</th>\n",
       "      <td>Matt Schaub</td>\n",
       "      <td>2012</td>\n",
       "      <td>HOU</td>\n",
       "      <td>HOU</td>\n",
       "      <td>NE</td>\n",
       "      <td>@</td>\n",
       "      <td>-14</td>\n",
       "      <td>14</td>\n",
       "      <td>28</td>\n",
       "      <td>41</td>\n",
       "      <td>42</td>\n",
       "      <td>L</td>\n",
       "      <td>L</td>\n",
       "    </tr>\n",
       "    <tr>\n",
       "      <th>3404</th>\n",
       "      <td>Colin Kaepernick</td>\n",
       "      <td>2013</td>\n",
       "      <td>SF</td>\n",
       "      <td>SF</td>\n",
       "      <td>SEA</td>\n",
       "      <td>@</td>\n",
       "      <td>-14</td>\n",
       "      <td>3</td>\n",
       "      <td>17</td>\n",
       "      <td>23</td>\n",
       "      <td>29</td>\n",
       "      <td>L</td>\n",
       "      <td>L</td>\n",
       "    </tr>\n",
       "    <tr>\n",
       "      <th>3694</th>\n",
       "      <td>Drew Brees</td>\n",
       "      <td>2013</td>\n",
       "      <td>NO</td>\n",
       "      <td>NO</td>\n",
       "      <td>SEA</td>\n",
       "      <td>@</td>\n",
       "      <td>-8</td>\n",
       "      <td>7</td>\n",
       "      <td>15</td>\n",
       "      <td>23</td>\n",
       "      <td>34</td>\n",
       "      <td>L</td>\n",
       "      <td>L</td>\n",
       "    </tr>\n",
       "    <tr>\n",
       "      <th>3736</th>\n",
       "      <td>Philip Rivers</td>\n",
       "      <td>2013</td>\n",
       "      <td>LAC</td>\n",
       "      <td>LAC</td>\n",
       "      <td>DEN</td>\n",
       "      <td>@</td>\n",
       "      <td>10</td>\n",
       "      <td>27</td>\n",
       "      <td>17</td>\n",
       "      <td>24</td>\n",
       "      <td>20</td>\n",
       "      <td>W</td>\n",
       "      <td>L</td>\n",
       "    </tr>\n",
       "    <tr>\n",
       "      <th>3756</th>\n",
       "      <td>Peyton Manning</td>\n",
       "      <td>2013</td>\n",
       "      <td>DEN</td>\n",
       "      <td>DEN</td>\n",
       "      <td>LAC</td>\n",
       "      <td>vs</td>\n",
       "      <td>-4</td>\n",
       "      <td>20</td>\n",
       "      <td>24</td>\n",
       "      <td>17</td>\n",
       "      <td>27</td>\n",
       "      <td>L</td>\n",
       "      <td>W</td>\n",
       "    </tr>\n",
       "    <tr>\n",
       "      <th>3824</th>\n",
       "      <td>Peyton Manning</td>\n",
       "      <td>2014</td>\n",
       "      <td>DEN</td>\n",
       "      <td>DEN</td>\n",
       "      <td>IND</td>\n",
       "      <td>vs</td>\n",
       "      <td>18</td>\n",
       "      <td>31</td>\n",
       "      <td>13</td>\n",
       "      <td>24</td>\n",
       "      <td>24</td>\n",
       "      <td>W</td>\n",
       "      <td>L</td>\n",
       "    </tr>\n",
       "    <tr>\n",
       "      <th>3840</th>\n",
       "      <td>Aaron Rodgers</td>\n",
       "      <td>2014</td>\n",
       "      <td>GB</td>\n",
       "      <td>GB</td>\n",
       "      <td>SEA</td>\n",
       "      <td>@</td>\n",
       "      <td>-6</td>\n",
       "      <td>16</td>\n",
       "      <td>22</td>\n",
       "      <td>28</td>\n",
       "      <td>36</td>\n",
       "      <td>L</td>\n",
       "      <td>L</td>\n",
       "    </tr>\n",
       "    <tr>\n",
       "      <th>4016</th>\n",
       "      <td>Andrew Luck</td>\n",
       "      <td>2014</td>\n",
       "      <td>IND</td>\n",
       "      <td>IND</td>\n",
       "      <td>CIN</td>\n",
       "      <td>vs</td>\n",
       "      <td>1</td>\n",
       "      <td>27</td>\n",
       "      <td>26</td>\n",
       "      <td>10</td>\n",
       "      <td>0</td>\n",
       "      <td>W</td>\n",
       "      <td>W</td>\n",
       "    </tr>\n",
       "    <tr>\n",
       "      <th>4019</th>\n",
       "      <td>Andy Dalton</td>\n",
       "      <td>2014</td>\n",
       "      <td>CIN</td>\n",
       "      <td>CIN</td>\n",
       "      <td>IND</td>\n",
       "      <td>@</td>\n",
       "      <td>-10</td>\n",
       "      <td>0</td>\n",
       "      <td>10</td>\n",
       "      <td>26</td>\n",
       "      <td>27</td>\n",
       "      <td>L</td>\n",
       "      <td>L</td>\n",
       "    </tr>\n",
       "    <tr>\n",
       "      <th>4057</th>\n",
       "      <td>Ben Roethlisberger</td>\n",
       "      <td>2014</td>\n",
       "      <td>PIT</td>\n",
       "      <td>PIT</td>\n",
       "      <td>BAL</td>\n",
       "      <td>vs</td>\n",
       "      <td>26</td>\n",
       "      <td>43</td>\n",
       "      <td>17</td>\n",
       "      <td>30</td>\n",
       "      <td>23</td>\n",
       "      <td>W</td>\n",
       "      <td>L</td>\n",
       "    </tr>\n",
       "    <tr>\n",
       "      <th>4069</th>\n",
       "      <td>Joe Flacco</td>\n",
       "      <td>2014</td>\n",
       "      <td>BAL</td>\n",
       "      <td>BAL</td>\n",
       "      <td>PIT</td>\n",
       "      <td>@</td>\n",
       "      <td>-7</td>\n",
       "      <td>23</td>\n",
       "      <td>30</td>\n",
       "      <td>17</td>\n",
       "      <td>43</td>\n",
       "      <td>L</td>\n",
       "      <td>W</td>\n",
       "    </tr>\n",
       "    <tr>\n",
       "      <th>4321</th>\n",
       "      <td>Alex Smith</td>\n",
       "      <td>2015</td>\n",
       "      <td>KC</td>\n",
       "      <td>KC</td>\n",
       "      <td>HOU</td>\n",
       "      <td>@</td>\n",
       "      <td>-3</td>\n",
       "      <td>27</td>\n",
       "      <td>30</td>\n",
       "      <td>0</td>\n",
       "      <td>20</td>\n",
       "      <td>W</td>\n",
       "      <td>W</td>\n",
       "    </tr>\n",
       "    <tr>\n",
       "      <th>4338</th>\n",
       "      <td>Brian Hoyer</td>\n",
       "      <td>2015</td>\n",
       "      <td>HOU</td>\n",
       "      <td>HOU</td>\n",
       "      <td>KC</td>\n",
       "      <td>vs</td>\n",
       "      <td>20</td>\n",
       "      <td>20</td>\n",
       "      <td>0</td>\n",
       "      <td>30</td>\n",
       "      <td>27</td>\n",
       "      <td>L</td>\n",
       "      <td>L</td>\n",
       "    </tr>\n",
       "    <tr>\n",
       "      <th>4612</th>\n",
       "      <td>Tom Brady</td>\n",
       "      <td>2015</td>\n",
       "      <td>NE</td>\n",
       "      <td>NE</td>\n",
       "      <td>DEN</td>\n",
       "      <td>@</td>\n",
       "      <td>6</td>\n",
       "      <td>24</td>\n",
       "      <td>18</td>\n",
       "      <td>20</td>\n",
       "      <td>30</td>\n",
       "      <td>L</td>\n",
       "      <td>L</td>\n",
       "    </tr>\n",
       "    <tr>\n",
       "      <th>4663</th>\n",
       "      <td>Teddy Bridgewater</td>\n",
       "      <td>2015</td>\n",
       "      <td>MIN</td>\n",
       "      <td>MIN</td>\n",
       "      <td>SEA</td>\n",
       "      <td>vs</td>\n",
       "      <td>-2</td>\n",
       "      <td>7</td>\n",
       "      <td>9</td>\n",
       "      <td>10</td>\n",
       "      <td>38</td>\n",
       "      <td>L</td>\n",
       "      <td>L</td>\n",
       "    </tr>\n",
       "    <tr>\n",
       "      <th>4670</th>\n",
       "      <td>Ben Roethlisberger</td>\n",
       "      <td>2015</td>\n",
       "      <td>PIT</td>\n",
       "      <td>PIT</td>\n",
       "      <td>CIN</td>\n",
       "      <td>@</td>\n",
       "      <td>15</td>\n",
       "      <td>33</td>\n",
       "      <td>18</td>\n",
       "      <td>16</td>\n",
       "      <td>20</td>\n",
       "      <td>W</td>\n",
       "      <td>W</td>\n",
       "    </tr>\n",
       "    <tr>\n",
       "      <th>4688</th>\n",
       "      <td>AJ McCarron</td>\n",
       "      <td>2015</td>\n",
       "      <td>CIN</td>\n",
       "      <td>CIN</td>\n",
       "      <td>PIT</td>\n",
       "      <td>vs</td>\n",
       "      <td>4</td>\n",
       "      <td>20</td>\n",
       "      <td>16</td>\n",
       "      <td>18</td>\n",
       "      <td>33</td>\n",
       "      <td>L</td>\n",
       "      <td>L</td>\n",
       "    </tr>\n",
       "    <tr>\n",
       "      <th>4732</th>\n",
       "      <td>Carson Palmer</td>\n",
       "      <td>2015</td>\n",
       "      <td>ARI</td>\n",
       "      <td>ARI</td>\n",
       "      <td>GB</td>\n",
       "      <td>vs</td>\n",
       "      <td>12</td>\n",
       "      <td>38</td>\n",
       "      <td>26</td>\n",
       "      <td>20</td>\n",
       "      <td>8</td>\n",
       "      <td>W</td>\n",
       "      <td>W</td>\n",
       "    </tr>\n",
       "    <tr>\n",
       "      <th>4753</th>\n",
       "      <td>Aaron Rodgers</td>\n",
       "      <td>2015</td>\n",
       "      <td>GB</td>\n",
       "      <td>GB</td>\n",
       "      <td>ARI</td>\n",
       "      <td>@</td>\n",
       "      <td>-12</td>\n",
       "      <td>8</td>\n",
       "      <td>20</td>\n",
       "      <td>26</td>\n",
       "      <td>38</td>\n",
       "      <td>L</td>\n",
       "      <td>L</td>\n",
       "    </tr>\n",
       "    <tr>\n",
       "      <th>4866</th>\n",
       "      <td>Brock Osweiler</td>\n",
       "      <td>2016</td>\n",
       "      <td>HOU</td>\n",
       "      <td>HOU</td>\n",
       "      <td>NE</td>\n",
       "      <td>@</td>\n",
       "      <td>-16</td>\n",
       "      <td>0</td>\n",
       "      <td>16</td>\n",
       "      <td>34</td>\n",
       "      <td>27</td>\n",
       "      <td>L</td>\n",
       "      <td>L</td>\n",
       "    </tr>\n",
       "    <tr>\n",
       "      <th>4913</th>\n",
       "      <td>Aaron Rodgers</td>\n",
       "      <td>2016</td>\n",
       "      <td>GB</td>\n",
       "      <td>GB</td>\n",
       "      <td>NYG</td>\n",
       "      <td>vs</td>\n",
       "      <td>-15</td>\n",
       "      <td>23</td>\n",
       "      <td>38</td>\n",
       "      <td>13</td>\n",
       "      <td>16</td>\n",
       "      <td>W</td>\n",
       "      <td>W</td>\n",
       "    </tr>\n",
       "    <tr>\n",
       "      <th>4926</th>\n",
       "      <td>Eli Manning</td>\n",
       "      <td>2016</td>\n",
       "      <td>NYG</td>\n",
       "      <td>NYG</td>\n",
       "      <td>GB</td>\n",
       "      <td>@</td>\n",
       "      <td>3</td>\n",
       "      <td>16</td>\n",
       "      <td>13</td>\n",
       "      <td>38</td>\n",
       "      <td>23</td>\n",
       "      <td>L</td>\n",
       "      <td>L</td>\n",
       "    </tr>\n",
       "    <tr>\n",
       "      <th>4987</th>\n",
       "      <td>Aaron Rodgers</td>\n",
       "      <td>2016</td>\n",
       "      <td>GB</td>\n",
       "      <td>GB</td>\n",
       "      <td>ATL</td>\n",
       "      <td>@</td>\n",
       "      <td>11</td>\n",
       "      <td>32</td>\n",
       "      <td>21</td>\n",
       "      <td>44</td>\n",
       "      <td>33</td>\n",
       "      <td>L</td>\n",
       "      <td>L</td>\n",
       "    </tr>\n",
       "    <tr>\n",
       "      <th>4990</th>\n",
       "      <td>Matt Ryan</td>\n",
       "      <td>2016</td>\n",
       "      <td>ATL</td>\n",
       "      <td>ATL</td>\n",
       "      <td>GB</td>\n",
       "      <td>vs</td>\n",
       "      <td>-11</td>\n",
       "      <td>33</td>\n",
       "      <td>44</td>\n",
       "      <td>21</td>\n",
       "      <td>32</td>\n",
       "      <td>W</td>\n",
       "      <td>W</td>\n",
       "    </tr>\n",
       "    <tr>\n",
       "      <th>5265</th>\n",
       "      <td>Drew Brees</td>\n",
       "      <td>2017</td>\n",
       "      <td>NO</td>\n",
       "      <td>NO</td>\n",
       "      <td>MIN</td>\n",
       "      <td>@</td>\n",
       "      <td>-5</td>\n",
       "      <td>19</td>\n",
       "      <td>24</td>\n",
       "      <td>29</td>\n",
       "      <td>29</td>\n",
       "      <td>L</td>\n",
       "      <td>L</td>\n",
       "    </tr>\n",
       "    <tr>\n",
       "      <th>5392</th>\n",
       "      <td>Ben Roethlisberger</td>\n",
       "      <td>2017</td>\n",
       "      <td>PIT</td>\n",
       "      <td>PIT</td>\n",
       "      <td>JAX</td>\n",
       "      <td>vs</td>\n",
       "      <td>-33</td>\n",
       "      <td>9</td>\n",
       "      <td>42</td>\n",
       "      <td>45</td>\n",
       "      <td>30</td>\n",
       "      <td>L</td>\n",
       "      <td>L</td>\n",
       "    </tr>\n",
       "    <tr>\n",
       "      <th>5603</th>\n",
       "      <td>Cam Newton</td>\n",
       "      <td>2017</td>\n",
       "      <td>CAR</td>\n",
       "      <td>CAR</td>\n",
       "      <td>NO</td>\n",
       "      <td>@</td>\n",
       "      <td>-5</td>\n",
       "      <td>21</td>\n",
       "      <td>26</td>\n",
       "      <td>31</td>\n",
       "      <td>31</td>\n",
       "      <td>L</td>\n",
       "      <td>L</td>\n",
       "    </tr>\n",
       "  </tbody>\n",
       "</table>\n",
       "<p>75 rows × 13 columns</p>\n",
       "</div>"
      ],
      "text/plain": [
       "                    name  Year Tm_x Tm_y  Opp   X  Home_score_diff  \\\n",
       "40           Eli Manning  2006  NYG  NYG  PHI   @               10   \n",
       "96          Rex Grossman  2006  CHI  CHI  SEA  vs               10   \n",
       "112      Matt Hasselbeck  2006  SEA  SEA  CHI   @              -18   \n",
       "261            Tom Brady  2006   NE   NE  NYJ  vs              -23   \n",
       "263      Chad Pennington  2006  NYJ  NYJ   NE   @                1   \n",
       "489            Tony Romo  2007  DAL  DAL  NYG  vs               28   \n",
       "491          Eli Manning  2007  NYG  NYG  DAL   @               14   \n",
       "520            Tom Brady  2007   NE   NE  LAC  vs               17   \n",
       "545        Philip Rivers  2007  LAC  LAC   NE   @                2   \n",
       "873        David Garrard  2007  JAX  JAX  PIT   @               -2   \n",
       "884   Ben Roethlisberger  2007  PIT  PIT  JAX  vs               -7   \n",
       "1045          Joe Flacco  2008  BAL  BAL  PIT   @                6   \n",
       "1121     Chad Pennington  2008  MIA  MIA  BAL  vs                4   \n",
       "1143         Kurt Warner  2008  ARI  ARI  CAR   @              -10   \n",
       "1153       Jake Delhomme  2008  CAR  CAR  ARI  vs               14   \n",
       "1238  Ben Roethlisberger  2008  PIT  PIT  LAC  vs              -24   \n",
       "1251       Philip Rivers  2008  LAC  LAC  PIT   @              -14   \n",
       "1258      Peyton Manning  2008  IND  IND  LAC   @                6   \n",
       "1262       Philip Rivers  2008  LAC  LAC  IND  vs               -3   \n",
       "1319      Donovan McNabb  2008  PHI  PHI  NYG   @               -3   \n",
       "1334         Eli Manning  2008  NYG  NYG  PHI  vs                3   \n",
       "1531           Tom Brady  2009   NE   NE  BAL  vs               13   \n",
       "1840      Peyton Manning  2009  IND  IND  NYJ  vs              -15   \n",
       "1863        Mark Sanchez  2009  NYJ  NYJ  IND   @               12   \n",
       "1870       Aaron Rodgers  2009   GB   GB  ARI   @              -12   \n",
       "1878           Tony Romo  2009  DAL  DAL  PHI  vs              -10   \n",
       "1894      Donovan McNabb  2009  PHI  PHI  DAL   @              -14   \n",
       "1903           Mike Vick  2010  PHI  PHI   GB  vs                4   \n",
       "1906       Aaron Rodgers  2010   GB   GB  PHI   @                6   \n",
       "1963       Aaron Rodgers  2010   GB   GB  CHI   @               -4   \n",
       "...                  ...   ...  ...  ...  ...  ..              ...   \n",
       "2738    Matthew Stafford  2011  DET  DET   NO   @              -11   \n",
       "3197       Aaron Rodgers  2012   GB   GB  MIN  vs               -1   \n",
       "3222           Tom Brady  2012   NE   NE  HOU  vs                1   \n",
       "3251         Matt Schaub  2012  HOU  HOU   NE   @              -14   \n",
       "3404    Colin Kaepernick  2013   SF   SF  SEA   @              -14   \n",
       "3694          Drew Brees  2013   NO   NO  SEA   @               -8   \n",
       "3736       Philip Rivers  2013  LAC  LAC  DEN   @               10   \n",
       "3756      Peyton Manning  2013  DEN  DEN  LAC  vs               -4   \n",
       "3824      Peyton Manning  2014  DEN  DEN  IND  vs               18   \n",
       "3840       Aaron Rodgers  2014   GB   GB  SEA   @               -6   \n",
       "4016         Andrew Luck  2014  IND  IND  CIN  vs                1   \n",
       "4019         Andy Dalton  2014  CIN  CIN  IND   @              -10   \n",
       "4057  Ben Roethlisberger  2014  PIT  PIT  BAL  vs               26   \n",
       "4069          Joe Flacco  2014  BAL  BAL  PIT   @               -7   \n",
       "4321          Alex Smith  2015   KC   KC  HOU   @               -3   \n",
       "4338         Brian Hoyer  2015  HOU  HOU   KC  vs               20   \n",
       "4612           Tom Brady  2015   NE   NE  DEN   @                6   \n",
       "4663   Teddy Bridgewater  2015  MIN  MIN  SEA  vs               -2   \n",
       "4670  Ben Roethlisberger  2015  PIT  PIT  CIN   @               15   \n",
       "4688         AJ McCarron  2015  CIN  CIN  PIT  vs                4   \n",
       "4732       Carson Palmer  2015  ARI  ARI   GB  vs               12   \n",
       "4753       Aaron Rodgers  2015   GB   GB  ARI   @              -12   \n",
       "4866      Brock Osweiler  2016  HOU  HOU   NE   @              -16   \n",
       "4913       Aaron Rodgers  2016   GB   GB  NYG  vs              -15   \n",
       "4926         Eli Manning  2016  NYG  NYG   GB   @                3   \n",
       "4987       Aaron Rodgers  2016   GB   GB  ATL   @               11   \n",
       "4990           Matt Ryan  2016  ATL  ATL   GB  vs              -11   \n",
       "5265          Drew Brees  2017   NO   NO  MIN   @               -5   \n",
       "5392  Ben Roethlisberger  2017  PIT  PIT  JAX  vs              -33   \n",
       "5603          Cam Newton  2017  CAR  CAR   NO   @               -5   \n",
       "\n",
       "      Home_score_x  Home_score_y  Away_score_y  Away_score_x Game_result_x  \\\n",
       "40              30            20            23            24             W   \n",
       "96              37            27            24             6             W   \n",
       "112              6            24            27            37             L   \n",
       "261             14            37            16            17             L   \n",
       "263             17            16            37            14             W   \n",
       "489             45            17            21            35             W   \n",
       "491             35            21            17            45             L   \n",
       "520             38            21            12            14             W   \n",
       "545             14            12            21            38             L   \n",
       "873             29            31            29            22             W   \n",
       "884             22            29            31            29             L   \n",
       "1045            20            14            23            23             L   \n",
       "1121            13             9            27            27             L   \n",
       "1143            23            33            13            27             L   \n",
       "1153            27            13            33            23             W   \n",
       "1238            11            35            24            10             W   \n",
       "1251            10            24            35            11             L   \n",
       "1258            23            17            23            20             W   \n",
       "1262            20            23            17            23             L   \n",
       "1319            20            23            11            14             W   \n",
       "1334            14            11            23            20             L   \n",
       "1531            27            14            33            21             W   \n",
       "1840            15            30            17            29             L   \n",
       "1863            29            17            30            15             W   \n",
       "1870            33            45            51             7             W   \n",
       "1878            24            34            14             0             W   \n",
       "1894             0            14            34            24             L   \n",
       "1903            20            16            21            27             L   \n",
       "1906            27            21            16            20             W   \n",
       "1963            17            21            14            20             L   \n",
       "...            ...           ...           ...           ...           ...   \n",
       "2738            17            28            45            31             L   \n",
       "3197            23            24            10            14             W   \n",
       "3222            42            41            28            14             W   \n",
       "3251            14            28            41            42             L   \n",
       "3404             3            17            23            29             L   \n",
       "3694             7            15            23            34             L   \n",
       "3736            27            17            24            20             W   \n",
       "3756            20            24            17            27             L   \n",
       "3824            31            13            24            24             W   \n",
       "3840            16            22            28            36             L   \n",
       "4016            27            26            10             0             W   \n",
       "4019             0            10            26            27             L   \n",
       "4057            43            17            30            23             W   \n",
       "4069            23            30            17            43             L   \n",
       "4321            27            30             0            20             W   \n",
       "4338            20             0            30            27             L   \n",
       "4612            24            18            20            30             L   \n",
       "4663             7             9            10            38             L   \n",
       "4670            33            18            16            20             W   \n",
       "4688            20            16            18            33             L   \n",
       "4732            38            26            20             8             W   \n",
       "4753             8            20            26            38             L   \n",
       "4866             0            16            34            27             L   \n",
       "4913            23            38            13            16             W   \n",
       "4926            16            13            38            23             L   \n",
       "4987            32            21            44            33             L   \n",
       "4990            33            44            21            32             W   \n",
       "5265            19            24            29            29             L   \n",
       "5392             9            42            45            30             L   \n",
       "5603            21            26            31            31             L   \n",
       "\n",
       "     Game_result_y  \n",
       "40               L  \n",
       "96               W  \n",
       "112              L  \n",
       "261              W  \n",
       "263              L  \n",
       "489              L  \n",
       "491              W  \n",
       "520              W  \n",
       "545              L  \n",
       "873              W  \n",
       "884              L  \n",
       "1045             L  \n",
       "1121             L  \n",
       "1143             W  \n",
       "1153             L  \n",
       "1238             W  \n",
       "1251             L  \n",
       "1258             L  \n",
       "1262             W  \n",
       "1319             W  \n",
       "1334             L  \n",
       "1531             L  \n",
       "1840             W  \n",
       "1863             L  \n",
       "1870             L  \n",
       "1878             W  \n",
       "1894             L  \n",
       "1903             L  \n",
       "1906             W  \n",
       "1963             W  \n",
       "...            ...  \n",
       "2738             L  \n",
       "3197             W  \n",
       "3222             W  \n",
       "3251             L  \n",
       "3404             L  \n",
       "3694             L  \n",
       "3736             L  \n",
       "3756             W  \n",
       "3824             L  \n",
       "3840             L  \n",
       "4016             W  \n",
       "4019             L  \n",
       "4057             L  \n",
       "4069             W  \n",
       "4321             W  \n",
       "4338             L  \n",
       "4612             L  \n",
       "4663             L  \n",
       "4670             W  \n",
       "4688             L  \n",
       "4732             W  \n",
       "4753             L  \n",
       "4866             L  \n",
       "4913             W  \n",
       "4926             L  \n",
       "4987             L  \n",
       "4990             W  \n",
       "5265             L  \n",
       "5392             L  \n",
       "5603             L  \n",
       "\n",
       "[75 rows x 13 columns]"
      ]
     },
     "execution_count": 73,
     "metadata": {},
     "output_type": "execute_result"
    }
   ],
   "source": [
    "old_df[['name','Year','Tm_x','Tm_y','Opp','X','Home_score_diff','Home_score_x','Home_score_y','Away_score_y',\n",
    "        'Away_score_x','Game_result_x','Game_result_y']] \\\n",
    "[(old_df.Home_score_diff != 0)]"
   ]
  },
  {
   "cell_type": "code",
   "execution_count": 74,
   "metadata": {},
   "outputs": [
    {
     "data": {
      "text/html": [
       "<div>\n",
       "<style scoped>\n",
       "    .dataframe tbody tr th:only-of-type {\n",
       "        vertical-align: middle;\n",
       "    }\n",
       "\n",
       "    .dataframe tbody tr th {\n",
       "        vertical-align: top;\n",
       "    }\n",
       "\n",
       "    .dataframe thead th {\n",
       "        text-align: right;\n",
       "    }\n",
       "</style>\n",
       "<table border=\"1\" class=\"dataframe\">\n",
       "  <thead>\n",
       "    <tr style=\"text-align: right;\">\n",
       "      <th></th>\n",
       "      <th>name</th>\n",
       "      <th>Year</th>\n",
       "      <th>Tm_x</th>\n",
       "      <th>Tm_y</th>\n",
       "      <th>Opp</th>\n",
       "      <th>X</th>\n",
       "      <th>Home_score_diff</th>\n",
       "      <th>Home_score_x</th>\n",
       "      <th>Home_score_y</th>\n",
       "      <th>Away_score_y</th>\n",
       "      <th>Away_score_x</th>\n",
       "      <th>Game_result_x</th>\n",
       "      <th>Game_result_y</th>\n",
       "    </tr>\n",
       "  </thead>\n",
       "  <tbody>\n",
       "    <tr>\n",
       "      <th>11</th>\n",
       "      <td>Eli Manning</td>\n",
       "      <td>2006</td>\n",
       "      <td>NYG</td>\n",
       "      <td>NYG</td>\n",
       "      <td>IND</td>\n",
       "      <td>vs</td>\n",
       "      <td>0</td>\n",
       "      <td>21</td>\n",
       "      <td>21</td>\n",
       "      <td>26</td>\n",
       "      <td>26</td>\n",
       "      <td>L</td>\n",
       "      <td>L</td>\n",
       "    </tr>\n",
       "    <tr>\n",
       "      <th>39</th>\n",
       "      <td>Eli Manning</td>\n",
       "      <td>2006</td>\n",
       "      <td>NYG</td>\n",
       "      <td>NYG</td>\n",
       "      <td>PHI</td>\n",
       "      <td>@</td>\n",
       "      <td>0</td>\n",
       "      <td>30</td>\n",
       "      <td>30</td>\n",
       "      <td>24</td>\n",
       "      <td>24</td>\n",
       "      <td>W</td>\n",
       "      <td>W</td>\n",
       "    </tr>\n",
       "    <tr>\n",
       "      <th>40</th>\n",
       "      <td>Eli Manning</td>\n",
       "      <td>2006</td>\n",
       "      <td>NYG</td>\n",
       "      <td>NYG</td>\n",
       "      <td>PHI</td>\n",
       "      <td>@</td>\n",
       "      <td>10</td>\n",
       "      <td>30</td>\n",
       "      <td>20</td>\n",
       "      <td>23</td>\n",
       "      <td>24</td>\n",
       "      <td>W</td>\n",
       "      <td>L</td>\n",
       "    </tr>\n",
       "    <tr>\n",
       "      <th>88</th>\n",
       "      <td>Eli Manning</td>\n",
       "      <td>2006</td>\n",
       "      <td>NYG</td>\n",
       "      <td>NYG</td>\n",
       "      <td>SEA</td>\n",
       "      <td>@</td>\n",
       "      <td>0</td>\n",
       "      <td>30</td>\n",
       "      <td>30</td>\n",
       "      <td>42</td>\n",
       "      <td>42</td>\n",
       "      <td>L</td>\n",
       "      <td>L</td>\n",
       "    </tr>\n",
       "    <tr>\n",
       "      <th>126</th>\n",
       "      <td>Eli Manning</td>\n",
       "      <td>2006</td>\n",
       "      <td>NYG</td>\n",
       "      <td>NYG</td>\n",
       "      <td>WSH</td>\n",
       "      <td>vs</td>\n",
       "      <td>0</td>\n",
       "      <td>19</td>\n",
       "      <td>19</td>\n",
       "      <td>3</td>\n",
       "      <td>3</td>\n",
       "      <td>W</td>\n",
       "      <td>W</td>\n",
       "    </tr>\n",
       "  </tbody>\n",
       "</table>\n",
       "</div>"
      ],
      "text/plain": [
       "            name  Year Tm_x Tm_y  Opp   X  Home_score_diff  Home_score_x  \\\n",
       "11   Eli Manning  2006  NYG  NYG  IND  vs                0            21   \n",
       "39   Eli Manning  2006  NYG  NYG  PHI   @                0            30   \n",
       "40   Eli Manning  2006  NYG  NYG  PHI   @               10            30   \n",
       "88   Eli Manning  2006  NYG  NYG  SEA   @                0            30   \n",
       "126  Eli Manning  2006  NYG  NYG  WSH  vs                0            19   \n",
       "\n",
       "     Home_score_y  Away_score_y  Away_score_x Game_result_x Game_result_y  \n",
       "11             21            26            26             L             L  \n",
       "39             30            24            24             W             W  \n",
       "40             20            23            24             W             L  \n",
       "88             30            42            42             L             L  \n",
       "126            19             3             3             W             W  "
      ]
     },
     "execution_count": 74,
     "metadata": {},
     "output_type": "execute_result"
    }
   ],
   "source": [
    "old_df[['name','Year','Tm_x','Tm_y','Opp','X','Home_score_diff','Home_score_x','Home_score_y','Away_score_y',\n",
    "        'Away_score_x','Game_result_x','Game_result_y']] \\\n",
    "[(old_df.name == 'Eli Manning')].head()"
   ]
  },
  {
   "cell_type": "markdown",
   "metadata": {},
   "source": [
    "Because the pfr.com dataframe includes games from the playoffs, there are some inconsistencies when the dataframes are merged without the Home and away scores. So, when we merge, we expect 5,979 rows."
   ]
  },
  {
   "cell_type": "markdown",
   "metadata": {},
   "source": [
    "### Correct Merge"
   ]
  },
  {
   "cell_type": "code",
   "execution_count": 75,
   "metadata": {},
   "outputs": [
    {
     "data": {
      "text/plain": [
       "['name', 'Game_result', 'Year', 'Away_score', 'Opp', 'X', 'Tm', 'Home_score']"
      ]
     },
     "execution_count": 75,
     "metadata": {},
     "output_type": "execute_result"
    }
   ],
   "source": [
    "common_cols"
   ]
  },
  {
   "cell_type": "code",
   "execution_count": 76,
   "metadata": {},
   "outputs": [],
   "source": [
    "qbr_sub = qbr_data_mod2[common_cols]"
   ]
  },
  {
   "cell_type": "code",
   "execution_count": 77,
   "metadata": {},
   "outputs": [],
   "source": [
    "pfr_sub = pfr_data_mod2[common_cols]"
   ]
  },
  {
   "cell_type": "code",
   "execution_count": 78,
   "metadata": {},
   "outputs": [
    {
     "name": "stderr",
     "output_type": "stream",
     "text": [
      "/Library/Frameworks/Python.framework/Versions/3.6/lib/python3.6/site-packages/pandas/core/generic.py:4401: SettingWithCopyWarning: \n",
      "A value is trying to be set on a copy of a slice from a DataFrame.\n",
      "Try using .loc[row_indexer,col_indexer] = value instead\n",
      "\n",
      "See the caveats in the documentation: http://pandas.pydata.org/pandas-docs/stable/indexing.html#indexing-view-versus-copy\n",
      "  self[name] = value\n"
     ]
    }
   ],
   "source": [
    "pfr_sub.Tm = pfr_sub.Tm.str.lstrip()"
   ]
  },
  {
   "cell_type": "code",
   "execution_count": 85,
   "metadata": {},
   "outputs": [],
   "source": [
    "merge_df = pd.merge(left=qbr_data_mod2, right=pfr_data_mod2, on=common_cols, how='inner')"
   ]
  },
  {
   "cell_type": "code",
   "execution_count": 86,
   "metadata": {},
   "outputs": [
    {
     "data": {
      "text/plain": [
       "(5899, 52)"
      ]
     },
     "execution_count": 86,
     "metadata": {},
     "output_type": "execute_result"
    }
   ],
   "source": [
    "merge_df.shape"
   ]
  },
  {
   "cell_type": "markdown",
   "metadata": {},
   "source": [
    "##### List all columns available in the merged dataframe"
   ]
  },
  {
   "cell_type": "code",
   "execution_count": 88,
   "metadata": {},
   "outputs": [
    {
     "data": {
      "text/plain": [
       "Index(['PASS', 'PENALTY', 'PLAYER', 'PTS ADDED', 'QB PLAYS', 'RAW QBR',\n",
       "       'RESULT', 'RK', 'RUN', 'TOTAL EPA', 'TOTAL QBR', 'WEEK', 'Year', 'name',\n",
       "       'Tm', 'X', 'Game_result', 'Home_score', 'Away_score', 'Opp', 'id',\n",
       "       'Date', 'G.', 'Age', 'Result', 'GS', 'Cmp', 'Att', 'Cmp.', 'Yds', 'TD',\n",
       "       'Int', 'Rate', 'Sk', 'Yds.1', 'Y.A', 'AY.A', 'Att.1', 'Yds.2', 'Y.A.1',\n",
       "       'TD.1', 'TD.2', 'Pts', 'Fmb', 'FF', 'FR', 'Yds.3', 'TD.3', 'team_win',\n",
       "       'start_win', 'game_count', 'start_count'],\n",
       "      dtype='object')"
      ]
     },
     "execution_count": 88,
     "metadata": {},
     "output_type": "execute_result"
    }
   ],
   "source": [
    "merge_df.columns"
   ]
  },
  {
   "cell_type": "code",
   "execution_count": 90,
   "metadata": {},
   "outputs": [
    {
     "data": {
      "text/html": [
       "<div>\n",
       "<style scoped>\n",
       "    .dataframe tbody tr th:only-of-type {\n",
       "        vertical-align: middle;\n",
       "    }\n",
       "\n",
       "    .dataframe tbody tr th {\n",
       "        vertical-align: top;\n",
       "    }\n",
       "\n",
       "    .dataframe thead th {\n",
       "        text-align: right;\n",
       "    }\n",
       "</style>\n",
       "<table border=\"1\" class=\"dataframe\">\n",
       "  <thead>\n",
       "    <tr style=\"text-align: right;\">\n",
       "      <th></th>\n",
       "      <th>name</th>\n",
       "      <th>TOTAL QBR</th>\n",
       "      <th>Rate</th>\n",
       "      <th>WEEK</th>\n",
       "      <th>Year</th>\n",
       "      <th>Tm</th>\n",
       "    </tr>\n",
       "  </thead>\n",
       "  <tbody>\n",
       "    <tr>\n",
       "      <th>0</th>\n",
       "      <td>Rex Grossman</td>\n",
       "      <td>96.4</td>\n",
       "      <td>98.6</td>\n",
       "      <td>1.0</td>\n",
       "      <td>2006</td>\n",
       "      <td>CHI</td>\n",
       "    </tr>\n",
       "    <tr>\n",
       "      <th>1</th>\n",
       "      <td>Donovan McNabb</td>\n",
       "      <td>92.5</td>\n",
       "      <td>113.3</td>\n",
       "      <td>1.0</td>\n",
       "      <td>2006</td>\n",
       "      <td>PHI</td>\n",
       "    </tr>\n",
       "  </tbody>\n",
       "</table>\n",
       "</div>"
      ],
      "text/plain": [
       "             name  TOTAL QBR   Rate  WEEK  Year   Tm\n",
       "0    Rex Grossman       96.4   98.6   1.0  2006  CHI\n",
       "1  Donovan McNabb       92.5  113.3   1.0  2006  PHI"
      ]
     },
     "execution_count": 90,
     "metadata": {},
     "output_type": "execute_result"
    }
   ],
   "source": [
    "# Take a peak at the columns we are most interested in\n",
    "merge_df[['name', 'TOTAL QBR','Rate','WEEK','Year','Tm']].head(2)"
   ]
  },
  {
   "cell_type": "markdown",
   "metadata": {},
   "source": [
    "##### Write merged dataframe to a .csv"
   ]
  },
  {
   "cell_type": "code",
   "execution_count": 91,
   "metadata": {},
   "outputs": [],
   "source": [
    "merge_df.to_csv('correct_merge_qb_ratings_df.csv', index=False, header=True)"
   ]
  },
  {
   "cell_type": "markdown",
   "metadata": {},
   "source": [
    "We now have a merged dataframe that now adds the QBR statistic from the espn.com dataset to the extensive statistics avaiable in the pro-football-reference.com dataset. This dataset contains 5,899 rows and 52 columns of data which represent an NFL quarterback's statistics for one game from the 2006 to 2018 NFL seasons. This merged dataframe will be used for future blog posts with the goal of \"reverse engineering\" the algorithm that ESPN uses to calculate quarterback rating."
   ]
  },
  {
   "cell_type": "code",
   "execution_count": null,
   "metadata": {},
   "outputs": [],
   "source": []
  }
 ],
 "metadata": {
  "kernelspec": {
   "display_name": "Python 3",
   "language": "python",
   "name": "python3"
  },
  "language_info": {
   "codemirror_mode": {
    "name": "ipython",
    "version": 3
   },
   "file_extension": ".py",
   "mimetype": "text/x-python",
   "name": "python",
   "nbconvert_exporter": "python",
   "pygments_lexer": "ipython3",
   "version": "3.6.4"
  }
 },
 "nbformat": 4,
 "nbformat_minor": 2
}
