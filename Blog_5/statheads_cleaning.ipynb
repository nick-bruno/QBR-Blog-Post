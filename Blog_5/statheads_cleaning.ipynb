{
 "cells": [
  {
   "cell_type": "code",
   "execution_count": 1,
   "id": "296960a6",
   "metadata": {},
   "outputs": [],
   "source": [
    "import pandas as pd\n",
    "import numpy as np"
   ]
  },
  {
   "cell_type": "code",
   "execution_count": 22,
   "id": "493c6168",
   "metadata": {},
   "outputs": [],
   "source": [
    "df = pd.read_csv('./data/nfl_qb_stats_partial.csv')"
   ]
  },
  {
   "cell_type": "code",
   "execution_count": 23,
   "id": "b2077d7e",
   "metadata": {},
   "outputs": [],
   "source": [
    "# Drop null column\n",
    "df = df.drop(df.columns[-1], axis=1)"
   ]
  },
  {
   "cell_type": "code",
   "execution_count": 24,
   "id": "6a8c9941",
   "metadata": {},
   "outputs": [],
   "source": [
    "# Drop duplicates\n",
    "df = df.drop_duplicates()"
   ]
  },
  {
   "cell_type": "code",
   "execution_count": 25,
   "id": "54a5e32d",
   "metadata": {},
   "outputs": [
    {
     "data": {
      "text/plain": [
       "(11895, 32)"
      ]
     },
     "execution_count": 25,
     "metadata": {},
     "output_type": "execute_result"
    }
   ],
   "source": [
    "df.shape"
   ]
  },
  {
   "cell_type": "code",
   "execution_count": 26,
   "id": "ac6ee3aa",
   "metadata": {},
   "outputs": [],
   "source": [
    "# Set column names\n",
    "df.columns = 'Player Rate Att Day G# Week Date Age Team Game_Location Opp Result Cmp Att Inc Cmp% Yds TD Int Pick6 TD% Int% Rate Sk Yds Sk% Y/A AY/A ANY/A Y/C Succ% Pos.'.split(' ')"
   ]
  },
  {
   "cell_type": "code",
   "execution_count": 30,
   "id": "91b04f97",
   "metadata": {},
   "outputs": [
    {
     "data": {
      "text/html": [
       "<div>\n",
       "<style scoped>\n",
       "    .dataframe tbody tr th:only-of-type {\n",
       "        vertical-align: middle;\n",
       "    }\n",
       "\n",
       "    .dataframe tbody tr th {\n",
       "        vertical-align: top;\n",
       "    }\n",
       "\n",
       "    .dataframe thead th {\n",
       "        text-align: right;\n",
       "    }\n",
       "</style>\n",
       "<table border=\"1\" class=\"dataframe\">\n",
       "  <thead>\n",
       "    <tr style=\"text-align: right;\">\n",
       "      <th></th>\n",
       "      <th>Player</th>\n",
       "      <th>Rate</th>\n",
       "      <th>Att</th>\n",
       "      <th>Day</th>\n",
       "      <th>G#</th>\n",
       "      <th>Week</th>\n",
       "      <th>Date</th>\n",
       "      <th>Age</th>\n",
       "      <th>Team</th>\n",
       "      <th>Game_Location</th>\n",
       "      <th>...</th>\n",
       "      <th>Rate</th>\n",
       "      <th>Sk</th>\n",
       "      <th>Yds</th>\n",
       "      <th>Sk%</th>\n",
       "      <th>Y/A</th>\n",
       "      <th>AY/A</th>\n",
       "      <th>ANY/A</th>\n",
       "      <th>Y/C</th>\n",
       "      <th>Succ%</th>\n",
       "      <th>Pos.</th>\n",
       "    </tr>\n",
       "  </thead>\n",
       "  <tbody>\n",
       "    <tr>\n",
       "      <th>0</th>\n",
       "      <td>Joseph Addai</td>\n",
       "      <td>158.3</td>\n",
       "      <td>1</td>\n",
       "      <td>Sun</td>\n",
       "      <td>7</td>\n",
       "      <td>8</td>\n",
       "      <td>2009-11-01</td>\n",
       "      <td>26-182</td>\n",
       "      <td>IND</td>\n",
       "      <td>Home</td>\n",
       "      <td>...</td>\n",
       "      <td>158.3</td>\n",
       "      <td>0</td>\n",
       "      <td>0</td>\n",
       "      <td>0.00</td>\n",
       "      <td>22.0</td>\n",
       "      <td>42.0</td>\n",
       "      <td>42.00</td>\n",
       "      <td>22.0</td>\n",
       "      <td>100.0</td>\n",
       "      <td>RB</td>\n",
       "    </tr>\n",
       "    <tr>\n",
       "      <th>1</th>\n",
       "      <td>David Akers</td>\n",
       "      <td>158.3</td>\n",
       "      <td>1</td>\n",
       "      <td>Sun</td>\n",
       "      <td>16</td>\n",
       "      <td>17</td>\n",
       "      <td>2012-01-01</td>\n",
       "      <td>37-023</td>\n",
       "      <td>SFO</td>\n",
       "      <td>Away</td>\n",
       "      <td>...</td>\n",
       "      <td>158.3</td>\n",
       "      <td>0</td>\n",
       "      <td>0</td>\n",
       "      <td>0.00</td>\n",
       "      <td>14.0</td>\n",
       "      <td>34.0</td>\n",
       "      <td>34.00</td>\n",
       "      <td>14.0</td>\n",
       "      <td>100.0</td>\n",
       "      <td>K</td>\n",
       "    </tr>\n",
       "    <tr>\n",
       "      <th>2</th>\n",
       "      <td>Josh Allen</td>\n",
       "      <td>158.3</td>\n",
       "      <td>25</td>\n",
       "      <td>Sun</td>\n",
       "      <td>4</td>\n",
       "      <td>4</td>\n",
       "      <td>2023-10-01</td>\n",
       "      <td>27-133</td>\n",
       "      <td>BUF</td>\n",
       "      <td>Home</td>\n",
       "      <td>...</td>\n",
       "      <td>158.3</td>\n",
       "      <td>2</td>\n",
       "      <td>10</td>\n",
       "      <td>7.41</td>\n",
       "      <td>12.8</td>\n",
       "      <td>16.0</td>\n",
       "      <td>14.44</td>\n",
       "      <td>15.2</td>\n",
       "      <td>74.1</td>\n",
       "      <td>QB</td>\n",
       "    </tr>\n",
       "    <tr>\n",
       "      <th>3</th>\n",
       "      <td>Keenan Allen</td>\n",
       "      <td>158.3</td>\n",
       "      <td>1</td>\n",
       "      <td>Sun</td>\n",
       "      <td>3</td>\n",
       "      <td>3</td>\n",
       "      <td>2023-09-24</td>\n",
       "      <td>31-150</td>\n",
       "      <td>LAC</td>\n",
       "      <td>Away</td>\n",
       "      <td>...</td>\n",
       "      <td>158.3</td>\n",
       "      <td>0</td>\n",
       "      <td>0</td>\n",
       "      <td>0.00</td>\n",
       "      <td>49.0</td>\n",
       "      <td>69.0</td>\n",
       "      <td>69.00</td>\n",
       "      <td>49.0</td>\n",
       "      <td>100.0</td>\n",
       "      <td>WR</td>\n",
       "    </tr>\n",
       "    <tr>\n",
       "      <th>4</th>\n",
       "      <td>Danny Amendola</td>\n",
       "      <td>158.3</td>\n",
       "      <td>1</td>\n",
       "      <td>Thu</td>\n",
       "      <td>8</td>\n",
       "      <td>8</td>\n",
       "      <td>2018-10-25</td>\n",
       "      <td>32-357</td>\n",
       "      <td>MIA</td>\n",
       "      <td>Away</td>\n",
       "      <td>...</td>\n",
       "      <td>158.3</td>\n",
       "      <td>0</td>\n",
       "      <td>0</td>\n",
       "      <td>0.00</td>\n",
       "      <td>28.0</td>\n",
       "      <td>48.0</td>\n",
       "      <td>48.00</td>\n",
       "      <td>28.0</td>\n",
       "      <td>100.0</td>\n",
       "      <td>WR</td>\n",
       "    </tr>\n",
       "  </tbody>\n",
       "</table>\n",
       "<p>5 rows × 32 columns</p>\n",
       "</div>"
      ],
      "text/plain": [
       "           Player   Rate  Att  Day  G#  Week        Date     Age Team  \\\n",
       "0    Joseph Addai  158.3    1  Sun   7     8  2009-11-01  26-182  IND   \n",
       "1     David Akers  158.3    1  Sun  16    17  2012-01-01  37-023  SFO   \n",
       "2      Josh Allen  158.3   25  Sun   4     4  2023-10-01  27-133  BUF   \n",
       "3    Keenan Allen  158.3    1  Sun   3     3  2023-09-24  31-150  LAC   \n",
       "4  Danny Amendola  158.3    1  Thu   8     8  2018-10-25  32-357  MIA   \n",
       "\n",
       "  Game_Location  ...   Rate Sk  Yds   Sk%   Y/A  AY/A  ANY/A   Y/C  Succ%  \\\n",
       "0          Home  ...  158.3  0    0  0.00  22.0  42.0  42.00  22.0  100.0   \n",
       "1          Away  ...  158.3  0    0  0.00  14.0  34.0  34.00  14.0  100.0   \n",
       "2          Home  ...  158.3  2   10  7.41  12.8  16.0  14.44  15.2   74.1   \n",
       "3          Away  ...  158.3  0    0  0.00  49.0  69.0  69.00  49.0  100.0   \n",
       "4          Away  ...  158.3  0    0  0.00  28.0  48.0  48.00  28.0  100.0   \n",
       "\n",
       "   Pos.  \n",
       "0    RB  \n",
       "1     K  \n",
       "2    QB  \n",
       "3    WR  \n",
       "4    WR  \n",
       "\n",
       "[5 rows x 32 columns]"
      ]
     },
     "execution_count": 30,
     "metadata": {},
     "output_type": "execute_result"
    }
   ],
   "source": [
    "df.head()"
   ]
  },
  {
   "cell_type": "code",
   "execution_count": 29,
   "id": "aaadf71d",
   "metadata": {},
   "outputs": [],
   "source": [
    "# Home vs. Away game location\n",
    "df['Game_Location'] = np.where(df['Game_Location'] == 'game_location', 'Home', 'Away')"
   ]
  },
  {
   "cell_type": "code",
   "execution_count": 31,
   "id": "eec0dc4e",
   "metadata": {},
   "outputs": [],
   "source": [
    "# Remove non-quarterbacks\n",
    "df = df[df['Pos.'] == 'QB']"
   ]
  },
  {
   "cell_type": "code",
   "execution_count": 32,
   "id": "8848b8c0",
   "metadata": {},
   "outputs": [
    {
     "data": {
      "text/plain": [
       "(11235, 32)"
      ]
     },
     "execution_count": 32,
     "metadata": {},
     "output_type": "execute_result"
    }
   ],
   "source": [
    "df.shape"
   ]
  },
  {
   "cell_type": "code",
   "execution_count": null,
   "id": "45daad5b",
   "metadata": {},
   "outputs": [],
   "source": []
  }
 ],
 "metadata": {
  "kernelspec": {
   "display_name": "Python 3 (ipykernel)",
   "language": "python",
   "name": "python3"
  },
  "language_info": {
   "codemirror_mode": {
    "name": "ipython",
    "version": 3
   },
   "file_extension": ".py",
   "mimetype": "text/x-python",
   "name": "python",
   "nbconvert_exporter": "python",
   "pygments_lexer": "ipython3",
   "version": "3.10.9"
  }
 },
 "nbformat": 4,
 "nbformat_minor": 5
}
