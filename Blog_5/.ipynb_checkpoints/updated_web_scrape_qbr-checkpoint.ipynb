{
 "cells": [
  {
   "cell_type": "markdown",
   "metadata": {},
   "source": [
    "# Webscraping ESPN.com for Quarterback Rating (QBR) Statistics\n",
    "## By: Nick Bruno"
   ]
  },
  {
   "cell_type": "markdown",
   "metadata": {},
   "source": [
    "### Import Libraries"
   ]
  },
  {
   "cell_type": "code",
   "execution_count": 1,
   "metadata": {},
   "outputs": [],
   "source": [
    "import pandas as pd\n",
    "import re\n",
    "import requests\n",
    "import numpy as np\n",
    "import warnings\n",
    "warnings.filterwarnings(\"ignore\")"
   ]
  },
  {
   "cell_type": "code",
   "execution_count": 2,
   "metadata": {},
   "outputs": [],
   "source": [
    "# Reworking script to use selenium\n",
    "from selenium import webdriver\n",
    "from selenium.webdriver.chrome.options import Options\n",
    "from selenium.webdriver.common.by import By\n",
    "from selenium.webdriver.support.ui import WebDriverWait\n",
    "from selenium.webdriver.support import expected_conditions as EC"
   ]
  },
  {
   "cell_type": "markdown",
   "metadata": {},
   "source": [
    "### Set Driver"
   ]
  },
  {
   "cell_type": "code",
   "execution_count": 3,
   "metadata": {},
   "outputs": [],
   "source": [
    "# Set driver options\n",
    "options = Options()\n",
    "options.add_argument('--headless')\n",
    "driver = webdriver.Chrome(options=options)"
   ]
  },
  {
   "cell_type": "markdown",
   "metadata": {},
   "source": [
    "## 2023 Regular Season Example"
   ]
  },
  {
   "cell_type": "code",
   "execution_count": 8,
   "metadata": {},
   "outputs": [],
   "source": [
    "url = \"https://www.espn.com/nfl/qbr/_/season/2023/seasontype/2\"\n",
    "driver.get(url)"
   ]
  },
  {
   "cell_type": "code",
   "execution_count": 9,
   "metadata": {},
   "outputs": [],
   "source": [
    "# table[0] shows rank and name and table[1] shows all of the stats\n",
    "tables = driver.find_elements(By.CSS_SELECTOR, \"table\")"
   ]
  },
  {
   "cell_type": "code",
   "execution_count": 10,
   "metadata": {},
   "outputs": [],
   "source": [
    "# QB Name table\n",
    "rows = tables[0].find_elements(By.CSS_SELECTOR, \"tbody tr\")\n",
    "data = []\n",
    "for row in rows:  # skip first header row\n",
    "    cells = row.find_elements(By.TAG_NAME, \"td\")\n",
    "    if cells:\n",
    "        data.append([cell.text.strip() for cell in cells])\n",
    "df1 = pd.DataFrame(data)\n",
    "df1.columns = ['SEASON_RANK','NAME']\n",
    "df1[['NAME', 'TEAM']] = df1.NAME.str.split('\\n', expand=True)"
   ]
  },
  {
   "cell_type": "code",
   "execution_count": 11,
   "metadata": {},
   "outputs": [],
   "source": [
    "# Stats table\n",
    "rows = tables[1].find_elements(By.CSS_SELECTOR, \"tbody tr\")\n",
    "data = []\n",
    "for row in rows:  # skip first header row\n",
    "    cells = row.find_elements(By.TAG_NAME, \"td\")\n",
    "    if cells:\n",
    "        data.append([cell.text.strip() for cell in cells])\n",
    "df2 = pd.DataFrame(data)\n",
    "df2.columns = ['QBR','PAA','PLAYS','EPA','PASS','RUN','SACK','PEN','RAW']"
   ]
  },
  {
   "cell_type": "code",
   "execution_count": 12,
   "metadata": {},
   "outputs": [],
   "source": [
    "df = pd.concat([df1,df2],axis=1)"
   ]
  },
  {
   "cell_type": "code",
   "execution_count": 14,
   "metadata": {},
   "outputs": [
    {
     "data": {
      "text/html": [
       "<div>\n",
       "<style scoped>\n",
       "    .dataframe tbody tr th:only-of-type {\n",
       "        vertical-align: middle;\n",
       "    }\n",
       "\n",
       "    .dataframe tbody tr th {\n",
       "        vertical-align: top;\n",
       "    }\n",
       "\n",
       "    .dataframe thead th {\n",
       "        text-align: right;\n",
       "    }\n",
       "</style>\n",
       "<table border=\"1\" class=\"dataframe\">\n",
       "  <thead>\n",
       "    <tr style=\"text-align: right;\">\n",
       "      <th></th>\n",
       "      <th>SEASON_RANK</th>\n",
       "      <th>NAME</th>\n",
       "      <th>TEAM</th>\n",
       "      <th>QBR</th>\n",
       "      <th>PAA</th>\n",
       "      <th>PLAYS</th>\n",
       "      <th>EPA</th>\n",
       "      <th>PASS</th>\n",
       "      <th>RUN</th>\n",
       "      <th>SACK</th>\n",
       "      <th>PEN</th>\n",
       "      <th>RAW</th>\n",
       "    </tr>\n",
       "  </thead>\n",
       "  <tbody>\n",
       "    <tr>\n",
       "      <th>0</th>\n",
       "      <td>1</td>\n",
       "      <td>B. Purdy</td>\n",
       "      <td>SF</td>\n",
       "      <td>73.4</td>\n",
       "      <td>37.2</td>\n",
       "      <td>530</td>\n",
       "      <td>76.9</td>\n",
       "      <td>66.8</td>\n",
       "      <td>9.1</td>\n",
       "      <td>-10.2</td>\n",
       "      <td>1.0</td>\n",
       "      <td>73.0</td>\n",
       "    </tr>\n",
       "    <tr>\n",
       "      <th>1</th>\n",
       "      <td>2</td>\n",
       "      <td>D. Prescott</td>\n",
       "      <td>DAL</td>\n",
       "      <td>73.4</td>\n",
       "      <td>57.0</td>\n",
       "      <td>724</td>\n",
       "      <td>106.7</td>\n",
       "      <td>91.6</td>\n",
       "      <td>10.6</td>\n",
       "      <td>-16.3</td>\n",
       "      <td>4.5</td>\n",
       "      <td>75.3</td>\n",
       "    </tr>\n",
       "  </tbody>\n",
       "</table>\n",
       "</div>"
      ],
      "text/plain": [
       "  SEASON_RANK         NAME TEAM   QBR   PAA PLAYS    EPA  PASS   RUN   SACK  \\\n",
       "0           1     B. Purdy   SF  73.4  37.2   530   76.9  66.8   9.1  -10.2   \n",
       "1           2  D. Prescott  DAL  73.4  57.0   724  106.7  91.6  10.6  -16.3   \n",
       "\n",
       "   PEN   RAW  \n",
       "0  1.0  73.0  \n",
       "1  4.5  75.3  "
      ]
     },
     "execution_count": 14,
     "metadata": {},
     "output_type": "execute_result"
    }
   ],
   "source": [
    "df.head(2)"
   ]
  },
  {
   "cell_type": "markdown",
   "metadata": {},
   "source": [
    "This works. Now we need to add a loop for years (2006-2024) and season_type (2 and 3). Season type = 2 represents the regular season and season type = 3 represents the postseason. Note: 2024 does not include the year in the URL since it is the most current season."
   ]
  },
  {
   "cell_type": "markdown",
   "metadata": {},
   "source": [
    "## Scrape season summary QBR Stats"
   ]
  },
  {
   "cell_type": "code",
   "execution_count": 4,
   "metadata": {},
   "outputs": [],
   "source": [
    "def scrape_qbr_season(url):\n",
    "    # Get driver\n",
    "    driver.get(url)\n",
    "    \n",
    "    # Find the two tables in the web-page that make up the one QBR table\n",
    "    tables = driver.find_elements(By.CSS_SELECTOR, \"table\")\n",
    "    \n",
    "    # Scrape the \"QB Names\" section of the table (tables[0])\n",
    "    rows = tables[0].find_elements(By.CSS_SELECTOR, \"tbody tr\")\n",
    "    data = []\n",
    "    for row in rows:  # skip first header row\n",
    "        cells = row.find_elements(By.TAG_NAME, \"td\")\n",
    "        if cells:\n",
    "            data.append([cell.text.strip() for cell in cells])\n",
    "    df1 = pd.DataFrame(data)\n",
    "    df1.columns = ['SEASON_RANK','NAME']\n",
    "    df1[['NAME', 'TEAM']] = df1.NAME.str.split('\\n', expand=True)\n",
    "    \n",
    "    # Scrape the QBR Data from the second part of the QBR table (tables[1])\n",
    "    rows = tables[1].find_elements(By.CSS_SELECTOR, \"tbody tr\")\n",
    "    data = []\n",
    "    for row in rows:  # skip first header row\n",
    "        cells = row.find_elements(By.TAG_NAME, \"td\")\n",
    "        if cells:\n",
    "            data.append([cell.text.strip() for cell in cells])\n",
    "    df2 = pd.DataFrame(data)\n",
    "    df2.columns = ['QBR','PAA','PLAYS','EPA','PASS','RUN','SACK','PEN','RAW']\n",
    "    \n",
    "    # Concatenate df1 and df2 into one dataframe\n",
    "    df = pd.concat([df1,df2],axis=1)\n",
    "    \n",
    "    # Add Columns for Year and Season Type\n",
    "    df['YEAR'] = url.split('/')[-3]\n",
    "    df['SEASON_TYPE'] = np.where(url.split('/')[-1] == '2', 'REGULAR','POST')\n",
    "    \n",
    "    return df"
   ]
  },
  {
   "cell_type": "code",
   "execution_count": 6,
   "metadata": {},
   "outputs": [],
   "source": [
    "seasons_df = pd.DataFrame()\n",
    "for year in range(2006,2024):\n",
    "    for season_type in ['2','3']:\n",
    "        url = \"https://www.espn.com/nfl/qbr/_/season/{}/seasontype/{}\".format(str(year),season_type)\n",
    "        df = scrape_qbr_season(url)\n",
    "        seasons_df = pd.concat([seasons_df,df])"
   ]
  },
  {
   "cell_type": "code",
   "execution_count": 9,
   "metadata": {},
   "outputs": [],
   "source": [
    "# Add 2024 data (doesn't include the 'year' in the url)\n",
    "for season_type in ['2','3']:\n",
    "    url = \"https://www.espn.com/nfl/qbr/_/seasontype/{}\".format(season_type)\n",
    "    df = scrape_qbr_season(url)\n",
    "    seasons_df = pd.concat([seasons_df,df])"
   ]
  },
  {
   "cell_type": "code",
   "execution_count": 10,
   "metadata": {},
   "outputs": [
    {
     "data": {
      "text/plain": [
       "(821, 14)"
      ]
     },
     "execution_count": 10,
     "metadata": {},
     "output_type": "execute_result"
    }
   ],
   "source": [
    "seasons_df.shape"
   ]
  },
  {
   "cell_type": "code",
   "execution_count": 11,
   "metadata": {},
   "outputs": [
    {
     "data": {
      "text/html": [
       "<div>\n",
       "<style scoped>\n",
       "    .dataframe tbody tr th:only-of-type {\n",
       "        vertical-align: middle;\n",
       "    }\n",
       "\n",
       "    .dataframe tbody tr th {\n",
       "        vertical-align: top;\n",
       "    }\n",
       "\n",
       "    .dataframe thead th {\n",
       "        text-align: right;\n",
       "    }\n",
       "</style>\n",
       "<table border=\"1\" class=\"dataframe\">\n",
       "  <thead>\n",
       "    <tr style=\"text-align: right;\">\n",
       "      <th></th>\n",
       "      <th>SEASON_RANK</th>\n",
       "      <th>NAME</th>\n",
       "      <th>TEAM</th>\n",
       "      <th>QBR</th>\n",
       "      <th>PAA</th>\n",
       "      <th>PLAYS</th>\n",
       "      <th>EPA</th>\n",
       "      <th>PASS</th>\n",
       "      <th>RUN</th>\n",
       "      <th>SACK</th>\n",
       "      <th>PEN</th>\n",
       "      <th>RAW</th>\n",
       "      <th>YEAR</th>\n",
       "      <th>SEASON_TYPE</th>\n",
       "    </tr>\n",
       "  </thead>\n",
       "  <tbody>\n",
       "    <tr>\n",
       "      <th>0</th>\n",
       "      <td>1</td>\n",
       "      <td>P. Manning</td>\n",
       "      <td>IND</td>\n",
       "      <td>86.4</td>\n",
       "      <td>85.5</td>\n",
       "      <td>624</td>\n",
       "      <td>108.8</td>\n",
       "      <td>96.0</td>\n",
       "      <td>6.8</td>\n",
       "      <td>-5.0</td>\n",
       "      <td>1.1</td>\n",
       "      <td>87.4</td>\n",
       "      <td>2006</td>\n",
       "      <td>REGULAR</td>\n",
       "    </tr>\n",
       "    <tr>\n",
       "      <th>1</th>\n",
       "      <td>2</td>\n",
       "      <td>T. Brady</td>\n",
       "      <td>NE</td>\n",
       "      <td>68.6</td>\n",
       "      <td>30.9</td>\n",
       "      <td>610</td>\n",
       "      <td>57.9</td>\n",
       "      <td>38.8</td>\n",
       "      <td>4.3</td>\n",
       "      <td>-12.0</td>\n",
       "      <td>2.8</td>\n",
       "      <td>67.2</td>\n",
       "      <td>2006</td>\n",
       "      <td>REGULAR</td>\n",
       "    </tr>\n",
       "  </tbody>\n",
       "</table>\n",
       "</div>"
      ],
      "text/plain": [
       "  SEASON_RANK        NAME TEAM   QBR   PAA PLAYS    EPA  PASS  RUN   SACK  \\\n",
       "0           1  P. Manning  IND  86.4  85.5   624  108.8  96.0  6.8   -5.0   \n",
       "1           2    T. Brady   NE  68.6  30.9   610   57.9  38.8  4.3  -12.0   \n",
       "\n",
       "   PEN   RAW  YEAR SEASON_TYPE  \n",
       "0  1.1  87.4  2006     REGULAR  \n",
       "1  2.8  67.2  2006     REGULAR  "
      ]
     },
     "execution_count": 11,
     "metadata": {},
     "output_type": "execute_result"
    }
   ],
   "source": [
    "seasons_df.head(2)"
   ]
  },
  {
   "cell_type": "code",
   "execution_count": 14,
   "metadata": {},
   "outputs": [],
   "source": [
    "# Write to .csv\n",
    "seasons_df.to_csv('./data/qbr_season_totals_df.csv', index=None)"
   ]
  },
  {
   "cell_type": "markdown",
   "metadata": {},
   "source": [
    "## Scrape Weekly Results"
   ]
  },
  {
   "cell_type": "markdown",
   "metadata": {},
   "source": [
    "### Regular Season Scrape"
   ]
  },
  {
   "cell_type": "markdown",
   "metadata": {},
   "source": [
    "##### 2006 - 2021 Scrape"
   ]
  },
  {
   "cell_type": "markdown",
   "metadata": {},
   "source": [
    "Necessary to split up because the NFL expanded to 18 weeks in the 2022 season. Season type = 2 remains consistent to look only at regular season games. We will need to adjust since the \"postseason\" weeks are labeled by name, not by number. The columns provided also includes the week number and the result of the game, so we will need to adjust the column names for that by creating a new function."
   ]
  },
  {
   "cell_type": "code",
   "execution_count": 15,
   "metadata": {},
   "outputs": [
    {
     "ename": "ValueError",
     "evalue": "Length mismatch: Expected axis has 11 elements, new values have 9 elements",
     "output_type": "error",
     "traceback": [
      "\u001b[0;31m---------------------------------------------------------------------------\u001b[0m",
      "\u001b[0;31mValueError\u001b[0m                                Traceback (most recent call last)",
      "Cell \u001b[0;32mIn[15], line 5\u001b[0m\n\u001b[1;32m      3\u001b[0m \u001b[38;5;28;01mfor\u001b[39;00m week \u001b[38;5;129;01min\u001b[39;00m \u001b[38;5;28mrange\u001b[39m(\u001b[38;5;241m1\u001b[39m, \u001b[38;5;241m18\u001b[39m):\n\u001b[1;32m      4\u001b[0m     url \u001b[38;5;241m=\u001b[39m \u001b[38;5;124m\"\u001b[39m\u001b[38;5;124mhttps://www.espn.com/nfl/qbr/_/view/weekly/season/\u001b[39m\u001b[38;5;132;01m{}\u001b[39;00m\u001b[38;5;124m/seasontype/2/week/\u001b[39m\u001b[38;5;132;01m{}\u001b[39;00m\u001b[38;5;124m\"\u001b[39m\u001b[38;5;241m.\u001b[39mformat(\u001b[38;5;28mstr\u001b[39m(year),\u001b[38;5;28mstr\u001b[39m(week))\n\u001b[0;32m----> 5\u001b[0m     df \u001b[38;5;241m=\u001b[39m \u001b[43mscrape_qbr_season\u001b[49m\u001b[43m(\u001b[49m\u001b[43murl\u001b[49m\u001b[43m)\u001b[49m\n\u001b[1;32m      6\u001b[0m     regular_seasons_weeks_df \u001b[38;5;241m=\u001b[39m pd\u001b[38;5;241m.\u001b[39mconcat([regular_seasons_weeks_df,df])\n",
      "Cell \u001b[0;32mIn[4], line 27\u001b[0m, in \u001b[0;36mscrape_qbr_season\u001b[0;34m(url)\u001b[0m\n\u001b[1;32m     25\u001b[0m         data\u001b[38;5;241m.\u001b[39mappend([cell\u001b[38;5;241m.\u001b[39mtext\u001b[38;5;241m.\u001b[39mstrip() \u001b[38;5;28;01mfor\u001b[39;00m cell \u001b[38;5;129;01min\u001b[39;00m cells])\n\u001b[1;32m     26\u001b[0m df2 \u001b[38;5;241m=\u001b[39m pd\u001b[38;5;241m.\u001b[39mDataFrame(data)\n\u001b[0;32m---> 27\u001b[0m df2\u001b[38;5;241m.\u001b[39mcolumns \u001b[38;5;241m=\u001b[39m [\u001b[38;5;124m'\u001b[39m\u001b[38;5;124mQBR\u001b[39m\u001b[38;5;124m'\u001b[39m,\u001b[38;5;124m'\u001b[39m\u001b[38;5;124mPAA\u001b[39m\u001b[38;5;124m'\u001b[39m,\u001b[38;5;124m'\u001b[39m\u001b[38;5;124mPLAYS\u001b[39m\u001b[38;5;124m'\u001b[39m,\u001b[38;5;124m'\u001b[39m\u001b[38;5;124mEPA\u001b[39m\u001b[38;5;124m'\u001b[39m,\u001b[38;5;124m'\u001b[39m\u001b[38;5;124mPASS\u001b[39m\u001b[38;5;124m'\u001b[39m,\u001b[38;5;124m'\u001b[39m\u001b[38;5;124mRUN\u001b[39m\u001b[38;5;124m'\u001b[39m,\u001b[38;5;124m'\u001b[39m\u001b[38;5;124mSACK\u001b[39m\u001b[38;5;124m'\u001b[39m,\u001b[38;5;124m'\u001b[39m\u001b[38;5;124mPEN\u001b[39m\u001b[38;5;124m'\u001b[39m,\u001b[38;5;124m'\u001b[39m\u001b[38;5;124mRAW\u001b[39m\u001b[38;5;124m'\u001b[39m]\n\u001b[1;32m     29\u001b[0m \u001b[38;5;66;03m# Concatenate df1 and df2 into one dataframe\u001b[39;00m\n\u001b[1;32m     30\u001b[0m df \u001b[38;5;241m=\u001b[39m pd\u001b[38;5;241m.\u001b[39mconcat([df1,df2],axis\u001b[38;5;241m=\u001b[39m\u001b[38;5;241m1\u001b[39m)\n",
      "File \u001b[0;32m~/anaconda3/lib/python3.10/site-packages/pandas/core/generic.py:5915\u001b[0m, in \u001b[0;36mNDFrame.__setattr__\u001b[0;34m(self, name, value)\u001b[0m\n\u001b[1;32m   5913\u001b[0m \u001b[38;5;28;01mtry\u001b[39;00m:\n\u001b[1;32m   5914\u001b[0m     \u001b[38;5;28mobject\u001b[39m\u001b[38;5;241m.\u001b[39m\u001b[38;5;21m__getattribute__\u001b[39m(\u001b[38;5;28mself\u001b[39m, name)\n\u001b[0;32m-> 5915\u001b[0m     \u001b[38;5;28;01mreturn\u001b[39;00m \u001b[38;5;28;43mobject\u001b[39;49m\u001b[38;5;241;43m.\u001b[39;49m\u001b[38;5;21;43m__setattr__\u001b[39;49m\u001b[43m(\u001b[49m\u001b[38;5;28;43mself\u001b[39;49m\u001b[43m,\u001b[49m\u001b[43m \u001b[49m\u001b[43mname\u001b[49m\u001b[43m,\u001b[49m\u001b[43m \u001b[49m\u001b[43mvalue\u001b[49m\u001b[43m)\u001b[49m\n\u001b[1;32m   5916\u001b[0m \u001b[38;5;28;01mexcept\u001b[39;00m \u001b[38;5;167;01mAttributeError\u001b[39;00m:\n\u001b[1;32m   5917\u001b[0m     \u001b[38;5;28;01mpass\u001b[39;00m\n",
      "File \u001b[0;32m~/anaconda3/lib/python3.10/site-packages/pandas/_libs/properties.pyx:69\u001b[0m, in \u001b[0;36mpandas._libs.properties.AxisProperty.__set__\u001b[0;34m()\u001b[0m\n",
      "File \u001b[0;32m~/anaconda3/lib/python3.10/site-packages/pandas/core/generic.py:823\u001b[0m, in \u001b[0;36mNDFrame._set_axis\u001b[0;34m(self, axis, labels)\u001b[0m\n\u001b[1;32m    821\u001b[0m \u001b[38;5;28;01mdef\u001b[39;00m \u001b[38;5;21m_set_axis\u001b[39m(\u001b[38;5;28mself\u001b[39m, axis: \u001b[38;5;28mint\u001b[39m, labels: AnyArrayLike \u001b[38;5;241m|\u001b[39m \u001b[38;5;28mlist\u001b[39m) \u001b[38;5;241m-\u001b[39m\u001b[38;5;241m>\u001b[39m \u001b[38;5;28;01mNone\u001b[39;00m:\n\u001b[1;32m    822\u001b[0m     labels \u001b[38;5;241m=\u001b[39m ensure_index(labels)\n\u001b[0;32m--> 823\u001b[0m     \u001b[38;5;28;43mself\u001b[39;49m\u001b[38;5;241;43m.\u001b[39;49m\u001b[43m_mgr\u001b[49m\u001b[38;5;241;43m.\u001b[39;49m\u001b[43mset_axis\u001b[49m\u001b[43m(\u001b[49m\u001b[43maxis\u001b[49m\u001b[43m,\u001b[49m\u001b[43m \u001b[49m\u001b[43mlabels\u001b[49m\u001b[43m)\u001b[49m\n\u001b[1;32m    824\u001b[0m     \u001b[38;5;28mself\u001b[39m\u001b[38;5;241m.\u001b[39m_clear_item_cache()\n",
      "File \u001b[0;32m~/anaconda3/lib/python3.10/site-packages/pandas/core/internals/managers.py:230\u001b[0m, in \u001b[0;36mBaseBlockManager.set_axis\u001b[0;34m(self, axis, new_labels)\u001b[0m\n\u001b[1;32m    228\u001b[0m \u001b[38;5;28;01mdef\u001b[39;00m \u001b[38;5;21mset_axis\u001b[39m(\u001b[38;5;28mself\u001b[39m, axis: \u001b[38;5;28mint\u001b[39m, new_labels: Index) \u001b[38;5;241m-\u001b[39m\u001b[38;5;241m>\u001b[39m \u001b[38;5;28;01mNone\u001b[39;00m:\n\u001b[1;32m    229\u001b[0m     \u001b[38;5;66;03m# Caller is responsible for ensuring we have an Index object.\u001b[39;00m\n\u001b[0;32m--> 230\u001b[0m     \u001b[38;5;28;43mself\u001b[39;49m\u001b[38;5;241;43m.\u001b[39;49m\u001b[43m_validate_set_axis\u001b[49m\u001b[43m(\u001b[49m\u001b[43maxis\u001b[49m\u001b[43m,\u001b[49m\u001b[43m \u001b[49m\u001b[43mnew_labels\u001b[49m\u001b[43m)\u001b[49m\n\u001b[1;32m    231\u001b[0m     \u001b[38;5;28mself\u001b[39m\u001b[38;5;241m.\u001b[39maxes[axis] \u001b[38;5;241m=\u001b[39m new_labels\n",
      "File \u001b[0;32m~/anaconda3/lib/python3.10/site-packages/pandas/core/internals/base.py:70\u001b[0m, in \u001b[0;36mDataManager._validate_set_axis\u001b[0;34m(self, axis, new_labels)\u001b[0m\n\u001b[1;32m     67\u001b[0m     \u001b[38;5;28;01mpass\u001b[39;00m\n\u001b[1;32m     69\u001b[0m \u001b[38;5;28;01melif\u001b[39;00m new_len \u001b[38;5;241m!=\u001b[39m old_len:\n\u001b[0;32m---> 70\u001b[0m     \u001b[38;5;28;01mraise\u001b[39;00m \u001b[38;5;167;01mValueError\u001b[39;00m(\n\u001b[1;32m     71\u001b[0m         \u001b[38;5;124mf\u001b[39m\u001b[38;5;124m\"\u001b[39m\u001b[38;5;124mLength mismatch: Expected axis has \u001b[39m\u001b[38;5;132;01m{\u001b[39;00mold_len\u001b[38;5;132;01m}\u001b[39;00m\u001b[38;5;124m elements, new \u001b[39m\u001b[38;5;124m\"\u001b[39m\n\u001b[1;32m     72\u001b[0m         \u001b[38;5;124mf\u001b[39m\u001b[38;5;124m\"\u001b[39m\u001b[38;5;124mvalues have \u001b[39m\u001b[38;5;132;01m{\u001b[39;00mnew_len\u001b[38;5;132;01m}\u001b[39;00m\u001b[38;5;124m elements\u001b[39m\u001b[38;5;124m\"\u001b[39m\n\u001b[1;32m     73\u001b[0m     )\n",
      "\u001b[0;31mValueError\u001b[0m: Length mismatch: Expected axis has 11 elements, new values have 9 elements"
     ]
    }
   ],
   "source": [
    "regular_seasons_weeks_df = pd.DataFrame()\n",
    "for year in range(2006,2024):\n",
    "    for week in range(1, 18):\n",
    "        url = \"https://www.espn.com/nfl/qbr/_/view/weekly/season/{}/seasontype/2/week/{}\".format(str(year),str(week))\n",
    "        df = scrape_qbr_season(url)\n",
    "        regular_seasons_weeks_df = pd.concat([regular_seasons_weeks_df,df])"
   ]
  },
  {
   "cell_type": "code",
   "execution_count": null,
   "metadata": {},
   "outputs": [],
   "source": [
    "https://www.espn.com/nfl/qbr/_/view/weekly/season/2023/seasontype/2/week/1"
   ]
  },
  {
   "cell_type": "code",
   "execution_count": null,
   "metadata": {},
   "outputs": [],
   "source": []
  },
  {
   "cell_type": "code",
   "execution_count": null,
   "metadata": {},
   "outputs": [],
   "source": [
    "https://www.espn.com/nfl/qbr/_/view/weekly/season/2023/seasontype/2"
   ]
  },
  {
   "cell_type": "markdown",
   "metadata": {},
   "source": [
    "### Summary"
   ]
  },
  {
   "cell_type": "markdown",
   "metadata": {},
   "source": [
    "This Jupyter Notebook has showed how to scrape NFL Quarterback QBR statistics from ESPN.com. I have presented multiple functions that scrape season total QBR stats as well as weekly QBR stats. This scraping was done in an effort to compare QBR stats with the Passer Rating metric, and this analysis will be conducted in a future blog post on btc.bashingbitcoin.com. Gathering the data is the first step in this analysis process. The scraped ESPN data will be combined with the Quarterback Rating statistics scraped from pro-football-reference.com that was accomplished in an earlier blog post."
   ]
  },
  {
   "cell_type": "code",
   "execution_count": null,
   "metadata": {},
   "outputs": [],
   "source": []
  }
 ],
 "metadata": {
  "kernelspec": {
   "display_name": "Python 3 (ipykernel)",
   "language": "python",
   "name": "python3"
  },
  "language_info": {
   "codemirror_mode": {
    "name": "ipython",
    "version": 3
   },
   "file_extension": ".py",
   "mimetype": "text/x-python",
   "name": "python",
   "nbconvert_exporter": "python",
   "pygments_lexer": "ipython3",
   "version": "3.10.9"
  }
 },
 "nbformat": 4,
 "nbformat_minor": 2
}
