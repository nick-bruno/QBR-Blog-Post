{
 "cells": [
  {
   "cell_type": "code",
   "execution_count": 1,
   "id": "bf31f759",
   "metadata": {},
   "outputs": [],
   "source": [
    "import pandas as pd\n",
    "import re\n",
    "import requests\n",
    "import numpy as np\n",
    "import warnings\n",
    "warnings.filterwarnings(\"ignore\")"
   ]
  },
  {
   "cell_type": "code",
   "execution_count": 2,
   "id": "5e1d44d7",
   "metadata": {},
   "outputs": [],
   "source": [
    "# Reworking script to use selenium\n",
    "from selenium import webdriver\n",
    "from selenium.webdriver.chrome.options import Options\n",
    "from selenium.webdriver.common.by import By\n",
    "from selenium.webdriver.support.ui import WebDriverWait\n",
    "from selenium.webdriver.support import expected_conditions as EC"
   ]
  },
  {
   "cell_type": "code",
   "execution_count": 3,
   "id": "d8314400",
   "metadata": {},
   "outputs": [],
   "source": [
    "# Set driver options\n",
    "options = Options()\n",
    "options.add_argument('--headless')\n",
    "driver = webdriver.Chrome(options=options)"
   ]
  },
  {
   "cell_type": "markdown",
   "id": "8ad09511",
   "metadata": {},
   "source": [
    "### 2006 Example"
   ]
  },
  {
   "cell_type": "code",
   "execution_count": 4,
   "id": "58126d47",
   "metadata": {},
   "outputs": [],
   "source": [
    "url = \"https://www.pro-football-reference.com/years/2006/passing.htm#\"\n",
    "driver.get(url)"
   ]
  },
  {
   "cell_type": "code",
   "execution_count": 8,
   "id": "35151f0b",
   "metadata": {},
   "outputs": [],
   "source": [
    "table = driver.find_element(By.ID, \"passing\")"
   ]
  },
  {
   "cell_type": "code",
   "execution_count": 6,
   "id": "7997c818",
   "metadata": {},
   "outputs": [],
   "source": [
    "header_elems = table.find_elements(By.CSS_SELECTOR, \"thead tr th\")\n",
    "headers = [h.text.strip() for h in header_elems]"
   ]
  },
  {
   "cell_type": "code",
   "execution_count": 11,
   "id": "7e22b107",
   "metadata": {},
   "outputs": [],
   "source": [
    "# QB Name table\n",
    "rows = table.find_elements(By.CSS_SELECTOR, \"tbody tr\")\n",
    "data = []\n",
    "for row in rows:  # skip first header row\n",
    "    cells = row.find_elements(By.TAG_NAME, \"td\")\n",
    "    if cells:\n",
    "        data.append([cell.text.strip() for cell in cells])\n",
    "df1 = pd.DataFrame(data)"
   ]
  },
  {
   "cell_type": "code",
   "execution_count": 15,
   "id": "f83843c4",
   "metadata": {},
   "outputs": [],
   "source": [
    "df1.columns = headers[1:]"
   ]
  },
  {
   "cell_type": "markdown",
   "id": "2a16d583",
   "metadata": {},
   "source": [
    "## Scrape Season Totals"
   ]
  },
  {
   "cell_type": "markdown",
   "id": "1ea37ae5",
   "metadata": {},
   "source": [
    "##### Find Headers"
   ]
  },
  {
   "cell_type": "code",
   "execution_count": 13,
   "id": "94286e3b",
   "metadata": {},
   "outputs": [],
   "source": [
    "url = \"https://www.pro-football-reference.com/years/2006/passing.htm#\"\n",
    "driver.get(url)\n",
    "\n",
    "table = driver.find_element(By.ID, \"passing\")\n",
    "\n",
    "header_elems = table.find_elements(By.CSS_SELECTOR, \"thead tr th\")\n",
    "headers = [h.text.strip() for h in header_elems]"
   ]
  },
  {
   "cell_type": "markdown",
   "id": "afe3e0d4",
   "metadata": {},
   "source": [
    "##### Loop through regular seasons from 2006 - 2024"
   ]
  },
  {
   "cell_type": "code",
   "execution_count": 10,
   "id": "4d2df607",
   "metadata": {},
   "outputs": [],
   "source": [
    "regular_season_totals = pd.DataFrame()\n",
    "for year in range(2006, 2025):\n",
    "    url = \"https://www.pro-football-reference.com/years/{}/passing.htm#\".format(str(year))\n",
    "    driver.get(url)\n",
    "    table = driver.find_element(By.ID, \"passing\")\n",
    "    \n",
    "\n",
    "    rows = table.find_elements(By.CSS_SELECTOR, \"tbody tr\")\n",
    "    data = []\n",
    "    for row in rows:  # skip first header row\n",
    "        cells = row.find_elements(By.TAG_NAME, \"td\")\n",
    "        if cells:\n",
    "            data.append([cell.text.strip() for cell in cells])\n",
    "    df = pd.DataFrame(data)\n",
    "    df[len(df.columns)] = year\n",
    "    \n",
    "    regular_season_totals = pd.concat([regular_season_totals,df])"
   ]
  },
  {
   "cell_type": "code",
   "execution_count": 14,
   "id": "896e0c08",
   "metadata": {},
   "outputs": [],
   "source": [
    "regular_season_totals.columns = headers[1:] + ['Year']"
   ]
  },
  {
   "cell_type": "code",
   "execution_count": 14,
   "id": "dcc601f2",
   "metadata": {},
   "outputs": [],
   "source": [
    "#regular_season_totals.to_csv('pfr_regular_season_totals_df.csv', index=None)"
   ]
  },
  {
   "cell_type": "markdown",
   "id": "e22a24f1",
   "metadata": {},
   "source": [
    "##### (Skipping for now) Loop through playoff seasons from 2006 - 2024"
   ]
  },
  {
   "cell_type": "code",
   "execution_count": 26,
   "id": "0d64a457",
   "metadata": {},
   "outputs": [],
   "source": [
    "url = \"https://www.pro-football-reference.com/years/{}/passing.htm#\".format(str(year))\n",
    "driver.get(url)\n",
    "table = driver.find_element(By.ID, \"passing_post\") # this should work but isn't"
   ]
  },
  {
   "cell_type": "code",
   "execution_count": 27,
   "id": "52d5a5e1",
   "metadata": {},
   "outputs": [
    {
     "data": {
      "text/plain": [
       "<selenium.webdriver.remote.webelement.WebElement (session=\"72603bf97985c5b5f930063cebd603d8\", element=\"f.4E89BADD9D5A03F7D8A3917924104BF2.d.44FCEFBCB8E1BCBB74FF7A9C818BE05B.e.76846\")>"
      ]
     },
     "execution_count": 27,
     "metadata": {},
     "output_type": "execute_result"
    }
   ],
   "source": [
    "table"
   ]
  },
  {
   "cell_type": "code",
   "execution_count": 28,
   "id": "201f13b7",
   "metadata": {},
   "outputs": [],
   "source": [
    "header_elems = table.find_elements(By.CSS_SELECTOR, \"thead tr th\")\n",
    "headers = [h.text.strip() for h in header_elems]"
   ]
  },
  {
   "cell_type": "code",
   "execution_count": 49,
   "id": "866f0594",
   "metadata": {},
   "outputs": [],
   "source": [
    "rows = table.find_elements(By.CSS_SELECTOR, \"tbody tr td\")"
   ]
  },
  {
   "cell_type": "code",
   "execution_count": 50,
   "id": "fb7cc5d8",
   "metadata": {},
   "outputs": [
    {
     "data": {
      "text/plain": [
       "682"
      ]
     },
     "execution_count": 50,
     "metadata": {},
     "output_type": "execute_result"
    }
   ],
   "source": [
    "len(rows)"
   ]
  },
  {
   "cell_type": "code",
   "execution_count": 51,
   "id": "439c80d4",
   "metadata": {},
   "outputs": [
    {
     "data": {
      "text/plain": [
       "<selenium.webdriver.remote.webelement.WebElement (session=\"72603bf97985c5b5f930063cebd603d8\", element=\"f.4E89BADD9D5A03F7D8A3917924104BF2.d.44FCEFBCB8E1BCBB74FF7A9C818BE05B.e.76869\")>"
      ]
     },
     "execution_count": 51,
     "metadata": {},
     "output_type": "execute_result"
    }
   ],
   "source": [
    "rows[0]"
   ]
  },
  {
   "cell_type": "code",
   "execution_count": 17,
   "id": "54593cb8",
   "metadata": {},
   "outputs": [],
   "source": [
    "post_season_totals = pd.DataFrame()\n",
    "for year in range(2006, 2025):\n",
    "    url = \"https://www.pro-football-reference.com/years/{}/passing.htm#\".format(str(year))\n",
    "    driver.get(url)\n",
    "    table = driver.find_element(By.ID, \"passing_post\")\n",
    "    \n",
    "\n",
    "    rows = table.find_elements(By.CSS_SELECTOR, \"tbody tr\")\n",
    "    data = []\n",
    "    for row in rows:  # skip first header row\n",
    "        cells = row.find_elements(By.TAG_NAME, \"td\")\n",
    "        if cells:\n",
    "            data.append([cell.text.strip() for cell in cells])\n",
    "    df = pd.DataFrame(data)\n",
    "    df[len(df.columns)] = year\n",
    "    \n",
    "    post_season_totals = pd.concat([post_season_totals,df])"
   ]
  },
  {
   "cell_type": "code",
   "execution_count": null,
   "id": "f7049fea",
   "metadata": {},
   "outputs": [],
   "source": []
  }
 ],
 "metadata": {
  "kernelspec": {
   "display_name": "Python 3 (ipykernel)",
   "language": "python",
   "name": "python3"
  },
  "language_info": {
   "codemirror_mode": {
    "name": "ipython",
    "version": 3
   },
   "file_extension": ".py",
   "mimetype": "text/x-python",
   "name": "python",
   "nbconvert_exporter": "python",
   "pygments_lexer": "ipython3",
   "version": "3.10.9"
  }
 },
 "nbformat": 4,
 "nbformat_minor": 5
}
