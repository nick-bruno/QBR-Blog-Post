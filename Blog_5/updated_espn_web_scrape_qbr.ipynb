{
 "cells": [
  {
   "cell_type": "markdown",
   "metadata": {},
   "source": [
    "# Webscraping ESPN.com for Quarterback Rating (QBR) Statistics\n",
    "## By: Nick Bruno"
   ]
  },
  {
   "cell_type": "markdown",
   "metadata": {},
   "source": [
    "### Import Libraries"
   ]
  },
  {
   "cell_type": "code",
   "execution_count": 1,
   "metadata": {},
   "outputs": [],
   "source": [
    "import pandas as pd\n",
    "import re\n",
    "import requests\n",
    "import numpy as np\n",
    "import warnings\n",
    "warnings.filterwarnings(\"ignore\")"
   ]
  },
  {
   "cell_type": "code",
   "execution_count": 2,
   "metadata": {},
   "outputs": [],
   "source": [
    "# Reworking script to use selenium\n",
    "from selenium import webdriver\n",
    "from selenium.webdriver.chrome.options import Options\n",
    "from selenium.webdriver.common.by import By\n",
    "from selenium.webdriver.support.ui import WebDriverWait\n",
    "from selenium.webdriver.support import expected_conditions as EC"
   ]
  },
  {
   "cell_type": "markdown",
   "metadata": {},
   "source": [
    "### Set Driver"
   ]
  },
  {
   "cell_type": "code",
   "execution_count": 3,
   "metadata": {},
   "outputs": [],
   "source": [
    "# Set driver options\n",
    "options = Options()\n",
    "options.add_argument('--headless')\n",
    "driver = webdriver.Chrome(options=options)"
   ]
  },
  {
   "cell_type": "markdown",
   "metadata": {},
   "source": [
    "## 2023 Regular Season Example"
   ]
  },
  {
   "cell_type": "code",
   "execution_count": 8,
   "metadata": {},
   "outputs": [],
   "source": [
    "url = \"https://www.espn.com/nfl/qbr/_/season/2023/seasontype/2\"\n",
    "driver.get(url)"
   ]
  },
  {
   "cell_type": "code",
   "execution_count": 9,
   "metadata": {},
   "outputs": [],
   "source": [
    "# table[0] shows rank and name and table[1] shows all of the stats\n",
    "tables = driver.find_elements(By.CSS_SELECTOR, \"table\")"
   ]
  },
  {
   "cell_type": "code",
   "execution_count": 10,
   "metadata": {},
   "outputs": [],
   "source": [
    "# QB Name table\n",
    "rows = tables[0].find_elements(By.CSS_SELECTOR, \"tbody tr\")\n",
    "data = []\n",
    "for row in rows:  # skip first header row\n",
    "    cells = row.find_elements(By.TAG_NAME, \"td\")\n",
    "    if cells:\n",
    "        data.append([cell.text.strip() for cell in cells])\n",
    "df1 = pd.DataFrame(data)\n",
    "df1.columns = ['SEASON_RANK','NAME']\n",
    "df1[['NAME', 'TEAM']] = df1.NAME.str.split('\\n', expand=True)"
   ]
  },
  {
   "cell_type": "code",
   "execution_count": 11,
   "metadata": {},
   "outputs": [],
   "source": [
    "# Stats table\n",
    "rows = tables[1].find_elements(By.CSS_SELECTOR, \"tbody tr\")\n",
    "data = []\n",
    "for row in rows:  # skip first header row\n",
    "    cells = row.find_elements(By.TAG_NAME, \"td\")\n",
    "    if cells:\n",
    "        data.append([cell.text.strip() for cell in cells])\n",
    "df2 = pd.DataFrame(data)\n",
    "df2.columns = ['QBR','PAA','PLAYS','EPA','PASS','RUN','SACK','PEN','RAW']"
   ]
  },
  {
   "cell_type": "code",
   "execution_count": 12,
   "metadata": {},
   "outputs": [],
   "source": [
    "df = pd.concat([df1,df2],axis=1)"
   ]
  },
  {
   "cell_type": "code",
   "execution_count": 14,
   "metadata": {},
   "outputs": [
    {
     "data": {
      "text/html": [
       "<div>\n",
       "<style scoped>\n",
       "    .dataframe tbody tr th:only-of-type {\n",
       "        vertical-align: middle;\n",
       "    }\n",
       "\n",
       "    .dataframe tbody tr th {\n",
       "        vertical-align: top;\n",
       "    }\n",
       "\n",
       "    .dataframe thead th {\n",
       "        text-align: right;\n",
       "    }\n",
       "</style>\n",
       "<table border=\"1\" class=\"dataframe\">\n",
       "  <thead>\n",
       "    <tr style=\"text-align: right;\">\n",
       "      <th></th>\n",
       "      <th>SEASON_RANK</th>\n",
       "      <th>NAME</th>\n",
       "      <th>TEAM</th>\n",
       "      <th>QBR</th>\n",
       "      <th>PAA</th>\n",
       "      <th>PLAYS</th>\n",
       "      <th>EPA</th>\n",
       "      <th>PASS</th>\n",
       "      <th>RUN</th>\n",
       "      <th>SACK</th>\n",
       "      <th>PEN</th>\n",
       "      <th>RAW</th>\n",
       "    </tr>\n",
       "  </thead>\n",
       "  <tbody>\n",
       "    <tr>\n",
       "      <th>0</th>\n",
       "      <td>1</td>\n",
       "      <td>B. Purdy</td>\n",
       "      <td>SF</td>\n",
       "      <td>73.4</td>\n",
       "      <td>37.2</td>\n",
       "      <td>530</td>\n",
       "      <td>76.9</td>\n",
       "      <td>66.8</td>\n",
       "      <td>9.1</td>\n",
       "      <td>-10.2</td>\n",
       "      <td>1.0</td>\n",
       "      <td>73.0</td>\n",
       "    </tr>\n",
       "    <tr>\n",
       "      <th>1</th>\n",
       "      <td>2</td>\n",
       "      <td>D. Prescott</td>\n",
       "      <td>DAL</td>\n",
       "      <td>73.4</td>\n",
       "      <td>57.0</td>\n",
       "      <td>724</td>\n",
       "      <td>106.7</td>\n",
       "      <td>91.6</td>\n",
       "      <td>10.6</td>\n",
       "      <td>-16.3</td>\n",
       "      <td>4.5</td>\n",
       "      <td>75.3</td>\n",
       "    </tr>\n",
       "  </tbody>\n",
       "</table>\n",
       "</div>"
      ],
      "text/plain": [
       "  SEASON_RANK         NAME TEAM   QBR   PAA PLAYS    EPA  PASS   RUN   SACK  \\\n",
       "0           1     B. Purdy   SF  73.4  37.2   530   76.9  66.8   9.1  -10.2   \n",
       "1           2  D. Prescott  DAL  73.4  57.0   724  106.7  91.6  10.6  -16.3   \n",
       "\n",
       "   PEN   RAW  \n",
       "0  1.0  73.0  \n",
       "1  4.5  75.3  "
      ]
     },
     "execution_count": 14,
     "metadata": {},
     "output_type": "execute_result"
    }
   ],
   "source": [
    "df.head(2)"
   ]
  },
  {
   "cell_type": "markdown",
   "metadata": {},
   "source": [
    "This works. Now we need to add a loop for years (2006-2024) and season_type (2 and 3). Season type = 2 represents the regular season and season type = 3 represents the postseason. Note: 2024 does not include the year in the URL since it is the most current season."
   ]
  },
  {
   "cell_type": "markdown",
   "metadata": {},
   "source": [
    "## Scrape season summary QBR Stats"
   ]
  },
  {
   "cell_type": "code",
   "execution_count": 4,
   "metadata": {},
   "outputs": [],
   "source": [
    "def scrape_qbr_season(url):\n",
    "    # Get driver\n",
    "    driver.get(url)\n",
    "    \n",
    "    # Find the two tables in the web-page that make up the one QBR table\n",
    "    tables = driver.find_elements(By.CSS_SELECTOR, \"table\")\n",
    "    \n",
    "    # Scrape the \"QB Names\" section of the table (tables[0])\n",
    "    rows = tables[0].find_elements(By.CSS_SELECTOR, \"tbody tr\")\n",
    "    data = []\n",
    "    for row in rows:  # skip first header row\n",
    "        cells = row.find_elements(By.TAG_NAME, \"td\")\n",
    "        if cells:\n",
    "            data.append([cell.text.strip() for cell in cells])\n",
    "    df1 = pd.DataFrame(data)\n",
    "    df1.columns = ['SEASON_RANK','NAME']\n",
    "    df1[['NAME', 'TEAM']] = df1.NAME.str.split('\\n', expand=True)\n",
    "    \n",
    "    # Scrape the QBR Data from the second part of the QBR table (tables[1])\n",
    "    rows = tables[1].find_elements(By.CSS_SELECTOR, \"tbody tr\")\n",
    "    data = []\n",
    "    for row in rows:  # skip first header row\n",
    "        cells = row.find_elements(By.TAG_NAME, \"td\")\n",
    "        if cells:\n",
    "            data.append([cell.text.strip() for cell in cells])\n",
    "    df2 = pd.DataFrame(data)\n",
    "    df2.columns = ['QBR','PAA','PLAYS','EPA','PASS','RUN','SACK','PEN','RAW']\n",
    "    \n",
    "    # Concatenate df1 and df2 into one dataframe\n",
    "    df = pd.concat([df1,df2],axis=1)\n",
    "    \n",
    "    # Add Columns for Year and Season Type\n",
    "    df['YEAR'] = url.split('/')[-3]\n",
    "    df['SEASON_TYPE'] = np.where(url.split('/')[-1] == '2', 'REGULAR','POST')\n",
    "    \n",
    "    return df"
   ]
  },
  {
   "cell_type": "code",
   "execution_count": 6,
   "metadata": {},
   "outputs": [],
   "source": [
    "seasons_df = pd.DataFrame()\n",
    "for year in range(2006,2024):\n",
    "    for season_type in ['2','3']:\n",
    "        url = \"https://www.espn.com/nfl/qbr/_/season/{}/seasontype/{}\".format(str(year),season_type)\n",
    "        df = scrape_qbr_season(url)\n",
    "        seasons_df = pd.concat([seasons_df,df])"
   ]
  },
  {
   "cell_type": "code",
   "execution_count": 9,
   "metadata": {},
   "outputs": [],
   "source": [
    "# Add 2024 data (doesn't include the 'year' in the url)\n",
    "for season_type in ['2','3']:\n",
    "    url = \"https://www.espn.com/nfl/qbr/_/seasontype/{}\".format(season_type)\n",
    "    df = scrape_qbr_season(url)\n",
    "    seasons_df = pd.concat([seasons_df,df])"
   ]
  },
  {
   "cell_type": "code",
   "execution_count": 10,
   "metadata": {},
   "outputs": [
    {
     "data": {
      "text/plain": [
       "(821, 14)"
      ]
     },
     "execution_count": 10,
     "metadata": {},
     "output_type": "execute_result"
    }
   ],
   "source": [
    "seasons_df.shape"
   ]
  },
  {
   "cell_type": "code",
   "execution_count": 11,
   "metadata": {},
   "outputs": [
    {
     "data": {
      "text/html": [
       "<div>\n",
       "<style scoped>\n",
       "    .dataframe tbody tr th:only-of-type {\n",
       "        vertical-align: middle;\n",
       "    }\n",
       "\n",
       "    .dataframe tbody tr th {\n",
       "        vertical-align: top;\n",
       "    }\n",
       "\n",
       "    .dataframe thead th {\n",
       "        text-align: right;\n",
       "    }\n",
       "</style>\n",
       "<table border=\"1\" class=\"dataframe\">\n",
       "  <thead>\n",
       "    <tr style=\"text-align: right;\">\n",
       "      <th></th>\n",
       "      <th>SEASON_RANK</th>\n",
       "      <th>NAME</th>\n",
       "      <th>TEAM</th>\n",
       "      <th>QBR</th>\n",
       "      <th>PAA</th>\n",
       "      <th>PLAYS</th>\n",
       "      <th>EPA</th>\n",
       "      <th>PASS</th>\n",
       "      <th>RUN</th>\n",
       "      <th>SACK</th>\n",
       "      <th>PEN</th>\n",
       "      <th>RAW</th>\n",
       "      <th>YEAR</th>\n",
       "      <th>SEASON_TYPE</th>\n",
       "    </tr>\n",
       "  </thead>\n",
       "  <tbody>\n",
       "    <tr>\n",
       "      <th>0</th>\n",
       "      <td>1</td>\n",
       "      <td>P. Manning</td>\n",
       "      <td>IND</td>\n",
       "      <td>86.4</td>\n",
       "      <td>85.5</td>\n",
       "      <td>624</td>\n",
       "      <td>108.8</td>\n",
       "      <td>96.0</td>\n",
       "      <td>6.8</td>\n",
       "      <td>-5.0</td>\n",
       "      <td>1.1</td>\n",
       "      <td>87.4</td>\n",
       "      <td>2006</td>\n",
       "      <td>REGULAR</td>\n",
       "    </tr>\n",
       "    <tr>\n",
       "      <th>1</th>\n",
       "      <td>2</td>\n",
       "      <td>T. Brady</td>\n",
       "      <td>NE</td>\n",
       "      <td>68.6</td>\n",
       "      <td>30.9</td>\n",
       "      <td>610</td>\n",
       "      <td>57.9</td>\n",
       "      <td>38.8</td>\n",
       "      <td>4.3</td>\n",
       "      <td>-12.0</td>\n",
       "      <td>2.8</td>\n",
       "      <td>67.2</td>\n",
       "      <td>2006</td>\n",
       "      <td>REGULAR</td>\n",
       "    </tr>\n",
       "  </tbody>\n",
       "</table>\n",
       "</div>"
      ],
      "text/plain": [
       "  SEASON_RANK        NAME TEAM   QBR   PAA PLAYS    EPA  PASS  RUN   SACK  \\\n",
       "0           1  P. Manning  IND  86.4  85.5   624  108.8  96.0  6.8   -5.0   \n",
       "1           2    T. Brady   NE  68.6  30.9   610   57.9  38.8  4.3  -12.0   \n",
       "\n",
       "   PEN   RAW  YEAR SEASON_TYPE  \n",
       "0  1.1  87.4  2006     REGULAR  \n",
       "1  2.8  67.2  2006     REGULAR  "
      ]
     },
     "execution_count": 11,
     "metadata": {},
     "output_type": "execute_result"
    }
   ],
   "source": [
    "seasons_df.head(2)"
   ]
  },
  {
   "cell_type": "code",
   "execution_count": 14,
   "metadata": {},
   "outputs": [],
   "source": [
    "# Write to .csv\n",
    "seasons_df.to_csv('./data/qbr_season_totals_df.csv', index=None)"
   ]
  },
  {
   "cell_type": "markdown",
   "metadata": {},
   "source": [
    "## Scrape Weekly Results"
   ]
  },
  {
   "cell_type": "markdown",
   "metadata": {},
   "source": [
    "### Regular Season Scrape"
   ]
  },
  {
   "cell_type": "markdown",
   "metadata": {},
   "source": [
    "##### 2006 - 2021 Scrape"
   ]
  },
  {
   "cell_type": "markdown",
   "metadata": {},
   "source": [
    "Necessary to split up because the NFL expanded to 18 weeks in the 2022 season. Season type = 2 remains consistent to look only at regular season games. We will need to adjust since the \"postseason\" weeks are labeled by name, not by number. The columns provided also includes the week number and the result of the game, so we will need to adjust the column names for that by creating a new function."
   ]
  },
  {
   "cell_type": "code",
   "execution_count": 18,
   "metadata": {},
   "outputs": [],
   "source": [
    "def scrape_qbr_week(url):\n",
    "    # Get driver\n",
    "    driver.get(url)\n",
    "    \n",
    "    # Find the two tables in the web-page that make up the one QBR table\n",
    "    tables = driver.find_elements(By.CSS_SELECTOR, \"table\")\n",
    "    \n",
    "    # Scrape the \"QB Names\" section of the table (tables[0])\n",
    "    rows = tables[0].find_elements(By.CSS_SELECTOR, \"tbody tr\")\n",
    "    data = []\n",
    "    for row in rows:  # skip first header row\n",
    "        cells = row.find_elements(By.TAG_NAME, \"td\")\n",
    "        if cells:\n",
    "            data.append([cell.text.strip() for cell in cells])\n",
    "    df1 = pd.DataFrame(data)\n",
    "    df1.columns = ['WEEK_RANK','NAME']\n",
    "    df1[['NAME', 'TEAM']] = df1.NAME.str.split('\\n', expand=True)\n",
    "    \n",
    "    # Scrape the QBR Data from the second part of the QBR table (tables[1])\n",
    "    rows = tables[1].find_elements(By.CSS_SELECTOR, \"tbody tr\")\n",
    "    data = []\n",
    "    for row in rows:  # skip first header row\n",
    "        cells = row.find_elements(By.TAG_NAME, \"td\")\n",
    "        if cells:\n",
    "            data.append([cell.text.strip() for cell in cells])\n",
    "    df2 = pd.DataFrame(data)\n",
    "    df2.columns = ['WEEK','RESULT','QBR','PAA','PLAYS','EPA','PASS','RUN','SACK','PEN','RAW']\n",
    "    \n",
    "    # Concatenate df1 and df2 into one dataframe\n",
    "    df = pd.concat([df1,df2],axis=1)\n",
    "    \n",
    "    # Add Columns for Year and Season Type\n",
    "    df['YEAR'] = url.split('/')[-5]\n",
    "    df['SEASON_TYPE'] = np.where(url.split('/')[-3] == '2', 'REGULAR','POST')\n",
    "    \n",
    "    return df"
   ]
  },
  {
   "cell_type": "code",
   "execution_count": 19,
   "metadata": {},
   "outputs": [
    {
     "name": "stdout",
     "output_type": "stream",
     "text": [
      "2006\n",
      "2007\n",
      "2008\n",
      "2009\n",
      "2010\n",
      "2011\n",
      "2012\n",
      "2013\n",
      "2014\n",
      "2015\n",
      "2016\n",
      "2017\n",
      "2018\n",
      "2019\n",
      "2020\n",
      "2021\n",
      "2022\n",
      "2023\n"
     ]
    }
   ],
   "source": [
    "regular_seasons_weeks_df = pd.DataFrame()\n",
    "for year in range(2006,2024):\n",
    "    #print(year)\n",
    "    for week in range(1, 18):\n",
    "        url = \"https://www.espn.com/nfl/qbr/_/view/weekly/season/{}/seasontype/2/week/{}\".format(str(year),str(week))\n",
    "        df = scrape_qbr_week(url)\n",
    "        regular_seasons_weeks_df = pd.concat([regular_seasons_weeks_df,df])"
   ]
  },
  {
   "cell_type": "markdown",
   "metadata": {},
   "source": [
    "##### Add Weeks 18 for years 2022 - 2024"
   ]
  },
  {
   "cell_type": "code",
   "execution_count": 21,
   "metadata": {},
   "outputs": [],
   "source": [
    "for year in range(2021,2024):\n",
    "    url = \"https://www.espn.com/nfl/qbr/_/view/weekly/season/{}/seasontype/2/week/18\".format(str(year))\n",
    "    df = scrape_qbr_week(url)\n",
    "    regular_seasons_weeks_df = pd.concat([regular_seasons_weeks_df,df])"
   ]
  },
  {
   "cell_type": "code",
   "execution_count": 22,
   "metadata": {},
   "outputs": [
    {
     "data": {
      "text/plain": [
       "(9201, 16)"
      ]
     },
     "execution_count": 22,
     "metadata": {},
     "output_type": "execute_result"
    }
   ],
   "source": [
    "regular_seasons_weeks_df.shape"
   ]
  },
  {
   "cell_type": "markdown",
   "metadata": {},
   "source": [
    "##### Add 2024 Regular Season Findings"
   ]
  },
  {
   "cell_type": "code",
   "execution_count": 23,
   "metadata": {},
   "outputs": [],
   "source": [
    "for week in range(1, 19):\n",
    "    url = \"https://www.espn.com/nfl/qbr/_/view/weekly/seasontype/2/week/{}\".format(str(week))\n",
    "    df = scrape_qbr_week(url)\n",
    "    regular_seasons_weeks_df = pd.concat([regular_seasons_weeks_df,df])"
   ]
  },
  {
   "cell_type": "code",
   "execution_count": 24,
   "metadata": {},
   "outputs": [
    {
     "data": {
      "text/plain": [
       "(9748, 16)"
      ]
     },
     "execution_count": 24,
     "metadata": {},
     "output_type": "execute_result"
    }
   ],
   "source": [
    "regular_seasons_weeks_df.shape"
   ]
  },
  {
   "cell_type": "code",
   "execution_count": 25,
   "metadata": {},
   "outputs": [
    {
     "data": {
      "text/html": [
       "<div>\n",
       "<style scoped>\n",
       "    .dataframe tbody tr th:only-of-type {\n",
       "        vertical-align: middle;\n",
       "    }\n",
       "\n",
       "    .dataframe tbody tr th {\n",
       "        vertical-align: top;\n",
       "    }\n",
       "\n",
       "    .dataframe thead th {\n",
       "        text-align: right;\n",
       "    }\n",
       "</style>\n",
       "<table border=\"1\" class=\"dataframe\">\n",
       "  <thead>\n",
       "    <tr style=\"text-align: right;\">\n",
       "      <th></th>\n",
       "      <th>WEEK_RANK</th>\n",
       "      <th>NAME</th>\n",
       "      <th>TEAM</th>\n",
       "      <th>WEEK</th>\n",
       "      <th>RESULT</th>\n",
       "      <th>QBR</th>\n",
       "      <th>PAA</th>\n",
       "      <th>PLAYS</th>\n",
       "      <th>EPA</th>\n",
       "      <th>PASS</th>\n",
       "      <th>RUN</th>\n",
       "      <th>SACK</th>\n",
       "      <th>PEN</th>\n",
       "      <th>RAW</th>\n",
       "      <th>YEAR</th>\n",
       "      <th>SEASON_TYPE</th>\n",
       "    </tr>\n",
       "  </thead>\n",
       "  <tbody>\n",
       "    <tr>\n",
       "      <th>0</th>\n",
       "      <td>1</td>\n",
       "      <td>R. Grossman</td>\n",
       "      <td>CHI</td>\n",
       "      <td>1</td>\n",
       "      <td>W26-0at GB</td>\n",
       "      <td>96.4</td>\n",
       "      <td>5.5</td>\n",
       "      <td>31</td>\n",
       "      <td>5.4</td>\n",
       "      <td>4.3</td>\n",
       "      <td>0.6</td>\n",
       "      <td>-0.5</td>\n",
       "      <td>0.1</td>\n",
       "      <td>92.4</td>\n",
       "      <td>2006</td>\n",
       "      <td>REGULAR</td>\n",
       "    </tr>\n",
       "    <tr>\n",
       "      <th>1</th>\n",
       "      <td>2</td>\n",
       "      <td>D. McNabb</td>\n",
       "      <td>PHI</td>\n",
       "      <td>1</td>\n",
       "      <td>W24-10at HOU</td>\n",
       "      <td>92.5</td>\n",
       "      <td>8.1</td>\n",
       "      <td>38</td>\n",
       "      <td>8.9</td>\n",
       "      <td>8.6</td>\n",
       "      <td>0.1</td>\n",
       "      <td>-0.3</td>\n",
       "      <td>-0.1</td>\n",
       "      <td>95.4</td>\n",
       "      <td>2006</td>\n",
       "      <td>REGULAR</td>\n",
       "    </tr>\n",
       "  </tbody>\n",
       "</table>\n",
       "</div>"
      ],
      "text/plain": [
       "  WEEK_RANK         NAME TEAM WEEK        RESULT   QBR  PAA PLAYS  EPA PASS  \\\n",
       "0         1  R. Grossman  CHI    1    W26-0at GB  96.4  5.5    31  5.4  4.3   \n",
       "1         2    D. McNabb  PHI    1  W24-10at HOU  92.5  8.1    38  8.9  8.6   \n",
       "\n",
       "   RUN  SACK   PEN   RAW  YEAR SEASON_TYPE  \n",
       "0  0.6  -0.5   0.1  92.4  2006     REGULAR  \n",
       "1  0.1  -0.3  -0.1  95.4  2006     REGULAR  "
      ]
     },
     "execution_count": 25,
     "metadata": {},
     "output_type": "execute_result"
    }
   ],
   "source": [
    "regular_seasons_weeks_df.head(2)"
   ]
  },
  {
   "cell_type": "code",
   "execution_count": 26,
   "metadata": {},
   "outputs": [],
   "source": [
    "regular_seasons_weeks_df.to_csv('./data/qbr_weekly_totals_df.csv', index=None)"
   ]
  },
  {
   "cell_type": "markdown",
   "metadata": {},
   "source": [
    "### Postseason QBR Scores"
   ]
  },
  {
   "cell_type": "markdown",
   "metadata": {},
   "source": [
    "There's a strange bug on espn.com where the \"week\" of the superbowl changes from week 4 to week 5 after the 2008 season, so I'll need to split up the scraping."
   ]
  },
  {
   "cell_type": "code",
   "execution_count": 30,
   "metadata": {},
   "outputs": [
    {
     "name": "stdout",
     "output_type": "stream",
     "text": [
      "2006\n",
      "2007\n",
      "2008\n"
     ]
    }
   ],
   "source": [
    "post_seasons_weeks_df = pd.DataFrame()\n",
    "for year in range(2006,2009):\n",
    "    print(year)\n",
    "    for week in range(1, 5):\n",
    "        url = \"https://www.espn.com/nfl/qbr/_/view/weekly/season/{}/seasontype/3/week/{}\".format(str(year),str(week))\n",
    "        df = scrape_qbr_week(url)\n",
    "        post_seasons_weeks_df = pd.concat([post_seasons_weeks_df,df])"
   ]
  },
  {
   "cell_type": "code",
   "execution_count": 32,
   "metadata": {},
   "outputs": [
    {
     "name": "stdout",
     "output_type": "stream",
     "text": [
      "2009\n",
      "2010\n",
      "2011\n",
      "2012\n",
      "2013\n",
      "2014\n",
      "2015\n",
      "2016\n",
      "2017\n",
      "2018\n",
      "2019\n",
      "2020\n",
      "2021\n",
      "2022\n",
      "2023\n"
     ]
    }
   ],
   "source": [
    "for year in range(2009,2024):\n",
    "    print(year)\n",
    "    for week in [1,2,3,5]: # this accounts for the strange bug\n",
    "        url = \"https://www.espn.com/nfl/qbr/_/view/weekly/season/{}/seasontype/3/week/{}\".format(str(year),str(week))\n",
    "        df = scrape_qbr_week(url)\n",
    "        post_seasons_weeks_df = pd.concat([post_seasons_weeks_df,df])"
   ]
  },
  {
   "cell_type": "markdown",
   "metadata": {},
   "source": [
    "##### Add 2024 postseason data"
   ]
  },
  {
   "cell_type": "code",
   "execution_count": 33,
   "metadata": {},
   "outputs": [],
   "source": [
    "for week in [1,2,3,5]: # this accounts for the strange bug\n",
    "    url = \"https://www.espn.com/nfl/qbr/_/view/weekly/seasontype/3/week/{}\".format(str(week))\n",
    "    df = scrape_qbr_week(url)\n",
    "    post_seasons_weeks_df = pd.concat([post_seasons_weeks_df,df])"
   ]
  },
  {
   "cell_type": "markdown",
   "metadata": {},
   "source": [
    "### Combine postseason with regular season dataset"
   ]
  },
  {
   "cell_type": "code",
   "execution_count": 34,
   "metadata": {},
   "outputs": [
    {
     "data": {
      "text/plain": [
       "(428, 9748)"
      ]
     },
     "execution_count": 34,
     "metadata": {},
     "output_type": "execute_result"
    }
   ],
   "source": [
    "post_seasons_weeks_df.shape[0], regular_seasons_weeks_df.shape[0]"
   ]
  },
  {
   "cell_type": "code",
   "execution_count": 36,
   "metadata": {},
   "outputs": [],
   "source": [
    "full_df = pd.concat([regular_seasons_weeks_df, post_seasons_weeks_df])"
   ]
  },
  {
   "cell_type": "code",
   "execution_count": 38,
   "metadata": {},
   "outputs": [
    {
     "data": {
      "text/html": [
       "<div>\n",
       "<style scoped>\n",
       "    .dataframe tbody tr th:only-of-type {\n",
       "        vertical-align: middle;\n",
       "    }\n",
       "\n",
       "    .dataframe tbody tr th {\n",
       "        vertical-align: top;\n",
       "    }\n",
       "\n",
       "    .dataframe thead th {\n",
       "        text-align: right;\n",
       "    }\n",
       "</style>\n",
       "<table border=\"1\" class=\"dataframe\">\n",
       "  <thead>\n",
       "    <tr style=\"text-align: right;\">\n",
       "      <th></th>\n",
       "      <th>WEEK_RANK</th>\n",
       "      <th>NAME</th>\n",
       "      <th>TEAM</th>\n",
       "      <th>WEEK</th>\n",
       "      <th>RESULT</th>\n",
       "      <th>QBR</th>\n",
       "      <th>PAA</th>\n",
       "      <th>PLAYS</th>\n",
       "      <th>EPA</th>\n",
       "      <th>PASS</th>\n",
       "      <th>RUN</th>\n",
       "      <th>SACK</th>\n",
       "      <th>PEN</th>\n",
       "      <th>RAW</th>\n",
       "      <th>YEAR</th>\n",
       "      <th>SEASON_TYPE</th>\n",
       "    </tr>\n",
       "  </thead>\n",
       "  <tbody>\n",
       "    <tr>\n",
       "      <th>0</th>\n",
       "      <td>1</td>\n",
       "      <td>R. Grossman</td>\n",
       "      <td>CHI</td>\n",
       "      <td>1</td>\n",
       "      <td>W26-0at GB</td>\n",
       "      <td>96.4</td>\n",
       "      <td>5.5</td>\n",
       "      <td>31</td>\n",
       "      <td>5.4</td>\n",
       "      <td>4.3</td>\n",
       "      <td>0.6</td>\n",
       "      <td>-0.5</td>\n",
       "      <td>0.1</td>\n",
       "      <td>92.4</td>\n",
       "      <td>2006</td>\n",
       "      <td>REGULAR</td>\n",
       "    </tr>\n",
       "    <tr>\n",
       "      <th>1</th>\n",
       "      <td>2</td>\n",
       "      <td>D. McNabb</td>\n",
       "      <td>PHI</td>\n",
       "      <td>1</td>\n",
       "      <td>W24-10at HOU</td>\n",
       "      <td>92.5</td>\n",
       "      <td>8.1</td>\n",
       "      <td>38</td>\n",
       "      <td>8.9</td>\n",
       "      <td>8.6</td>\n",
       "      <td>0.1</td>\n",
       "      <td>-0.3</td>\n",
       "      <td>-0.1</td>\n",
       "      <td>95.4</td>\n",
       "      <td>2006</td>\n",
       "      <td>REGULAR</td>\n",
       "    </tr>\n",
       "  </tbody>\n",
       "</table>\n",
       "</div>"
      ],
      "text/plain": [
       "  WEEK_RANK         NAME TEAM WEEK        RESULT   QBR  PAA PLAYS  EPA PASS  \\\n",
       "0         1  R. Grossman  CHI    1    W26-0at GB  96.4  5.5    31  5.4  4.3   \n",
       "1         2    D. McNabb  PHI    1  W24-10at HOU  92.5  8.1    38  8.9  8.6   \n",
       "\n",
       "   RUN  SACK   PEN   RAW  YEAR SEASON_TYPE  \n",
       "0  0.6  -0.5   0.1  92.4  2006     REGULAR  \n",
       "1  0.1  -0.3  -0.1  95.4  2006     REGULAR  "
      ]
     },
     "execution_count": 38,
     "metadata": {},
     "output_type": "execute_result"
    }
   ],
   "source": [
    "full_df.head(2)"
   ]
  },
  {
   "cell_type": "code",
   "execution_count": 39,
   "metadata": {},
   "outputs": [
    {
     "data": {
      "text/plain": [
       "(10176, 16)"
      ]
     },
     "execution_count": 39,
     "metadata": {},
     "output_type": "execute_result"
    }
   ],
   "source": [
    "full_df.shape"
   ]
  },
  {
   "cell_type": "code",
   "execution_count": 40,
   "metadata": {},
   "outputs": [],
   "source": [
    "# Write weekly results to a .csv file\n",
    "full_df.to_csv('./data/qbr_weekly_totals_df.csv', index=None)"
   ]
  },
  {
   "cell_type": "markdown",
   "metadata": {},
   "source": [
    "## QBR Web Scraping Summary"
   ]
  },
  {
   "cell_type": "markdown",
   "metadata": {},
   "source": [
    "This Jupyter Notebook has showed how to scrape NFL Quarterback QBR statistics from ESPN.com using Selenium rather than BeautifulSoup from seasons 2006 through 2024. This scraping was done in an effort to compare QBR stats with the Passer Rating metric."
   ]
  }
 ],
 "metadata": {
  "kernelspec": {
   "display_name": "Python 3 (ipykernel)",
   "language": "python",
   "name": "python3"
  },
  "language_info": {
   "codemirror_mode": {
    "name": "ipython",
    "version": 3
   },
   "file_extension": ".py",
   "mimetype": "text/x-python",
   "name": "python",
   "nbconvert_exporter": "python",
   "pygments_lexer": "ipython3",
   "version": "3.10.9"
  }
 },
 "nbformat": 4,
 "nbformat_minor": 2
}
