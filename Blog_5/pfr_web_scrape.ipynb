{
 "cells": [
  {
   "cell_type": "code",
   "execution_count": 1,
   "id": "028cda91",
   "metadata": {},
   "outputs": [],
   "source": [
    "import pandas as pd\n",
    "import re\n",
    "import requests\n",
    "import numpy as np\n",
    "import warnings\n",
    "warnings.filterwarnings(\"ignore\")"
   ]
  },
  {
   "cell_type": "code",
   "execution_count": 2,
   "id": "2d57552a",
   "metadata": {},
   "outputs": [],
   "source": [
    "# Reworking script to use selenium\n",
    "from selenium import webdriver\n",
    "from selenium.webdriver.chrome.options import Options\n",
    "from selenium.webdriver.common.by import By\n",
    "from selenium.webdriver.support.ui import WebDriverWait\n",
    "from selenium.webdriver.support import expected_conditions as EC"
   ]
  },
  {
   "cell_type": "code",
   "execution_count": 3,
   "id": "c81d2550",
   "metadata": {},
   "outputs": [],
   "source": [
    "# Set driver options\n",
    "options = Options()\n",
    "options.add_argument('--headless')\n",
    "driver = webdriver.Chrome(options=options)"
   ]
  },
  {
   "cell_type": "markdown",
   "id": "257f126d",
   "metadata": {},
   "source": [
    "### 2006 Example"
   ]
  },
  {
   "cell_type": "code",
   "execution_count": 4,
   "id": "dfe05e57",
   "metadata": {},
   "outputs": [],
   "source": [
    "url = \"https://www.pro-football-reference.com/years/2006/passing.htm#\"\n",
    "driver.get(url)"
   ]
  },
  {
   "cell_type": "code",
   "execution_count": 5,
   "id": "5a122d27",
   "metadata": {},
   "outputs": [],
   "source": [
    "table = driver.find_element(By.ID, \"passing\")"
   ]
  },
  {
   "cell_type": "code",
   "execution_count": 6,
   "id": "f00b5ed4",
   "metadata": {},
   "outputs": [],
   "source": [
    "header_elems = table.find_elements(By.CSS_SELECTOR, \"thead tr th\")\n",
    "headers = [h.text.strip() for h in header_elems]"
   ]
  },
  {
   "cell_type": "code",
   "execution_count": 11,
   "id": "4734af44",
   "metadata": {},
   "outputs": [],
   "source": [
    "# QB Name table\n",
    "rows = table.find_elements(By.CSS_SELECTOR, \"tbody tr\")\n",
    "data = []\n",
    "for row in rows:  # skip first header row\n",
    "    cells = row.find_elements(By.TAG_NAME, \"td\")\n",
    "    if cells:\n",
    "        data.append([cell.text.strip() for cell in cells])\n",
    "df1 = pd.DataFrame(data)"
   ]
  },
  {
   "cell_type": "code",
   "execution_count": 15,
   "id": "7d18b10e",
   "metadata": {},
   "outputs": [],
   "source": [
    "df1.columns = headers[1:]"
   ]
  },
  {
   "cell_type": "markdown",
   "id": "e7f3980c",
   "metadata": {},
   "source": [
    "## Scrape Season Totals"
   ]
  },
  {
   "cell_type": "markdown",
   "id": "7c3d3a4a",
   "metadata": {},
   "source": [
    "##### Find Headers"
   ]
  },
  {
   "cell_type": "code",
   "execution_count": 4,
   "id": "2d148c22",
   "metadata": {},
   "outputs": [],
   "source": [
    "url = \"https://www.pro-football-reference.com/years/2006/passing.htm#\"\n",
    "driver.get(url)\n",
    "\n",
    "table = driver.find_element(By.ID, \"passing\")\n",
    "\n",
    "header_elems = table.find_elements(By.CSS_SELECTOR, \"thead tr th\")\n",
    "headers = [h.text.strip() for h in header_elems]"
   ]
  },
  {
   "cell_type": "markdown",
   "id": "5d112fc5",
   "metadata": {},
   "source": [
    "##### Loop through regular seasons from 2006 - 2024"
   ]
  },
  {
   "cell_type": "code",
   "execution_count": 5,
   "id": "7764390f",
   "metadata": {},
   "outputs": [],
   "source": [
    "regular_season_totals = pd.DataFrame()\n",
    "for year in range(2006, 2025):\n",
    "    url = \"https://www.pro-football-reference.com/years/{}/passing.htm#\".format(str(year))\n",
    "    driver.get(url)\n",
    "    table = driver.find_element(By.ID, \"passing\")\n",
    "    \n",
    "\n",
    "    rows = table.find_elements(By.CSS_SELECTOR, \"tbody tr\")\n",
    "    data = []\n",
    "    for row in rows:  # skip first header row\n",
    "        cells = row.find_elements(By.TAG_NAME, \"td\")\n",
    "        if cells:\n",
    "            data.append([cell.text.strip() for cell in cells])\n",
    "    df = pd.DataFrame(data)\n",
    "    df[len(df.columns)] = year\n",
    "    \n",
    "    regular_season_totals = pd.concat([regular_season_totals,df])"
   ]
  },
  {
   "cell_type": "code",
   "execution_count": 7,
   "id": "5a3e6970",
   "metadata": {},
   "outputs": [],
   "source": [
    "regular_season_totals.columns = headers[1:] + ['Year']"
   ]
  },
  {
   "cell_type": "code",
   "execution_count": 14,
   "id": "b3a22b58",
   "metadata": {},
   "outputs": [],
   "source": [
    "regular_season_totals.to_csv('pfr_regular_season_totals_df.csv', index=None)"
   ]
  },
  {
   "cell_type": "code",
   "execution_count": 13,
   "id": "8dc53d3e",
   "metadata": {},
   "outputs": [
    {
     "ename": "NoSuchElementException",
     "evalue": "Message: no such element: Unable to locate element: {\"method\":\"css selector\",\"selector\":\"[id=\"passing_playoffs\"]\"}\n  (Session info: chrome=139.0.7258.128); For documentation on this error, please visit: https://www.selenium.dev/documentation/webdriver/troubleshooting/errors#no-such-element-exception\nStacktrace:\n0   chromedriver                        0x0000000100c2b26c cxxbridge1$str$ptr + 2741972\n1   chromedriver                        0x0000000100c231dc cxxbridge1$str$ptr + 2709060\n2   chromedriver                        0x000000010076d4fc cxxbridge1$string$len + 90520\n3   chromedriver                        0x00000001007b4a14 cxxbridge1$string$len + 382640\n4   chromedriver                        0x00000001007f5db8 cxxbridge1$string$len + 649812\n5   chromedriver                        0x00000001007a8d30 cxxbridge1$string$len + 334284\n6   chromedriver                        0x0000000100bee66c cxxbridge1$str$ptr + 2493140\n7   chromedriver                        0x0000000100bf18a0 cxxbridge1$str$ptr + 2505992\n8   chromedriver                        0x0000000100bcf4a4 cxxbridge1$str$ptr + 2365708\n9   chromedriver                        0x0000000100bf215c cxxbridge1$str$ptr + 2508228\n10  chromedriver                        0x0000000100bc059c cxxbridge1$str$ptr + 2304516\n11  chromedriver                        0x0000000100c11c78 cxxbridge1$str$ptr + 2638048\n12  chromedriver                        0x0000000100c11e04 cxxbridge1$str$ptr + 2638444\n13  chromedriver                        0x0000000100c22e28 cxxbridge1$str$ptr + 2708112\n14  libsystem_pthread.dylib             0x0000000185d13c0c _pthread_start + 136\n15  libsystem_pthread.dylib             0x0000000185d0eb80 thread_start + 8\n",
     "output_type": "error",
     "traceback": [
      "\u001b[0;31m---------------------------------------------------------------------------\u001b[0m",
      "\u001b[0;31mNoSuchElementException\u001b[0m                    Traceback (most recent call last)",
      "Cell \u001b[0;32mIn[13], line 3\u001b[0m\n\u001b[1;32m      1\u001b[0m url \u001b[38;5;241m=\u001b[39m \u001b[38;5;124m\"\u001b[39m\u001b[38;5;124mhttps://www.pro-football-reference.com/years/2006/passing.htm#\u001b[39m\u001b[38;5;124m\"\u001b[39m\n\u001b[1;32m      2\u001b[0m driver\u001b[38;5;241m.\u001b[39mget(url)\n\u001b[0;32m----> 3\u001b[0m table \u001b[38;5;241m=\u001b[39m \u001b[43mdriver\u001b[49m\u001b[38;5;241;43m.\u001b[39;49m\u001b[43mfind_element\u001b[49m\u001b[43m(\u001b[49m\u001b[43mBy\u001b[49m\u001b[38;5;241;43m.\u001b[39;49m\u001b[43mID\u001b[49m\u001b[43m,\u001b[49m\u001b[43m \u001b[49m\u001b[38;5;124;43m\"\u001b[39;49m\u001b[38;5;124;43mpassing_playoffs\u001b[39;49m\u001b[38;5;124;43m\"\u001b[39;49m\u001b[43m)\u001b[49m\n",
      "File \u001b[0;32m~/anaconda3/lib/python3.10/site-packages/selenium/webdriver/remote/webdriver.py:766\u001b[0m, in \u001b[0;36mWebDriver.find_element\u001b[0;34m(self, by, value)\u001b[0m\n\u001b[1;32m    763\u001b[0m         \u001b[38;5;28;01mraise\u001b[39;00m NoSuchElementException(\u001b[38;5;124mf\u001b[39m\u001b[38;5;124m\"\u001b[39m\u001b[38;5;124mCannot locate relative element with: \u001b[39m\u001b[38;5;132;01m{\u001b[39;00mby\u001b[38;5;241m.\u001b[39mroot\u001b[38;5;132;01m}\u001b[39;00m\u001b[38;5;124m\"\u001b[39m)\n\u001b[1;32m    764\u001b[0m     \u001b[38;5;28;01mreturn\u001b[39;00m elements[\u001b[38;5;241m0\u001b[39m]\n\u001b[0;32m--> 766\u001b[0m \u001b[38;5;28;01mreturn\u001b[39;00m \u001b[38;5;28;43mself\u001b[39;49m\u001b[38;5;241;43m.\u001b[39;49m\u001b[43mexecute\u001b[49m\u001b[43m(\u001b[49m\u001b[43mCommand\u001b[49m\u001b[38;5;241;43m.\u001b[39;49m\u001b[43mFIND_ELEMENT\u001b[49m\u001b[43m,\u001b[49m\u001b[43m \u001b[49m\u001b[43m{\u001b[49m\u001b[38;5;124;43m\"\u001b[39;49m\u001b[38;5;124;43musing\u001b[39;49m\u001b[38;5;124;43m\"\u001b[39;49m\u001b[43m:\u001b[49m\u001b[43m \u001b[49m\u001b[43mby\u001b[49m\u001b[43m,\u001b[49m\u001b[43m \u001b[49m\u001b[38;5;124;43m\"\u001b[39;49m\u001b[38;5;124;43mvalue\u001b[39;49m\u001b[38;5;124;43m\"\u001b[39;49m\u001b[43m:\u001b[49m\u001b[43m \u001b[49m\u001b[43mvalue\u001b[49m\u001b[43m}\u001b[49m\u001b[43m)\u001b[49m[\u001b[38;5;124m\"\u001b[39m\u001b[38;5;124mvalue\u001b[39m\u001b[38;5;124m\"\u001b[39m]\n",
      "File \u001b[0;32m~/anaconda3/lib/python3.10/site-packages/selenium/webdriver/remote/webdriver.py:380\u001b[0m, in \u001b[0;36mWebDriver.execute\u001b[0;34m(self, driver_command, params)\u001b[0m\n\u001b[1;32m    378\u001b[0m response \u001b[38;5;241m=\u001b[39m \u001b[38;5;28mself\u001b[39m\u001b[38;5;241m.\u001b[39mcommand_executor\u001b[38;5;241m.\u001b[39mexecute(driver_command, params)\n\u001b[1;32m    379\u001b[0m \u001b[38;5;28;01mif\u001b[39;00m response:\n\u001b[0;32m--> 380\u001b[0m     \u001b[38;5;28;43mself\u001b[39;49m\u001b[38;5;241;43m.\u001b[39;49m\u001b[43merror_handler\u001b[49m\u001b[38;5;241;43m.\u001b[39;49m\u001b[43mcheck_response\u001b[49m\u001b[43m(\u001b[49m\u001b[43mresponse\u001b[49m\u001b[43m)\u001b[49m\n\u001b[1;32m    381\u001b[0m     response[\u001b[38;5;124m\"\u001b[39m\u001b[38;5;124mvalue\u001b[39m\u001b[38;5;124m\"\u001b[39m] \u001b[38;5;241m=\u001b[39m \u001b[38;5;28mself\u001b[39m\u001b[38;5;241m.\u001b[39m_unwrap_value(response\u001b[38;5;241m.\u001b[39mget(\u001b[38;5;124m\"\u001b[39m\u001b[38;5;124mvalue\u001b[39m\u001b[38;5;124m\"\u001b[39m, \u001b[38;5;28;01mNone\u001b[39;00m))\n\u001b[1;32m    382\u001b[0m     \u001b[38;5;28;01mreturn\u001b[39;00m response\n",
      "File \u001b[0;32m~/anaconda3/lib/python3.10/site-packages/selenium/webdriver/remote/errorhandler.py:229\u001b[0m, in \u001b[0;36mErrorHandler.check_response\u001b[0;34m(self, response)\u001b[0m\n\u001b[1;32m    227\u001b[0m         alert_text \u001b[38;5;241m=\u001b[39m value[\u001b[38;5;124m\"\u001b[39m\u001b[38;5;124malert\u001b[39m\u001b[38;5;124m\"\u001b[39m]\u001b[38;5;241m.\u001b[39mget(\u001b[38;5;124m\"\u001b[39m\u001b[38;5;124mtext\u001b[39m\u001b[38;5;124m\"\u001b[39m)\n\u001b[1;32m    228\u001b[0m     \u001b[38;5;28;01mraise\u001b[39;00m exception_class(message, screen, stacktrace, alert_text)  \u001b[38;5;66;03m# type: ignore[call-arg]  # mypy is not smart enough here\u001b[39;00m\n\u001b[0;32m--> 229\u001b[0m \u001b[38;5;28;01mraise\u001b[39;00m exception_class(message, screen, stacktrace)\n",
      "\u001b[0;31mNoSuchElementException\u001b[0m: Message: no such element: Unable to locate element: {\"method\":\"css selector\",\"selector\":\"[id=\"passing_playoffs\"]\"}\n  (Session info: chrome=139.0.7258.128); For documentation on this error, please visit: https://www.selenium.dev/documentation/webdriver/troubleshooting/errors#no-such-element-exception\nStacktrace:\n0   chromedriver                        0x0000000100c2b26c cxxbridge1$str$ptr + 2741972\n1   chromedriver                        0x0000000100c231dc cxxbridge1$str$ptr + 2709060\n2   chromedriver                        0x000000010076d4fc cxxbridge1$string$len + 90520\n3   chromedriver                        0x00000001007b4a14 cxxbridge1$string$len + 382640\n4   chromedriver                        0x00000001007f5db8 cxxbridge1$string$len + 649812\n5   chromedriver                        0x00000001007a8d30 cxxbridge1$string$len + 334284\n6   chromedriver                        0x0000000100bee66c cxxbridge1$str$ptr + 2493140\n7   chromedriver                        0x0000000100bf18a0 cxxbridge1$str$ptr + 2505992\n8   chromedriver                        0x0000000100bcf4a4 cxxbridge1$str$ptr + 2365708\n9   chromedriver                        0x0000000100bf215c cxxbridge1$str$ptr + 2508228\n10  chromedriver                        0x0000000100bc059c cxxbridge1$str$ptr + 2304516\n11  chromedriver                        0x0000000100c11c78 cxxbridge1$str$ptr + 2638048\n12  chromedriver                        0x0000000100c11e04 cxxbridge1$str$ptr + 2638444\n13  chromedriver                        0x0000000100c22e28 cxxbridge1$str$ptr + 2708112\n14  libsystem_pthread.dylib             0x0000000185d13c0c _pthread_start + 136\n15  libsystem_pthread.dylib             0x0000000185d0eb80 thread_start + 8\n"
     ]
    }
   ],
   "source": [
    "url = \"https://www.pro-football-reference.com/years/2006/passing.htm#\"\n",
    "driver.get(url)\n",
    "table = driver.find_element(By.ID, \"passing_playoffs\")"
   ]
  },
  {
   "cell_type": "markdown",
   "id": "fddf1b2f",
   "metadata": {},
   "source": [
    "##### Loop through playoff seasons from 2006 - 2024"
   ]
  },
  {
   "cell_type": "code",
   "execution_count": 5,
   "id": "6d04c5ea",
   "metadata": {},
   "outputs": [
    {
     "ename": "NoSuchElementException",
     "evalue": "Message: no such element: Unable to locate element: {\"method\":\"css selector\",\"selector\":\"[id=\"passing_playoffs\"]\"}\n  (Session info: chrome=139.0.7258.128); For documentation on this error, please visit: https://www.selenium.dev/documentation/webdriver/troubleshooting/errors#no-such-element-exception\nStacktrace:\n0   chromedriver                        0x00000001009c726c cxxbridge1$str$ptr + 2741972\n1   chromedriver                        0x00000001009bf1dc cxxbridge1$str$ptr + 2709060\n2   chromedriver                        0x00000001005094fc cxxbridge1$string$len + 90520\n3   chromedriver                        0x0000000100550a14 cxxbridge1$string$len + 382640\n4   chromedriver                        0x0000000100591db8 cxxbridge1$string$len + 649812\n5   chromedriver                        0x0000000100544d30 cxxbridge1$string$len + 334284\n6   chromedriver                        0x000000010098a66c cxxbridge1$str$ptr + 2493140\n7   chromedriver                        0x000000010098d8a0 cxxbridge1$str$ptr + 2505992\n8   chromedriver                        0x000000010096b4a4 cxxbridge1$str$ptr + 2365708\n9   chromedriver                        0x000000010098e15c cxxbridge1$str$ptr + 2508228\n10  chromedriver                        0x000000010095c59c cxxbridge1$str$ptr + 2304516\n11  chromedriver                        0x00000001009adc78 cxxbridge1$str$ptr + 2638048\n12  chromedriver                        0x00000001009ade04 cxxbridge1$str$ptr + 2638444\n13  chromedriver                        0x00000001009bee28 cxxbridge1$str$ptr + 2708112\n14  libsystem_pthread.dylib             0x0000000185d13c0c _pthread_start + 136\n15  libsystem_pthread.dylib             0x0000000185d0eb80 thread_start + 8\n",
     "output_type": "error",
     "traceback": [
      "\u001b[0;31m---------------------------------------------------------------------------\u001b[0m",
      "\u001b[0;31mNoSuchElementException\u001b[0m                    Traceback (most recent call last)",
      "Cell \u001b[0;32mIn[5], line 5\u001b[0m\n\u001b[1;32m      3\u001b[0m url \u001b[38;5;241m=\u001b[39m \u001b[38;5;124m\"\u001b[39m\u001b[38;5;124mhttps://www.pro-football-reference.com/years/\u001b[39m\u001b[38;5;132;01m{}\u001b[39;00m\u001b[38;5;124m/passing.htm#\u001b[39m\u001b[38;5;124m\"\u001b[39m\u001b[38;5;241m.\u001b[39mformat(\u001b[38;5;28mstr\u001b[39m(year))\n\u001b[1;32m      4\u001b[0m driver\u001b[38;5;241m.\u001b[39mget(url)\n\u001b[0;32m----> 5\u001b[0m table \u001b[38;5;241m=\u001b[39m \u001b[43mdriver\u001b[49m\u001b[38;5;241;43m.\u001b[39;49m\u001b[43mfind_element\u001b[49m\u001b[43m(\u001b[49m\u001b[43mBy\u001b[49m\u001b[38;5;241;43m.\u001b[39;49m\u001b[43mID\u001b[49m\u001b[43m,\u001b[49m\u001b[43m \u001b[49m\u001b[38;5;124;43m\"\u001b[39;49m\u001b[38;5;124;43mpassing_playoffs\u001b[39;49m\u001b[38;5;124;43m\"\u001b[39;49m\u001b[43m)\u001b[49m\n\u001b[1;32m      8\u001b[0m rows \u001b[38;5;241m=\u001b[39m table\u001b[38;5;241m.\u001b[39mfind_elements(By\u001b[38;5;241m.\u001b[39mCSS_SELECTOR, \u001b[38;5;124m\"\u001b[39m\u001b[38;5;124mtbody tr\u001b[39m\u001b[38;5;124m\"\u001b[39m)\n\u001b[1;32m      9\u001b[0m data \u001b[38;5;241m=\u001b[39m []\n",
      "File \u001b[0;32m~/anaconda3/lib/python3.10/site-packages/selenium/webdriver/remote/webdriver.py:766\u001b[0m, in \u001b[0;36mWebDriver.find_element\u001b[0;34m(self, by, value)\u001b[0m\n\u001b[1;32m    763\u001b[0m         \u001b[38;5;28;01mraise\u001b[39;00m NoSuchElementException(\u001b[38;5;124mf\u001b[39m\u001b[38;5;124m\"\u001b[39m\u001b[38;5;124mCannot locate relative element with: \u001b[39m\u001b[38;5;132;01m{\u001b[39;00mby\u001b[38;5;241m.\u001b[39mroot\u001b[38;5;132;01m}\u001b[39;00m\u001b[38;5;124m\"\u001b[39m)\n\u001b[1;32m    764\u001b[0m     \u001b[38;5;28;01mreturn\u001b[39;00m elements[\u001b[38;5;241m0\u001b[39m]\n\u001b[0;32m--> 766\u001b[0m \u001b[38;5;28;01mreturn\u001b[39;00m \u001b[38;5;28;43mself\u001b[39;49m\u001b[38;5;241;43m.\u001b[39;49m\u001b[43mexecute\u001b[49m\u001b[43m(\u001b[49m\u001b[43mCommand\u001b[49m\u001b[38;5;241;43m.\u001b[39;49m\u001b[43mFIND_ELEMENT\u001b[49m\u001b[43m,\u001b[49m\u001b[43m \u001b[49m\u001b[43m{\u001b[49m\u001b[38;5;124;43m\"\u001b[39;49m\u001b[38;5;124;43musing\u001b[39;49m\u001b[38;5;124;43m\"\u001b[39;49m\u001b[43m:\u001b[49m\u001b[43m \u001b[49m\u001b[43mby\u001b[49m\u001b[43m,\u001b[49m\u001b[43m \u001b[49m\u001b[38;5;124;43m\"\u001b[39;49m\u001b[38;5;124;43mvalue\u001b[39;49m\u001b[38;5;124;43m\"\u001b[39;49m\u001b[43m:\u001b[49m\u001b[43m \u001b[49m\u001b[43mvalue\u001b[49m\u001b[43m}\u001b[49m\u001b[43m)\u001b[49m[\u001b[38;5;124m\"\u001b[39m\u001b[38;5;124mvalue\u001b[39m\u001b[38;5;124m\"\u001b[39m]\n",
      "File \u001b[0;32m~/anaconda3/lib/python3.10/site-packages/selenium/webdriver/remote/webdriver.py:380\u001b[0m, in \u001b[0;36mWebDriver.execute\u001b[0;34m(self, driver_command, params)\u001b[0m\n\u001b[1;32m    378\u001b[0m response \u001b[38;5;241m=\u001b[39m \u001b[38;5;28mself\u001b[39m\u001b[38;5;241m.\u001b[39mcommand_executor\u001b[38;5;241m.\u001b[39mexecute(driver_command, params)\n\u001b[1;32m    379\u001b[0m \u001b[38;5;28;01mif\u001b[39;00m response:\n\u001b[0;32m--> 380\u001b[0m     \u001b[38;5;28;43mself\u001b[39;49m\u001b[38;5;241;43m.\u001b[39;49m\u001b[43merror_handler\u001b[49m\u001b[38;5;241;43m.\u001b[39;49m\u001b[43mcheck_response\u001b[49m\u001b[43m(\u001b[49m\u001b[43mresponse\u001b[49m\u001b[43m)\u001b[49m\n\u001b[1;32m    381\u001b[0m     response[\u001b[38;5;124m\"\u001b[39m\u001b[38;5;124mvalue\u001b[39m\u001b[38;5;124m\"\u001b[39m] \u001b[38;5;241m=\u001b[39m \u001b[38;5;28mself\u001b[39m\u001b[38;5;241m.\u001b[39m_unwrap_value(response\u001b[38;5;241m.\u001b[39mget(\u001b[38;5;124m\"\u001b[39m\u001b[38;5;124mvalue\u001b[39m\u001b[38;5;124m\"\u001b[39m, \u001b[38;5;28;01mNone\u001b[39;00m))\n\u001b[1;32m    382\u001b[0m     \u001b[38;5;28;01mreturn\u001b[39;00m response\n",
      "File \u001b[0;32m~/anaconda3/lib/python3.10/site-packages/selenium/webdriver/remote/errorhandler.py:229\u001b[0m, in \u001b[0;36mErrorHandler.check_response\u001b[0;34m(self, response)\u001b[0m\n\u001b[1;32m    227\u001b[0m         alert_text \u001b[38;5;241m=\u001b[39m value[\u001b[38;5;124m\"\u001b[39m\u001b[38;5;124malert\u001b[39m\u001b[38;5;124m\"\u001b[39m]\u001b[38;5;241m.\u001b[39mget(\u001b[38;5;124m\"\u001b[39m\u001b[38;5;124mtext\u001b[39m\u001b[38;5;124m\"\u001b[39m)\n\u001b[1;32m    228\u001b[0m     \u001b[38;5;28;01mraise\u001b[39;00m exception_class(message, screen, stacktrace, alert_text)  \u001b[38;5;66;03m# type: ignore[call-arg]  # mypy is not smart enough here\u001b[39;00m\n\u001b[0;32m--> 229\u001b[0m \u001b[38;5;28;01mraise\u001b[39;00m exception_class(message, screen, stacktrace)\n",
      "\u001b[0;31mNoSuchElementException\u001b[0m: Message: no such element: Unable to locate element: {\"method\":\"css selector\",\"selector\":\"[id=\"passing_playoffs\"]\"}\n  (Session info: chrome=139.0.7258.128); For documentation on this error, please visit: https://www.selenium.dev/documentation/webdriver/troubleshooting/errors#no-such-element-exception\nStacktrace:\n0   chromedriver                        0x00000001009c726c cxxbridge1$str$ptr + 2741972\n1   chromedriver                        0x00000001009bf1dc cxxbridge1$str$ptr + 2709060\n2   chromedriver                        0x00000001005094fc cxxbridge1$string$len + 90520\n3   chromedriver                        0x0000000100550a14 cxxbridge1$string$len + 382640\n4   chromedriver                        0x0000000100591db8 cxxbridge1$string$len + 649812\n5   chromedriver                        0x0000000100544d30 cxxbridge1$string$len + 334284\n6   chromedriver                        0x000000010098a66c cxxbridge1$str$ptr + 2493140\n7   chromedriver                        0x000000010098d8a0 cxxbridge1$str$ptr + 2505992\n8   chromedriver                        0x000000010096b4a4 cxxbridge1$str$ptr + 2365708\n9   chromedriver                        0x000000010098e15c cxxbridge1$str$ptr + 2508228\n10  chromedriver                        0x000000010095c59c cxxbridge1$str$ptr + 2304516\n11  chromedriver                        0x00000001009adc78 cxxbridge1$str$ptr + 2638048\n12  chromedriver                        0x00000001009ade04 cxxbridge1$str$ptr + 2638444\n13  chromedriver                        0x00000001009bee28 cxxbridge1$str$ptr + 2708112\n14  libsystem_pthread.dylib             0x0000000185d13c0c _pthread_start + 136\n15  libsystem_pthread.dylib             0x0000000185d0eb80 thread_start + 8\n"
     ]
    }
   ],
   "source": [
    "post_season_totals = pd.DataFrame()\n",
    "for year in range(2006, 2025):\n",
    "    url = \"https://www.pro-football-reference.com/years/{}/passing.htm#\".format(str(year))\n",
    "    driver.get(url)\n",
    "    table = driver.find_element(By.ID, \"passing_playoffs\")\n",
    "    \n",
    "\n",
    "    rows = table.find_elements(By.CSS_SELECTOR, \"tbody tr\")\n",
    "    data = []\n",
    "    for row in rows:  # skip first header row\n",
    "        cells = row.find_elements(By.TAG_NAME, \"td\")\n",
    "        if cells:\n",
    "            data.append([cell.text.strip() for cell in cells])\n",
    "    df = pd.DataFrame(data)\n",
    "    df[len(df.columns)] = year\n",
    "    \n",
    "    post_season_totals = pd.concat([post_season_totals,df])"
   ]
  },
  {
   "cell_type": "code",
   "execution_count": null,
   "id": "46abadd7",
   "metadata": {},
   "outputs": [],
   "source": []
  },
  {
   "cell_type": "code",
   "execution_count": 24,
   "id": "3615f5ce",
   "metadata": {},
   "outputs": [],
   "source": [
    "season_totals.to_csv('./data/pfr_season_totals_df.csv', index=None)"
   ]
  },
  {
   "cell_type": "code",
   "execution_count": null,
   "id": "9eb3a218",
   "metadata": {},
   "outputs": [],
   "source": []
  }
 ],
 "metadata": {
  "kernelspec": {
   "display_name": "Python 3 (ipykernel)",
   "language": "python",
   "name": "python3"
  },
  "language_info": {
   "codemirror_mode": {
    "name": "ipython",
    "version": 3
   },
   "file_extension": ".py",
   "mimetype": "text/x-python",
   "name": "python",
   "nbconvert_exporter": "python",
   "pygments_lexer": "ipython3",
   "version": "3.10.9"
  }
 },
 "nbformat": 4,
 "nbformat_minor": 5
}
