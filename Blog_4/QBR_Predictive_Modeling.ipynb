{
 "cells": [
  {
   "cell_type": "markdown",
   "id": "1be17795",
   "metadata": {},
   "source": [
    "### Import Libraries"
   ]
  },
  {
   "cell_type": "code",
   "execution_count": 54,
   "id": "b38963ea",
   "metadata": {},
   "outputs": [],
   "source": [
    "import pandas as pd\n",
    "import numpy as np\n",
    "import matplotlib.pyplot as plt"
   ]
  },
  {
   "cell_type": "markdown",
   "id": "daf2fde6",
   "metadata": {},
   "source": [
    "### Read Dataset"
   ]
  },
  {
   "cell_type": "code",
   "execution_count": 55,
   "id": "2b188ca1",
   "metadata": {},
   "outputs": [],
   "source": [
    "df = pd.read_csv('/Users/nicolabruno/Documents/QBR/QBR-Blog-Post/Blog_3/qbr3_df.csv')"
   ]
  },
  {
   "cell_type": "code",
   "execution_count": 56,
   "id": "f98f6a37",
   "metadata": {},
   "outputs": [
    {
     "data": {
      "text/html": [
       "<div>\n",
       "<style scoped>\n",
       "    .dataframe tbody tr th:only-of-type {\n",
       "        vertical-align: middle;\n",
       "    }\n",
       "\n",
       "    .dataframe tbody tr th {\n",
       "        vertical-align: top;\n",
       "    }\n",
       "\n",
       "    .dataframe thead th {\n",
       "        text-align: right;\n",
       "    }\n",
       "</style>\n",
       "<table border=\"1\" class=\"dataframe\">\n",
       "  <thead>\n",
       "    <tr style=\"text-align: right;\">\n",
       "      <th></th>\n",
       "      <th>PASS</th>\n",
       "      <th>PENALTY</th>\n",
       "      <th>PLAYER</th>\n",
       "      <th>PTS ADDED</th>\n",
       "      <th>QB PLAYS</th>\n",
       "      <th>RAW QBR</th>\n",
       "      <th>RESULT</th>\n",
       "      <th>RK</th>\n",
       "      <th>RUN</th>\n",
       "      <th>TOTAL EPA</th>\n",
       "      <th>...</th>\n",
       "      <th>Pts</th>\n",
       "      <th>Fmb</th>\n",
       "      <th>FF</th>\n",
       "      <th>FR</th>\n",
       "      <th>Yds.3</th>\n",
       "      <th>TD.3</th>\n",
       "      <th>team_win</th>\n",
       "      <th>start_win</th>\n",
       "      <th>game_count</th>\n",
       "      <th>start_count</th>\n",
       "    </tr>\n",
       "  </thead>\n",
       "  <tbody>\n",
       "    <tr>\n",
       "      <th>0</th>\n",
       "      <td>4.3</td>\n",
       "      <td>0.1</td>\n",
       "      <td>Rex Grossman, CHI</td>\n",
       "      <td>5.5</td>\n",
       "      <td>31</td>\n",
       "      <td>92.4</td>\n",
       "      <td>W 26-0  @ GB in Wk 1</td>\n",
       "      <td>1.0</td>\n",
       "      <td>0.6</td>\n",
       "      <td>5.4</td>\n",
       "      <td>...</td>\n",
       "      <td>0</td>\n",
       "      <td>0</td>\n",
       "      <td>0</td>\n",
       "      <td>0</td>\n",
       "      <td>-4</td>\n",
       "      <td>0</td>\n",
       "      <td>1</td>\n",
       "      <td>1</td>\n",
       "      <td>8</td>\n",
       "      <td>7</td>\n",
       "    </tr>\n",
       "    <tr>\n",
       "      <th>1</th>\n",
       "      <td>8.6</td>\n",
       "      <td>-0.1</td>\n",
       "      <td>Donovan McNabb, PHI</td>\n",
       "      <td>8.1</td>\n",
       "      <td>38</td>\n",
       "      <td>95.4</td>\n",
       "      <td>W 24-10  @ HOU in Wk 1</td>\n",
       "      <td>2.0</td>\n",
       "      <td>0.1</td>\n",
       "      <td>8.9</td>\n",
       "      <td>...</td>\n",
       "      <td>0</td>\n",
       "      <td>0</td>\n",
       "      <td>0</td>\n",
       "      <td>0</td>\n",
       "      <td>0</td>\n",
       "      <td>0</td>\n",
       "      <td>1</td>\n",
       "      <td>1</td>\n",
       "      <td>90</td>\n",
       "      <td>87</td>\n",
       "    </tr>\n",
       "    <tr>\n",
       "      <th>2</th>\n",
       "      <td>6.5</td>\n",
       "      <td>0.2</td>\n",
       "      <td>Chad Pennington, NYJ</td>\n",
       "      <td>6.1</td>\n",
       "      <td>43</td>\n",
       "      <td>88.1</td>\n",
       "      <td>W 23-16  @ TEN in Wk 1</td>\n",
       "      <td>3.0</td>\n",
       "      <td>-0.3</td>\n",
       "      <td>7.5</td>\n",
       "      <td>...</td>\n",
       "      <td>0</td>\n",
       "      <td>0</td>\n",
       "      <td>0</td>\n",
       "      <td>0</td>\n",
       "      <td>0</td>\n",
       "      <td>0</td>\n",
       "      <td>1</td>\n",
       "      <td>1</td>\n",
       "      <td>41</td>\n",
       "      <td>38</td>\n",
       "    </tr>\n",
       "    <tr>\n",
       "      <th>3</th>\n",
       "      <td>8.4</td>\n",
       "      <td>-0.3</td>\n",
       "      <td>Peyton Manning, IND</td>\n",
       "      <td>5.8</td>\n",
       "      <td>45</td>\n",
       "      <td>86.0</td>\n",
       "      <td>W 26-21  @ NYG in Wk 1</td>\n",
       "      <td>4.0</td>\n",
       "      <td>0.0</td>\n",
       "      <td>8.3</td>\n",
       "      <td>...</td>\n",
       "      <td>0</td>\n",
       "      <td>0</td>\n",
       "      <td>0</td>\n",
       "      <td>0</td>\n",
       "      <td>0</td>\n",
       "      <td>0</td>\n",
       "      <td>1</td>\n",
       "      <td>1</td>\n",
       "      <td>127</td>\n",
       "      <td>127</td>\n",
       "    </tr>\n",
       "    <tr>\n",
       "      <th>4</th>\n",
       "      <td>1.3</td>\n",
       "      <td>0.4</td>\n",
       "      <td>Mike Vick, ATL</td>\n",
       "      <td>1.8</td>\n",
       "      <td>30</td>\n",
       "      <td>70.5</td>\n",
       "      <td>W 20-6  @ CAR in Wk 1</td>\n",
       "      <td>5.0</td>\n",
       "      <td>1.1</td>\n",
       "      <td>3.4</td>\n",
       "      <td>...</td>\n",
       "      <td>0</td>\n",
       "      <td>0</td>\n",
       "      <td>0</td>\n",
       "      <td>0</td>\n",
       "      <td>0</td>\n",
       "      <td>0</td>\n",
       "      <td>1</td>\n",
       "      <td>1</td>\n",
       "      <td>54</td>\n",
       "      <td>50</td>\n",
       "    </tr>\n",
       "  </tbody>\n",
       "</table>\n",
       "<p>5 rows × 52 columns</p>\n",
       "</div>"
      ],
      "text/plain": [
       "   PASS  PENALTY                PLAYER  PTS ADDED  QB PLAYS  RAW QBR  \\\n",
       "0   4.3      0.1     Rex Grossman, CHI        5.5        31     92.4   \n",
       "1   8.6     -0.1   Donovan McNabb, PHI        8.1        38     95.4   \n",
       "2   6.5      0.2  Chad Pennington, NYJ        6.1        43     88.1   \n",
       "3   8.4     -0.3   Peyton Manning, IND        5.8        45     86.0   \n",
       "4   1.3      0.4        Mike Vick, ATL        1.8        30     70.5   \n",
       "\n",
       "                   RESULT   RK  RUN  TOTAL EPA  ...  Pts  Fmb  FF FR Yds.3  \\\n",
       "0    W 26-0  @ GB in Wk 1  1.0  0.6        5.4  ...    0    0   0  0    -4   \n",
       "1  W 24-10  @ HOU in Wk 1  2.0  0.1        8.9  ...    0    0   0  0     0   \n",
       "2  W 23-16  @ TEN in Wk 1  3.0 -0.3        7.5  ...    0    0   0  0     0   \n",
       "3  W 26-21  @ NYG in Wk 1  4.0  0.0        8.3  ...    0    0   0  0     0   \n",
       "4   W 20-6  @ CAR in Wk 1  5.0  1.1        3.4  ...    0    0   0  0     0   \n",
       "\n",
       "  TD.3 team_win  start_win  game_count start_count  \n",
       "0    0        1          1           8           7  \n",
       "1    0        1          1          90          87  \n",
       "2    0        1          1          41          38  \n",
       "3    0        1          1         127         127  \n",
       "4    0        1          1          54          50  \n",
       "\n",
       "[5 rows x 52 columns]"
      ]
     },
     "execution_count": 56,
     "metadata": {},
     "output_type": "execute_result"
    }
   ],
   "source": [
    "df.head()"
   ]
  },
  {
   "cell_type": "code",
   "execution_count": 57,
   "id": "21a7f898",
   "metadata": {},
   "outputs": [
    {
     "data": {
      "text/plain": [
       "Index(['PASS', 'PENALTY', 'PLAYER', 'PTS ADDED', 'QB PLAYS', 'RAW QBR',\n",
       "       'RESULT', 'RK', 'RUN', 'TOTAL EPA', 'TOTAL QBR', 'WEEK', 'Year', 'name',\n",
       "       'Tm', 'X', 'Game_result', 'Home_score', 'Away_score', 'Opp', 'id',\n",
       "       'Date', 'G.', 'Age', 'Result', 'GS', 'Cmp', 'Att', 'Cmp.', 'Yds', 'TD',\n",
       "       'Int', 'Rate', 'Sk', 'Yds.1', 'Y.A', 'AY.A', 'Att.1', 'Yds.2', 'Y.A.1',\n",
       "       'TD.1', 'TD.2', 'Pts', 'Fmb', 'FF', 'FR', 'Yds.3', 'TD.3', 'team_win',\n",
       "       'start_win', 'game_count', 'start_count'],\n",
       "      dtype='object')"
      ]
     },
     "execution_count": 57,
     "metadata": {},
     "output_type": "execute_result"
    }
   ],
   "source": [
    "df.columns"
   ]
  },
  {
   "cell_type": "code",
   "execution_count": 58,
   "id": "e146739f",
   "metadata": {},
   "outputs": [
    {
     "data": {
      "text/plain": [
       "(5899, 52)"
      ]
     },
     "execution_count": 58,
     "metadata": {},
     "output_type": "execute_result"
    }
   ],
   "source": [
    "df.shape"
   ]
  },
  {
   "cell_type": "markdown",
   "id": "81dc3ed1",
   "metadata": {},
   "source": [
    "Column definitions:\n",
    "- Sk = Sacks\n",
    "- Yds.1 = Yards Lost on Sacks\n",
    "- Att.1 = Number of rushing attempts\n",
    "- Yds.2 = Rushing Yards\n",
    "- TD.1 = Rushing Touchdowns\n",
    "- Fmb = Fumbles"
   ]
  },
  {
   "cell_type": "code",
   "execution_count": 59,
   "id": "41592c83",
   "metadata": {},
   "outputs": [],
   "source": [
    "df['Sacks'] = df['Sk'] \n",
    "df['Yards_lost_on_sack'] = df['Yds.1']\n",
    "df['Rushing_attempts'] = df['Att.1']\n",
    "df['Rushing_yards'] = df['Yds.2']\n",
    "df['Rushing_touchdowns'] = df['TD.1']\n",
    "df['Fumbles'] = df['Fmb']"
   ]
  },
  {
   "cell_type": "code",
   "execution_count": 60,
   "id": "f1192d96",
   "metadata": {},
   "outputs": [
    {
     "data": {
      "text/html": [
       "<div>\n",
       "<style scoped>\n",
       "    .dataframe tbody tr th:only-of-type {\n",
       "        vertical-align: middle;\n",
       "    }\n",
       "\n",
       "    .dataframe tbody tr th {\n",
       "        vertical-align: top;\n",
       "    }\n",
       "\n",
       "    .dataframe thead th {\n",
       "        text-align: right;\n",
       "    }\n",
       "</style>\n",
       "<table border=\"1\" class=\"dataframe\">\n",
       "  <thead>\n",
       "    <tr style=\"text-align: right;\">\n",
       "      <th></th>\n",
       "      <th>Cmp</th>\n",
       "      <th>Cmp.</th>\n",
       "    </tr>\n",
       "  </thead>\n",
       "  <tbody>\n",
       "    <tr>\n",
       "      <th>0</th>\n",
       "      <td>18</td>\n",
       "      <td>69.23</td>\n",
       "    </tr>\n",
       "  </tbody>\n",
       "</table>\n",
       "</div>"
      ],
      "text/plain": [
       "   Cmp   Cmp.\n",
       "0   18  69.23"
      ]
     },
     "execution_count": 60,
     "metadata": {},
     "output_type": "execute_result"
    }
   ],
   "source": [
    "df[['Cmp','Cmp.']].head(1)"
   ]
  },
  {
   "cell_type": "markdown",
   "id": "e772a113",
   "metadata": {},
   "source": [
    "### Logistic Regression"
   ]
  },
  {
   "cell_type": "markdown",
   "id": "ab30ab91",
   "metadata": {},
   "source": [
    "##### Passer Rating Features"
   ]
  },
  {
   "cell_type": "markdown",
   "id": "7b454e20",
   "metadata": {},
   "source": [
    "Passer Rating looks at completion percentage, yards per attempt, touchdowns per attempt, and interceptions per attempt. We will start with these factors to try to predict an above or below average QBR."
   ]
  },
  {
   "cell_type": "code",
   "execution_count": 61,
   "id": "4dfa4c72",
   "metadata": {},
   "outputs": [],
   "source": [
    "df['TDs_per_attempt'] = df.TD / df.Att\n",
    "df['INTs_per_attempt'] = df.Int / df.Att"
   ]
  },
  {
   "cell_type": "code",
   "execution_count": 62,
   "id": "1cedf39b",
   "metadata": {},
   "outputs": [],
   "source": [
    "df['Above_average'] = np.where(df['RAW QBR'] >= 50, 1, 0)"
   ]
  },
  {
   "cell_type": "code",
   "execution_count": 63,
   "id": "d609e663",
   "metadata": {},
   "outputs": [],
   "source": [
    "from sklearn.linear_model import LogisticRegression"
   ]
  },
  {
   "cell_type": "code",
   "execution_count": 64,
   "id": "6e73e8d2",
   "metadata": {},
   "outputs": [],
   "source": [
    "X = df[['Cmp.','Y.A','TDs_per_attempt','INTs_per_attempt']]"
   ]
  },
  {
   "cell_type": "code",
   "execution_count": 65,
   "id": "5694be08",
   "metadata": {},
   "outputs": [],
   "source": [
    "y = df['Above_average']"
   ]
  },
  {
   "cell_type": "code",
   "execution_count": 66,
   "id": "1049ca60",
   "metadata": {},
   "outputs": [],
   "source": [
    "clf = LogisticRegression(random_state=0).fit(X, y)"
   ]
  },
  {
   "cell_type": "code",
   "execution_count": 67,
   "id": "e4a29c58",
   "metadata": {},
   "outputs": [
    {
     "data": {
      "text/plain": [
       "array([1, 1, 1, ..., 1, 0, 0])"
      ]
     },
     "execution_count": 67,
     "metadata": {},
     "output_type": "execute_result"
    }
   ],
   "source": [
    "clf.predict(X)"
   ]
  },
  {
   "cell_type": "code",
   "execution_count": 68,
   "id": "d8ae6c9a",
   "metadata": {},
   "outputs": [
    {
     "data": {
      "text/plain": [
       "0.7774199016782506"
      ]
     },
     "execution_count": 68,
     "metadata": {},
     "output_type": "execute_result"
    }
   ],
   "source": [
    "clf.score(X,y) # not very accurate"
   ]
  },
  {
   "cell_type": "markdown",
   "id": "f32d1905",
   "metadata": {},
   "source": [
    "##### Traditional QB Statistics"
   ]
  },
  {
   "cell_type": "code",
   "execution_count": 69,
   "id": "166cf548",
   "metadata": {},
   "outputs": [
    {
     "data": {
      "text/plain": [
       "Index(['PASS', 'PENALTY', 'PLAYER', 'PTS ADDED', 'QB PLAYS', 'RAW QBR',\n",
       "       'RESULT', 'RK', 'RUN', 'TOTAL EPA', 'TOTAL QBR', 'WEEK', 'Year', 'name',\n",
       "       'Tm', 'X', 'Game_result', 'Home_score', 'Away_score', 'Opp', 'id',\n",
       "       'Date', 'G.', 'Age', 'Result', 'GS', 'Cmp', 'Att', 'Cmp.', 'Yds', 'TD',\n",
       "       'Int', 'Rate', 'Sk', 'Yds.1', 'Y.A', 'AY.A', 'Att.1', 'Yds.2', 'Y.A.1',\n",
       "       'TD.1', 'TD.2', 'Pts', 'Fmb', 'FF', 'FR', 'Yds.3', 'TD.3', 'team_win',\n",
       "       'start_win', 'game_count', 'start_count', 'Sacks', 'Yards_lost_on_sack',\n",
       "       'Rushing_attempts', 'Rushing_yards', 'Rushing_touchdowns', 'Fumbles',\n",
       "       'TDs_per_attempt', 'INTs_per_attempt', 'Above_average'],\n",
       "      dtype='object')"
      ]
     },
     "execution_count": 69,
     "metadata": {},
     "output_type": "execute_result"
    }
   ],
   "source": [
    "df.columns"
   ]
  },
  {
   "cell_type": "code",
   "execution_count": 70,
   "id": "1be591cd",
   "metadata": {},
   "outputs": [],
   "source": [
    "X = df[['Yds','TD','Int']]"
   ]
  },
  {
   "cell_type": "code",
   "execution_count": 71,
   "id": "721099b7",
   "metadata": {},
   "outputs": [],
   "source": [
    "clf1 = LogisticRegression(random_state=0).fit(X, y)"
   ]
  },
  {
   "cell_type": "code",
   "execution_count": 72,
   "id": "dd050a24",
   "metadata": {},
   "outputs": [
    {
     "data": {
      "text/plain": [
       "0.7686048482793694"
      ]
     },
     "execution_count": 72,
     "metadata": {},
     "output_type": "execute_result"
    }
   ],
   "source": [
    "clf1.score(X,y) # even worse"
   ]
  },
  {
   "cell_type": "markdown",
   "id": "7939637e",
   "metadata": {},
   "source": [
    "##### Additional Parameters"
   ]
  },
  {
   "cell_type": "code",
   "execution_count": 79,
   "id": "fc1da81a",
   "metadata": {},
   "outputs": [],
   "source": [
    "X = df[['Yds','TD','Int','Y.A','Sacks','Rushing_yards','Rushing_touchdowns','Fumbles']]"
   ]
  },
  {
   "cell_type": "code",
   "execution_count": 80,
   "id": "c84db649",
   "metadata": {},
   "outputs": [
    {
     "name": "stderr",
     "output_type": "stream",
     "text": [
      "/Users/nicolabruno/anaconda3/lib/python3.10/site-packages/sklearn/linear_model/_logistic.py:458: ConvergenceWarning: lbfgs failed to converge (status=1):\n",
      "STOP: TOTAL NO. of ITERATIONS REACHED LIMIT.\n",
      "\n",
      "Increase the number of iterations (max_iter) or scale the data as shown in:\n",
      "    https://scikit-learn.org/stable/modules/preprocessing.html\n",
      "Please also refer to the documentation for alternative solver options:\n",
      "    https://scikit-learn.org/stable/modules/linear_model.html#logistic-regression\n",
      "  n_iter_i = _check_optimize_result(\n"
     ]
    },
    {
     "data": {
      "text/plain": [
       "0.821834209187998"
      ]
     },
     "execution_count": 80,
     "metadata": {},
     "output_type": "execute_result"
    }
   ],
   "source": [
    "clf2 = LogisticRegression(random_state=0).fit(X, y)\n",
    "clf2.score(X,y) # Improved"
   ]
  },
  {
   "cell_type": "markdown",
   "id": "210e775d",
   "metadata": {},
   "source": [
    "##### Add Game Result"
   ]
  },
  {
   "cell_type": "code",
   "execution_count": 75,
   "id": "40b9b379",
   "metadata": {},
   "outputs": [],
   "source": [
    "df['Game_win'] = np.where(df.Game_result == 'W', 1, 0)"
   ]
  },
  {
   "cell_type": "code",
   "execution_count": 76,
   "id": "61fb921f",
   "metadata": {},
   "outputs": [
    {
     "name": "stderr",
     "output_type": "stream",
     "text": [
      "/Users/nicolabruno/anaconda3/lib/python3.10/site-packages/sklearn/linear_model/_logistic.py:458: ConvergenceWarning: lbfgs failed to converge (status=1):\n",
      "STOP: TOTAL NO. of ITERATIONS REACHED LIMIT.\n",
      "\n",
      "Increase the number of iterations (max_iter) or scale the data as shown in:\n",
      "    https://scikit-learn.org/stable/modules/preprocessing.html\n",
      "Please also refer to the documentation for alternative solver options:\n",
      "    https://scikit-learn.org/stable/modules/linear_model.html#logistic-regression\n",
      "  n_iter_i = _check_optimize_result(\n"
     ]
    },
    {
     "data": {
      "text/plain": [
       "0.8181047635192406"
      ]
     },
     "execution_count": 76,
     "metadata": {},
     "output_type": "execute_result"
    }
   ],
   "source": [
    "X = df[['Yds','TD','Int','Y.A','Sacks','Rushing_yards','Rushing_touchdowns','Fumbles','Game_win']]\n",
    "clf3 = LogisticRegression(random_state=0).fit(X, y)\n",
    "clf3.score(X,y) # Improved"
   ]
  },
  {
   "cell_type": "markdown",
   "id": "b350b527",
   "metadata": {},
   "source": [
    "Doesn't look like the game result (win or lose) improved the logistic model's accuracy of predicting an above average or below average QBR."
   ]
  },
  {
   "cell_type": "markdown",
   "id": "12179b15",
   "metadata": {},
   "source": [
    "##### F1 Score of best logistic model"
   ]
  },
  {
   "cell_type": "code",
   "execution_count": 81,
   "id": "b5d708f6",
   "metadata": {},
   "outputs": [],
   "source": [
    "preds = clf2.predict(X)"
   ]
  },
  {
   "cell_type": "code",
   "execution_count": 83,
   "id": "9ad1d794",
   "metadata": {},
   "outputs": [
    {
     "data": {
      "text/plain": [
       "0.8445036247965675"
      ]
     },
     "execution_count": 83,
     "metadata": {},
     "output_type": "execute_result"
    }
   ],
   "source": [
    "from sklearn.metrics import f1_score\n",
    "f1_score(y, preds)"
   ]
  },
  {
   "cell_type": "code",
   "execution_count": 85,
   "id": "e17e311e",
   "metadata": {},
   "outputs": [
    {
     "data": {
      "text/plain": [
       "(0.835480093676815, 0.8537241998205205)"
      ]
     },
     "execution_count": 85,
     "metadata": {},
     "output_type": "execute_result"
    }
   ],
   "source": [
    "from sklearn.metrics import precision_score\n",
    "from sklearn.metrics import recall_score\n",
    "\n",
    "precision = precision_score(y, preds)\n",
    "recall = recall_score(y, preds)\n",
    "precision, recall"
   ]
  },
  {
   "cell_type": "code",
   "execution_count": 87,
   "id": "e04db9f9",
   "metadata": {},
   "outputs": [
    {
     "data": {
      "text/plain": [
       "0.8445036247965675"
      ]
     },
     "execution_count": 87,
     "metadata": {},
     "output_type": "execute_result"
    }
   ],
   "source": [
    "f1 = 2 * (precision * recall) / (precision + recall)\n",
    "f1"
   ]
  },
  {
   "cell_type": "markdown",
   "id": "6e6083af",
   "metadata": {},
   "source": [
    "##### Find average QBRs of incorrect predictions"
   ]
  },
  {
   "cell_type": "code",
   "execution_count": 92,
   "id": "dd2d3db0",
   "metadata": {},
   "outputs": [
    {
     "data": {
      "text/plain": [
       "5899"
      ]
     },
     "execution_count": 92,
     "metadata": {},
     "output_type": "execute_result"
    }
   ],
   "source": [
    "len([x for x in preds if x == x in np.array(y)])"
   ]
  },
  {
   "cell_type": "code",
   "execution_count": 114,
   "id": "7a8f67bc",
   "metadata": {},
   "outputs": [],
   "source": [
    "def wrong_preds(list1, list2):\n",
    "    list1 = list(list1)\n",
    "    list2 = list(list2)\n",
    "    diff_nums_list = []\n",
    "    for i in range(len(list1)):\n",
    "        if list1[i] != list2[i]:\n",
    "            diff_nums_list.append(i)\n",
    "    return diff_nums_list"
   ]
  },
  {
   "cell_type": "code",
   "execution_count": 118,
   "id": "a9d253dc",
   "metadata": {},
   "outputs": [],
   "source": [
    "wrong_predictions = wrong_preds(preds, y)"
   ]
  },
  {
   "cell_type": "code",
   "execution_count": 119,
   "id": "2a38792e",
   "metadata": {},
   "outputs": [
    {
     "data": {
      "text/plain": [
       "1051"
      ]
     },
     "execution_count": 119,
     "metadata": {},
     "output_type": "execute_result"
    }
   ],
   "source": [
    "len(wrong_predictions)"
   ]
  },
  {
   "cell_type": "code",
   "execution_count": 128,
   "id": "7fe7ae8f",
   "metadata": {},
   "outputs": [],
   "source": [
    "def false_positive(predictions, true_values):\n",
    "    predictions = list(predictions)\n",
    "    true_values = list(true_values)\n",
    "    false_pos = []\n",
    "    for i in range(len(predictions)):\n",
    "        if (predictions[i] == 1) & (true_values[i] == 0):\n",
    "            false_pos.append(i)\n",
    "    return false_pos"
   ]
  },
  {
   "cell_type": "code",
   "execution_count": 129,
   "id": "099f1ecb",
   "metadata": {},
   "outputs": [
    {
     "data": {
      "text/plain": [
       "562"
      ]
     },
     "execution_count": 129,
     "metadata": {},
     "output_type": "execute_result"
    }
   ],
   "source": [
    "false_pos = false_positive(preds, y)\n",
    "len(false_pos)"
   ]
  },
  {
   "cell_type": "code",
   "execution_count": 130,
   "id": "dda1d9ac",
   "metadata": {},
   "outputs": [],
   "source": [
    "def false_negatives(predictions, true_values):\n",
    "    predictions = list(predictions)\n",
    "    true_values = list(true_values)\n",
    "    false_negatives = []\n",
    "    for i in range(len(predictions)):\n",
    "        if (predictions[i] == 0) & (true_values[i] == 1):\n",
    "            false_negatives.append(i)\n",
    "    return false_negatives"
   ]
  },
  {
   "cell_type": "code",
   "execution_count": 131,
   "id": "b69c5361",
   "metadata": {},
   "outputs": [
    {
     "data": {
      "text/plain": [
       "489"
      ]
     },
     "execution_count": 131,
     "metadata": {},
     "output_type": "execute_result"
    }
   ],
   "source": [
    "false_neg = false_negatives(preds, y)\n",
    "len(false_neg)"
   ]
  },
  {
   "cell_type": "code",
   "execution_count": 137,
   "id": "08be5637",
   "metadata": {},
   "outputs": [],
   "source": [
    "false_pos_qbrs = df['TOTAL QBR'].iloc[false_pos]\n",
    "false_neg_qbrs = df['TOTAL QBR'].iloc[false_neg]"
   ]
  },
  {
   "cell_type": "code",
   "execution_count": 138,
   "id": "949dc482",
   "metadata": {},
   "outputs": [
    {
     "data": {
      "text/plain": [
       "37.865480427046265"
      ]
     },
     "execution_count": 138,
     "metadata": {},
     "output_type": "execute_result"
    }
   ],
   "source": [
    "np.mean(false_pos_qbrs)"
   ]
  },
  {
   "cell_type": "code",
   "execution_count": 139,
   "id": "99b6c867",
   "metadata": {},
   "outputs": [
    {
     "data": {
      "text/plain": [
       "60.55337423312883"
      ]
     },
     "execution_count": 139,
     "metadata": {},
     "output_type": "execute_result"
    }
   ],
   "source": [
    "np.mean(false_neg_qbrs)"
   ]
  },
  {
   "cell_type": "markdown",
   "id": "634654fa",
   "metadata": {},
   "source": [
    "Interesting, I thought and was hoping that the mislabeled good or bad games would be closer to 50. I'll take a closer look at the mislabeled games. I will also take a look at the probabilities that are predicted with logistic regression, multiply those values by 100 to get a comparable QBR code, and find the mean squared error of that. This is a createive way to use a logistic regression classification result in a regression form."
   ]
  },
  {
   "cell_type": "code",
   "execution_count": null,
   "id": "8160bc78",
   "metadata": {},
   "outputs": [],
   "source": []
  }
 ],
 "metadata": {
  "kernelspec": {
   "display_name": "Python 3 (ipykernel)",
   "language": "python",
   "name": "python3"
  },
  "language_info": {
   "codemirror_mode": {
    "name": "ipython",
    "version": 3
   },
   "file_extension": ".py",
   "mimetype": "text/x-python",
   "name": "python",
   "nbconvert_exporter": "python",
   "pygments_lexer": "ipython3",
   "version": "3.10.9"
  }
 },
 "nbformat": 4,
 "nbformat_minor": 5
}
