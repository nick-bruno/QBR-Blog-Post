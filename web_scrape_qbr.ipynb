{
 "cells": [
  {
   "cell_type": "markdown",
   "metadata": {},
   "source": [
    "# Webscraping ESPN.com for Quarterback Rating (QBR) Statistics\n",
    "## By: Nick Bruno"
   ]
  },
  {
   "cell_type": "markdown",
   "metadata": {},
   "source": [
    "### Import Libraries"
   ]
  },
  {
   "cell_type": "code",
   "execution_count": 1,
   "metadata": {},
   "outputs": [],
   "source": [
    "# https://news.codecademy.com/web-scraping-python-beautiful-soup-mlb-stats/\n",
    "import pandas as pd\n",
    "import re\n",
    "import requests\n",
    "from bs4 import BeautifulSoup"
   ]
  },
  {
   "cell_type": "markdown",
   "metadata": {},
   "source": [
    "### URL Information"
   ]
  },
  {
   "cell_type": "code",
   "execution_count": 2,
   "metadata": {},
   "outputs": [],
   "source": [
    "url = 'http://www.espn.com/nfl/qbr'\n",
    "page = requests.get(url)\n",
    "soup = BeautifulSoup(page.text, 'html.parser')"
   ]
  },
  {
   "cell_type": "markdown",
   "metadata": {},
   "source": [
    "### Investigate Website HTML"
   ]
  },
  {
   "cell_type": "code",
   "execution_count": 3,
   "metadata": {},
   "outputs": [
    {
     "data": {
      "text/plain": [
       "<tr align=\"right\" class=\"colhead\"><td align=\"left\">RK</td><td align=\"left\" width=\"18%\">PLAYER</td><td><a href=\"//www.espn.com/nfl/qbr/_/sort/qbpaa\" title=\"Number of points contributed by a quarterback over the season, accounting for QBR and how much he plays, above the level of an average quarterback.\">PTS ADDED</a></td><td><a href=\"//www.espn.com/nfl/qbr/_/sort/cwepaPassesCondensed\" title=\"Clutch-weighted expected points added on plays with pass attempts.\">PASS</a></td><td><a href=\"//www.espn.com/nfl/qbr/_/sort/cwepaRuns\" title=\"Clutch-weighted expected points added through rushes.\">RUN</a></td><td><a href=\"//www.espn.com/nfl/qbr/_/sort/cwepaPenalties\" title=\"Clutch-weighted expected points added on penalties.\">PENALTY</a></td><td><a href=\"//www.espn.com/nfl/qbr/_/sort/cwepaTotal\" title=\"Total clutch-weighted expected points added.\">TOTAL EPA</a></td><td><a href=\"//www.espn.com/nfl/qbr/_/sort/actionPlays\" title=\"Plays on which the QB has a non-zero expected points contribution. Includes most plays that are not handoffs.\">QB PLAYS</a></td><td><a href=\"//www.espn.com/nfl/qbr/_/sort/qbr\" title=\"Total Quarterback Rating, which values quarterback on all play types on a 0-to-100 scale.\">RAW QBR</a></td><td><a href=\"//www.espn.com/nfl/qbr/_/order/false\" title=\"Opponent adjusted QBR.\">TOTAL QBR</a></td></tr>"
      ]
     },
     "execution_count": 3,
     "metadata": {},
     "output_type": "execute_result"
    }
   ],
   "source": [
    "# Investigate structure of the column header #\n",
    "soup.find('tr', attrs={'class':'colhead'})"
   ]
  },
  {
   "cell_type": "code",
   "execution_count": 4,
   "metadata": {},
   "outputs": [
    {
     "data": {
      "text/plain": [
       "['RK',\n",
       " 'PLAYER',\n",
       " 'PTS ADDED',\n",
       " 'PASS',\n",
       " 'RUN',\n",
       " 'PENALTY',\n",
       " 'TOTAL EPA',\n",
       " 'QB PLAYS',\n",
       " 'RAW QBR',\n",
       " 'TOTAL QBR']"
      ]
     },
     "execution_count": 4,
     "metadata": {},
     "output_type": "execute_result"
    }
   ],
   "source": [
    "# Get column headers #\n",
    "header = soup.find('tr', attrs={'class':'colhead'})\n",
    "columns = [col.get_text() for col in header.find_all('td')]\n",
    "columns"
   ]
  },
  {
   "cell_type": "code",
   "execution_count": 5,
   "metadata": {},
   "outputs": [
    {
     "data": {
      "text/html": [
       "<div>\n",
       "<style scoped>\n",
       "    .dataframe tbody tr th:only-of-type {\n",
       "        vertical-align: middle;\n",
       "    }\n",
       "\n",
       "    .dataframe tbody tr th {\n",
       "        vertical-align: top;\n",
       "    }\n",
       "\n",
       "    .dataframe thead th {\n",
       "        text-align: right;\n",
       "    }\n",
       "</style>\n",
       "<table border=\"1\" class=\"dataframe\">\n",
       "  <thead>\n",
       "    <tr style=\"text-align: right;\">\n",
       "      <th></th>\n",
       "      <th>RK</th>\n",
       "      <th>PLAYER</th>\n",
       "      <th>PTS ADDED</th>\n",
       "      <th>PASS</th>\n",
       "      <th>RUN</th>\n",
       "      <th>PENALTY</th>\n",
       "      <th>TOTAL EPA</th>\n",
       "      <th>QB PLAYS</th>\n",
       "      <th>RAW QBR</th>\n",
       "      <th>TOTAL QBR</th>\n",
       "    </tr>\n",
       "  </thead>\n",
       "  <tbody>\n",
       "  </tbody>\n",
       "</table>\n",
       "</div>"
      ],
      "text/plain": [
       "Empty DataFrame\n",
       "Columns: [RK, PLAYER, PTS ADDED, PASS, RUN, PENALTY, TOTAL EPA, QB PLAYS, RAW QBR, TOTAL QBR]\n",
       "Index: []"
      ]
     },
     "execution_count": 5,
     "metadata": {},
     "output_type": "execute_result"
    }
   ],
   "source": [
    "# Set up dataframe #\n",
    "df = pd.DataFrame(columns=columns)\n",
    "df"
   ]
  },
  {
   "cell_type": "markdown",
   "metadata": {},
   "source": [
    "### Investigate How to Find and Scrape Data on One Player"
   ]
  },
  {
   "cell_type": "code",
   "execution_count": 15,
   "metadata": {},
   "outputs": [
    {
     "data": {
      "text/plain": [
       "<tr align=\"right\" class=\"evenrow player-28-2577417\"><td align=\"left\">2</td><td align=\"left\"><a href=\"http://www.espn.com/nfl/player/_/id/2577417/dak-prescott\">Dak Prescott</a>, DAL</td><td>40.2</td><td>51.2</td><td>6.5</td><td>3.0</td><td>65.1</td><td>373</td><td>82.1</td><td class=\"sortcell\">78.9</td></tr>"
      ]
     },
     "execution_count": 15,
     "metadata": {},
     "output_type": "execute_result"
    }
   ],
   "source": [
    "# Look at Dak Prescott #\n",
    "soup.find('tr', attrs = {'class':'evenrow player-28-2577417'})"
   ]
  },
  {
   "cell_type": "code",
   "execution_count": 16,
   "metadata": {},
   "outputs": [
    {
     "name": "stdout",
     "output_type": "stream",
     "text": [
      "2\n",
      "Dak Prescott, DAL\n",
      "40.2\n",
      "51.2\n",
      "6.5\n",
      "3.0\n",
      "65.1\n",
      "373\n",
      "82.1\n",
      "78.9\n"
     ]
    }
   ],
   "source": [
    "# Scrape data for one player #\n",
    "row = soup.find('tr', attrs = {'class':'evenrow player-28-2577417'})\n",
    "for data in row.find_all('td'):\n",
    "    print(data.get_text())\n",
    "\n",
    "# Shows statistics of Dak Prescott #"
   ]
  },
  {
   "cell_type": "markdown",
   "metadata": {},
   "source": [
    "### Apply This to All 2019 QBs Listed on Site"
   ]
  },
  {
   "cell_type": "code",
   "execution_count": 12,
   "metadata": {},
   "outputs": [],
   "source": [
    "players = soup.find_all('tr', attrs = {'class':re.compile('row player-28-')}) # finds all for each player\n",
    "for player in players: # for every player in the players list\n",
    "    stats = [stat.get_text() for stat in player.find_all('td')]\n",
    "    temp_df = pd.DataFrame(stats).transpose()\n",
    "    temp_df.columns = columns\n",
    "    df = pd.concat([df, temp_df], ignore_index=True) # concatenates each player into once dataframe"
   ]
  },
  {
   "cell_type": "code",
   "execution_count": 13,
   "metadata": {},
   "outputs": [
    {
     "data": {
      "text/html": [
       "<div>\n",
       "<style scoped>\n",
       "    .dataframe tbody tr th:only-of-type {\n",
       "        vertical-align: middle;\n",
       "    }\n",
       "\n",
       "    .dataframe tbody tr th {\n",
       "        vertical-align: top;\n",
       "    }\n",
       "\n",
       "    .dataframe thead th {\n",
       "        text-align: right;\n",
       "    }\n",
       "</style>\n",
       "<table border=\"1\" class=\"dataframe\">\n",
       "  <thead>\n",
       "    <tr style=\"text-align: right;\">\n",
       "      <th></th>\n",
       "      <th>RK</th>\n",
       "      <th>PLAYER</th>\n",
       "      <th>PTS ADDED</th>\n",
       "      <th>PASS</th>\n",
       "      <th>RUN</th>\n",
       "      <th>PENALTY</th>\n",
       "      <th>TOTAL EPA</th>\n",
       "      <th>QB PLAYS</th>\n",
       "      <th>RAW QBR</th>\n",
       "      <th>TOTAL QBR</th>\n",
       "    </tr>\n",
       "  </thead>\n",
       "  <tbody>\n",
       "    <tr>\n",
       "      <th>0</th>\n",
       "      <td>1</td>\n",
       "      <td>Russell Wilson, SEA</td>\n",
       "      <td>39.4</td>\n",
       "      <td>48.0</td>\n",
       "      <td>7.1</td>\n",
       "      <td>1.4</td>\n",
       "      <td>65.8</td>\n",
       "      <td>377</td>\n",
       "      <td>81.4</td>\n",
       "      <td>79.0</td>\n",
       "    </tr>\n",
       "    <tr>\n",
       "      <th>1</th>\n",
       "      <td>2</td>\n",
       "      <td>Dak Prescott, DAL</td>\n",
       "      <td>40.2</td>\n",
       "      <td>51.2</td>\n",
       "      <td>6.5</td>\n",
       "      <td>3.0</td>\n",
       "      <td>65.1</td>\n",
       "      <td>373</td>\n",
       "      <td>82.1</td>\n",
       "      <td>78.9</td>\n",
       "    </tr>\n",
       "    <tr>\n",
       "      <th>2</th>\n",
       "      <td>3</td>\n",
       "      <td>Patrick Mahomes, KC</td>\n",
       "      <td>34.7</td>\n",
       "      <td>49.7</td>\n",
       "      <td>5.9</td>\n",
       "      <td>2.2</td>\n",
       "      <td>61.7</td>\n",
       "      <td>342</td>\n",
       "      <td>80.8</td>\n",
       "      <td>78.2</td>\n",
       "    </tr>\n",
       "    <tr>\n",
       "      <th>3</th>\n",
       "      <td>4</td>\n",
       "      <td>Lamar Jackson, BAL</td>\n",
       "      <td>33.0</td>\n",
       "      <td>31.0</td>\n",
       "      <td>23.4</td>\n",
       "      <td>0.4</td>\n",
       "      <td>60.6</td>\n",
       "      <td>385</td>\n",
       "      <td>77.1</td>\n",
       "      <td>76.0</td>\n",
       "    </tr>\n",
       "    <tr>\n",
       "      <th>4</th>\n",
       "      <td>5</td>\n",
       "      <td>Deshaun Watson, HOU</td>\n",
       "      <td>34.7</td>\n",
       "      <td>43.2</td>\n",
       "      <td>15.6</td>\n",
       "      <td>1.0</td>\n",
       "      <td>71.3</td>\n",
       "      <td>409</td>\n",
       "      <td>76.9</td>\n",
       "      <td>75.2</td>\n",
       "    </tr>\n",
       "  </tbody>\n",
       "</table>\n",
       "</div>"
      ],
      "text/plain": [
       "  RK               PLAYER PTS ADDED  PASS   RUN PENALTY TOTAL EPA QB PLAYS  \\\n",
       "0  1  Russell Wilson, SEA      39.4  48.0   7.1     1.4      65.8      377   \n",
       "1  2    Dak Prescott, DAL      40.2  51.2   6.5     3.0      65.1      373   \n",
       "2  3  Patrick Mahomes, KC      34.7  49.7   5.9     2.2      61.7      342   \n",
       "3  4   Lamar Jackson, BAL      33.0  31.0  23.4     0.4      60.6      385   \n",
       "4  5  Deshaun Watson, HOU      34.7  43.2  15.6     1.0      71.3      409   \n",
       "\n",
       "  RAW QBR TOTAL QBR  \n",
       "0    81.4      79.0  \n",
       "1    82.1      78.9  \n",
       "2    80.8      78.2  \n",
       "3    77.1      76.0  \n",
       "4    76.9      75.2  "
      ]
     },
     "execution_count": 13,
     "metadata": {},
     "output_type": "execute_result"
    }
   ],
   "source": [
    "df.head()"
   ]
  },
  {
   "cell_type": "code",
   "execution_count": 14,
   "metadata": {},
   "outputs": [
    {
     "data": {
      "text/plain": [
       "(32, 10)"
      ]
     },
     "execution_count": 14,
     "metadata": {},
     "output_type": "execute_result"
    }
   ],
   "source": [
    "df.shape # 32 QBs and 10 columns"
   ]
  },
  {
   "cell_type": "code",
   "execution_count": 25,
   "metadata": {},
   "outputs": [],
   "source": [
    "# Write results to .csv\n",
    "df.to_csv('2019_season_total_qbr.csv', header=True, index=False)"
   ]
  },
  {
   "cell_type": "markdown",
   "metadata": {},
   "source": [
    "### Scrape QBR Stat Leaders for One Year Available on ESPN using a function"
   ]
  },
  {
   "cell_type": "code",
   "execution_count": 29,
   "metadata": {},
   "outputs": [],
   "source": [
    "# Creates dataframe of Quarterback Total QBR stats over one season\n",
    "def one_year_qbr(url):\n",
    "    page = requests.get(url)\n",
    "    soup = BeautifulSoup(page.text, 'html.parser')\n",
    "    header = soup.find('tr', attrs={'class':'colhead'})\n",
    "    columns = [col.get_text() for col in header.find_all('td')]\n",
    "    df = pd.DataFrame(columns=columns) # empty df with column names\n",
    "    players = soup.find_all('tr', attrs = {'class':re.compile('row player-28-')}) # finds all for each player\n",
    "    for player in players: # for every player in the players list\n",
    "        stats = [stat.get_text() for stat in player.find_all('td')]\n",
    "        temp_df = pd.DataFrame(stats).transpose()\n",
    "        temp_df.columns = columns\n",
    "        temp_df['YEAR'] = url[-4:] # Creates a column 'YEAR' for the season\n",
    "        df = pd.concat([df, temp_df], ignore_index=True) # concatenates each player to the dataframe\n",
    "    return df\n",
    "\n",
    "# https://stackoverflow.com/questions/31062435/how-can-i-loop-scraping-data-for-multiple-pages-in-a-website-using-python-and-be"
   ]
  },
  {
   "cell_type": "code",
   "execution_count": 30,
   "metadata": {},
   "outputs": [
    {
     "name": "stderr",
     "output_type": "stream",
     "text": [
      "/anaconda3/lib/python3.7/site-packages/ipykernel_launcher.py:14: FutureWarning: Sorting because non-concatenation axis is not aligned. A future version\n",
      "of pandas will change to not sort by default.\n",
      "\n",
      "To accept the future behavior, pass 'sort=False'.\n",
      "\n",
      "To retain the current behavior and silence the warning, pass 'sort=True'.\n",
      "\n",
      "  \n"
     ]
    },
    {
     "data": {
      "text/html": [
       "<div>\n",
       "<style scoped>\n",
       "    .dataframe tbody tr th:only-of-type {\n",
       "        vertical-align: middle;\n",
       "    }\n",
       "\n",
       "    .dataframe tbody tr th {\n",
       "        vertical-align: top;\n",
       "    }\n",
       "\n",
       "    .dataframe thead th {\n",
       "        text-align: right;\n",
       "    }\n",
       "</style>\n",
       "<table border=\"1\" class=\"dataframe\">\n",
       "  <thead>\n",
       "    <tr style=\"text-align: right;\">\n",
       "      <th></th>\n",
       "      <th>PASS</th>\n",
       "      <th>PENALTY</th>\n",
       "      <th>PLAYER</th>\n",
       "      <th>PTS ADDED</th>\n",
       "      <th>QB PLAYS</th>\n",
       "      <th>RAW QBR</th>\n",
       "      <th>RK</th>\n",
       "      <th>RUN</th>\n",
       "      <th>TOTAL EPA</th>\n",
       "      <th>TOTAL QBR</th>\n",
       "      <th>YEAR</th>\n",
       "    </tr>\n",
       "  </thead>\n",
       "  <tbody>\n",
       "    <tr>\n",
       "      <th>0</th>\n",
       "      <td>66.7</td>\n",
       "      <td>2.8</td>\n",
       "      <td>Tom Brady, NE</td>\n",
       "      <td>52.0</td>\n",
       "      <td>574</td>\n",
       "      <td>78.3</td>\n",
       "      <td>1</td>\n",
       "      <td>0.8</td>\n",
       "      <td>79.1</td>\n",
       "      <td>79.1</td>\n",
       "      <td>2010</td>\n",
       "    </tr>\n",
       "    <tr>\n",
       "      <th>1</th>\n",
       "      <td>96.3</td>\n",
       "      <td>4.9</td>\n",
       "      <td>Peyton Manning, IND</td>\n",
       "      <td>60.3</td>\n",
       "      <td>749</td>\n",
       "      <td>75.7</td>\n",
       "      <td>2</td>\n",
       "      <td>1.3</td>\n",
       "      <td>108.8</td>\n",
       "      <td>71.6</td>\n",
       "      <td>2010</td>\n",
       "    </tr>\n",
       "    <tr>\n",
       "      <th>2</th>\n",
       "      <td>64.1</td>\n",
       "      <td>6.4</td>\n",
       "      <td>Matt Ryan, ATL</td>\n",
       "      <td>39.6</td>\n",
       "      <td>668</td>\n",
       "      <td>69.8</td>\n",
       "      <td>3</td>\n",
       "      <td>2.2</td>\n",
       "      <td>83.8</td>\n",
       "      <td>71.2</td>\n",
       "      <td>2010</td>\n",
       "    </tr>\n",
       "    <tr>\n",
       "      <th>3</th>\n",
       "      <td>80.3</td>\n",
       "      <td>0.8</td>\n",
       "      <td>Drew Brees, NO</td>\n",
       "      <td>45.0</td>\n",
       "      <td>726</td>\n",
       "      <td>70.6</td>\n",
       "      <td>4</td>\n",
       "      <td>-1.2</td>\n",
       "      <td>91.9</td>\n",
       "      <td>70.8</td>\n",
       "      <td>2010</td>\n",
       "    </tr>\n",
       "    <tr>\n",
       "      <th>4</th>\n",
       "      <td>26.6</td>\n",
       "      <td>1.7</td>\n",
       "      <td>Mike Vick, PHI</td>\n",
       "      <td>32.8</td>\n",
       "      <td>523</td>\n",
       "      <td>70.8</td>\n",
       "      <td>5</td>\n",
       "      <td>20.1</td>\n",
       "      <td>63.1</td>\n",
       "      <td>70.4</td>\n",
       "      <td>2010</td>\n",
       "    </tr>\n",
       "  </tbody>\n",
       "</table>\n",
       "</div>"
      ],
      "text/plain": [
       "   PASS PENALTY               PLAYER PTS ADDED QB PLAYS RAW QBR RK   RUN  \\\n",
       "0  66.7     2.8        Tom Brady, NE      52.0      574    78.3  1   0.8   \n",
       "1  96.3     4.9  Peyton Manning, IND      60.3      749    75.7  2   1.3   \n",
       "2  64.1     6.4       Matt Ryan, ATL      39.6      668    69.8  3   2.2   \n",
       "3  80.3     0.8       Drew Brees, NO      45.0      726    70.6  4  -1.2   \n",
       "4  26.6     1.7       Mike Vick, PHI      32.8      523    70.8  5  20.1   \n",
       "\n",
       "  TOTAL EPA TOTAL QBR  YEAR  \n",
       "0      79.1      79.1  2010  \n",
       "1     108.8      71.6  2010  \n",
       "2      83.8      71.2  2010  \n",
       "3      91.9      70.8  2010  \n",
       "4      63.1      70.4  2010  "
      ]
     },
     "execution_count": 30,
     "metadata": {},
     "output_type": "execute_result"
    }
   ],
   "source": [
    "qbr_2010 = one_year_qbr('http://www.espn.com/nfl/qbr/_/year/2010') # works\n",
    "qbr_2010.head()"
   ]
  },
  {
   "cell_type": "code",
   "execution_count": 28,
   "metadata": {},
   "outputs": [
    {
     "data": {
      "text/plain": [
       "31"
      ]
     },
     "execution_count": 28,
     "metadata": {},
     "output_type": "execute_result"
    }
   ],
   "source": [
    "qbr_2010.shape[0] # 31 QBs"
   ]
  },
  {
   "cell_type": "markdown",
   "metadata": {},
   "source": [
    "### Function that creates a dataframe of a QB's season QBR for a range of seasons"
   ]
  },
  {
   "cell_type": "code",
   "execution_count": 31,
   "metadata": {},
   "outputs": [],
   "source": [
    "def all_years_qbr(years_list):\n",
    "    final_df_try = pd.DataFrame() # empty df\n",
    "    for i in years_list:\n",
    "        url = 'http://www.espn.com/nfl/qbr/_/year/' + str(i)\n",
    "        page = requests.get(url)\n",
    "        soup = BeautifulSoup(page.text, 'html.parser')\n",
    "        header = soup.find('tr', attrs={'class':'colhead'})\n",
    "        columns = [col.get_text() for col in header.find_all('td')]\n",
    "        df = pd.DataFrame(columns=columns)\n",
    "        players = soup.find_all('tr', attrs = {'class':re.compile('row player-28-')}) # finds all for each player\n",
    "        for player in players: # for every player in the players list\n",
    "            stats = [stat.get_text() for stat in player.find_all('td')]\n",
    "            temp_df = pd.DataFrame(stats).transpose()\n",
    "            temp_df.columns = columns\n",
    "            temp_df['YEAR'] = int(i)\n",
    "            df = pd.concat([df, temp_df], ignore_index=True)\n",
    "        \n",
    "        final_df_try = final_df_try.append(df)\n",
    "    return final_df_try"
   ]
  },
  {
   "cell_type": "code",
   "execution_count": 32,
   "metadata": {},
   "outputs": [
    {
     "name": "stderr",
     "output_type": "stream",
     "text": [
      "/anaconda3/lib/python3.7/site-packages/ipykernel_launcher.py:16: FutureWarning: Sorting because non-concatenation axis is not aligned. A future version\n",
      "of pandas will change to not sort by default.\n",
      "\n",
      "To accept the future behavior, pass 'sort=False'.\n",
      "\n",
      "To retain the current behavior and silence the warning, pass 'sort=True'.\n",
      "\n",
      "  app.launch_new_instance()\n"
     ]
    }
   ],
   "source": [
    "final_qbr_df = all_years_qbr(range(2006,2020))"
   ]
  },
  {
   "cell_type": "code",
   "execution_count": 33,
   "metadata": {},
   "outputs": [
    {
     "data": {
      "text/html": [
       "<div>\n",
       "<style scoped>\n",
       "    .dataframe tbody tr th:only-of-type {\n",
       "        vertical-align: middle;\n",
       "    }\n",
       "\n",
       "    .dataframe tbody tr th {\n",
       "        vertical-align: top;\n",
       "    }\n",
       "\n",
       "    .dataframe thead th {\n",
       "        text-align: right;\n",
       "    }\n",
       "</style>\n",
       "<table border=\"1\" class=\"dataframe\">\n",
       "  <thead>\n",
       "    <tr style=\"text-align: right;\">\n",
       "      <th></th>\n",
       "      <th>PASS</th>\n",
       "      <th>PENALTY</th>\n",
       "      <th>PLAYER</th>\n",
       "      <th>PTS ADDED</th>\n",
       "      <th>QB PLAYS</th>\n",
       "      <th>RAW QBR</th>\n",
       "      <th>RK</th>\n",
       "      <th>RUN</th>\n",
       "      <th>TOTAL EPA</th>\n",
       "      <th>TOTAL QBR</th>\n",
       "      <th>YEAR</th>\n",
       "    </tr>\n",
       "  </thead>\n",
       "  <tbody>\n",
       "    <tr>\n",
       "      <th>0</th>\n",
       "      <td>96.0</td>\n",
       "      <td>1.1</td>\n",
       "      <td>Peyton Manning, IND</td>\n",
       "      <td>85.5</td>\n",
       "      <td>624</td>\n",
       "      <td>87.4</td>\n",
       "      <td>1</td>\n",
       "      <td>6.8</td>\n",
       "      <td>108.8</td>\n",
       "      <td>86.4</td>\n",
       "      <td>2006.0</td>\n",
       "    </tr>\n",
       "    <tr>\n",
       "      <th>1</th>\n",
       "      <td>38.8</td>\n",
       "      <td>2.8</td>\n",
       "      <td>Tom Brady, NE</td>\n",
       "      <td>30.9</td>\n",
       "      <td>610</td>\n",
       "      <td>67.2</td>\n",
       "      <td>2</td>\n",
       "      <td>4.3</td>\n",
       "      <td>57.9</td>\n",
       "      <td>68.6</td>\n",
       "      <td>2006.0</td>\n",
       "    </tr>\n",
       "    <tr>\n",
       "      <th>2</th>\n",
       "      <td>43.1</td>\n",
       "      <td>0.3</td>\n",
       "      <td>Philip Rivers, LAC</td>\n",
       "      <td>28.2</td>\n",
       "      <td>542</td>\n",
       "      <td>67.6</td>\n",
       "      <td>3</td>\n",
       "      <td>-0.9</td>\n",
       "      <td>53.0</td>\n",
       "      <td>67.4</td>\n",
       "      <td>2006.0</td>\n",
       "    </tr>\n",
       "    <tr>\n",
       "      <th>3</th>\n",
       "      <td>43.2</td>\n",
       "      <td>2.5</td>\n",
       "      <td>Carson Palmer, CIN</td>\n",
       "      <td>29.9</td>\n",
       "      <td>623</td>\n",
       "      <td>66.4</td>\n",
       "      <td>4</td>\n",
       "      <td>-0.3</td>\n",
       "      <td>58.3</td>\n",
       "      <td>67.1</td>\n",
       "      <td>2006.0</td>\n",
       "    </tr>\n",
       "    <tr>\n",
       "      <th>4</th>\n",
       "      <td>61.0</td>\n",
       "      <td>0.6</td>\n",
       "      <td>Drew Brees, NO</td>\n",
       "      <td>36.7</td>\n",
       "      <td>631</td>\n",
       "      <td>69.5</td>\n",
       "      <td>5</td>\n",
       "      <td>-5.2</td>\n",
       "      <td>64.2</td>\n",
       "      <td>66.7</td>\n",
       "      <td>2006.0</td>\n",
       "    </tr>\n",
       "  </tbody>\n",
       "</table>\n",
       "</div>"
      ],
      "text/plain": [
       "   PASS PENALTY               PLAYER PTS ADDED QB PLAYS RAW QBR RK   RUN  \\\n",
       "0  96.0     1.1  Peyton Manning, IND      85.5      624    87.4  1   6.8   \n",
       "1  38.8     2.8        Tom Brady, NE      30.9      610    67.2  2   4.3   \n",
       "2  43.1     0.3   Philip Rivers, LAC      28.2      542    67.6  3  -0.9   \n",
       "3  43.2     2.5   Carson Palmer, CIN      29.9      623    66.4  4  -0.3   \n",
       "4  61.0     0.6       Drew Brees, NO      36.7      631    69.5  5  -5.2   \n",
       "\n",
       "  TOTAL EPA TOTAL QBR    YEAR  \n",
       "0     108.8      86.4  2006.0  \n",
       "1      57.9      68.6  2006.0  \n",
       "2      53.0      67.4  2006.0  \n",
       "3      58.3      67.1  2006.0  \n",
       "4      64.2      66.7  2006.0  "
      ]
     },
     "execution_count": 33,
     "metadata": {},
     "output_type": "execute_result"
    }
   ],
   "source": [
    "final_qbr_df.head()"
   ]
  },
  {
   "cell_type": "code",
   "execution_count": 36,
   "metadata": {},
   "outputs": [
    {
     "data": {
      "text/plain": [
       "158"
      ]
     },
     "execution_count": 36,
     "metadata": {},
     "output_type": "execute_result"
    }
   ],
   "source": [
    "len(final_qbr_df.PLAYER.unique()) # stats on 158 unique quarterbacks"
   ]
  },
  {
   "cell_type": "code",
   "execution_count": 121,
   "metadata": {},
   "outputs": [],
   "source": [
    "# Write to .csv \n",
    "final_qbr_df.to_csv('all_years_qbr.csv', header=True, index=False)"
   ]
  },
  {
   "cell_type": "markdown",
   "metadata": {},
   "source": [
    "### Create a function to scrape stats for each week"
   ]
  },
  {
   "cell_type": "markdown",
   "metadata": {},
   "source": [
    "I have created functions that takes a Quarterback's yearly QBR over a season. QBR is a statistic that can be calculated over a season, but it is also calculated after every game. I am also interested in obtaining data concerning the QBR rating of a Quarterback for every game played."
   ]
  },
  {
   "cell_type": "code",
   "execution_count": 53,
   "metadata": {},
   "outputs": [],
   "source": [
    "def all_weeks_qbr(years_list):\n",
    "    final_weeks_df = pd.DataFrame()\n",
    "    for i in years_list:\n",
    "        url_year = 'http://www.espn.com/nfl/qbr/_/year/' + str(i)\n",
    "        second_df = pd.DataFrame()\n",
    "        for week in range(1, 18):\n",
    "            url = url_year + '/type/player-week/week/' + str(week)\n",
    "            page = requests.get(url)\n",
    "            soup = BeautifulSoup(page.text, 'html.parser')\n",
    "            header = soup.find('tr', attrs={'class':'colhead'})\n",
    "            columns = [col.get_text() for col in header.find_all('td')]\n",
    "            df = pd.DataFrame(columns=columns)\n",
    "            players = soup.find_all('tr', attrs = {'class':re.compile('row player-28-')}) # finds all for each player\n",
    "            for player in players: # for every player in the players list\n",
    "                stats = [stat.get_text() for stat in player.find_all('td')]\n",
    "                temp_df = pd.DataFrame(stats).transpose()\n",
    "                temp_df.columns = columns\n",
    "                temp_df['WEEK'] = int(week)\n",
    "                temp_df['YEAR'] = int(i)\n",
    "                df = pd.concat([df, temp_df], ignore_index=True)\n",
    "            second_df = second_df.append(df)\n",
    "        final_weeks_df = final_weeks_df.append(second_df)\n",
    "    return final_weeks_df"
   ]
  },
  {
   "cell_type": "code",
   "execution_count": 68,
   "metadata": {},
   "outputs": [],
   "source": [
    "# Create a list of years QBR has been recorded (2006 - 2018)\n",
    "lst = range(2006,2019)\n",
    "year_list = [\"{:02d}\".format(x) for x in lst]\n",
    "# https://stackoverflow.com/questions/17577797/convert-ranger-to-list-of-strings-of-length-2-in-python"
   ]
  },
  {
   "cell_type": "markdown",
   "metadata": {},
   "source": [
    "I chose to exclude QBR statistics from the 2019 season, since the 2019 NFL season is currently happening and there is not a full 17 weeks of 2019 QBR statistics."
   ]
  },
  {
   "cell_type": "code",
   "execution_count": 69,
   "metadata": {},
   "outputs": [
    {
     "name": "stderr",
     "output_type": "stream",
     "text": [
      "/anaconda3/lib/python3.7/site-packages/ipykernel_launcher.py:20: FutureWarning: Sorting because non-concatenation axis is not aligned. A future version\n",
      "of pandas will change to not sort by default.\n",
      "\n",
      "To accept the future behavior, pass 'sort=False'.\n",
      "\n",
      "To retain the current behavior and silence the warning, pass 'sort=True'.\n",
      "\n"
     ]
    }
   ],
   "source": [
    "all_weeks_reg_season_df = all_weeks_qbr(year_list)"
   ]
  },
  {
   "cell_type": "code",
   "execution_count": 70,
   "metadata": {},
   "outputs": [
    {
     "data": {
      "text/plain": [
       "(6537, 13)"
      ]
     },
     "execution_count": 70,
     "metadata": {},
     "output_type": "execute_result"
    }
   ],
   "source": [
    "all_weeks_reg_season_df.shape"
   ]
  },
  {
   "cell_type": "code",
   "execution_count": 71,
   "metadata": {},
   "outputs": [
    {
     "data": {
      "text/html": [
       "<div>\n",
       "<style scoped>\n",
       "    .dataframe tbody tr th:only-of-type {\n",
       "        vertical-align: middle;\n",
       "    }\n",
       "\n",
       "    .dataframe tbody tr th {\n",
       "        vertical-align: top;\n",
       "    }\n",
       "\n",
       "    .dataframe thead th {\n",
       "        text-align: right;\n",
       "    }\n",
       "</style>\n",
       "<table border=\"1\" class=\"dataframe\">\n",
       "  <thead>\n",
       "    <tr style=\"text-align: right;\">\n",
       "      <th></th>\n",
       "      <th>PASS</th>\n",
       "      <th>PENALTY</th>\n",
       "      <th>PLAYER</th>\n",
       "      <th>PTS ADDED</th>\n",
       "      <th>QB PLAYS</th>\n",
       "      <th>RAW QBR</th>\n",
       "      <th>RESULT</th>\n",
       "      <th>RK</th>\n",
       "      <th>RUN</th>\n",
       "      <th>TOTAL EPA</th>\n",
       "      <th>TOTAL QBR</th>\n",
       "      <th>WEEK</th>\n",
       "      <th>YEAR</th>\n",
       "    </tr>\n",
       "  </thead>\n",
       "  <tbody>\n",
       "    <tr>\n",
       "      <th>0</th>\n",
       "      <td>4.3</td>\n",
       "      <td>0.1</td>\n",
       "      <td>Rex Grossman, CHI</td>\n",
       "      <td>5.5</td>\n",
       "      <td>31</td>\n",
       "      <td>92.4</td>\n",
       "      <td>W 26-0  @ GB in Wk 1</td>\n",
       "      <td>1</td>\n",
       "      <td>0.6</td>\n",
       "      <td>5.4</td>\n",
       "      <td>96.4</td>\n",
       "      <td>1.0</td>\n",
       "      <td>2006.0</td>\n",
       "    </tr>\n",
       "    <tr>\n",
       "      <th>1</th>\n",
       "      <td>8.6</td>\n",
       "      <td>-0.1</td>\n",
       "      <td>Donovan McNabb, PHI</td>\n",
       "      <td>8.1</td>\n",
       "      <td>38</td>\n",
       "      <td>95.4</td>\n",
       "      <td>W 24-10  @ HOU in Wk 1</td>\n",
       "      <td>2</td>\n",
       "      <td>0.1</td>\n",
       "      <td>8.9</td>\n",
       "      <td>92.5</td>\n",
       "      <td>1.0</td>\n",
       "      <td>2006.0</td>\n",
       "    </tr>\n",
       "    <tr>\n",
       "      <th>2</th>\n",
       "      <td>6.5</td>\n",
       "      <td>0.2</td>\n",
       "      <td>Chad Pennington, NYJ</td>\n",
       "      <td>6.1</td>\n",
       "      <td>43</td>\n",
       "      <td>88.1</td>\n",
       "      <td>W 23-16  @ TEN in Wk 1</td>\n",
       "      <td>3</td>\n",
       "      <td>-0.3</td>\n",
       "      <td>7.5</td>\n",
       "      <td>90.1</td>\n",
       "      <td>1.0</td>\n",
       "      <td>2006.0</td>\n",
       "    </tr>\n",
       "    <tr>\n",
       "      <th>3</th>\n",
       "      <td>8.4</td>\n",
       "      <td>-0.3</td>\n",
       "      <td>Peyton Manning, IND</td>\n",
       "      <td>5.8</td>\n",
       "      <td>45</td>\n",
       "      <td>86.0</td>\n",
       "      <td>W 26-21  @ NYG in Wk 1</td>\n",
       "      <td>4</td>\n",
       "      <td>0.0</td>\n",
       "      <td>8.3</td>\n",
       "      <td>86.0</td>\n",
       "      <td>1.0</td>\n",
       "      <td>2006.0</td>\n",
       "    </tr>\n",
       "    <tr>\n",
       "      <th>4</th>\n",
       "      <td>1.3</td>\n",
       "      <td>0.4</td>\n",
       "      <td>Mike Vick, ATL</td>\n",
       "      <td>1.8</td>\n",
       "      <td>30</td>\n",
       "      <td>70.5</td>\n",
       "      <td>W 20-6  @ CAR in Wk 1</td>\n",
       "      <td>5</td>\n",
       "      <td>1.1</td>\n",
       "      <td>3.4</td>\n",
       "      <td>79.4</td>\n",
       "      <td>1.0</td>\n",
       "      <td>2006.0</td>\n",
       "    </tr>\n",
       "  </tbody>\n",
       "</table>\n",
       "</div>"
      ],
      "text/plain": [
       "  PASS PENALTY                PLAYER PTS ADDED QB PLAYS RAW QBR  \\\n",
       "0  4.3     0.1     Rex Grossman, CHI       5.5       31    92.4   \n",
       "1  8.6    -0.1   Donovan McNabb, PHI       8.1       38    95.4   \n",
       "2  6.5     0.2  Chad Pennington, NYJ       6.1       43    88.1   \n",
       "3  8.4    -0.3   Peyton Manning, IND       5.8       45    86.0   \n",
       "4  1.3     0.4        Mike Vick, ATL       1.8       30    70.5   \n",
       "\n",
       "                   RESULT RK   RUN TOTAL EPA TOTAL QBR  WEEK    YEAR  \n",
       "0    W 26-0  @ GB in Wk 1  1   0.6       5.4      96.4   1.0  2006.0  \n",
       "1  W 24-10  @ HOU in Wk 1  2   0.1       8.9      92.5   1.0  2006.0  \n",
       "2  W 23-16  @ TEN in Wk 1  3  -0.3       7.5      90.1   1.0  2006.0  \n",
       "3  W 26-21  @ NYG in Wk 1  4   0.0       8.3      86.0   1.0  2006.0  \n",
       "4   W 20-6  @ CAR in Wk 1  5   1.1       3.4      79.4   1.0  2006.0  "
      ]
     },
     "execution_count": 71,
     "metadata": {},
     "output_type": "execute_result"
    }
   ],
   "source": [
    "all_weeks_reg_season_df.head()"
   ]
  },
  {
   "cell_type": "code",
   "execution_count": 73,
   "metadata": {},
   "outputs": [
    {
     "data": {
      "text/plain": [
       "334"
      ]
     },
     "execution_count": 73,
     "metadata": {},
     "output_type": "execute_result"
    }
   ],
   "source": [
    "len(all_weeks_reg_season_df.PLAYER.unique()) # 334 unique Quarterbacks with QBR rankings from 2006 - 2018"
   ]
  },
  {
   "cell_type": "code",
   "execution_count": 74,
   "metadata": {},
   "outputs": [
    {
     "data": {
      "text/html": [
       "<div>\n",
       "<style scoped>\n",
       "    .dataframe tbody tr th:only-of-type {\n",
       "        vertical-align: middle;\n",
       "    }\n",
       "\n",
       "    .dataframe tbody tr th {\n",
       "        vertical-align: top;\n",
       "    }\n",
       "\n",
       "    .dataframe thead th {\n",
       "        text-align: right;\n",
       "    }\n",
       "</style>\n",
       "<table border=\"1\" class=\"dataframe\">\n",
       "  <thead>\n",
       "    <tr style=\"text-align: right;\">\n",
       "      <th></th>\n",
       "      <th>PASS</th>\n",
       "      <th>PENALTY</th>\n",
       "      <th>PLAYER</th>\n",
       "      <th>PTS ADDED</th>\n",
       "      <th>QB PLAYS</th>\n",
       "      <th>RAW QBR</th>\n",
       "      <th>RESULT</th>\n",
       "      <th>RK</th>\n",
       "      <th>RUN</th>\n",
       "      <th>TOTAL EPA</th>\n",
       "      <th>TOTAL QBR</th>\n",
       "      <th>WEEK</th>\n",
       "      <th>YEAR</th>\n",
       "    </tr>\n",
       "  </thead>\n",
       "  <tbody>\n",
       "    <tr>\n",
       "      <th>27</th>\n",
       "      <td>-0.6</td>\n",
       "      <td>-0.1</td>\n",
       "      <td>Blaine Gabbert, TEN</td>\n",
       "      <td>-4.0</td>\n",
       "      <td>31</td>\n",
       "      <td>13.7</td>\n",
       "      <td>L 33-17  vs IND in Wk 17</td>\n",
       "      <td>28</td>\n",
       "      <td>0.0</td>\n",
       "      <td>-0.8</td>\n",
       "      <td>11.3</td>\n",
       "      <td>17.0</td>\n",
       "      <td>2018.0</td>\n",
       "    </tr>\n",
       "    <tr>\n",
       "      <th>28</th>\n",
       "      <td>-4.9</td>\n",
       "      <td>0.3</td>\n",
       "      <td>Russell Wilson, SEA</td>\n",
       "      <td>-4.4</td>\n",
       "      <td>29</td>\n",
       "      <td>10.3</td>\n",
       "      <td>W 27-24  vs ARI in Wk 17</td>\n",
       "      <td>29</td>\n",
       "      <td>-0.2</td>\n",
       "      <td>-1.6</td>\n",
       "      <td>10.9</td>\n",
       "      <td>17.0</td>\n",
       "      <td>2018.0</td>\n",
       "    </tr>\n",
       "    <tr>\n",
       "      <th>29</th>\n",
       "      <td>-5.4</td>\n",
       "      <td>-0.1</td>\n",
       "      <td>Ryan Tannehill, MIA</td>\n",
       "      <td>-7.9</td>\n",
       "      <td>38</td>\n",
       "      <td>5.1</td>\n",
       "      <td>L 42-17  @ BUF in Wk 17</td>\n",
       "      <td>30</td>\n",
       "      <td>0.3</td>\n",
       "      <td>-3.4</td>\n",
       "      <td>8.2</td>\n",
       "      <td>17.0</td>\n",
       "      <td>2018.0</td>\n",
       "    </tr>\n",
       "    <tr>\n",
       "      <th>30</th>\n",
       "      <td>-2.0</td>\n",
       "      <td>-0.3</td>\n",
       "      <td>Blake Bortles, JAX</td>\n",
       "      <td>-7.1</td>\n",
       "      <td>38</td>\n",
       "      <td>6.7</td>\n",
       "      <td>L 20-3  @ HOU in Wk 17</td>\n",
       "      <td>31</td>\n",
       "      <td>-0.8</td>\n",
       "      <td>-2.4</td>\n",
       "      <td>7.5</td>\n",
       "      <td>17.0</td>\n",
       "      <td>2018.0</td>\n",
       "    </tr>\n",
       "    <tr>\n",
       "      <th>31</th>\n",
       "      <td>-3.7</td>\n",
       "      <td>0.1</td>\n",
       "      <td>Josh Johnson, WSH</td>\n",
       "      <td>-8.3</td>\n",
       "      <td>36</td>\n",
       "      <td>3.7</td>\n",
       "      <td>L 24-0  vs PHI in Wk 17</td>\n",
       "      <td>32</td>\n",
       "      <td>-0.8</td>\n",
       "      <td>-3.0</td>\n",
       "      <td>3.7</td>\n",
       "      <td>17.0</td>\n",
       "      <td>2018.0</td>\n",
       "    </tr>\n",
       "  </tbody>\n",
       "</table>\n",
       "</div>"
      ],
      "text/plain": [
       "    PASS PENALTY               PLAYER PTS ADDED QB PLAYS RAW QBR  \\\n",
       "27  -0.6    -0.1  Blaine Gabbert, TEN      -4.0       31    13.7   \n",
       "28  -4.9     0.3  Russell Wilson, SEA      -4.4       29    10.3   \n",
       "29  -5.4    -0.1  Ryan Tannehill, MIA      -7.9       38     5.1   \n",
       "30  -2.0    -0.3   Blake Bortles, JAX      -7.1       38     6.7   \n",
       "31  -3.7     0.1    Josh Johnson, WSH      -8.3       36     3.7   \n",
       "\n",
       "                      RESULT  RK   RUN TOTAL EPA TOTAL QBR  WEEK    YEAR  \n",
       "27  L 33-17  vs IND in Wk 17  28   0.0      -0.8      11.3  17.0  2018.0  \n",
       "28  W 27-24  vs ARI in Wk 17  29  -0.2      -1.6      10.9  17.0  2018.0  \n",
       "29   L 42-17  @ BUF in Wk 17  30   0.3      -3.4       8.2  17.0  2018.0  \n",
       "30    L 20-3  @ HOU in Wk 17  31  -0.8      -2.4       7.5  17.0  2018.0  \n",
       "31   L 24-0  vs PHI in Wk 17  32  -0.8      -3.0       3.7  17.0  2018.0  "
      ]
     },
     "execution_count": 74,
     "metadata": {},
     "output_type": "execute_result"
    }
   ],
   "source": [
    "all_weeks_reg_season_df.tail()"
   ]
  },
  {
   "cell_type": "code",
   "execution_count": 76,
   "metadata": {},
   "outputs": [],
   "source": [
    "# Write to .csv\n",
    "all_weeks_reg_season_df.to_csv('regular_season_qbr_2006_to_2018.csv', header=True)"
   ]
  },
  {
   "cell_type": "markdown",
   "metadata": {},
   "source": [
    "### Summary"
   ]
  },
  {
   "cell_type": "markdown",
   "metadata": {},
   "source": [
    "This Jupyter Notebook has showed how to scrape NFL Quarterback QBR statistics from ESPN.com. I have presented multiple functions that scrape season total QBR stats as well as weekly QBR stats. This scraping was done in an effort to compare QBR stats with the Passer Rating metric, and this analysis will be conducted in a future blog post on btc.bashingbitcoin.com. Gathering the data is the first step in this analysis process. The scraped ESPN data will be combined with the Quarterback Rating statistics scraped from pro-football-reference.com that was accomplished in an earlier blog post."
   ]
  },
  {
   "cell_type": "code",
   "execution_count": null,
   "metadata": {},
   "outputs": [],
   "source": []
  }
 ],
 "metadata": {
  "kernelspec": {
   "display_name": "Python 3",
   "language": "python",
   "name": "python3"
  },
  "language_info": {
   "codemirror_mode": {
    "name": "ipython",
    "version": 3
   },
   "file_extension": ".py",
   "mimetype": "text/x-python",
   "name": "python",
   "nbconvert_exporter": "python",
   "pygments_lexer": "ipython3",
   "version": "3.7.1"
  }
 },
 "nbformat": 4,
 "nbformat_minor": 2
}
