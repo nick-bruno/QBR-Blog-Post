{
 "cells": [
  {
   "cell_type": "markdown",
   "metadata": {},
   "source": [
    "# Combine ESPN and Pro Football Reference Dataframes\n",
    "## By: Nick Bruno"
   ]
  },
  {
   "cell_type": "markdown",
   "metadata": {},
   "source": [
    "### Import libraries"
   ]
  },
  {
   "cell_type": "code",
   "execution_count": 1,
   "metadata": {},
   "outputs": [],
   "source": [
    "import pandas as pd\n",
    "import os\n",
    "import numpy as np"
   ]
  },
  {
   "cell_type": "markdown",
   "metadata": {},
   "source": [
    "### Import datasets"
   ]
  },
  {
   "cell_type": "markdown",
   "metadata": {},
   "source": [
    "##### Import QBR dataset"
   ]
  },
  {
   "cell_type": "code",
   "execution_count": 7,
   "metadata": {},
   "outputs": [],
   "source": [
    "qbr_data = pd.read_csv('regular_season_qbr_2006_to_2018.csv', index_col=None)"
   ]
  },
  {
   "cell_type": "code",
   "execution_count": 8,
   "metadata": {},
   "outputs": [],
   "source": [
    "# Drop index column\n",
    "qbr_data = qbr_data.drop(columns='Unnamed: 0')"
   ]
  },
  {
   "cell_type": "code",
   "execution_count": 9,
   "metadata": {},
   "outputs": [
    {
     "data": {
      "text/plain": [
       "Index(['PASS', 'PENALTY', 'PLAYER', 'PTS ADDED', 'QB PLAYS', 'RAW QBR',\n",
       "       'RESULT', 'RK', 'RUN', 'TOTAL EPA', 'TOTAL QBR', 'WEEK', 'YEAR'],\n",
       "      dtype='object')"
      ]
     },
     "execution_count": 9,
     "metadata": {},
     "output_type": "execute_result"
    }
   ],
   "source": [
    "# List columns\n",
    "qbr_data.columns"
   ]
  },
  {
   "cell_type": "code",
   "execution_count": 14,
   "metadata": {},
   "outputs": [
    {
     "data": {
      "text/html": [
       "<div>\n",
       "<style scoped>\n",
       "    .dataframe tbody tr th:only-of-type {\n",
       "        vertical-align: middle;\n",
       "    }\n",
       "\n",
       "    .dataframe tbody tr th {\n",
       "        vertical-align: top;\n",
       "    }\n",
       "\n",
       "    .dataframe thead th {\n",
       "        text-align: right;\n",
       "    }\n",
       "</style>\n",
       "<table border=\"1\" class=\"dataframe\">\n",
       "  <thead>\n",
       "    <tr style=\"text-align: right;\">\n",
       "      <th></th>\n",
       "      <th>PASS</th>\n",
       "      <th>PENALTY</th>\n",
       "      <th>PLAYER</th>\n",
       "      <th>PTS ADDED</th>\n",
       "      <th>QB PLAYS</th>\n",
       "      <th>RAW QBR</th>\n",
       "      <th>RESULT</th>\n",
       "      <th>RK</th>\n",
       "      <th>RUN</th>\n",
       "      <th>TOTAL EPA</th>\n",
       "      <th>TOTAL QBR</th>\n",
       "      <th>WEEK</th>\n",
       "      <th>YEAR</th>\n",
       "    </tr>\n",
       "  </thead>\n",
       "  <tbody>\n",
       "    <tr>\n",
       "      <th>0</th>\n",
       "      <td>4.3</td>\n",
       "      <td>0.1</td>\n",
       "      <td>Rex Grossman, CHI</td>\n",
       "      <td>5.5</td>\n",
       "      <td>31</td>\n",
       "      <td>92.4</td>\n",
       "      <td>W 26-0  @ GB in Wk 1</td>\n",
       "      <td>1.0</td>\n",
       "      <td>0.6</td>\n",
       "      <td>5.4</td>\n",
       "      <td>96.4</td>\n",
       "      <td>1.0</td>\n",
       "      <td>2006.0</td>\n",
       "    </tr>\n",
       "    <tr>\n",
       "      <th>1</th>\n",
       "      <td>8.6</td>\n",
       "      <td>-0.1</td>\n",
       "      <td>Donovan McNabb, PHI</td>\n",
       "      <td>8.1</td>\n",
       "      <td>38</td>\n",
       "      <td>95.4</td>\n",
       "      <td>W 24-10  @ HOU in Wk 1</td>\n",
       "      <td>2.0</td>\n",
       "      <td>0.1</td>\n",
       "      <td>8.9</td>\n",
       "      <td>92.5</td>\n",
       "      <td>1.0</td>\n",
       "      <td>2006.0</td>\n",
       "    </tr>\n",
       "    <tr>\n",
       "      <th>2</th>\n",
       "      <td>6.5</td>\n",
       "      <td>0.2</td>\n",
       "      <td>Chad Pennington, NYJ</td>\n",
       "      <td>6.1</td>\n",
       "      <td>43</td>\n",
       "      <td>88.1</td>\n",
       "      <td>W 23-16  @ TEN in Wk 1</td>\n",
       "      <td>3.0</td>\n",
       "      <td>-0.3</td>\n",
       "      <td>7.5</td>\n",
       "      <td>90.1</td>\n",
       "      <td>1.0</td>\n",
       "      <td>2006.0</td>\n",
       "    </tr>\n",
       "    <tr>\n",
       "      <th>3</th>\n",
       "      <td>8.4</td>\n",
       "      <td>-0.3</td>\n",
       "      <td>Peyton Manning, IND</td>\n",
       "      <td>5.8</td>\n",
       "      <td>45</td>\n",
       "      <td>86.0</td>\n",
       "      <td>W 26-21  @ NYG in Wk 1</td>\n",
       "      <td>4.0</td>\n",
       "      <td>0.0</td>\n",
       "      <td>8.3</td>\n",
       "      <td>86.0</td>\n",
       "      <td>1.0</td>\n",
       "      <td>2006.0</td>\n",
       "    </tr>\n",
       "    <tr>\n",
       "      <th>4</th>\n",
       "      <td>1.3</td>\n",
       "      <td>0.4</td>\n",
       "      <td>Mike Vick, ATL</td>\n",
       "      <td>1.8</td>\n",
       "      <td>30</td>\n",
       "      <td>70.5</td>\n",
       "      <td>W 20-6  @ CAR in Wk 1</td>\n",
       "      <td>5.0</td>\n",
       "      <td>1.1</td>\n",
       "      <td>3.4</td>\n",
       "      <td>79.4</td>\n",
       "      <td>1.0</td>\n",
       "      <td>2006.0</td>\n",
       "    </tr>\n",
       "  </tbody>\n",
       "</table>\n",
       "</div>"
      ],
      "text/plain": [
       "   PASS  PENALTY                PLAYER  PTS ADDED  QB PLAYS  RAW QBR  \\\n",
       "0   4.3      0.1     Rex Grossman, CHI        5.5        31     92.4   \n",
       "1   8.6     -0.1   Donovan McNabb, PHI        8.1        38     95.4   \n",
       "2   6.5      0.2  Chad Pennington, NYJ        6.1        43     88.1   \n",
       "3   8.4     -0.3   Peyton Manning, IND        5.8        45     86.0   \n",
       "4   1.3      0.4        Mike Vick, ATL        1.8        30     70.5   \n",
       "\n",
       "                   RESULT   RK  RUN  TOTAL EPA  TOTAL QBR  WEEK    YEAR  \n",
       "0    W 26-0  @ GB in Wk 1  1.0  0.6        5.4       96.4   1.0  2006.0  \n",
       "1  W 24-10  @ HOU in Wk 1  2.0  0.1        8.9       92.5   1.0  2006.0  \n",
       "2  W 23-16  @ TEN in Wk 1  3.0 -0.3        7.5       90.1   1.0  2006.0  \n",
       "3  W 26-21  @ NYG in Wk 1  4.0  0.0        8.3       86.0   1.0  2006.0  \n",
       "4   W 20-6  @ CAR in Wk 1  5.0  1.1        3.4       79.4   1.0  2006.0  "
      ]
     },
     "execution_count": 14,
     "metadata": {},
     "output_type": "execute_result"
    }
   ],
   "source": [
    "# Checkout first 5 rows\n",
    "qbr_data.head()"
   ]
  },
  {
   "cell_type": "code",
   "execution_count": 11,
   "metadata": {},
   "outputs": [
    {
     "data": {
      "text/plain": [
       "0       W 26-0  @ GB in Wk 1\n",
       "1     W 24-10  @ HOU in Wk 1\n",
       "2     W 23-16  @ TEN in Wk 1\n",
       "3     W 26-21  @ NYG in Wk 1\n",
       "4      W 20-6  @ CAR in Wk 1\n",
       "5    W 28-17  vs MIA in Wk 1\n",
       "6       W 27-0  @ TB in Wk 1\n",
       "7    W 24-17  vs DAL in Wk 1\n",
       "8     W 19-16  @ WSH in Wk 1\n",
       "9      L 19-17  @ NE in Wk 1\n",
       "Name: RESULT, dtype: object"
      ]
     },
     "execution_count": 11,
     "metadata": {},
     "output_type": "execute_result"
    }
   ],
   "source": [
    "# Investigate 'RESULT' column\n",
    "qbr_data.RESULT.iloc[:10]"
   ]
  },
  {
   "cell_type": "markdown",
   "metadata": {},
   "source": [
    "##### Import pro-football-reference quarterback dataset"
   ]
  },
  {
   "cell_type": "code",
   "execution_count": 12,
   "metadata": {},
   "outputs": [],
   "source": [
    "pfr_data = pd.read_csv('qb_data.csv')"
   ]
  },
  {
   "cell_type": "code",
   "execution_count": 13,
   "metadata": {},
   "outputs": [
    {
     "data": {
      "text/plain": [
       "Index(['name', 'id', 'Year', 'Date', 'G.', 'Age', 'Tm', 'X', 'Opp', 'Result',\n",
       "       'GS', 'Cmp', 'Att', 'Cmp.', 'Yds', 'TD', 'Int', 'Rate', 'Sk', 'Yds.1',\n",
       "       'Y.A', 'AY.A', 'Att.1', 'Yds.2', 'Y.A.1', 'TD.1', 'TD.2', 'Pts', 'Fmb',\n",
       "       'FF', 'FR', 'Yds.3', 'TD.3', 'team_win', 'start_win', 'game_count',\n",
       "       'start_count'],\n",
       "      dtype='object')"
      ]
     },
     "execution_count": 13,
     "metadata": {},
     "output_type": "execute_result"
    }
   ],
   "source": [
    "# List columns\n",
    "pfr_data.columns"
   ]
  },
  {
   "cell_type": "code",
   "execution_count": 15,
   "metadata": {},
   "outputs": [
    {
     "data": {
      "text/html": [
       "<div>\n",
       "<style scoped>\n",
       "    .dataframe tbody tr th:only-of-type {\n",
       "        vertical-align: middle;\n",
       "    }\n",
       "\n",
       "    .dataframe tbody tr th {\n",
       "        vertical-align: top;\n",
       "    }\n",
       "\n",
       "    .dataframe thead th {\n",
       "        text-align: right;\n",
       "    }\n",
       "</style>\n",
       "<table border=\"1\" class=\"dataframe\">\n",
       "  <thead>\n",
       "    <tr style=\"text-align: right;\">\n",
       "      <th></th>\n",
       "      <th>name</th>\n",
       "      <th>id</th>\n",
       "      <th>Year</th>\n",
       "      <th>Date</th>\n",
       "      <th>G.</th>\n",
       "      <th>Age</th>\n",
       "      <th>Tm</th>\n",
       "      <th>X</th>\n",
       "      <th>Opp</th>\n",
       "      <th>Result</th>\n",
       "      <th>...</th>\n",
       "      <th>Pts</th>\n",
       "      <th>Fmb</th>\n",
       "      <th>FF</th>\n",
       "      <th>FR</th>\n",
       "      <th>Yds.3</th>\n",
       "      <th>TD.3</th>\n",
       "      <th>team_win</th>\n",
       "      <th>start_win</th>\n",
       "      <th>game_count</th>\n",
       "      <th>start_count</th>\n",
       "    </tr>\n",
       "  </thead>\n",
       "  <tbody>\n",
       "    <tr>\n",
       "      <th>0</th>\n",
       "      <td>A.J. Feeley</td>\n",
       "      <td>FeelA.00</td>\n",
       "      <td>2001</td>\n",
       "      <td>1/6/02</td>\n",
       "      <td>16</td>\n",
       "      <td>24.235</td>\n",
       "      <td>PHI</td>\n",
       "      <td>@</td>\n",
       "      <td>TAM</td>\n",
       "      <td>W 17-13</td>\n",
       "      <td>...</td>\n",
       "      <td>0</td>\n",
       "      <td>0</td>\n",
       "      <td>0</td>\n",
       "      <td>0</td>\n",
       "      <td>0</td>\n",
       "      <td>0</td>\n",
       "      <td>1</td>\n",
       "      <td>0</td>\n",
       "      <td>1</td>\n",
       "      <td>0</td>\n",
       "    </tr>\n",
       "    <tr>\n",
       "      <th>1</th>\n",
       "      <td>A.J. Feeley</td>\n",
       "      <td>FeelA.00</td>\n",
       "      <td>2002</td>\n",
       "      <td>12/1/02</td>\n",
       "      <td>12</td>\n",
       "      <td>25.199</td>\n",
       "      <td>PHI</td>\n",
       "      <td>NaN</td>\n",
       "      <td>STL</td>\n",
       "      <td>W 10-3</td>\n",
       "      <td>...</td>\n",
       "      <td>0</td>\n",
       "      <td>0</td>\n",
       "      <td>0</td>\n",
       "      <td>0</td>\n",
       "      <td>0</td>\n",
       "      <td>0</td>\n",
       "      <td>1</td>\n",
       "      <td>1</td>\n",
       "      <td>2</td>\n",
       "      <td>1</td>\n",
       "    </tr>\n",
       "    <tr>\n",
       "      <th>2</th>\n",
       "      <td>A.J. Feeley</td>\n",
       "      <td>FeelA.00</td>\n",
       "      <td>2002</td>\n",
       "      <td>12/8/02</td>\n",
       "      <td>13</td>\n",
       "      <td>25.206</td>\n",
       "      <td>PHI</td>\n",
       "      <td>@</td>\n",
       "      <td>SEA</td>\n",
       "      <td>W 27-20</td>\n",
       "      <td>...</td>\n",
       "      <td>0</td>\n",
       "      <td>0</td>\n",
       "      <td>0</td>\n",
       "      <td>0</td>\n",
       "      <td>0</td>\n",
       "      <td>0</td>\n",
       "      <td>1</td>\n",
       "      <td>1</td>\n",
       "      <td>3</td>\n",
       "      <td>2</td>\n",
       "    </tr>\n",
       "    <tr>\n",
       "      <th>3</th>\n",
       "      <td>A.J. Feeley</td>\n",
       "      <td>FeelA.00</td>\n",
       "      <td>2002</td>\n",
       "      <td>12/15/02</td>\n",
       "      <td>14</td>\n",
       "      <td>25.213</td>\n",
       "      <td>PHI</td>\n",
       "      <td>NaN</td>\n",
       "      <td>WAS</td>\n",
       "      <td>W 34-21</td>\n",
       "      <td>...</td>\n",
       "      <td>0</td>\n",
       "      <td>0</td>\n",
       "      <td>0</td>\n",
       "      <td>0</td>\n",
       "      <td>0</td>\n",
       "      <td>0</td>\n",
       "      <td>1</td>\n",
       "      <td>1</td>\n",
       "      <td>4</td>\n",
       "      <td>3</td>\n",
       "    </tr>\n",
       "    <tr>\n",
       "      <th>4</th>\n",
       "      <td>A.J. Feeley</td>\n",
       "      <td>FeelA.00</td>\n",
       "      <td>2002</td>\n",
       "      <td>12/21/02</td>\n",
       "      <td>15</td>\n",
       "      <td>25.219</td>\n",
       "      <td>PHI</td>\n",
       "      <td>@</td>\n",
       "      <td>DAL</td>\n",
       "      <td>W 27-3</td>\n",
       "      <td>...</td>\n",
       "      <td>0</td>\n",
       "      <td>0</td>\n",
       "      <td>0</td>\n",
       "      <td>0</td>\n",
       "      <td>0</td>\n",
       "      <td>0</td>\n",
       "      <td>1</td>\n",
       "      <td>1</td>\n",
       "      <td>5</td>\n",
       "      <td>4</td>\n",
       "    </tr>\n",
       "  </tbody>\n",
       "</table>\n",
       "<p>5 rows × 37 columns</p>\n",
       "</div>"
      ],
      "text/plain": [
       "          name        id  Year      Date  G.     Age   Tm    X  Opp   Result  \\\n",
       "0  A.J. Feeley  FeelA.00  2001    1/6/02  16  24.235  PHI    @  TAM  W 17-13   \n",
       "1  A.J. Feeley  FeelA.00  2002   12/1/02  12  25.199  PHI  NaN  STL   W 10-3   \n",
       "2  A.J. Feeley  FeelA.00  2002   12/8/02  13  25.206  PHI    @  SEA  W 27-20   \n",
       "3  A.J. Feeley  FeelA.00  2002  12/15/02  14  25.213  PHI  NaN  WAS  W 34-21   \n",
       "4  A.J. Feeley  FeelA.00  2002  12/21/02  15  25.219  PHI    @  DAL   W 27-3   \n",
       "\n",
       "      ...       Pts  Fmb  FF  FR  Yds.3  TD.3  team_win  start_win  \\\n",
       "0     ...         0    0   0   0      0     0         1          0   \n",
       "1     ...         0    0   0   0      0     0         1          1   \n",
       "2     ...         0    0   0   0      0     0         1          1   \n",
       "3     ...         0    0   0   0      0     0         1          1   \n",
       "4     ...         0    0   0   0      0     0         1          1   \n",
       "\n",
       "   game_count  start_count  \n",
       "0           1            0  \n",
       "1           2            1  \n",
       "2           3            2  \n",
       "3           4            3  \n",
       "4           5            4  \n",
       "\n",
       "[5 rows x 37 columns]"
      ]
     },
     "execution_count": 15,
     "metadata": {},
     "output_type": "execute_result"
    }
   ],
   "source": [
    "# Checkout first 5 rows\n",
    "pfr_data.head()"
   ]
  },
  {
   "cell_type": "markdown",
   "metadata": {},
   "source": [
    "We can tell that the pro-football-reference.com data contains more data compared to the ESPN data. This will be helpful when conducting analysis. For now, we are trying to merge the espn.com and pro-football-reference.com, so it is important to find which data is included in both dataframes and how this data can be used to correctly identify individual games, leading to an eventual natural join between the dataframes."
   ]
  },
  {
   "cell_type": "markdown",
   "metadata": {},
   "source": [
    "### Subset 'pfr_data' to only include statistics from years 2006 to 2018"
   ]
  },
  {
   "cell_type": "markdown",
   "metadata": {},
   "source": [
    "The data gathered from espn.com only includes data starting from the 2006 NFL season, so we should subset the pro-football-reference.com data to only include data starting in 2006."
   ]
  },
  {
   "cell_type": "code",
   "execution_count": 16,
   "metadata": {},
   "outputs": [],
   "source": [
    "pfr_data = pfr_data[pfr_data.Year > 2005]"
   ]
  },
  {
   "cell_type": "code",
   "execution_count": 17,
   "metadata": {},
   "outputs": [
    {
     "data": {
      "text/plain": [
       "array([2006, 2007, 2011, 2015, 2008, 2009, 2010, 2012, 2013, 2014, 2016,\n",
       "       2017, 2018])"
      ]
     },
     "execution_count": 17,
     "metadata": {},
     "output_type": "execute_result"
    }
   ],
   "source": [
    "pfr_data.Year.unique() # dataframe contains data from years 2006 to 2018"
   ]
  },
  {
   "cell_type": "markdown",
   "metadata": {},
   "source": [
    "## Combine dataframes"
   ]
  },
  {
   "cell_type": "markdown",
   "metadata": {},
   "source": [
    "Because there is no common column between the two dataframes, we will have to get creative in combining them. My initial thought is to merge them by name, year, and result. This will require some column manipulation, which I will demonstrate in the following code."
   ]
  },
  {
   "cell_type": "markdown",
   "metadata": {},
   "source": [
    "### Name column"
   ]
  },
  {
   "cell_type": "code",
   "execution_count": 20,
   "metadata": {},
   "outputs": [],
   "source": [
    "# First, edit the qbr_data 'PLAYER' column to a 'name' column and a 'team' column\n",
    "qbr_data['name'] = qbr_data.PLAYER.str.split(',').str[0]\n",
    "qbr_data['team'] = qbr_data.PLAYER.str.split(',').str[1]"
   ]
  },
  {
   "cell_type": "code",
   "execution_count": 21,
   "metadata": {},
   "outputs": [
    {
     "data": {
      "text/html": [
       "<div>\n",
       "<style scoped>\n",
       "    .dataframe tbody tr th:only-of-type {\n",
       "        vertical-align: middle;\n",
       "    }\n",
       "\n",
       "    .dataframe tbody tr th {\n",
       "        vertical-align: top;\n",
       "    }\n",
       "\n",
       "    .dataframe thead th {\n",
       "        text-align: right;\n",
       "    }\n",
       "</style>\n",
       "<table border=\"1\" class=\"dataframe\">\n",
       "  <thead>\n",
       "    <tr style=\"text-align: right;\">\n",
       "      <th></th>\n",
       "      <th>name</th>\n",
       "      <th>team</th>\n",
       "    </tr>\n",
       "  </thead>\n",
       "  <tbody>\n",
       "    <tr>\n",
       "      <th>0</th>\n",
       "      <td>Rex Grossman</td>\n",
       "      <td>CHI</td>\n",
       "    </tr>\n",
       "    <tr>\n",
       "      <th>1</th>\n",
       "      <td>Donovan McNabb</td>\n",
       "      <td>PHI</td>\n",
       "    </tr>\n",
       "    <tr>\n",
       "      <th>2</th>\n",
       "      <td>Chad Pennington</td>\n",
       "      <td>NYJ</td>\n",
       "    </tr>\n",
       "    <tr>\n",
       "      <th>3</th>\n",
       "      <td>Peyton Manning</td>\n",
       "      <td>IND</td>\n",
       "    </tr>\n",
       "    <tr>\n",
       "      <th>4</th>\n",
       "      <td>Mike Vick</td>\n",
       "      <td>ATL</td>\n",
       "    </tr>\n",
       "  </tbody>\n",
       "</table>\n",
       "</div>"
      ],
      "text/plain": [
       "              name  team\n",
       "0     Rex Grossman   CHI\n",
       "1   Donovan McNabb   PHI\n",
       "2  Chad Pennington   NYJ\n",
       "3   Peyton Manning   IND\n",
       "4        Mike Vick   ATL"
      ]
     },
     "execution_count": 21,
     "metadata": {},
     "output_type": "execute_result"
    }
   ],
   "source": [
    "qbr_data[['name','team']].head()"
   ]
  },
  {
   "cell_type": "markdown",
   "metadata": {},
   "source": [
    "##### Compare QB names in both dataframes"
   ]
  },
  {
   "cell_type": "code",
   "execution_count": 22,
   "metadata": {},
   "outputs": [],
   "source": [
    "# Get a list of each QB name from both dataframes\n",
    "qbr_names = qbr_data.name.unique()\n",
    "pfr_names = pfr_data.name.unique()"
   ]
  },
  {
   "cell_type": "code",
   "execution_count": 23,
   "metadata": {},
   "outputs": [
    {
     "data": {
      "text/plain": [
       "191"
      ]
     },
     "execution_count": 23,
     "metadata": {},
     "output_type": "execute_result"
    }
   ],
   "source": [
    "len(qbr_names)"
   ]
  },
  {
   "cell_type": "code",
   "execution_count": 24,
   "metadata": {},
   "outputs": [
    {
     "data": {
      "text/plain": [
       "171"
      ]
     },
     "execution_count": 24,
     "metadata": {},
     "output_type": "execute_result"
    }
   ],
   "source": [
    "len(pfr_names)"
   ]
  },
  {
   "cell_type": "markdown",
   "metadata": {},
   "source": [
    "Here, we can see that espn.com dataframe contains 20 more quarterbacks compared to pro-football-reference.com. Now, its important to find a list of common quarterbacks between the dataframes, identify potential name differences in the dataframes, and understand why a quarterback may be excluded from one dataframe and not the other."
   ]
  },
  {
   "cell_type": "markdown",
   "metadata": {},
   "source": [
    "##### Identify quarterback names that occur in both dataframes"
   ]
  },
  {
   "cell_type": "code",
   "execution_count": 25,
   "metadata": {},
   "outputs": [],
   "source": [
    "common_names = list(set(qbr_names).intersection(pfr_names))"
   ]
  },
  {
   "cell_type": "code",
   "execution_count": 27,
   "metadata": {},
   "outputs": [
    {
     "data": {
      "text/plain": [
       "160"
      ]
     },
     "execution_count": 27,
     "metadata": {},
     "output_type": "execute_result"
    }
   ],
   "source": [
    "len(common_names) # 160, 11 less than the number of QB names in the pfr dataframe"
   ]
  },
  {
   "cell_type": "markdown",
   "metadata": {},
   "source": [
    "##### Identify QBs in pfd dataframe not in espn dataframe"
   ]
  },
  {
   "cell_type": "code",
   "execution_count": 29,
   "metadata": {},
   "outputs": [
    {
     "data": {
      "text/plain": [
       "array(['A.J. McCarron', 'Alex Tanney', 'Brett Basanez', 'Brett Favre+',\n",
       "       'Craig Nall', 'Kurt Warner+', 'Michael Vick', 'Mitch Trubisky',\n",
       "       'Robert Griffin', 'Terrelle Pryor', 'Tony Pike'], dtype=object)"
      ]
     },
     "execution_count": 29,
     "metadata": {},
     "output_type": "execute_result"
    }
   ],
   "source": [
    "pfr_diff = np.setdiff1d(pfr_names, common_names)\n",
    "pfr_diff # most of these names are slightly different in the qbr dataset"
   ]
  },
  {
   "cell_type": "markdown",
   "metadata": {},
   "source": [
    "Some of the names are slightly different in the datasets. For example, the qbr_data uses \"Mike Vick\" rather than \"Michael Vick\". I will fix these issues. Also, pfr_data adds a '+' symbol to the names of hall of fame quarterbacks. That will also be adjusted."
   ]
  },
  {
   "cell_type": "code",
   "execution_count": 30,
   "metadata": {},
   "outputs": [],
   "source": [
    "# Change hall of fame quarterbacks to exclude the '+' symbol\n",
    "pfr_data['name'] = pfr_data['name'].replace('Brett Favre+', 'Brett Favre')\n",
    "pfr_data['name'] = pfr_data['name'].replace('Kurt Warner+', 'Kurt Warner')"
   ]
  },
  {
   "cell_type": "code",
   "execution_count": 31,
   "metadata": {},
   "outputs": [],
   "source": [
    "# Replace Names in pfr dataframe to match espn dataframe\n",
    "pfr_data['name'] = pfr_data['name'].replace('Michael Vick', 'Mike Vick')\n",
    "pfr_data['name'] = pfr_data['name'].replace('Robert Griffin', 'Robert Griffin III')\n",
    "pfr_data['name'] = pfr_data['name'].replace('Mitch Trubisky', 'Mitchell Trubisky')\n",
    "pfr_data['name'] = pfr_data['name'].replace('A.J. McCarron', 'AJ McCarron')\n",
    "pfr_data['name'] = pfr_data['name'].replace('Terrelle Pryor', 'Terrelle Pryor Sr.')"
   ]
  },
  {
   "cell_type": "markdown",
   "metadata": {},
   "source": [
    "Now that these changes have been made, the list of 'common names' should increase."
   ]
  },
  {
   "cell_type": "code",
   "execution_count": 33,
   "metadata": {},
   "outputs": [
    {
     "data": {
      "text/plain": [
       "167"
      ]
     },
     "execution_count": 33,
     "metadata": {},
     "output_type": "execute_result"
    }
   ],
   "source": [
    "# Edit lists to account for adjustments in pfr_data\n",
    "qbr_names = qbr_data.name.unique()\n",
    "pfr_names = pfr_data.name.unique()\n",
    "common_names_mod = list(set(qbr_names).intersection(pfr_names))\n",
    "len(common_names_mod) # Now 167 common QBs"
   ]
  },
  {
   "cell_type": "code",
   "execution_count": 34,
   "metadata": {},
   "outputs": [
    {
     "data": {
      "text/plain": [
       "array(['Brian St. Pierre', 'Charlie Whitehurst', \"J.T. O'Sullivan\",\n",
       "       'Jameis Winston', 'Jeff Driskel', 'Joe Webb III', 'Josh Johnson',\n",
       "       'Josh McCown', 'Josh Rosen', 'Kellen Moore', 'Kyle Allen',\n",
       "       'Lamar Jackson', 'Landry Jones', 'Matt McGloin', 'Matt Moore',\n",
       "       'Nick Mullens', 'Russell Wilson', 'Rusty Smith', 'T.J. Yates',\n",
       "       'Taylor Heinicke', 'Thaddeus Lewis', 'Trent Edwards', 'Troy Smith',\n",
       "       'Vince Young'], dtype=object)"
      ]
     },
     "execution_count": 34,
     "metadata": {},
     "output_type": "execute_result"
    }
   ],
   "source": [
    "# Find the quarterbacks in the ESPN data that are not in the pro-football-reference data\n",
    "np.setdiff1d(qbr_names, common_names_mod)"
   ]
  },
  {
   "cell_type": "markdown",
   "metadata": {},
   "source": [
    "There are some quarterbacks that are in the ESPN QBR dataset that are not in the pro-football-reference dataset. That is likely a result in the collection of the pro-football-reference Quarterback data. Although there are some big name quarterbacks excluded from the data (Russell Wilson, Jameis Winston, Vince Young), we will continue with the analysis with the 167 common quarterbacks in both datasets."
   ]
  },
  {
   "cell_type": "code",
   "execution_count": 35,
   "metadata": {},
   "outputs": [],
   "source": [
    "# Edit dataframes to only include data on these quarterbacks\n",
    "pfr_data_mod1 = pfr_data[pfr_data.name.isin(common_names_mod)]"
   ]
  },
  {
   "cell_type": "code",
   "execution_count": 36,
   "metadata": {},
   "outputs": [],
   "source": [
    "qbr_data_mod1 = qbr_data[qbr_data.name.isin(common_names_mod)]"
   ]
  },
  {
   "cell_type": "code",
   "execution_count": 37,
   "metadata": {},
   "outputs": [
    {
     "data": {
      "text/plain": [
       "6449"
      ]
     },
     "execution_count": 37,
     "metadata": {},
     "output_type": "execute_result"
    }
   ],
   "source": [
    "pfr_data_mod1.shape[0]"
   ]
  },
  {
   "cell_type": "code",
   "execution_count": 38,
   "metadata": {},
   "outputs": [
    {
     "data": {
      "text/plain": [
       "6094"
      ]
     },
     "execution_count": 38,
     "metadata": {},
     "output_type": "execute_result"
    }
   ],
   "source": [
    "qbr_data_mod1.shape[0]"
   ]
  },
  {
   "cell_type": "markdown",
   "metadata": {},
   "source": [
    "pro-football-reference subset contains 400 more games compared to the ESPN data. This is likely because QBR is not calculated for each quarterback every week on the ESPN website. Hopefully, however, the merged dataframe will contain close to the 6,094 rows in the qbr_data_mod1 dataframe."
   ]
  },
  {
   "cell_type": "markdown",
   "metadata": {},
   "source": [
    "### Mark home (vs) and away (@) games in both dataframes"
   ]
  },
  {
   "cell_type": "markdown",
   "metadata": {},
   "source": [
    "##### Check both dataframes"
   ]
  },
  {
   "cell_type": "code",
   "execution_count": 40,
   "metadata": {},
   "outputs": [
    {
     "data": {
      "text/html": [
       "<div>\n",
       "<style scoped>\n",
       "    .dataframe tbody tr th:only-of-type {\n",
       "        vertical-align: middle;\n",
       "    }\n",
       "\n",
       "    .dataframe tbody tr th {\n",
       "        vertical-align: top;\n",
       "    }\n",
       "\n",
       "    .dataframe thead th {\n",
       "        text-align: right;\n",
       "    }\n",
       "</style>\n",
       "<table border=\"1\" class=\"dataframe\">\n",
       "  <thead>\n",
       "    <tr style=\"text-align: right;\">\n",
       "      <th></th>\n",
       "      <th>name</th>\n",
       "      <th>id</th>\n",
       "      <th>Year</th>\n",
       "      <th>Date</th>\n",
       "      <th>G.</th>\n",
       "      <th>Age</th>\n",
       "      <th>Tm</th>\n",
       "      <th>X</th>\n",
       "      <th>Opp</th>\n",
       "      <th>Result</th>\n",
       "      <th>...</th>\n",
       "      <th>Pts</th>\n",
       "      <th>Fmb</th>\n",
       "      <th>FF</th>\n",
       "      <th>FR</th>\n",
       "      <th>Yds.3</th>\n",
       "      <th>TD.3</th>\n",
       "      <th>team_win</th>\n",
       "      <th>start_win</th>\n",
       "      <th>game_count</th>\n",
       "      <th>start_count</th>\n",
       "    </tr>\n",
       "  </thead>\n",
       "  <tbody>\n",
       "    <tr>\n",
       "      <th>16</th>\n",
       "      <td>A.J. Feeley</td>\n",
       "      <td>FeelA.00</td>\n",
       "      <td>2006</td>\n",
       "      <td>12/31/06</td>\n",
       "      <td>16</td>\n",
       "      <td>29.229</td>\n",
       "      <td>PHI</td>\n",
       "      <td>NaN</td>\n",
       "      <td>ATL</td>\n",
       "      <td>W 24-17</td>\n",
       "      <td>...</td>\n",
       "      <td>0</td>\n",
       "      <td>0</td>\n",
       "      <td>0</td>\n",
       "      <td>0</td>\n",
       "      <td>0</td>\n",
       "      <td>0</td>\n",
       "      <td>1</td>\n",
       "      <td>0</td>\n",
       "      <td>17</td>\n",
       "      <td>13</td>\n",
       "    </tr>\n",
       "  </tbody>\n",
       "</table>\n",
       "<p>1 rows × 37 columns</p>\n",
       "</div>"
      ],
      "text/plain": [
       "           name        id  Year      Date  G.     Age   Tm    X  Opp   Result  \\\n",
       "16  A.J. Feeley  FeelA.00  2006  12/31/06  16  29.229  PHI  NaN  ATL  W 24-17   \n",
       "\n",
       "       ...       Pts  Fmb  FF  FR  Yds.3  TD.3  team_win  start_win  \\\n",
       "16     ...         0    0   0   0      0     0         1          0   \n",
       "\n",
       "    game_count  start_count  \n",
       "16          17           13  \n",
       "\n",
       "[1 rows x 37 columns]"
      ]
     },
     "execution_count": 40,
     "metadata": {},
     "output_type": "execute_result"
    }
   ],
   "source": [
    "# Check pfr dataframe\n",
    "pfr_data_mod1.head(1)"
   ]
  },
  {
   "cell_type": "code",
   "execution_count": 41,
   "metadata": {},
   "outputs": [
    {
     "data": {
      "text/html": [
       "<div>\n",
       "<style scoped>\n",
       "    .dataframe tbody tr th:only-of-type {\n",
       "        vertical-align: middle;\n",
       "    }\n",
       "\n",
       "    .dataframe tbody tr th {\n",
       "        vertical-align: top;\n",
       "    }\n",
       "\n",
       "    .dataframe thead th {\n",
       "        text-align: right;\n",
       "    }\n",
       "</style>\n",
       "<table border=\"1\" class=\"dataframe\">\n",
       "  <thead>\n",
       "    <tr style=\"text-align: right;\">\n",
       "      <th></th>\n",
       "      <th>PASS</th>\n",
       "      <th>PENALTY</th>\n",
       "      <th>PLAYER</th>\n",
       "      <th>PTS ADDED</th>\n",
       "      <th>QB PLAYS</th>\n",
       "      <th>RAW QBR</th>\n",
       "      <th>RESULT</th>\n",
       "      <th>RK</th>\n",
       "      <th>RUN</th>\n",
       "      <th>TOTAL EPA</th>\n",
       "      <th>TOTAL QBR</th>\n",
       "      <th>WEEK</th>\n",
       "      <th>YEAR</th>\n",
       "      <th>name</th>\n",
       "      <th>team</th>\n",
       "    </tr>\n",
       "  </thead>\n",
       "  <tbody>\n",
       "    <tr>\n",
       "      <th>0</th>\n",
       "      <td>4.3</td>\n",
       "      <td>0.1</td>\n",
       "      <td>Rex Grossman, CHI</td>\n",
       "      <td>5.5</td>\n",
       "      <td>31</td>\n",
       "      <td>92.4</td>\n",
       "      <td>W 26-0  @ GB in Wk 1</td>\n",
       "      <td>1.0</td>\n",
       "      <td>0.6</td>\n",
       "      <td>5.4</td>\n",
       "      <td>96.4</td>\n",
       "      <td>1.0</td>\n",
       "      <td>2006.0</td>\n",
       "      <td>Rex Grossman</td>\n",
       "      <td>CHI</td>\n",
       "    </tr>\n",
       "  </tbody>\n",
       "</table>\n",
       "</div>"
      ],
      "text/plain": [
       "   PASS  PENALTY             PLAYER  PTS ADDED  QB PLAYS  RAW QBR  \\\n",
       "0   4.3      0.1  Rex Grossman, CHI        5.5        31     92.4   \n",
       "\n",
       "                 RESULT   RK  RUN  TOTAL EPA  TOTAL QBR  WEEK    YEAR  \\\n",
       "0  W 26-0  @ GB in Wk 1  1.0  0.6        5.4       96.4   1.0  2006.0   \n",
       "\n",
       "           name  team  \n",
       "0  Rex Grossman   CHI  "
      ]
     },
     "execution_count": 41,
     "metadata": {},
     "output_type": "execute_result"
    }
   ],
   "source": [
    "# Check espn dataframe\n",
    "qbr_data_mod1.head(1)"
   ]
  },
  {
   "cell_type": "markdown",
   "metadata": {},
   "source": [
    "pfr_data_mod1 marks home or away in the 'X' column, while qbr_data_mod1 marks this in 'RESULT' column"
   ]
  },
  {
   "cell_type": "code",
   "execution_count": 44,
   "metadata": {},
   "outputs": [
    {
     "data": {
      "text/plain": [
       "array([nan, '@', 'N'], dtype=object)"
      ]
     },
     "execution_count": 44,
     "metadata": {},
     "output_type": "execute_result"
    }
   ],
   "source": [
    "# pfr_dat_mod1 \n",
    "pfr_data_mod1.X.unique()"
   ]
  },
  {
   "cell_type": "code",
   "execution_count": 45,
   "metadata": {},
   "outputs": [
    {
     "data": {
      "text/html": [
       "<div>\n",
       "<style scoped>\n",
       "    .dataframe tbody tr th:only-of-type {\n",
       "        vertical-align: middle;\n",
       "    }\n",
       "\n",
       "    .dataframe tbody tr th {\n",
       "        vertical-align: top;\n",
       "    }\n",
       "\n",
       "    .dataframe thead th {\n",
       "        text-align: right;\n",
       "    }\n",
       "</style>\n",
       "<table border=\"1\" class=\"dataframe\">\n",
       "  <thead>\n",
       "    <tr style=\"text-align: right;\">\n",
       "      <th></th>\n",
       "      <th>name</th>\n",
       "      <th>id</th>\n",
       "      <th>Year</th>\n",
       "      <th>Date</th>\n",
       "      <th>G.</th>\n",
       "      <th>Age</th>\n",
       "      <th>Tm</th>\n",
       "      <th>X</th>\n",
       "      <th>Opp</th>\n",
       "      <th>Result</th>\n",
       "      <th>...</th>\n",
       "      <th>Pts</th>\n",
       "      <th>Fmb</th>\n",
       "      <th>FF</th>\n",
       "      <th>FR</th>\n",
       "      <th>Yds.3</th>\n",
       "      <th>TD.3</th>\n",
       "      <th>team_win</th>\n",
       "      <th>start_win</th>\n",
       "      <th>game_count</th>\n",
       "      <th>start_count</th>\n",
       "    </tr>\n",
       "  </thead>\n",
       "  <tbody>\n",
       "    <tr>\n",
       "      <th>275</th>\n",
       "      <td>Aaron Rodgers</td>\n",
       "      <td>RodgAa00</td>\n",
       "      <td>2010</td>\n",
       "      <td>2/6/11</td>\n",
       "      <td>20</td>\n",
       "      <td>27.066</td>\n",
       "      <td>GNB</td>\n",
       "      <td>N</td>\n",
       "      <td>PIT</td>\n",
       "      <td>W 31-25</td>\n",
       "      <td>...</td>\n",
       "      <td>0</td>\n",
       "      <td>0</td>\n",
       "      <td>0</td>\n",
       "      <td>0</td>\n",
       "      <td>0</td>\n",
       "      <td>0</td>\n",
       "      <td>1</td>\n",
       "      <td>1</td>\n",
       "      <td>156</td>\n",
       "      <td>153</td>\n",
       "    </tr>\n",
       "    <tr>\n",
       "      <th>1457</th>\n",
       "      <td>Ben Roethlisberger</td>\n",
       "      <td>RoetBe00</td>\n",
       "      <td>2008</td>\n",
       "      <td>2/1/09</td>\n",
       "      <td>19</td>\n",
       "      <td>26.336</td>\n",
       "      <td>PIT</td>\n",
       "      <td>N</td>\n",
       "      <td>ARI</td>\n",
       "      <td>W 27-23</td>\n",
       "      <td>...</td>\n",
       "      <td>0</td>\n",
       "      <td>0</td>\n",
       "      <td>0</td>\n",
       "      <td>0</td>\n",
       "      <td>0</td>\n",
       "      <td>0</td>\n",
       "      <td>1</td>\n",
       "      <td>1</td>\n",
       "      <td>218</td>\n",
       "      <td>216</td>\n",
       "    </tr>\n",
       "  </tbody>\n",
       "</table>\n",
       "<p>2 rows × 37 columns</p>\n",
       "</div>"
      ],
      "text/plain": [
       "                    name        id  Year    Date  G.     Age   Tm  X  Opp  \\\n",
       "275        Aaron Rodgers  RodgAa00  2010  2/6/11  20  27.066  GNB  N  PIT   \n",
       "1457  Ben Roethlisberger  RoetBe00  2008  2/1/09  19  26.336  PIT  N  ARI   \n",
       "\n",
       "       Result     ...       Pts  Fmb  FF  FR  Yds.3  TD.3  team_win  \\\n",
       "275   W 31-25     ...         0    0   0   0      0     0         1   \n",
       "1457  W 27-23     ...         0    0   0   0      0     0         1   \n",
       "\n",
       "      start_win  game_count  start_count  \n",
       "275           1         156          153  \n",
       "1457          1         218          216  \n",
       "\n",
       "[2 rows x 37 columns]"
      ]
     },
     "execution_count": 45,
     "metadata": {},
     "output_type": "execute_result"
    }
   ],
   "source": [
    "# Investigate what 'N' means\n",
    "pfr_data_mod1[pfr_data_mod1.X == 'N'].iloc[:2] # these represent superbowl games ('N' means neutral)"
   ]
  },
  {
   "cell_type": "code",
   "execution_count": 46,
   "metadata": {},
   "outputs": [
    {
     "data": {
      "text/html": [
       "<div>\n",
       "<style scoped>\n",
       "    .dataframe tbody tr th:only-of-type {\n",
       "        vertical-align: middle;\n",
       "    }\n",
       "\n",
       "    .dataframe tbody tr th {\n",
       "        vertical-align: top;\n",
       "    }\n",
       "\n",
       "    .dataframe thead th {\n",
       "        text-align: right;\n",
       "    }\n",
       "</style>\n",
       "<table border=\"1\" class=\"dataframe\">\n",
       "  <thead>\n",
       "    <tr style=\"text-align: right;\">\n",
       "      <th></th>\n",
       "      <th>name</th>\n",
       "      <th>id</th>\n",
       "      <th>Year</th>\n",
       "      <th>Date</th>\n",
       "      <th>G.</th>\n",
       "      <th>Age</th>\n",
       "      <th>Tm</th>\n",
       "      <th>X</th>\n",
       "      <th>Opp</th>\n",
       "      <th>Result</th>\n",
       "      <th>...</th>\n",
       "      <th>Pts</th>\n",
       "      <th>Fmb</th>\n",
       "      <th>FF</th>\n",
       "      <th>FR</th>\n",
       "      <th>Yds.3</th>\n",
       "      <th>TD.3</th>\n",
       "      <th>team_win</th>\n",
       "      <th>start_win</th>\n",
       "      <th>game_count</th>\n",
       "      <th>start_count</th>\n",
       "    </tr>\n",
       "  </thead>\n",
       "  <tbody>\n",
       "    <tr>\n",
       "      <th>16</th>\n",
       "      <td>A.J. Feeley</td>\n",
       "      <td>FeelA.00</td>\n",
       "      <td>2006</td>\n",
       "      <td>12/31/06</td>\n",
       "      <td>16</td>\n",
       "      <td>29.229</td>\n",
       "      <td>PHI</td>\n",
       "      <td>NaN</td>\n",
       "      <td>ATL</td>\n",
       "      <td>W 24-17</td>\n",
       "      <td>...</td>\n",
       "      <td>0</td>\n",
       "      <td>0</td>\n",
       "      <td>0</td>\n",
       "      <td>0</td>\n",
       "      <td>0</td>\n",
       "      <td>0</td>\n",
       "      <td>1</td>\n",
       "      <td>0</td>\n",
       "      <td>17</td>\n",
       "      <td>13</td>\n",
       "    </tr>\n",
       "    <tr>\n",
       "      <th>17</th>\n",
       "      <td>A.J. Feeley</td>\n",
       "      <td>FeelA.00</td>\n",
       "      <td>2007</td>\n",
       "      <td>11/18/07</td>\n",
       "      <td>10</td>\n",
       "      <td>30.186</td>\n",
       "      <td>PHI</td>\n",
       "      <td>NaN</td>\n",
       "      <td>MIA</td>\n",
       "      <td>W 17-7</td>\n",
       "      <td>...</td>\n",
       "      <td>0</td>\n",
       "      <td>0</td>\n",
       "      <td>0</td>\n",
       "      <td>0</td>\n",
       "      <td>0</td>\n",
       "      <td>0</td>\n",
       "      <td>1</td>\n",
       "      <td>0</td>\n",
       "      <td>18</td>\n",
       "      <td>13</td>\n",
       "    </tr>\n",
       "  </tbody>\n",
       "</table>\n",
       "<p>2 rows × 37 columns</p>\n",
       "</div>"
      ],
      "text/plain": [
       "           name        id  Year      Date  G.     Age   Tm    X  Opp   Result  \\\n",
       "16  A.J. Feeley  FeelA.00  2006  12/31/06  16  29.229  PHI  NaN  ATL  W 24-17   \n",
       "17  A.J. Feeley  FeelA.00  2007  11/18/07  10  30.186  PHI  NaN  MIA   W 17-7   \n",
       "\n",
       "       ...       Pts  Fmb  FF  FR  Yds.3  TD.3  team_win  start_win  \\\n",
       "16     ...         0    0   0   0      0     0         1          0   \n",
       "17     ...         0    0   0   0      0     0         1          0   \n",
       "\n",
       "    game_count  start_count  \n",
       "16          17           13  \n",
       "17          18           13  \n",
       "\n",
       "[2 rows x 37 columns]"
      ]
     },
     "execution_count": 46,
     "metadata": {},
     "output_type": "execute_result"
    }
   ],
   "source": [
    "pfr_data_mod1[pfr_data_mod1.X.isnull()].iloc[:2] # represents home games"
   ]
  },
  {
   "cell_type": "code",
   "execution_count": 47,
   "metadata": {},
   "outputs": [
    {
     "name": "stderr",
     "output_type": "stream",
     "text": [
      "/Library/Frameworks/Python.framework/Versions/3.6/lib/python3.6/site-packages/ipykernel_launcher.py:1: SettingWithCopyWarning: \n",
      "A value is trying to be set on a copy of a slice from a DataFrame.\n",
      "Try using .loc[row_indexer,col_indexer] = value instead\n",
      "\n",
      "See the caveats in the documentation: http://pandas.pydata.org/pandas-docs/stable/indexing.html#indexing-view-versus-copy\n",
      "  \"\"\"Entry point for launching an IPython kernel.\n"
     ]
    }
   ],
   "source": [
    "# Replace null values with vs\n",
    "pfr_data_mod1['X'] = pfr_data_mod1['X'].fillna('vs')"
   ]
  },
  {
   "cell_type": "code",
   "execution_count": 49,
   "metadata": {},
   "outputs": [
    {
     "name": "stderr",
     "output_type": "stream",
     "text": [
      "/Library/Frameworks/Python.framework/Versions/3.6/lib/python3.6/site-packages/ipykernel_launcher.py:3: SettingWithCopyWarning: \n",
      "A value is trying to be set on a copy of a slice from a DataFrame.\n",
      "Try using .loc[row_indexer,col_indexer] = value instead\n",
      "\n",
      "See the caveats in the documentation: http://pandas.pydata.org/pandas-docs/stable/indexing.html#indexing-view-versus-copy\n",
      "  This is separate from the ipykernel package so we can avoid doing imports until\n"
     ]
    }
   ],
   "source": [
    "# qbr_data_mod1\n",
    "# Create an 'X' column like in pfr_data_mod1\n",
    "qbr_data_mod1['X'] = \"\" # initiate new column\n",
    "qbr_data_mod2 = qbr_data_mod1.assign(X=qbr_data_mod1.RESULT.str.contains('@').map({True: '@', False: 'vs'}))\n",
    "\n",
    "# https://stackoverflow.com/questions/43290762/how-to-check-pandas-dataframe-for-true-or-false-python"
   ]
  },
  {
   "cell_type": "code",
   "execution_count": 50,
   "metadata": {},
   "outputs": [
    {
     "data": {
      "text/html": [
       "<div>\n",
       "<style scoped>\n",
       "    .dataframe tbody tr th:only-of-type {\n",
       "        vertical-align: middle;\n",
       "    }\n",
       "\n",
       "    .dataframe tbody tr th {\n",
       "        vertical-align: top;\n",
       "    }\n",
       "\n",
       "    .dataframe thead th {\n",
       "        text-align: right;\n",
       "    }\n",
       "</style>\n",
       "<table border=\"1\" class=\"dataframe\">\n",
       "  <thead>\n",
       "    <tr style=\"text-align: right;\">\n",
       "      <th></th>\n",
       "      <th>PASS</th>\n",
       "      <th>PENALTY</th>\n",
       "      <th>PLAYER</th>\n",
       "      <th>PTS ADDED</th>\n",
       "      <th>QB PLAYS</th>\n",
       "      <th>RAW QBR</th>\n",
       "      <th>RESULT</th>\n",
       "      <th>RK</th>\n",
       "      <th>RUN</th>\n",
       "      <th>TOTAL EPA</th>\n",
       "      <th>TOTAL QBR</th>\n",
       "      <th>WEEK</th>\n",
       "      <th>YEAR</th>\n",
       "      <th>name</th>\n",
       "      <th>team</th>\n",
       "      <th>X</th>\n",
       "    </tr>\n",
       "  </thead>\n",
       "  <tbody>\n",
       "    <tr>\n",
       "      <th>0</th>\n",
       "      <td>4.3</td>\n",
       "      <td>0.1</td>\n",
       "      <td>Rex Grossman, CHI</td>\n",
       "      <td>5.5</td>\n",
       "      <td>31</td>\n",
       "      <td>92.4</td>\n",
       "      <td>W 26-0  @ GB in Wk 1</td>\n",
       "      <td>1.0</td>\n",
       "      <td>0.6</td>\n",
       "      <td>5.4</td>\n",
       "      <td>96.4</td>\n",
       "      <td>1.0</td>\n",
       "      <td>2006.0</td>\n",
       "      <td>Rex Grossman</td>\n",
       "      <td>CHI</td>\n",
       "      <td>@</td>\n",
       "    </tr>\n",
       "    <tr>\n",
       "      <th>1</th>\n",
       "      <td>8.6</td>\n",
       "      <td>-0.1</td>\n",
       "      <td>Donovan McNabb, PHI</td>\n",
       "      <td>8.1</td>\n",
       "      <td>38</td>\n",
       "      <td>95.4</td>\n",
       "      <td>W 24-10  @ HOU in Wk 1</td>\n",
       "      <td>2.0</td>\n",
       "      <td>0.1</td>\n",
       "      <td>8.9</td>\n",
       "      <td>92.5</td>\n",
       "      <td>1.0</td>\n",
       "      <td>2006.0</td>\n",
       "      <td>Donovan McNabb</td>\n",
       "      <td>PHI</td>\n",
       "      <td>@</td>\n",
       "    </tr>\n",
       "    <tr>\n",
       "      <th>2</th>\n",
       "      <td>6.5</td>\n",
       "      <td>0.2</td>\n",
       "      <td>Chad Pennington, NYJ</td>\n",
       "      <td>6.1</td>\n",
       "      <td>43</td>\n",
       "      <td>88.1</td>\n",
       "      <td>W 23-16  @ TEN in Wk 1</td>\n",
       "      <td>3.0</td>\n",
       "      <td>-0.3</td>\n",
       "      <td>7.5</td>\n",
       "      <td>90.1</td>\n",
       "      <td>1.0</td>\n",
       "      <td>2006.0</td>\n",
       "      <td>Chad Pennington</td>\n",
       "      <td>NYJ</td>\n",
       "      <td>@</td>\n",
       "    </tr>\n",
       "    <tr>\n",
       "      <th>3</th>\n",
       "      <td>8.4</td>\n",
       "      <td>-0.3</td>\n",
       "      <td>Peyton Manning, IND</td>\n",
       "      <td>5.8</td>\n",
       "      <td>45</td>\n",
       "      <td>86.0</td>\n",
       "      <td>W 26-21  @ NYG in Wk 1</td>\n",
       "      <td>4.0</td>\n",
       "      <td>0.0</td>\n",
       "      <td>8.3</td>\n",
       "      <td>86.0</td>\n",
       "      <td>1.0</td>\n",
       "      <td>2006.0</td>\n",
       "      <td>Peyton Manning</td>\n",
       "      <td>IND</td>\n",
       "      <td>@</td>\n",
       "    </tr>\n",
       "    <tr>\n",
       "      <th>4</th>\n",
       "      <td>1.3</td>\n",
       "      <td>0.4</td>\n",
       "      <td>Mike Vick, ATL</td>\n",
       "      <td>1.8</td>\n",
       "      <td>30</td>\n",
       "      <td>70.5</td>\n",
       "      <td>W 20-6  @ CAR in Wk 1</td>\n",
       "      <td>5.0</td>\n",
       "      <td>1.1</td>\n",
       "      <td>3.4</td>\n",
       "      <td>79.4</td>\n",
       "      <td>1.0</td>\n",
       "      <td>2006.0</td>\n",
       "      <td>Mike Vick</td>\n",
       "      <td>ATL</td>\n",
       "      <td>@</td>\n",
       "    </tr>\n",
       "  </tbody>\n",
       "</table>\n",
       "</div>"
      ],
      "text/plain": [
       "   PASS  PENALTY                PLAYER  PTS ADDED  QB PLAYS  RAW QBR  \\\n",
       "0   4.3      0.1     Rex Grossman, CHI        5.5        31     92.4   \n",
       "1   8.6     -0.1   Donovan McNabb, PHI        8.1        38     95.4   \n",
       "2   6.5      0.2  Chad Pennington, NYJ        6.1        43     88.1   \n",
       "3   8.4     -0.3   Peyton Manning, IND        5.8        45     86.0   \n",
       "4   1.3      0.4        Mike Vick, ATL        1.8        30     70.5   \n",
       "\n",
       "                   RESULT   RK  RUN  TOTAL EPA  TOTAL QBR  WEEK    YEAR  \\\n",
       "0    W 26-0  @ GB in Wk 1  1.0  0.6        5.4       96.4   1.0  2006.0   \n",
       "1  W 24-10  @ HOU in Wk 1  2.0  0.1        8.9       92.5   1.0  2006.0   \n",
       "2  W 23-16  @ TEN in Wk 1  3.0 -0.3        7.5       90.1   1.0  2006.0   \n",
       "3  W 26-21  @ NYG in Wk 1  4.0  0.0        8.3       86.0   1.0  2006.0   \n",
       "4   W 20-6  @ CAR in Wk 1  5.0  1.1        3.4       79.4   1.0  2006.0   \n",
       "\n",
       "              name  team  X  \n",
       "0     Rex Grossman   CHI  @  \n",
       "1   Donovan McNabb   PHI  @  \n",
       "2  Chad Pennington   NYJ  @  \n",
       "3   Peyton Manning   IND  @  \n",
       "4        Mike Vick   ATL  @  "
      ]
     },
     "execution_count": 50,
     "metadata": {},
     "output_type": "execute_result"
    }
   ],
   "source": [
    "qbr_data_mod2.head()"
   ]
  },
  {
   "cell_type": "markdown",
   "metadata": {},
   "source": [
    "### RESULT column split to show scores and opponent"
   ]
  },
  {
   "cell_type": "markdown",
   "metadata": {},
   "source": [
    "Now, we want to split up the RESULT column in qbr_data_mod2 to separately display the score and opponent in the same manner for both dataframes."
   ]
  },
  {
   "cell_type": "code",
   "execution_count": 51,
   "metadata": {},
   "outputs": [],
   "source": [
    "# First, to make it easier to follow, I will set a new dataframe, pfr_data_mod2 equal to pfr_data_mod1.\n",
    "pfr_data_mod2 = pfr_data_mod1"
   ]
  },
  {
   "cell_type": "markdown",
   "metadata": {},
   "source": [
    "Because we already have the 'X' column, I will go ahead and replace the 'vs' in RESULTS with '@' so that there is a consistent delimiter, making it easier to split the RESULT column"
   ]
  },
  {
   "cell_type": "code",
   "execution_count": 52,
   "metadata": {},
   "outputs": [],
   "source": [
    "# Replace 'vs' with '@' in qbr_data_mod2\n",
    "qbr_data_mod2.RESULT = qbr_data_mod2.RESULT.str.replace('vs','@')"
   ]
  },
  {
   "cell_type": "code",
   "execution_count": 53,
   "metadata": {},
   "outputs": [],
   "source": [
    "# Split RESULTS column\n",
    "qbr_data_mod2['Score'] = qbr_data_mod2.RESULT.str.split('@').str[0]\n",
    "qbr_data_mod2['Opp_and_week'] = qbr_data_mod2.RESULT.str.split('@').str[1]"
   ]
  },
  {
   "cell_type": "code",
   "execution_count": 54,
   "metadata": {},
   "outputs": [],
   "source": [
    "# Split 'Opp_and_week' to only show the Opponent\n",
    "qbr_data_mod2['Opp'] = qbr_data_mod2.Opp_and_week.str.split('in').str[0].str.strip()"
   ]
  },
  {
   "cell_type": "code",
   "execution_count": 55,
   "metadata": {},
   "outputs": [
    {
     "data": {
      "text/html": [
       "<div>\n",
       "<style scoped>\n",
       "    .dataframe tbody tr th:only-of-type {\n",
       "        vertical-align: middle;\n",
       "    }\n",
       "\n",
       "    .dataframe tbody tr th {\n",
       "        vertical-align: top;\n",
       "    }\n",
       "\n",
       "    .dataframe thead th {\n",
       "        text-align: right;\n",
       "    }\n",
       "</style>\n",
       "<table border=\"1\" class=\"dataframe\">\n",
       "  <thead>\n",
       "    <tr style=\"text-align: right;\">\n",
       "      <th></th>\n",
       "      <th>PASS</th>\n",
       "      <th>PENALTY</th>\n",
       "      <th>PLAYER</th>\n",
       "      <th>PTS ADDED</th>\n",
       "      <th>QB PLAYS</th>\n",
       "      <th>RAW QBR</th>\n",
       "      <th>RESULT</th>\n",
       "      <th>RK</th>\n",
       "      <th>RUN</th>\n",
       "      <th>TOTAL EPA</th>\n",
       "      <th>TOTAL QBR</th>\n",
       "      <th>WEEK</th>\n",
       "      <th>YEAR</th>\n",
       "      <th>name</th>\n",
       "      <th>team</th>\n",
       "      <th>X</th>\n",
       "      <th>Score</th>\n",
       "      <th>Opp_and_week</th>\n",
       "      <th>Opp</th>\n",
       "    </tr>\n",
       "  </thead>\n",
       "  <tbody>\n",
       "    <tr>\n",
       "      <th>0</th>\n",
       "      <td>4.3</td>\n",
       "      <td>0.1</td>\n",
       "      <td>Rex Grossman, CHI</td>\n",
       "      <td>5.5</td>\n",
       "      <td>31</td>\n",
       "      <td>92.4</td>\n",
       "      <td>W 26-0  @ GB in Wk 1</td>\n",
       "      <td>1.0</td>\n",
       "      <td>0.6</td>\n",
       "      <td>5.4</td>\n",
       "      <td>96.4</td>\n",
       "      <td>1.0</td>\n",
       "      <td>2006.0</td>\n",
       "      <td>Rex Grossman</td>\n",
       "      <td>CHI</td>\n",
       "      <td>@</td>\n",
       "      <td>W 26-0</td>\n",
       "      <td>GB in Wk 1</td>\n",
       "      <td>GB</td>\n",
       "    </tr>\n",
       "    <tr>\n",
       "      <th>1</th>\n",
       "      <td>8.6</td>\n",
       "      <td>-0.1</td>\n",
       "      <td>Donovan McNabb, PHI</td>\n",
       "      <td>8.1</td>\n",
       "      <td>38</td>\n",
       "      <td>95.4</td>\n",
       "      <td>W 24-10  @ HOU in Wk 1</td>\n",
       "      <td>2.0</td>\n",
       "      <td>0.1</td>\n",
       "      <td>8.9</td>\n",
       "      <td>92.5</td>\n",
       "      <td>1.0</td>\n",
       "      <td>2006.0</td>\n",
       "      <td>Donovan McNabb</td>\n",
       "      <td>PHI</td>\n",
       "      <td>@</td>\n",
       "      <td>W 24-10</td>\n",
       "      <td>HOU in Wk 1</td>\n",
       "      <td>HOU</td>\n",
       "    </tr>\n",
       "    <tr>\n",
       "      <th>2</th>\n",
       "      <td>6.5</td>\n",
       "      <td>0.2</td>\n",
       "      <td>Chad Pennington, NYJ</td>\n",
       "      <td>6.1</td>\n",
       "      <td>43</td>\n",
       "      <td>88.1</td>\n",
       "      <td>W 23-16  @ TEN in Wk 1</td>\n",
       "      <td>3.0</td>\n",
       "      <td>-0.3</td>\n",
       "      <td>7.5</td>\n",
       "      <td>90.1</td>\n",
       "      <td>1.0</td>\n",
       "      <td>2006.0</td>\n",
       "      <td>Chad Pennington</td>\n",
       "      <td>NYJ</td>\n",
       "      <td>@</td>\n",
       "      <td>W 23-16</td>\n",
       "      <td>TEN in Wk 1</td>\n",
       "      <td>TEN</td>\n",
       "    </tr>\n",
       "    <tr>\n",
       "      <th>3</th>\n",
       "      <td>8.4</td>\n",
       "      <td>-0.3</td>\n",
       "      <td>Peyton Manning, IND</td>\n",
       "      <td>5.8</td>\n",
       "      <td>45</td>\n",
       "      <td>86.0</td>\n",
       "      <td>W 26-21  @ NYG in Wk 1</td>\n",
       "      <td>4.0</td>\n",
       "      <td>0.0</td>\n",
       "      <td>8.3</td>\n",
       "      <td>86.0</td>\n",
       "      <td>1.0</td>\n",
       "      <td>2006.0</td>\n",
       "      <td>Peyton Manning</td>\n",
       "      <td>IND</td>\n",
       "      <td>@</td>\n",
       "      <td>W 26-21</td>\n",
       "      <td>NYG in Wk 1</td>\n",
       "      <td>NYG</td>\n",
       "    </tr>\n",
       "    <tr>\n",
       "      <th>4</th>\n",
       "      <td>1.3</td>\n",
       "      <td>0.4</td>\n",
       "      <td>Mike Vick, ATL</td>\n",
       "      <td>1.8</td>\n",
       "      <td>30</td>\n",
       "      <td>70.5</td>\n",
       "      <td>W 20-6  @ CAR in Wk 1</td>\n",
       "      <td>5.0</td>\n",
       "      <td>1.1</td>\n",
       "      <td>3.4</td>\n",
       "      <td>79.4</td>\n",
       "      <td>1.0</td>\n",
       "      <td>2006.0</td>\n",
       "      <td>Mike Vick</td>\n",
       "      <td>ATL</td>\n",
       "      <td>@</td>\n",
       "      <td>W 20-6</td>\n",
       "      <td>CAR in Wk 1</td>\n",
       "      <td>CAR</td>\n",
       "    </tr>\n",
       "  </tbody>\n",
       "</table>\n",
       "</div>"
      ],
      "text/plain": [
       "   PASS  PENALTY                PLAYER  PTS ADDED  QB PLAYS  RAW QBR  \\\n",
       "0   4.3      0.1     Rex Grossman, CHI        5.5        31     92.4   \n",
       "1   8.6     -0.1   Donovan McNabb, PHI        8.1        38     95.4   \n",
       "2   6.5      0.2  Chad Pennington, NYJ        6.1        43     88.1   \n",
       "3   8.4     -0.3   Peyton Manning, IND        5.8        45     86.0   \n",
       "4   1.3      0.4        Mike Vick, ATL        1.8        30     70.5   \n",
       "\n",
       "                   RESULT   RK  RUN  TOTAL EPA  TOTAL QBR  WEEK    YEAR  \\\n",
       "0    W 26-0  @ GB in Wk 1  1.0  0.6        5.4       96.4   1.0  2006.0   \n",
       "1  W 24-10  @ HOU in Wk 1  2.0  0.1        8.9       92.5   1.0  2006.0   \n",
       "2  W 23-16  @ TEN in Wk 1  3.0 -0.3        7.5       90.1   1.0  2006.0   \n",
       "3  W 26-21  @ NYG in Wk 1  4.0  0.0        8.3       86.0   1.0  2006.0   \n",
       "4   W 20-6  @ CAR in Wk 1  5.0  1.1        3.4       79.4   1.0  2006.0   \n",
       "\n",
       "              name  team  X      Score  Opp_and_week  Opp  \n",
       "0     Rex Grossman   CHI  @   W 26-0      GB in Wk 1   GB  \n",
       "1   Donovan McNabb   PHI  @  W 24-10     HOU in Wk 1  HOU  \n",
       "2  Chad Pennington   NYJ  @  W 23-16     TEN in Wk 1  TEN  \n",
       "3   Peyton Manning   IND  @  W 26-21     NYG in Wk 1  NYG  \n",
       "4        Mike Vick   ATL  @   W 20-6     CAR in Wk 1  CAR  "
      ]
     },
     "execution_count": 55,
     "metadata": {},
     "output_type": "execute_result"
    }
   ],
   "source": [
    "qbr_data_mod2.head()"
   ]
  },
  {
   "cell_type": "markdown",
   "metadata": {},
   "source": [
    "### Investigate Team name abbreviations"
   ]
  },
  {
   "cell_type": "markdown",
   "metadata": {},
   "source": [
    "##### Change 'Opp' columns to share the same abbreviations"
   ]
  },
  {
   "cell_type": "code",
   "execution_count": 57,
   "metadata": {},
   "outputs": [],
   "source": [
    "# Get unique list of team abbreviations\n",
    "qbr_opp = qbr_data_mod2.Opp.unique()\n",
    "pfr_opp = pfr_data_mod2.Opp.unique()"
   ]
  },
  {
   "cell_type": "code",
   "execution_count": 58,
   "metadata": {},
   "outputs": [
    {
     "data": {
      "text/plain": [
       "array(['GB', 'HOU', 'TEN', 'NYG', 'CAR', 'MIA', 'TB', 'DAL', 'WSH', 'NE',\n",
       "       'MIN', 'IND', 'JAX', 'BUF', 'CLE', 'PHI', 'ARI', 'SF', 'SEA', 'NO',\n",
       "       'KC', 'DET', 'CHI', 'PIT', 'CIN', 'LAC', 'NYJ', 'BAL', 'ATL',\n",
       "       'LAR', 'OAK', 'DEN'], dtype=object)"
      ]
     },
     "execution_count": 58,
     "metadata": {},
     "output_type": "execute_result"
    }
   ],
   "source": [
    "qbr_opp"
   ]
  },
  {
   "cell_type": "code",
   "execution_count": 59,
   "metadata": {},
   "outputs": [
    {
     "data": {
      "text/plain": [
       "array(['ATL', 'MIA', 'NWE', 'SEA', 'DAL', 'NOR', 'SFO', 'PIT', 'DEN',\n",
       "       'BAL', 'SDG', 'KAN', 'HOU', 'CIN', 'STL', 'NYJ', 'MIN', 'DET',\n",
       "       'TAM', 'IND', 'TEN', 'CHI', 'CAR', 'JAX', 'CLE', 'ARI', 'PHI',\n",
       "       'BUF', 'WAS', 'NYG', 'OAK', 'LAR', 'GNB', 'LAC'], dtype=object)"
      ]
     },
     "execution_count": 59,
     "metadata": {},
     "output_type": "execute_result"
    }
   ],
   "source": [
    "pfr_opp"
   ]
  },
  {
   "cell_type": "markdown",
   "metadata": {},
   "source": [
    "pro-football-reference uses 3 letter abbreviations for each team. ESPN, however, uses the regular abbreviations. I will change the pro-football-reference team abbreviations to match ESPN's."
   ]
  },
  {
   "cell_type": "code",
   "execution_count": 60,
   "metadata": {},
   "outputs": [
    {
     "data": {
      "text/plain": [
       "32"
      ]
     },
     "execution_count": 60,
     "metadata": {},
     "output_type": "execute_result"
    }
   ],
   "source": [
    "len(qbr_opp)"
   ]
  },
  {
   "cell_type": "code",
   "execution_count": 61,
   "metadata": {},
   "outputs": [
    {
     "data": {
      "text/plain": [
       "34"
      ]
     },
     "execution_count": 61,
     "metadata": {},
     "output_type": "execute_result"
    }
   ],
   "source": [
    "len(pfr_opp)"
   ]
  },
  {
   "cell_type": "code",
   "execution_count": 62,
   "metadata": {},
   "outputs": [
    {
     "data": {
      "text/plain": [
       "array(['GB', 'KC', 'NE', 'NO', 'SF', 'TB', 'WSH'], dtype=object)"
      ]
     },
     "execution_count": 62,
     "metadata": {},
     "output_type": "execute_result"
    }
   ],
   "source": [
    "np.setdiff1d(qbr_opp, pfr_opp)"
   ]
  },
  {
   "cell_type": "code",
   "execution_count": 63,
   "metadata": {},
   "outputs": [
    {
     "name": "stderr",
     "output_type": "stream",
     "text": [
      "/Library/Frameworks/Python.framework/Versions/3.6/lib/python3.6/site-packages/ipykernel_launcher.py:2: SettingWithCopyWarning: \n",
      "A value is trying to be set on a copy of a slice from a DataFrame.\n",
      "Try using .loc[row_indexer,col_indexer] = value instead\n",
      "\n",
      "See the caveats in the documentation: http://pandas.pydata.org/pandas-docs/stable/indexing.html#indexing-view-versus-copy\n",
      "  \n",
      "/Library/Frameworks/Python.framework/Versions/3.6/lib/python3.6/site-packages/ipykernel_launcher.py:3: SettingWithCopyWarning: \n",
      "A value is trying to be set on a copy of a slice from a DataFrame.\n",
      "Try using .loc[row_indexer,col_indexer] = value instead\n",
      "\n",
      "See the caveats in the documentation: http://pandas.pydata.org/pandas-docs/stable/indexing.html#indexing-view-versus-copy\n",
      "  This is separate from the ipykernel package so we can avoid doing imports until\n",
      "/Library/Frameworks/Python.framework/Versions/3.6/lib/python3.6/site-packages/ipykernel_launcher.py:4: SettingWithCopyWarning: \n",
      "A value is trying to be set on a copy of a slice from a DataFrame.\n",
      "Try using .loc[row_indexer,col_indexer] = value instead\n",
      "\n",
      "See the caveats in the documentation: http://pandas.pydata.org/pandas-docs/stable/indexing.html#indexing-view-versus-copy\n",
      "  after removing the cwd from sys.path.\n",
      "/Library/Frameworks/Python.framework/Versions/3.6/lib/python3.6/site-packages/ipykernel_launcher.py:5: SettingWithCopyWarning: \n",
      "A value is trying to be set on a copy of a slice from a DataFrame.\n",
      "Try using .loc[row_indexer,col_indexer] = value instead\n",
      "\n",
      "See the caveats in the documentation: http://pandas.pydata.org/pandas-docs/stable/indexing.html#indexing-view-versus-copy\n",
      "  \"\"\"\n",
      "/Library/Frameworks/Python.framework/Versions/3.6/lib/python3.6/site-packages/ipykernel_launcher.py:6: SettingWithCopyWarning: \n",
      "A value is trying to be set on a copy of a slice from a DataFrame.\n",
      "Try using .loc[row_indexer,col_indexer] = value instead\n",
      "\n",
      "See the caveats in the documentation: http://pandas.pydata.org/pandas-docs/stable/indexing.html#indexing-view-versus-copy\n",
      "  \n",
      "/Library/Frameworks/Python.framework/Versions/3.6/lib/python3.6/site-packages/ipykernel_launcher.py:7: SettingWithCopyWarning: \n",
      "A value is trying to be set on a copy of a slice from a DataFrame.\n",
      "Try using .loc[row_indexer,col_indexer] = value instead\n",
      "\n",
      "See the caveats in the documentation: http://pandas.pydata.org/pandas-docs/stable/indexing.html#indexing-view-versus-copy\n",
      "  import sys\n",
      "/Library/Frameworks/Python.framework/Versions/3.6/lib/python3.6/site-packages/ipykernel_launcher.py:8: SettingWithCopyWarning: \n",
      "A value is trying to be set on a copy of a slice from a DataFrame.\n",
      "Try using .loc[row_indexer,col_indexer] = value instead\n",
      "\n",
      "See the caveats in the documentation: http://pandas.pydata.org/pandas-docs/stable/indexing.html#indexing-view-versus-copy\n",
      "  \n"
     ]
    }
   ],
   "source": [
    "# Replace the incorrect abbreviations in pro-football-reference data for the 'Opp' column\n",
    "pfr_data_mod2['Opp'] = pfr_data_mod2['Opp'].replace('GNB', 'GB')\n",
    "pfr_data_mod2['Opp'] = pfr_data_mod2['Opp'].replace('KAN', 'KC')\n",
    "pfr_data_mod2['Opp'] = pfr_data_mod2['Opp'].replace('NWE', 'NE')\n",
    "pfr_data_mod2['Opp'] = pfr_data_mod2['Opp'].replace('NOR', 'NO')\n",
    "pfr_data_mod2['Opp'] = pfr_data_mod2['Opp'].replace('SFO', 'SF')\n",
    "pfr_data_mod2['Opp'] = pfr_data_mod2['Opp'].replace('TAM', 'TB')\n",
    "pfr_data_mod2['Opp'] = pfr_data_mod2['Opp'].replace('WAS', 'WSH')"
   ]
  },
  {
   "cell_type": "code",
   "execution_count": 64,
   "metadata": {},
   "outputs": [
    {
     "data": {
      "text/plain": [
       "array(['GNB', 'KAN', 'NOR', 'NWE', 'SDG', 'SFO', 'STL', 'TAM', 'WAS'],\n",
       "      dtype=object)"
      ]
     },
     "execution_count": 64,
     "metadata": {},
     "output_type": "execute_result"
    }
   ],
   "source": [
    "np.setdiff1d(pfr_opp, qbr_opp)"
   ]
  },
  {
   "cell_type": "markdown",
   "metadata": {},
   "source": [
    "There are two extra abbreviations in the pro-football-reference data. This is because the San Diego Chargers and St. Louis Rams both moved to Los Angeles. This is reflected in the ESPN data, as all of the old teams were replaced with the new abbreviations. I will make the changes to the pro-football-reference data."
   ]
  },
  {
   "cell_type": "code",
   "execution_count": 65,
   "metadata": {},
   "outputs": [
    {
     "name": "stderr",
     "output_type": "stream",
     "text": [
      "/Library/Frameworks/Python.framework/Versions/3.6/lib/python3.6/site-packages/ipykernel_launcher.py:1: SettingWithCopyWarning: \n",
      "A value is trying to be set on a copy of a slice from a DataFrame.\n",
      "Try using .loc[row_indexer,col_indexer] = value instead\n",
      "\n",
      "See the caveats in the documentation: http://pandas.pydata.org/pandas-docs/stable/indexing.html#indexing-view-versus-copy\n",
      "  \"\"\"Entry point for launching an IPython kernel.\n",
      "/Library/Frameworks/Python.framework/Versions/3.6/lib/python3.6/site-packages/ipykernel_launcher.py:2: SettingWithCopyWarning: \n",
      "A value is trying to be set on a copy of a slice from a DataFrame.\n",
      "Try using .loc[row_indexer,col_indexer] = value instead\n",
      "\n",
      "See the caveats in the documentation: http://pandas.pydata.org/pandas-docs/stable/indexing.html#indexing-view-versus-copy\n",
      "  \n"
     ]
    }
   ],
   "source": [
    "pfr_data_mod2['Opp'] = pfr_data_mod2['Opp'].replace('STL', 'LAR')\n",
    "pfr_data_mod2['Opp'] = pfr_data_mod2['Opp'].replace('SDG', 'LAC')"
   ]
  },
  {
   "cell_type": "code",
   "execution_count": 66,
   "metadata": {},
   "outputs": [
    {
     "name": "stderr",
     "output_type": "stream",
     "text": [
      "/Library/Frameworks/Python.framework/Versions/3.6/lib/python3.6/site-packages/ipykernel_launcher.py:2: SettingWithCopyWarning: \n",
      "A value is trying to be set on a copy of a slice from a DataFrame.\n",
      "Try using .loc[row_indexer,col_indexer] = value instead\n",
      "\n",
      "See the caveats in the documentation: http://pandas.pydata.org/pandas-docs/stable/indexing.html#indexing-view-versus-copy\n",
      "  \n",
      "/Library/Frameworks/Python.framework/Versions/3.6/lib/python3.6/site-packages/ipykernel_launcher.py:3: SettingWithCopyWarning: \n",
      "A value is trying to be set on a copy of a slice from a DataFrame.\n",
      "Try using .loc[row_indexer,col_indexer] = value instead\n",
      "\n",
      "See the caveats in the documentation: http://pandas.pydata.org/pandas-docs/stable/indexing.html#indexing-view-versus-copy\n",
      "  This is separate from the ipykernel package so we can avoid doing imports until\n",
      "/Library/Frameworks/Python.framework/Versions/3.6/lib/python3.6/site-packages/ipykernel_launcher.py:4: SettingWithCopyWarning: \n",
      "A value is trying to be set on a copy of a slice from a DataFrame.\n",
      "Try using .loc[row_indexer,col_indexer] = value instead\n",
      "\n",
      "See the caveats in the documentation: http://pandas.pydata.org/pandas-docs/stable/indexing.html#indexing-view-versus-copy\n",
      "  after removing the cwd from sys.path.\n",
      "/Library/Frameworks/Python.framework/Versions/3.6/lib/python3.6/site-packages/ipykernel_launcher.py:5: SettingWithCopyWarning: \n",
      "A value is trying to be set on a copy of a slice from a DataFrame.\n",
      "Try using .loc[row_indexer,col_indexer] = value instead\n",
      "\n",
      "See the caveats in the documentation: http://pandas.pydata.org/pandas-docs/stable/indexing.html#indexing-view-versus-copy\n",
      "  \"\"\"\n",
      "/Library/Frameworks/Python.framework/Versions/3.6/lib/python3.6/site-packages/ipykernel_launcher.py:6: SettingWithCopyWarning: \n",
      "A value is trying to be set on a copy of a slice from a DataFrame.\n",
      "Try using .loc[row_indexer,col_indexer] = value instead\n",
      "\n",
      "See the caveats in the documentation: http://pandas.pydata.org/pandas-docs/stable/indexing.html#indexing-view-versus-copy\n",
      "  \n",
      "/Library/Frameworks/Python.framework/Versions/3.6/lib/python3.6/site-packages/ipykernel_launcher.py:7: SettingWithCopyWarning: \n",
      "A value is trying to be set on a copy of a slice from a DataFrame.\n",
      "Try using .loc[row_indexer,col_indexer] = value instead\n",
      "\n",
      "See the caveats in the documentation: http://pandas.pydata.org/pandas-docs/stable/indexing.html#indexing-view-versus-copy\n",
      "  import sys\n",
      "/Library/Frameworks/Python.framework/Versions/3.6/lib/python3.6/site-packages/ipykernel_launcher.py:8: SettingWithCopyWarning: \n",
      "A value is trying to be set on a copy of a slice from a DataFrame.\n",
      "Try using .loc[row_indexer,col_indexer] = value instead\n",
      "\n",
      "See the caveats in the documentation: http://pandas.pydata.org/pandas-docs/stable/indexing.html#indexing-view-versus-copy\n",
      "  \n",
      "/Library/Frameworks/Python.framework/Versions/3.6/lib/python3.6/site-packages/ipykernel_launcher.py:9: SettingWithCopyWarning: \n",
      "A value is trying to be set on a copy of a slice from a DataFrame.\n",
      "Try using .loc[row_indexer,col_indexer] = value instead\n",
      "\n",
      "See the caveats in the documentation: http://pandas.pydata.org/pandas-docs/stable/indexing.html#indexing-view-versus-copy\n",
      "  if __name__ == '__main__':\n",
      "/Library/Frameworks/Python.framework/Versions/3.6/lib/python3.6/site-packages/ipykernel_launcher.py:10: SettingWithCopyWarning: \n",
      "A value is trying to be set on a copy of a slice from a DataFrame.\n",
      "Try using .loc[row_indexer,col_indexer] = value instead\n",
      "\n",
      "See the caveats in the documentation: http://pandas.pydata.org/pandas-docs/stable/indexing.html#indexing-view-versus-copy\n",
      "  # Remove the CWD from sys.path while we load stuff.\n"
     ]
    }
   ],
   "source": [
    "# Make the same changes for the 'Tm' Column of pfr_data_mod2\n",
    "pfr_data_mod2['Tm'] = pfr_data_mod2['Tm'].replace('GNB', 'GB')\n",
    "pfr_data_mod2['Tm'] = pfr_data_mod2['Tm'].replace('KAN', 'KC')\n",
    "pfr_data_mod2['Tm'] = pfr_data_mod2['Tm'].replace('NWE', 'NE')\n",
    "pfr_data_mod2['Tm'] = pfr_data_mod2['Tm'].replace('NOR', 'NO')\n",
    "pfr_data_mod2['Tm'] = pfr_data_mod2['Tm'].replace('SFO', 'SF')\n",
    "pfr_data_mod2['Tm'] = pfr_data_mod2['Tm'].replace('TAM', 'TB')\n",
    "pfr_data_mod2['Tm'] = pfr_data_mod2['Tm'].replace('WAS', 'WSH')\n",
    "pfr_data_mod2['Tm'] = pfr_data_mod2['Tm'].replace('STL', 'LAR')\n",
    "pfr_data_mod2['Tm'] = pfr_data_mod2['Tm'].replace('SDG', 'LAC')"
   ]
  },
  {
   "cell_type": "markdown",
   "metadata": {},
   "source": [
    "We should now have enough matching columns that we can merge the dataframes."
   ]
  },
  {
   "cell_type": "markdown",
   "metadata": {},
   "source": [
    "### Clean columns for dataframe merging"
   ]
  },
  {
   "cell_type": "code",
   "execution_count": 71,
   "metadata": {},
   "outputs": [
    {
     "data": {
      "text/plain": [
       "Index(['PASS', 'PENALTY', 'PLAYER', 'PTS ADDED', 'QB PLAYS', 'RAW QBR',\n",
       "       'RESULT', 'RK', 'RUN', 'TOTAL EPA', 'TOTAL QBR', 'WEEK', 'YEAR', 'name',\n",
       "       'team', 'X', 'Score', 'Opp_and_week', 'Opp'],\n",
       "      dtype='object')"
      ]
     },
     "execution_count": 71,
     "metadata": {},
     "output_type": "execute_result"
    }
   ],
   "source": [
    "# List qbr columns\n",
    "qbr_columns = qbr_data_mod2.columns\n",
    "qbr_columns"
   ]
  },
  {
   "cell_type": "code",
   "execution_count": 72,
   "metadata": {},
   "outputs": [
    {
     "data": {
      "text/plain": [
       "Index(['name', 'id', 'Year', 'Date', 'G.', 'Age', 'Tm', 'X', 'Opp', 'Result',\n",
       "       'GS', 'Cmp', 'Att', 'Cmp.', 'Yds', 'TD', 'Int', 'Rate', 'Sk', 'Yds.1',\n",
       "       'Y.A', 'AY.A', 'Att.1', 'Yds.2', 'Y.A.1', 'TD.1', 'TD.2', 'Pts', 'Fmb',\n",
       "       'FF', 'FR', 'Yds.3', 'TD.3', 'team_win', 'start_win', 'game_count',\n",
       "       'start_count'],\n",
       "      dtype='object')"
      ]
     },
     "execution_count": 72,
     "metadata": {},
     "output_type": "execute_result"
    }
   ],
   "source": [
    "# List pfr columns\n",
    "pfr_columns = pfr_data_mod2.columns\n",
    "pfr_columns"
   ]
  },
  {
   "cell_type": "code",
   "execution_count": 74,
   "metadata": {},
   "outputs": [],
   "source": [
    "# Change pfr_data_mod2 'Result' column to 'Score' to match qbr_data_mod2\n",
    "pfr_data_mod2 = pfr_data_mod2.rename(columns={'Result':'Score'})"
   ]
  },
  {
   "cell_type": "code",
   "execution_count": 75,
   "metadata": {},
   "outputs": [],
   "source": [
    "# Change 'YEAR' to 'Year' in qbr_data_mod2\n",
    "qbr_data_mod2 = qbr_data_mod2.rename(columns={'YEAR':'Year'})"
   ]
  },
  {
   "cell_type": "code",
   "execution_count": 76,
   "metadata": {},
   "outputs": [],
   "source": [
    "# Change 'Tm' in pfr_data_mod2 to 'team'\n",
    "# pfr_data_mod2 = pfr_data_mod2.rename(columns={'Tm':'Team'})\n",
    "pfr_data_mod2 = pfr_data_mod2.rename(columns={'Team':'team'})"
   ]
  },
  {
   "cell_type": "code",
   "execution_count": 77,
   "metadata": {},
   "outputs": [
    {
     "data": {
      "text/plain": [
       "['name', 'X', 'Opp']"
      ]
     },
     "execution_count": 77,
     "metadata": {},
     "output_type": "execute_result"
    }
   ],
   "source": [
    "# Common columns\n",
    "list(set(pfr_columns).intersection(qbr_columns))"
   ]
  },
  {
   "cell_type": "markdown",
   "metadata": {},
   "source": [
    "Now we have enough similar columns to merge the dataframes."
   ]
  },
  {
   "cell_type": "markdown",
   "metadata": {},
   "source": [
    "### Merge espn.com and pro-football-reference.com dataframes"
   ]
  },
  {
   "cell_type": "code",
   "execution_count": 78,
   "metadata": {},
   "outputs": [],
   "source": [
    "# Use an inner join\n",
    "merged_df = pd.merge(left=qbr_data_mod2, right=pfr_data_mod2, on=['name','Year','Opp','X'], how='inner')"
   ]
  },
  {
   "cell_type": "code",
   "execution_count": 80,
   "metadata": {},
   "outputs": [
    {
     "data": {
      "text/plain": [
       "(5979, 52)"
      ]
     },
     "execution_count": 80,
     "metadata": {},
     "output_type": "execute_result"
    }
   ],
   "source": [
    "merged_df.shape # Slightly less rows of data than the desired 6094"
   ]
  },
  {
   "cell_type": "code",
   "execution_count": 81,
   "metadata": {},
   "outputs": [
    {
     "data": {
      "text/html": [
       "<div>\n",
       "<style scoped>\n",
       "    .dataframe tbody tr th:only-of-type {\n",
       "        vertical-align: middle;\n",
       "    }\n",
       "\n",
       "    .dataframe tbody tr th {\n",
       "        vertical-align: top;\n",
       "    }\n",
       "\n",
       "    .dataframe thead th {\n",
       "        text-align: right;\n",
       "    }\n",
       "</style>\n",
       "<table border=\"1\" class=\"dataframe\">\n",
       "  <thead>\n",
       "    <tr style=\"text-align: right;\">\n",
       "      <th></th>\n",
       "      <th>PASS</th>\n",
       "      <th>PENALTY</th>\n",
       "      <th>PLAYER</th>\n",
       "      <th>PTS ADDED</th>\n",
       "      <th>QB PLAYS</th>\n",
       "      <th>RAW QBR</th>\n",
       "      <th>RESULT</th>\n",
       "      <th>RK</th>\n",
       "      <th>RUN</th>\n",
       "      <th>TOTAL EPA</th>\n",
       "      <th>...</th>\n",
       "      <th>Pts</th>\n",
       "      <th>Fmb</th>\n",
       "      <th>FF</th>\n",
       "      <th>FR</th>\n",
       "      <th>Yds.3</th>\n",
       "      <th>TD.3</th>\n",
       "      <th>team_win</th>\n",
       "      <th>start_win</th>\n",
       "      <th>game_count</th>\n",
       "      <th>start_count</th>\n",
       "    </tr>\n",
       "  </thead>\n",
       "  <tbody>\n",
       "    <tr>\n",
       "      <th>0</th>\n",
       "      <td>4.3</td>\n",
       "      <td>0.1</td>\n",
       "      <td>Rex Grossman, CHI</td>\n",
       "      <td>5.5</td>\n",
       "      <td>31</td>\n",
       "      <td>92.4</td>\n",
       "      <td>W 26-0  @ GB in Wk 1</td>\n",
       "      <td>1.0</td>\n",
       "      <td>0.6</td>\n",
       "      <td>5.4</td>\n",
       "      <td>...</td>\n",
       "      <td>0</td>\n",
       "      <td>0</td>\n",
       "      <td>0</td>\n",
       "      <td>0</td>\n",
       "      <td>-4</td>\n",
       "      <td>0</td>\n",
       "      <td>1</td>\n",
       "      <td>1</td>\n",
       "      <td>8</td>\n",
       "      <td>7</td>\n",
       "    </tr>\n",
       "    <tr>\n",
       "      <th>1</th>\n",
       "      <td>8.6</td>\n",
       "      <td>-0.1</td>\n",
       "      <td>Donovan McNabb, PHI</td>\n",
       "      <td>8.1</td>\n",
       "      <td>38</td>\n",
       "      <td>95.4</td>\n",
       "      <td>W 24-10  @ HOU in Wk 1</td>\n",
       "      <td>2.0</td>\n",
       "      <td>0.1</td>\n",
       "      <td>8.9</td>\n",
       "      <td>...</td>\n",
       "      <td>0</td>\n",
       "      <td>0</td>\n",
       "      <td>0</td>\n",
       "      <td>0</td>\n",
       "      <td>0</td>\n",
       "      <td>0</td>\n",
       "      <td>1</td>\n",
       "      <td>1</td>\n",
       "      <td>90</td>\n",
       "      <td>87</td>\n",
       "    </tr>\n",
       "  </tbody>\n",
       "</table>\n",
       "<p>2 rows × 52 columns</p>\n",
       "</div>"
      ],
      "text/plain": [
       "   PASS  PENALTY               PLAYER  PTS ADDED  QB PLAYS  RAW QBR  \\\n",
       "0   4.3      0.1    Rex Grossman, CHI        5.5        31     92.4   \n",
       "1   8.6     -0.1  Donovan McNabb, PHI        8.1        38     95.4   \n",
       "\n",
       "                   RESULT   RK  RUN  TOTAL EPA     ...      Pts  Fmb  FF FR  \\\n",
       "0    W 26-0  @ GB in Wk 1  1.0  0.6        5.4     ...        0    0   0  0   \n",
       "1  W 24-10  @ HOU in Wk 1  2.0  0.1        8.9     ...        0    0   0  0   \n",
       "\n",
       "  Yds.3 TD.3 team_win start_win game_count start_count  \n",
       "0    -4    0        1         1          8           7  \n",
       "1     0    0        1         1         90          87  \n",
       "\n",
       "[2 rows x 52 columns]"
      ]
     },
     "execution_count": 81,
     "metadata": {},
     "output_type": "execute_result"
    }
   ],
   "source": [
    "merged_df.head(2)"
   ]
  },
  {
   "cell_type": "markdown",
   "metadata": {},
   "source": [
    "##### List all columns available in the merged dataframe"
   ]
  },
  {
   "cell_type": "code",
   "execution_count": 82,
   "metadata": {},
   "outputs": [
    {
     "data": {
      "text/plain": [
       "Index(['PASS', 'PENALTY', 'PLAYER', 'PTS ADDED', 'QB PLAYS', 'RAW QBR',\n",
       "       'RESULT', 'RK', 'RUN', 'TOTAL EPA', 'TOTAL QBR', 'WEEK', 'Year', 'name',\n",
       "       'team', 'X', 'Score_x', 'Opp_and_week', 'Opp', 'id', 'Date', 'G.',\n",
       "       'Age', 'Tm', 'Score_y', 'GS', 'Cmp', 'Att', 'Cmp.', 'Yds', 'TD', 'Int',\n",
       "       'Rate', 'Sk', 'Yds.1', 'Y.A', 'AY.A', 'Att.1', 'Yds.2', 'Y.A.1', 'TD.1',\n",
       "       'TD.2', 'Pts', 'Fmb', 'FF', 'FR', 'Yds.3', 'TD.3', 'team_win',\n",
       "       'start_win', 'game_count', 'start_count'],\n",
       "      dtype='object')"
      ]
     },
     "execution_count": 82,
     "metadata": {},
     "output_type": "execute_result"
    }
   ],
   "source": [
    "merged_df.columns"
   ]
  },
  {
   "cell_type": "code",
   "execution_count": 83,
   "metadata": {},
   "outputs": [
    {
     "data": {
      "text/html": [
       "<div>\n",
       "<style scoped>\n",
       "    .dataframe tbody tr th:only-of-type {\n",
       "        vertical-align: middle;\n",
       "    }\n",
       "\n",
       "    .dataframe tbody tr th {\n",
       "        vertical-align: top;\n",
       "    }\n",
       "\n",
       "    .dataframe thead th {\n",
       "        text-align: right;\n",
       "    }\n",
       "</style>\n",
       "<table border=\"1\" class=\"dataframe\">\n",
       "  <thead>\n",
       "    <tr style=\"text-align: right;\">\n",
       "      <th></th>\n",
       "      <th>name</th>\n",
       "      <th>TOTAL QBR</th>\n",
       "      <th>Rate</th>\n",
       "      <th>WEEK</th>\n",
       "      <th>Year</th>\n",
       "      <th>team</th>\n",
       "    </tr>\n",
       "  </thead>\n",
       "  <tbody>\n",
       "    <tr>\n",
       "      <th>0</th>\n",
       "      <td>Rex Grossman</td>\n",
       "      <td>96.4</td>\n",
       "      <td>98.6</td>\n",
       "      <td>1.0</td>\n",
       "      <td>2006.0</td>\n",
       "      <td>CHI</td>\n",
       "    </tr>\n",
       "    <tr>\n",
       "      <th>1</th>\n",
       "      <td>Donovan McNabb</td>\n",
       "      <td>92.5</td>\n",
       "      <td>113.3</td>\n",
       "      <td>1.0</td>\n",
       "      <td>2006.0</td>\n",
       "      <td>PHI</td>\n",
       "    </tr>\n",
       "  </tbody>\n",
       "</table>\n",
       "</div>"
      ],
      "text/plain": [
       "             name  TOTAL QBR   Rate  WEEK    Year  team\n",
       "0    Rex Grossman       96.4   98.6   1.0  2006.0   CHI\n",
       "1  Donovan McNabb       92.5  113.3   1.0  2006.0   PHI"
      ]
     },
     "execution_count": 83,
     "metadata": {},
     "output_type": "execute_result"
    }
   ],
   "source": [
    "# Take a peak at the columns we are most interested in\n",
    "merged_df[['name', 'TOTAL QBR','Rate','WEEK','Year','team']].head(2)"
   ]
  },
  {
   "cell_type": "markdown",
   "metadata": {},
   "source": [
    "##### Write merged dataframe to a .csv"
   ]
  },
  {
   "cell_type": "code",
   "execution_count": 84,
   "metadata": {},
   "outputs": [],
   "source": [
    "merged_df.to_csv('merged_qb_ratings_df.csv', index=False, header=True)"
   ]
  },
  {
   "cell_type": "markdown",
   "metadata": {},
   "source": [
    "We now have a merged dataframe that now adds the QBR statistic from the espn.com dataset to the extensive statistics avaiable in the pro-football-reference.com dataset. This dataset contains 5,979 rows of data which represent an NFL quarterback's statistics for one game from the 2006 to 2018 NFL seasons. This merged dataframe will be used for future blog posts with the goal of \"reverse engineering\" the algorithm that ESPN uses to calculate quarterback rating."
   ]
  }
 ],
 "metadata": {
  "kernelspec": {
   "display_name": "Python 3",
   "language": "python",
   "name": "python3"
  },
  "language_info": {
   "codemirror_mode": {
    "name": "ipython",
    "version": 3
   },
   "file_extension": ".py",
   "mimetype": "text/x-python",
   "name": "python",
   "nbconvert_exporter": "python",
   "pygments_lexer": "ipython3",
   "version": "3.6.4"
  }
 },
 "nbformat": 4,
 "nbformat_minor": 2
}
