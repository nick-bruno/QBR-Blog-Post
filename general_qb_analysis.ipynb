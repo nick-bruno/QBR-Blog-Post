{
 "cells": [
  {
   "cell_type": "markdown",
   "metadata": {},
   "source": [
    "# General QBR vs. Passer Rating Analytics"
   ]
  },
  {
   "cell_type": "markdown",
   "metadata": {},
   "source": [
    "Goal of this notebook is to compare the QBR and Passer Rating metrics of quarterbacks."
   ]
  },
  {
   "cell_type": "code",
   "execution_count": 1,
   "metadata": {},
   "outputs": [],
   "source": [
    "# import graphing libraries\n",
    "import matplotlib.pyplot as plt\n",
    "import pandas as pd\n",
    "import numpy as np\n",
    "import os"
   ]
  },
  {
   "cell_type": "markdown",
   "metadata": {},
   "source": [
    "### Import Dataset"
   ]
  },
  {
   "cell_type": "code",
   "execution_count": 2,
   "metadata": {},
   "outputs": [],
   "source": [
    "merged_df = pd.read_csv('correct_merge_qb_ratings_df.csv')"
   ]
  },
  {
   "cell_type": "code",
   "execution_count": 3,
   "metadata": {},
   "outputs": [
    {
     "data": {
      "text/plain": [
       "(5899, 52)"
      ]
     },
     "execution_count": 3,
     "metadata": {},
     "output_type": "execute_result"
    }
   ],
   "source": [
    "merged_df.shape"
   ]
  },
  {
   "cell_type": "code",
   "execution_count": 4,
   "metadata": {},
   "outputs": [
    {
     "data": {
      "text/plain": [
       "Index(['PASS', 'PENALTY', 'PLAYER', 'PTS ADDED', 'QB PLAYS', 'RAW QBR',\n",
       "       'RESULT', 'RK', 'RUN', 'TOTAL EPA', 'TOTAL QBR', 'WEEK', 'Year', 'name',\n",
       "       'Tm', 'X', 'Game_result', 'Home_score', 'Away_score', 'Opp', 'id',\n",
       "       'Date', 'G.', 'Age', 'Result', 'GS', 'Cmp', 'Att', 'Cmp.', 'Yds', 'TD',\n",
       "       'Int', 'Rate', 'Sk', 'Yds.1', 'Y.A', 'AY.A', 'Att.1', 'Yds.2', 'Y.A.1',\n",
       "       'TD.1', 'TD.2', 'Pts', 'Fmb', 'FF', 'FR', 'Yds.3', 'TD.3', 'team_win',\n",
       "       'start_win', 'game_count', 'start_count'],\n",
       "      dtype='object')"
      ]
     },
     "execution_count": 4,
     "metadata": {},
     "output_type": "execute_result"
    }
   ],
   "source": [
    "merged_df.columns"
   ]
  },
  {
   "cell_type": "markdown",
   "metadata": {},
   "source": [
    "NOTE: Total QBR is the raw QBR adjusted for the Strength of the Opponent."
   ]
  },
  {
   "cell_type": "code",
   "execution_count": 5,
   "metadata": {},
   "outputs": [
    {
     "data": {
      "text/html": [
       "<div>\n",
       "<style scoped>\n",
       "    .dataframe tbody tr th:only-of-type {\n",
       "        vertical-align: middle;\n",
       "    }\n",
       "\n",
       "    .dataframe tbody tr th {\n",
       "        vertical-align: top;\n",
       "    }\n",
       "\n",
       "    .dataframe thead th {\n",
       "        text-align: right;\n",
       "    }\n",
       "</style>\n",
       "<table border=\"1\" class=\"dataframe\">\n",
       "  <thead>\n",
       "    <tr style=\"text-align: right;\">\n",
       "      <th></th>\n",
       "      <th>PASS</th>\n",
       "      <th>PENALTY</th>\n",
       "      <th>PLAYER</th>\n",
       "      <th>PTS ADDED</th>\n",
       "      <th>QB PLAYS</th>\n",
       "      <th>RAW QBR</th>\n",
       "      <th>RESULT</th>\n",
       "      <th>RK</th>\n",
       "      <th>RUN</th>\n",
       "      <th>TOTAL EPA</th>\n",
       "      <th>...</th>\n",
       "      <th>Pts</th>\n",
       "      <th>Fmb</th>\n",
       "      <th>FF</th>\n",
       "      <th>FR</th>\n",
       "      <th>Yds.3</th>\n",
       "      <th>TD.3</th>\n",
       "      <th>team_win</th>\n",
       "      <th>start_win</th>\n",
       "      <th>game_count</th>\n",
       "      <th>start_count</th>\n",
       "    </tr>\n",
       "  </thead>\n",
       "  <tbody>\n",
       "    <tr>\n",
       "      <th>0</th>\n",
       "      <td>4.3</td>\n",
       "      <td>0.1</td>\n",
       "      <td>Rex Grossman, CHI</td>\n",
       "      <td>5.5</td>\n",
       "      <td>31</td>\n",
       "      <td>92.4</td>\n",
       "      <td>W 26-0  @ GB in Wk 1</td>\n",
       "      <td>1.0</td>\n",
       "      <td>0.6</td>\n",
       "      <td>5.4</td>\n",
       "      <td>...</td>\n",
       "      <td>0</td>\n",
       "      <td>0</td>\n",
       "      <td>0</td>\n",
       "      <td>0</td>\n",
       "      <td>-4</td>\n",
       "      <td>0</td>\n",
       "      <td>1</td>\n",
       "      <td>1</td>\n",
       "      <td>8</td>\n",
       "      <td>7</td>\n",
       "    </tr>\n",
       "    <tr>\n",
       "      <th>1</th>\n",
       "      <td>8.6</td>\n",
       "      <td>-0.1</td>\n",
       "      <td>Donovan McNabb, PHI</td>\n",
       "      <td>8.1</td>\n",
       "      <td>38</td>\n",
       "      <td>95.4</td>\n",
       "      <td>W 24-10  @ HOU in Wk 1</td>\n",
       "      <td>2.0</td>\n",
       "      <td>0.1</td>\n",
       "      <td>8.9</td>\n",
       "      <td>...</td>\n",
       "      <td>0</td>\n",
       "      <td>0</td>\n",
       "      <td>0</td>\n",
       "      <td>0</td>\n",
       "      <td>0</td>\n",
       "      <td>0</td>\n",
       "      <td>1</td>\n",
       "      <td>1</td>\n",
       "      <td>90</td>\n",
       "      <td>87</td>\n",
       "    </tr>\n",
       "    <tr>\n",
       "      <th>2</th>\n",
       "      <td>6.5</td>\n",
       "      <td>0.2</td>\n",
       "      <td>Chad Pennington, NYJ</td>\n",
       "      <td>6.1</td>\n",
       "      <td>43</td>\n",
       "      <td>88.1</td>\n",
       "      <td>W 23-16  @ TEN in Wk 1</td>\n",
       "      <td>3.0</td>\n",
       "      <td>-0.3</td>\n",
       "      <td>7.5</td>\n",
       "      <td>...</td>\n",
       "      <td>0</td>\n",
       "      <td>0</td>\n",
       "      <td>0</td>\n",
       "      <td>0</td>\n",
       "      <td>0</td>\n",
       "      <td>0</td>\n",
       "      <td>1</td>\n",
       "      <td>1</td>\n",
       "      <td>41</td>\n",
       "      <td>38</td>\n",
       "    </tr>\n",
       "    <tr>\n",
       "      <th>3</th>\n",
       "      <td>8.4</td>\n",
       "      <td>-0.3</td>\n",
       "      <td>Peyton Manning, IND</td>\n",
       "      <td>5.8</td>\n",
       "      <td>45</td>\n",
       "      <td>86.0</td>\n",
       "      <td>W 26-21  @ NYG in Wk 1</td>\n",
       "      <td>4.0</td>\n",
       "      <td>0.0</td>\n",
       "      <td>8.3</td>\n",
       "      <td>...</td>\n",
       "      <td>0</td>\n",
       "      <td>0</td>\n",
       "      <td>0</td>\n",
       "      <td>0</td>\n",
       "      <td>0</td>\n",
       "      <td>0</td>\n",
       "      <td>1</td>\n",
       "      <td>1</td>\n",
       "      <td>127</td>\n",
       "      <td>127</td>\n",
       "    </tr>\n",
       "    <tr>\n",
       "      <th>4</th>\n",
       "      <td>1.3</td>\n",
       "      <td>0.4</td>\n",
       "      <td>Mike Vick, ATL</td>\n",
       "      <td>1.8</td>\n",
       "      <td>30</td>\n",
       "      <td>70.5</td>\n",
       "      <td>W 20-6  @ CAR in Wk 1</td>\n",
       "      <td>5.0</td>\n",
       "      <td>1.1</td>\n",
       "      <td>3.4</td>\n",
       "      <td>...</td>\n",
       "      <td>0</td>\n",
       "      <td>0</td>\n",
       "      <td>0</td>\n",
       "      <td>0</td>\n",
       "      <td>0</td>\n",
       "      <td>0</td>\n",
       "      <td>1</td>\n",
       "      <td>1</td>\n",
       "      <td>54</td>\n",
       "      <td>50</td>\n",
       "    </tr>\n",
       "  </tbody>\n",
       "</table>\n",
       "<p>5 rows × 52 columns</p>\n",
       "</div>"
      ],
      "text/plain": [
       "   PASS  PENALTY                PLAYER  PTS ADDED  QB PLAYS  RAW QBR  \\\n",
       "0   4.3      0.1     Rex Grossman, CHI        5.5        31     92.4   \n",
       "1   8.6     -0.1   Donovan McNabb, PHI        8.1        38     95.4   \n",
       "2   6.5      0.2  Chad Pennington, NYJ        6.1        43     88.1   \n",
       "3   8.4     -0.3   Peyton Manning, IND        5.8        45     86.0   \n",
       "4   1.3      0.4        Mike Vick, ATL        1.8        30     70.5   \n",
       "\n",
       "                   RESULT   RK  RUN  TOTAL EPA  ...  Pts  Fmb  FF FR Yds.3  \\\n",
       "0    W 26-0  @ GB in Wk 1  1.0  0.6        5.4  ...    0    0   0  0    -4   \n",
       "1  W 24-10  @ HOU in Wk 1  2.0  0.1        8.9  ...    0    0   0  0     0   \n",
       "2  W 23-16  @ TEN in Wk 1  3.0 -0.3        7.5  ...    0    0   0  0     0   \n",
       "3  W 26-21  @ NYG in Wk 1  4.0  0.0        8.3  ...    0    0   0  0     0   \n",
       "4   W 20-6  @ CAR in Wk 1  5.0  1.1        3.4  ...    0    0   0  0     0   \n",
       "\n",
       "  TD.3 team_win  start_win  game_count start_count  \n",
       "0    0        1          1           8           7  \n",
       "1    0        1          1          90          87  \n",
       "2    0        1          1          41          38  \n",
       "3    0        1          1         127         127  \n",
       "4    0        1          1          54          50  \n",
       "\n",
       "[5 rows x 52 columns]"
      ]
     },
     "execution_count": 5,
     "metadata": {},
     "output_type": "execute_result"
    }
   ],
   "source": [
    "merged_df.head()"
   ]
  },
  {
   "cell_type": "markdown",
   "metadata": {},
   "source": [
    "## General Analysis"
   ]
  },
  {
   "cell_type": "markdown",
   "metadata": {},
   "source": [
    "### Data Pre-Processing"
   ]
  },
  {
   "cell_type": "code",
   "execution_count": 6,
   "metadata": {},
   "outputs": [
    {
     "data": {
      "text/plain": [
       "count    5899.000000\n",
       "mean       86.793016\n",
       "std        27.297263\n",
       "min         0.000000\n",
       "25%        68.600000\n",
       "50%        86.400000\n",
       "75%       105.150000\n",
       "max       158.300000\n",
       "Name: Rate, dtype: float64"
      ]
     },
     "execution_count": 6,
     "metadata": {},
     "output_type": "execute_result"
    }
   ],
   "source": [
    "merged_df.Rate.describe()"
   ]
  },
  {
   "cell_type": "code",
   "execution_count": 7,
   "metadata": {},
   "outputs": [
    {
     "data": {
      "text/plain": [
       "count    5899.000000\n",
       "mean       53.679522\n",
       "std        26.127960\n",
       "min         0.300000\n",
       "25%        32.400000\n",
       "50%        54.800000\n",
       "75%        75.800000\n",
       "max        99.800000\n",
       "Name: TOTAL QBR, dtype: float64"
      ]
     },
     "execution_count": 7,
     "metadata": {},
     "output_type": "execute_result"
    }
   ],
   "source": [
    "merged_df['TOTAL QBR'].describe()"
   ]
  },
  {
   "cell_type": "markdown",
   "metadata": {},
   "source": [
    "##### Min-Max Scaling"
   ]
  },
  {
   "cell_type": "markdown",
   "metadata": {},
   "source": [
    "Use min-max scaling to directly compare QBR and Passer Rating."
   ]
  },
  {
   "cell_type": "code",
   "execution_count": 8,
   "metadata": {},
   "outputs": [],
   "source": [
    "merged_df['scale_pass_rate'] = ((merged_df.Rate - merged_df.Rate.min()) / (merged_df.Rate.max() - merged_df.Rate.min()))\n",
    "merged_df['scale_qbr'] = ((merged_df['TOTAL QBR'] - merged_df['TOTAL QBR'].min()) / (merged_df['TOTAL QBR'].max() - merged_df['TOTAL QBR'].min()))"
   ]
  },
  {
   "cell_type": "markdown",
   "metadata": {},
   "source": [
    "### Analysis"
   ]
  },
  {
   "cell_type": "markdown",
   "metadata": {},
   "source": [
    "##### Comparing QBR and Passer Rating Averages over Time"
   ]
  },
  {
   "cell_type": "code",
   "execution_count": 9,
   "metadata": {},
   "outputs": [
    {
     "data": {
      "text/html": [
       "<div>\n",
       "<style scoped>\n",
       "    .dataframe tbody tr th:only-of-type {\n",
       "        vertical-align: middle;\n",
       "    }\n",
       "\n",
       "    .dataframe tbody tr th {\n",
       "        vertical-align: top;\n",
       "    }\n",
       "\n",
       "    .dataframe thead th {\n",
       "        text-align: right;\n",
       "    }\n",
       "</style>\n",
       "<table border=\"1\" class=\"dataframe\">\n",
       "  <thead>\n",
       "    <tr style=\"text-align: right;\">\n",
       "      <th></th>\n",
       "      <th>scale_qbr</th>\n",
       "      <th>scale_pass_rate</th>\n",
       "    </tr>\n",
       "    <tr>\n",
       "      <th>Year</th>\n",
       "      <th></th>\n",
       "      <th></th>\n",
       "    </tr>\n",
       "  </thead>\n",
       "  <tbody>\n",
       "    <tr>\n",
       "      <th>2006</th>\n",
       "      <td>52.433745</td>\n",
       "      <td>51.371156</td>\n",
       "    </tr>\n",
       "    <tr>\n",
       "      <th>2007</th>\n",
       "      <td>53.631556</td>\n",
       "      <td>53.166611</td>\n",
       "    </tr>\n",
       "    <tr>\n",
       "      <th>2008</th>\n",
       "      <td>53.772511</td>\n",
       "      <td>53.233796</td>\n",
       "    </tr>\n",
       "    <tr>\n",
       "      <th>2009</th>\n",
       "      <td>54.123751</td>\n",
       "      <td>53.265323</td>\n",
       "    </tr>\n",
       "    <tr>\n",
       "      <th>2010</th>\n",
       "      <td>54.126898</td>\n",
       "      <td>54.526934</td>\n",
       "    </tr>\n",
       "    <tr>\n",
       "      <th>2011</th>\n",
       "      <td>54.026328</td>\n",
       "      <td>54.305225</td>\n",
       "    </tr>\n",
       "    <tr>\n",
       "      <th>2012</th>\n",
       "      <td>52.140911</td>\n",
       "      <td>54.365520</td>\n",
       "    </tr>\n",
       "    <tr>\n",
       "      <th>2013</th>\n",
       "      <td>52.646886</td>\n",
       "      <td>54.539541</td>\n",
       "    </tr>\n",
       "    <tr>\n",
       "      <th>2014</th>\n",
       "      <td>54.167302</td>\n",
       "      <td>56.902799</td>\n",
       "    </tr>\n",
       "    <tr>\n",
       "      <th>2015</th>\n",
       "      <td>54.157727</td>\n",
       "      <td>57.160867</td>\n",
       "    </tr>\n",
       "    <tr>\n",
       "      <th>2016</th>\n",
       "      <td>54.453117</td>\n",
       "      <td>57.197887</td>\n",
       "    </tr>\n",
       "    <tr>\n",
       "      <th>2017</th>\n",
       "      <td>53.789638</td>\n",
       "      <td>55.588881</td>\n",
       "    </tr>\n",
       "    <tr>\n",
       "      <th>2018</th>\n",
       "      <td>54.366276</td>\n",
       "      <td>59.147791</td>\n",
       "    </tr>\n",
       "  </tbody>\n",
       "</table>\n",
       "</div>"
      ],
      "text/plain": [
       "      scale_qbr  scale_pass_rate\n",
       "Year                            \n",
       "2006  52.433745        51.371156\n",
       "2007  53.631556        53.166611\n",
       "2008  53.772511        53.233796\n",
       "2009  54.123751        53.265323\n",
       "2010  54.126898        54.526934\n",
       "2011  54.026328        54.305225\n",
       "2012  52.140911        54.365520\n",
       "2013  52.646886        54.539541\n",
       "2014  54.167302        56.902799\n",
       "2015  54.157727        57.160867\n",
       "2016  54.453117        57.197887\n",
       "2017  53.789638        55.588881\n",
       "2018  54.366276        59.147791"
      ]
     },
     "execution_count": 9,
     "metadata": {},
     "output_type": "execute_result"
    }
   ],
   "source": [
    "# Find averages grouped by year\n",
    "gb = merged_df.groupby('Year')[['scale_qbr','scale_pass_rate']].mean()*100\n",
    "gb"
   ]
  },
  {
   "cell_type": "code",
   "execution_count": 10,
   "metadata": {},
   "outputs": [
    {
     "data": {
      "image/png": "[encoded data removed]",
      "text/plain": [
       "<Figure size 432x288 with 1 Axes>"
      ]
     },
     "metadata": {},
     "output_type": "display_data"
    }
   ],
   "source": [
    "plt.hist(merged_df.Rate, bins=10)\n",
    "plt.title('Histogram of Passer Rating')\n",
    "plt.ylabel('Frequency')\n",
    "plt.xlabel('Passer Rating')\n",
    "plt.show()"
   ]
  },
  {
   "cell_type": "code",
   "execution_count": 15,
   "metadata": {},
   "outputs": [
    {
     "name": "stderr",
     "output_type": "stream",
     "text": [
      "/Library/Frameworks/Python.framework/Versions/3.6/lib/python3.6/site-packages/matplotlib/cbook/__init__.py:1377: FutureWarning: Support for multi-dimensional indexing (e.g. `obj[:, None]`) is deprecated and will be removed in a future version.  Convert to a numpy array before indexing instead.\n",
      "  x[:, None]\n",
      "/Library/Frameworks/Python.framework/Versions/3.6/lib/python3.6/site-packages/matplotlib/axes/_base.py:237: FutureWarning: Support for multi-dimensional indexing (e.g. `obj[:, None]`) is deprecated and will be removed in a future version.  Convert to a numpy array before indexing instead.\n",
      "  x = x[:, np.newaxis]\n",
      "/Library/Frameworks/Python.framework/Versions/3.6/lib/python3.6/site-packages/matplotlib/axes/_base.py:239: FutureWarning: Support for multi-dimensional indexing (e.g. `obj[:, None]`) is deprecated and will be removed in a future version.  Convert to a numpy array before indexing instead.\n",
      "  y = y[:, np.newaxis]\n"
     ]
    },
    {
     "data": {
      "text/plain": [
       "Text(0.5, 1.0, 'Average Scaled Total QBR Over Time')"
      ]
     },
     "execution_count": 15,
     "metadata": {},
     "output_type": "execute_result"
    },
    {
     "data": {
      "image/png": "[encoded data removed]",
      "text/plain": [
       "<Figure size 432x288 with 1 Axes>"
      ]
     },
     "metadata": {},
     "output_type": "display_data"
    }
   ],
   "source": [
    "# QBR\n",
    "plt.plot(gb.index, gb['scale_qbr'])\n",
    "plt.xlabel('Year')\n",
    "plt.ylabel('Total QBR')\n",
    "plt.title('Average Scaled Total QBR Over Time')"
   ]
  },
  {
   "cell_type": "code",
   "execution_count": 16,
   "metadata": {},
   "outputs": [
    {
     "name": "stderr",
     "output_type": "stream",
     "text": [
      "/Library/Frameworks/Python.framework/Versions/3.6/lib/python3.6/site-packages/matplotlib/cbook/__init__.py:1377: FutureWarning: Support for multi-dimensional indexing (e.g. `obj[:, None]`) is deprecated and will be removed in a future version.  Convert to a numpy array before indexing instead.\n",
      "  x[:, None]\n",
      "/Library/Frameworks/Python.framework/Versions/3.6/lib/python3.6/site-packages/matplotlib/axes/_base.py:237: FutureWarning: Support for multi-dimensional indexing (e.g. `obj[:, None]`) is deprecated and will be removed in a future version.  Convert to a numpy array before indexing instead.\n",
      "  x = x[:, np.newaxis]\n",
      "/Library/Frameworks/Python.framework/Versions/3.6/lib/python3.6/site-packages/matplotlib/axes/_base.py:239: FutureWarning: Support for multi-dimensional indexing (e.g. `obj[:, None]`) is deprecated and will be removed in a future version.  Convert to a numpy array before indexing instead.\n",
      "  y = y[:, np.newaxis]\n"
     ]
    },
    {
     "data": {
      "text/plain": [
       "Text(0.5, 1.0, 'Average Scaled Passer Rating Over Time')"
      ]
     },
     "execution_count": 16,
     "metadata": {},
     "output_type": "execute_result"
    },
    {
     "data": {
      "image/png": "[encoded data removed]",
      "text/plain": [
       "<Figure size 432x288 with 1 Axes>"
      ]
     },
     "metadata": {},
     "output_type": "display_data"
    }
   ],
   "source": [
    "# Passer Rating\n",
    "plt.plot(gb.index, gb.scale_pass_rate)\n",
    "plt.xlabel('Year')\n",
    "plt.ylabel('Scaled Passer Rating')\n",
    "plt.title('Average Scaled Passer Rating Over Time')"
   ]
  },
  {
   "cell_type": "code",
   "execution_count": 17,
   "metadata": {},
   "outputs": [
    {
     "name": "stderr",
     "output_type": "stream",
     "text": [
      "/Library/Frameworks/Python.framework/Versions/3.6/lib/python3.6/site-packages/matplotlib/cbook/__init__.py:1377: FutureWarning: Support for multi-dimensional indexing (e.g. `obj[:, None]`) is deprecated and will be removed in a future version.  Convert to a numpy array before indexing instead.\n",
      "  x[:, None]\n",
      "/Library/Frameworks/Python.framework/Versions/3.6/lib/python3.6/site-packages/matplotlib/axes/_base.py:237: FutureWarning: Support for multi-dimensional indexing (e.g. `obj[:, None]`) is deprecated and will be removed in a future version.  Convert to a numpy array before indexing instead.\n",
      "  x = x[:, np.newaxis]\n",
      "/Library/Frameworks/Python.framework/Versions/3.6/lib/python3.6/site-packages/matplotlib/axes/_base.py:239: FutureWarning: Support for multi-dimensional indexing (e.g. `obj[:, None]`) is deprecated and will be removed in a future version.  Convert to a numpy array before indexing instead.\n",
      "  y = y[:, np.newaxis]\n"
     ]
    },
    {
     "data": {
      "text/plain": [
       "Text(0, 0.5, 'Scaled Rating')"
      ]
     },
     "execution_count": 17,
     "metadata": {},
     "output_type": "execute_result"
    },
    {
     "data": {
      "image/png": "[encoded data removed]",
      "text/plain": [
       "<Figure size 432x288 with 1 Axes>"
      ]
     },
     "metadata": {},
     "output_type": "display_data"
    }
   ],
   "source": [
    "plt.plot(gb.index, gb['scale_qbr'], label = \"QBR Scaled\", color='magenta')\n",
    "plt.plot(gb.index, gb['scale_pass_rate'], label = \"Passer Rating Scaled\", color='dodgerblue')\n",
    "plt.legend()\n",
    "plt.title('Average QBR Scaled vs. Passer Rating Scaled Over Time')\n",
    "plt.xlabel('Year')\n",
    "plt.ylabel('Scaled Rating')"
   ]
  },
  {
   "cell_type": "markdown",
   "metadata": {},
   "source": [
    "##### QBR Average from 2006 to 2018"
   ]
  },
  {
   "cell_type": "code",
   "execution_count": 18,
   "metadata": {},
   "outputs": [
    {
     "data": {
      "text/plain": [
       "53.679521952873365"
      ]
     },
     "execution_count": 18,
     "metadata": {},
     "output_type": "execute_result"
    }
   ],
   "source": [
    "merged_df['TOTAL QBR'].mean()"
   ]
  },
  {
   "cell_type": "code",
   "execution_count": 19,
   "metadata": {},
   "outputs": [
    {
     "data": {
      "text/plain": [
       "86.79301576538397"
      ]
     },
     "execution_count": 19,
     "metadata": {},
     "output_type": "execute_result"
    }
   ],
   "source": [
    "merged_df['Rate'].mean()"
   ]
  },
  {
   "cell_type": "code",
   "execution_count": 20,
   "metadata": {},
   "outputs": [
    {
     "data": {
      "text/plain": [
       "122.3"
      ]
     },
     "execution_count": 20,
     "metadata": {},
     "output_type": "execute_result"
    }
   ],
   "source": [
    "np.percentile(merged_df['Rate'], 90)"
   ]
  },
  {
   "cell_type": "markdown",
   "metadata": {},
   "source": [
    "This shows that Passer Rating inflates over time while QBR stays consistent."
   ]
  },
  {
   "cell_type": "markdown",
   "metadata": {},
   "source": [
    "### Compare Total QBR and Raw QBR"
   ]
  },
  {
   "cell_type": "code",
   "execution_count": 21,
   "metadata": {},
   "outputs": [],
   "source": [
    "merged_df['QBR_diff'] = merged_df['TOTAL QBR'] - merged_df['RAW QBR']"
   ]
  },
  {
   "cell_type": "code",
   "execution_count": 22,
   "metadata": {},
   "outputs": [
    {
     "data": {
      "image/png": "[encoded data removed]",
      "text/plain": [
       "<Figure size 432x288 with 1 Axes>"
      ]
     },
     "metadata": {},
     "output_type": "display_data"
    }
   ],
   "source": [
    "plt.hist(merged_df.QBR_diff, bins=20, color='dodgerblue')\n",
    "plt.title('Difference Between Total QBR and Raw QBR')\n",
    "plt.ylabel('No of times')\n",
    "plt.xlabel('Rating Difference')\n",
    "plt.show()"
   ]
  },
  {
   "cell_type": "markdown",
   "metadata": {},
   "source": [
    "##### Average Stats over Years"
   ]
  },
  {
   "cell_type": "code",
   "execution_count": 23,
   "metadata": {},
   "outputs": [
    {
     "data": {
      "text/html": [
       "<div>\n",
       "<style scoped>\n",
       "    .dataframe tbody tr th:only-of-type {\n",
       "        vertical-align: middle;\n",
       "    }\n",
       "\n",
       "    .dataframe tbody tr th {\n",
       "        vertical-align: top;\n",
       "    }\n",
       "\n",
       "    .dataframe thead th {\n",
       "        text-align: right;\n",
       "    }\n",
       "</style>\n",
       "<table border=\"1\" class=\"dataframe\">\n",
       "  <thead>\n",
       "    <tr style=\"text-align: right;\">\n",
       "      <th></th>\n",
       "      <th>scale_pass_rate</th>\n",
       "      <th>scale_qbr</th>\n",
       "      <th>Rate</th>\n",
       "      <th>TOTAL QBR</th>\n",
       "      <th>RAW QBR</th>\n",
       "      <th>Cmp</th>\n",
       "      <th>Att</th>\n",
       "      <th>Yds</th>\n",
       "      <th>TD</th>\n",
       "      <th>Int</th>\n",
       "    </tr>\n",
       "    <tr>\n",
       "      <th>Year</th>\n",
       "      <th></th>\n",
       "      <th></th>\n",
       "      <th></th>\n",
       "      <th></th>\n",
       "      <th></th>\n",
       "      <th></th>\n",
       "      <th></th>\n",
       "      <th></th>\n",
       "      <th></th>\n",
       "      <th></th>\n",
       "    </tr>\n",
       "  </thead>\n",
       "  <tbody>\n",
       "    <tr>\n",
       "      <th>2006</th>\n",
       "      <td>0.513712</td>\n",
       "      <td>0.524337</td>\n",
       "      <td>81.320539</td>\n",
       "      <td>52.471577</td>\n",
       "      <td>52.499585</td>\n",
       "      <td>18.734440</td>\n",
       "      <td>31.190871</td>\n",
       "      <td>213.875519</td>\n",
       "      <td>1.221992</td>\n",
       "      <td>1.010373</td>\n",
       "    </tr>\n",
       "    <tr>\n",
       "      <th>2007</th>\n",
       "      <td>0.531666</td>\n",
       "      <td>0.536316</td>\n",
       "      <td>84.162745</td>\n",
       "      <td>53.663399</td>\n",
       "      <td>55.329630</td>\n",
       "      <td>19.862745</td>\n",
       "      <td>32.204793</td>\n",
       "      <td>222.261438</td>\n",
       "      <td>1.374728</td>\n",
       "      <td>0.982571</td>\n",
       "    </tr>\n",
       "    <tr>\n",
       "      <th>2008</th>\n",
       "      <td>0.532338</td>\n",
       "      <td>0.537725</td>\n",
       "      <td>84.269099</td>\n",
       "      <td>53.803648</td>\n",
       "      <td>53.388197</td>\n",
       "      <td>19.508584</td>\n",
       "      <td>31.903433</td>\n",
       "      <td>220.993562</td>\n",
       "      <td>1.257511</td>\n",
       "      <td>0.890558</td>\n",
       "    </tr>\n",
       "    <tr>\n",
       "      <th>2009</th>\n",
       "      <td>0.532653</td>\n",
       "      <td>0.541238</td>\n",
       "      <td>84.319006</td>\n",
       "      <td>54.153132</td>\n",
       "      <td>54.194384</td>\n",
       "      <td>20.101512</td>\n",
       "      <td>32.747300</td>\n",
       "      <td>231.265659</td>\n",
       "      <td>1.386609</td>\n",
       "      <td>0.993521</td>\n",
       "    </tr>\n",
       "    <tr>\n",
       "      <th>2010</th>\n",
       "      <td>0.545269</td>\n",
       "      <td>0.541269</td>\n",
       "      <td>86.316136</td>\n",
       "      <td>54.156263</td>\n",
       "      <td>54.607219</td>\n",
       "      <td>20.125265</td>\n",
       "      <td>32.853503</td>\n",
       "      <td>233.256900</td>\n",
       "      <td>1.467091</td>\n",
       "      <td>0.944798</td>\n",
       "    </tr>\n",
       "    <tr>\n",
       "      <th>2011</th>\n",
       "      <td>0.543052</td>\n",
       "      <td>0.540263</td>\n",
       "      <td>85.965171</td>\n",
       "      <td>54.056197</td>\n",
       "      <td>54.081410</td>\n",
       "      <td>20.297009</td>\n",
       "      <td>33.589744</td>\n",
       "      <td>244.260684</td>\n",
       "      <td>1.467949</td>\n",
       "      <td>0.972222</td>\n",
       "    </tr>\n",
       "    <tr>\n",
       "      <th>2012</th>\n",
       "      <td>0.543655</td>\n",
       "      <td>0.521409</td>\n",
       "      <td>86.060619</td>\n",
       "      <td>52.180206</td>\n",
       "      <td>52.372990</td>\n",
       "      <td>20.826804</td>\n",
       "      <td>34.280412</td>\n",
       "      <td>242.344330</td>\n",
       "      <td>1.439175</td>\n",
       "      <td>0.909278</td>\n",
       "    </tr>\n",
       "    <tr>\n",
       "      <th>2013</th>\n",
       "      <td>0.545395</td>\n",
       "      <td>0.526469</td>\n",
       "      <td>86.336093</td>\n",
       "      <td>52.683652</td>\n",
       "      <td>52.882590</td>\n",
       "      <td>21.354565</td>\n",
       "      <td>34.796178</td>\n",
       "      <td>247.101911</td>\n",
       "      <td>1.539278</td>\n",
       "      <td>0.968153</td>\n",
       "    </tr>\n",
       "    <tr>\n",
       "      <th>2014</th>\n",
       "      <td>0.569028</td>\n",
       "      <td>0.541673</td>\n",
       "      <td>90.077131</td>\n",
       "      <td>54.196466</td>\n",
       "      <td>54.198753</td>\n",
       "      <td>21.609148</td>\n",
       "      <td>34.313929</td>\n",
       "      <td>247.507277</td>\n",
       "      <td>1.559252</td>\n",
       "      <td>0.850312</td>\n",
       "    </tr>\n",
       "    <tr>\n",
       "      <th>2015</th>\n",
       "      <td>0.571609</td>\n",
       "      <td>0.541577</td>\n",
       "      <td>90.485653</td>\n",
       "      <td>54.186938</td>\n",
       "      <td>54.460814</td>\n",
       "      <td>22.141328</td>\n",
       "      <td>35.094218</td>\n",
       "      <td>253.226981</td>\n",
       "      <td>1.591006</td>\n",
       "      <td>0.835118</td>\n",
       "    </tr>\n",
       "    <tr>\n",
       "      <th>2016</th>\n",
       "      <td>0.571979</td>\n",
       "      <td>0.544531</td>\n",
       "      <td>90.544255</td>\n",
       "      <td>54.480851</td>\n",
       "      <td>54.594043</td>\n",
       "      <td>22.168085</td>\n",
       "      <td>35.014894</td>\n",
       "      <td>250.717021</td>\n",
       "      <td>1.497872</td>\n",
       "      <td>0.753191</td>\n",
       "    </tr>\n",
       "    <tr>\n",
       "      <th>2017</th>\n",
       "      <td>0.555889</td>\n",
       "      <td>0.537896</td>\n",
       "      <td>87.997198</td>\n",
       "      <td>53.820690</td>\n",
       "      <td>53.834698</td>\n",
       "      <td>20.778017</td>\n",
       "      <td>33.368534</td>\n",
       "      <td>233.933190</td>\n",
       "      <td>1.400862</td>\n",
       "      <td>0.784483</td>\n",
       "    </tr>\n",
       "    <tr>\n",
       "      <th>2018</th>\n",
       "      <td>0.591478</td>\n",
       "      <td>0.543663</td>\n",
       "      <td>93.630952</td>\n",
       "      <td>54.394444</td>\n",
       "      <td>54.448413</td>\n",
       "      <td>22.710317</td>\n",
       "      <td>34.964286</td>\n",
       "      <td>261.281746</td>\n",
       "      <td>1.694444</td>\n",
       "      <td>0.797619</td>\n",
       "    </tr>\n",
       "  </tbody>\n",
       "</table>\n",
       "</div>"
      ],
      "text/plain": [
       "      scale_pass_rate  scale_qbr       Rate  TOTAL QBR    RAW QBR        Cmp  \\\n",
       "Year                                                                           \n",
       "2006         0.513712   0.524337  81.320539  52.471577  52.499585  18.734440   \n",
       "2007         0.531666   0.536316  84.162745  53.663399  55.329630  19.862745   \n",
       "2008         0.532338   0.537725  84.269099  53.803648  53.388197  19.508584   \n",
       "2009         0.532653   0.541238  84.319006  54.153132  54.194384  20.101512   \n",
       "2010         0.545269   0.541269  86.316136  54.156263  54.607219  20.125265   \n",
       "2011         0.543052   0.540263  85.965171  54.056197  54.081410  20.297009   \n",
       "2012         0.543655   0.521409  86.060619  52.180206  52.372990  20.826804   \n",
       "2013         0.545395   0.526469  86.336093  52.683652  52.882590  21.354565   \n",
       "2014         0.569028   0.541673  90.077131  54.196466  54.198753  21.609148   \n",
       "2015         0.571609   0.541577  90.485653  54.186938  54.460814  22.141328   \n",
       "2016         0.571979   0.544531  90.544255  54.480851  54.594043  22.168085   \n",
       "2017         0.555889   0.537896  87.997198  53.820690  53.834698  20.778017   \n",
       "2018         0.591478   0.543663  93.630952  54.394444  54.448413  22.710317   \n",
       "\n",
       "            Att         Yds        TD       Int  \n",
       "Year                                             \n",
       "2006  31.190871  213.875519  1.221992  1.010373  \n",
       "2007  32.204793  222.261438  1.374728  0.982571  \n",
       "2008  31.903433  220.993562  1.257511  0.890558  \n",
       "2009  32.747300  231.265659  1.386609  0.993521  \n",
       "2010  32.853503  233.256900  1.467091  0.944798  \n",
       "2011  33.589744  244.260684  1.467949  0.972222  \n",
       "2012  34.280412  242.344330  1.439175  0.909278  \n",
       "2013  34.796178  247.101911  1.539278  0.968153  \n",
       "2014  34.313929  247.507277  1.559252  0.850312  \n",
       "2015  35.094218  253.226981  1.591006  0.835118  \n",
       "2016  35.014894  250.717021  1.497872  0.753191  \n",
       "2017  33.368534  233.933190  1.400862  0.784483  \n",
       "2018  34.964286  261.281746  1.694444  0.797619  "
      ]
     },
     "execution_count": 23,
     "metadata": {},
     "output_type": "execute_result"
    }
   ],
   "source": [
    "nfl_stats_year_gb = merged_df.groupby('Year')[['scale_pass_rate','scale_qbr','Rate','TOTAL QBR',\n",
    "                                               'RAW QBR','Cmp', 'Att', 'Yds', 'TD','Int']].mean()\n",
    "nfl_stats_year_gb"
   ]
  },
  {
   "cell_type": "code",
   "execution_count": 24,
   "metadata": {},
   "outputs": [
    {
     "name": "stderr",
     "output_type": "stream",
     "text": [
      "/Library/Frameworks/Python.framework/Versions/3.6/lib/python3.6/site-packages/matplotlib/cbook/__init__.py:1377: FutureWarning: Support for multi-dimensional indexing (e.g. `obj[:, None]`) is deprecated and will be removed in a future version.  Convert to a numpy array before indexing instead.\n",
      "  x[:, None]\n",
      "/Library/Frameworks/Python.framework/Versions/3.6/lib/python3.6/site-packages/matplotlib/axes/_base.py:237: FutureWarning: Support for multi-dimensional indexing (e.g. `obj[:, None]`) is deprecated and will be removed in a future version.  Convert to a numpy array before indexing instead.\n",
      "  x = x[:, np.newaxis]\n",
      "/Library/Frameworks/Python.framework/Versions/3.6/lib/python3.6/site-packages/matplotlib/axes/_base.py:239: FutureWarning: Support for multi-dimensional indexing (e.g. `obj[:, None]`) is deprecated and will be removed in a future version.  Convert to a numpy array before indexing instead.\n",
      "  y = y[:, np.newaxis]\n"
     ]
    },
    {
     "data": {
      "text/plain": [
       "Text(0.5, 1.0, 'Average Pass Attempts per Game over Time')"
      ]
     },
     "execution_count": 24,
     "metadata": {},
     "output_type": "execute_result"
    },
    {
     "data": {
      "image/png": "[encoded data removed]",
      "text/plain": [
       "<Figure size 432x288 with 1 Axes>"
      ]
     },
     "metadata": {},
     "output_type": "display_data"
    }
   ],
   "source": [
    "# Plot number of pass attempts per game over time\n",
    "plt.plot(nfl_stats_year_gb.index, nfl_stats_year_gb.Att, color='orange')\n",
    "z = np.polyfit(nfl_stats_year_gb.index, nfl_stats_year_gb.Att, 1)\n",
    "p = np.poly1d(z)\n",
    "plt.plot(nfl_stats_year_gb.index, p(nfl_stats_year_gb.index),\"g--\")\n",
    "plt.xlabel('Year')\n",
    "plt.ylabel('Pass Attempts per Game')\n",
    "plt.title('Average Pass Attempts per Game over Time')"
   ]
  },
  {
   "cell_type": "code",
   "execution_count": 25,
   "metadata": {},
   "outputs": [
    {
     "name": "stderr",
     "output_type": "stream",
     "text": [
      "/Library/Frameworks/Python.framework/Versions/3.6/lib/python3.6/site-packages/matplotlib/cbook/__init__.py:1377: FutureWarning: Support for multi-dimensional indexing (e.g. `obj[:, None]`) is deprecated and will be removed in a future version.  Convert to a numpy array before indexing instead.\n",
      "  x[:, None]\n",
      "/Library/Frameworks/Python.framework/Versions/3.6/lib/python3.6/site-packages/matplotlib/axes/_base.py:237: FutureWarning: Support for multi-dimensional indexing (e.g. `obj[:, None]`) is deprecated and will be removed in a future version.  Convert to a numpy array before indexing instead.\n",
      "  x = x[:, np.newaxis]\n",
      "/Library/Frameworks/Python.framework/Versions/3.6/lib/python3.6/site-packages/matplotlib/axes/_base.py:239: FutureWarning: Support for multi-dimensional indexing (e.g. `obj[:, None]`) is deprecated and will be removed in a future version.  Convert to a numpy array before indexing instead.\n",
      "  y = y[:, np.newaxis]\n"
     ]
    },
    {
     "data": {
      "text/plain": [
       "Text(0.5, 1.0, 'Average Passer Rating per Game over Time')"
      ]
     },
     "execution_count": 25,
     "metadata": {},
     "output_type": "execute_result"
    },
    {
     "data": {
      "image/png": "[encoded data removed]",
      "text/plain": [
       "<Figure size 432x288 with 1 Axes>"
      ]
     },
     "metadata": {},
     "output_type": "display_data"
    }
   ],
   "source": [
    "# Plot average passer rating per game over time\n",
    "plt.plot(nfl_stats_year_gb.index, nfl_stats_year_gb.Rate, color='dodgerblue')\n",
    "z = np.polyfit(nfl_stats_year_gb.index, nfl_stats_year_gb.Rate, 1)\n",
    "p = np.poly1d(z)\n",
    "plt.plot(nfl_stats_year_gb.index, p(nfl_stats_year_gb.index),\"g--\")\n",
    "plt.xlabel('Year')\n",
    "plt.ylabel('Passer Rating per Game')\n",
    "plt.title('Average Passer Rating per Game over Time')"
   ]
  },
  {
   "cell_type": "code",
   "execution_count": 26,
   "metadata": {},
   "outputs": [
    {
     "name": "stderr",
     "output_type": "stream",
     "text": [
      "/Library/Frameworks/Python.framework/Versions/3.6/lib/python3.6/site-packages/matplotlib/cbook/__init__.py:1377: FutureWarning: Support for multi-dimensional indexing (e.g. `obj[:, None]`) is deprecated and will be removed in a future version.  Convert to a numpy array before indexing instead.\n",
      "  x[:, None]\n",
      "/Library/Frameworks/Python.framework/Versions/3.6/lib/python3.6/site-packages/matplotlib/axes/_base.py:237: FutureWarning: Support for multi-dimensional indexing (e.g. `obj[:, None]`) is deprecated and will be removed in a future version.  Convert to a numpy array before indexing instead.\n",
      "  x = x[:, np.newaxis]\n",
      "/Library/Frameworks/Python.framework/Versions/3.6/lib/python3.6/site-packages/matplotlib/axes/_base.py:239: FutureWarning: Support for multi-dimensional indexing (e.g. `obj[:, None]`) is deprecated and will be removed in a future version.  Convert to a numpy array before indexing instead.\n",
      "  y = y[:, np.newaxis]\n"
     ]
    },
    {
     "data": {
      "text/plain": [
       "Text(0.5, 1.0, 'Average QBR per Game over Time')"
      ]
     },
     "execution_count": 26,
     "metadata": {},
     "output_type": "execute_result"
    },
    {
     "data": {
      "image/png": "[encoded data removed]",
      "text/plain": [
       "<Figure size 432x288 with 1 Axes>"
      ]
     },
     "metadata": {},
     "output_type": "display_data"
    }
   ],
   "source": [
    "# Plot average QBR per game over time\n",
    "plt.plot(nfl_stats_year_gb.index, nfl_stats_year_gb['TOTAL QBR'], color='magenta')\n",
    "z = np.polyfit(nfl_stats_year_gb.index, nfl_stats_year_gb['TOTAL QBR'], 1)\n",
    "p = np.poly1d(z)\n",
    "plt.plot(nfl_stats_year_gb.index, p(nfl_stats_year_gb.index),\"g--\")\n",
    "plt.xlabel('Year')\n",
    "plt.ylabel('Quarterback Rating (QBR) per Game')\n",
    "plt.title('Average QBR per Game over Time')"
   ]
  },
  {
   "cell_type": "code",
   "execution_count": 27,
   "metadata": {},
   "outputs": [
    {
     "data": {
      "text/plain": [
       "<matplotlib.legend.Legend at 0x11f46d358>"
      ]
     },
     "execution_count": 27,
     "metadata": {},
     "output_type": "execute_result"
    },
    {
     "data": {
      "image/png": "[encoded data removed]",
      "text/plain": [
       "<Figure size 432x288 with 2 Axes>"
      ]
     },
     "metadata": {},
     "output_type": "display_data"
    }
   ],
   "source": [
    "# Compare average passing yards and passing touchdowns per game over time\n",
    "df = pd.DataFrame({\"Year\": nfl_stats_year_gb.index,\n",
    "                   \"Yards\": nfl_stats_year_gb.Yds, \n",
    "                   \"TDs\": nfl_stats_year_gb.TD})\n",
    "\n",
    "ax = df.plot(x=\"Year\", y=\"Yards\", legend=False, color='red')\n",
    "ax.set_ylabel(\"Avg. Yards (Yds)\",color=\"red\",fontsize=10)\n",
    "plt.title('Average Passing Yds and TDs Per Game over Time')\n",
    "ax2 = ax.twinx()\n",
    "df.plot(x=\"Year\", y=\"TDs\", ax=ax2, legend=False, color=\"blue\")\n",
    "ax2.set_ylabel(\"Avg. Touchdowns (TDs)\",color=\"blue\",fontsize=10)\n",
    "ax.figure.legend(loc=10)"
   ]
  },
  {
   "cell_type": "code",
   "execution_count": 28,
   "metadata": {},
   "outputs": [
    {
     "name": "stderr",
     "output_type": "stream",
     "text": [
      "/Library/Frameworks/Python.framework/Versions/3.6/lib/python3.6/site-packages/matplotlib/cbook/__init__.py:1377: FutureWarning: Support for multi-dimensional indexing (e.g. `obj[:, None]`) is deprecated and will be removed in a future version.  Convert to a numpy array before indexing instead.\n",
      "  x[:, None]\n",
      "/Library/Frameworks/Python.framework/Versions/3.6/lib/python3.6/site-packages/matplotlib/axes/_base.py:237: FutureWarning: Support for multi-dimensional indexing (e.g. `obj[:, None]`) is deprecated and will be removed in a future version.  Convert to a numpy array before indexing instead.\n",
      "  x = x[:, np.newaxis]\n",
      "/Library/Frameworks/Python.framework/Versions/3.6/lib/python3.6/site-packages/matplotlib/axes/_base.py:239: FutureWarning: Support for multi-dimensional indexing (e.g. `obj[:, None]`) is deprecated and will be removed in a future version.  Convert to a numpy array before indexing instead.\n",
      "  y = y[:, np.newaxis]\n"
     ]
    },
    {
     "data": {
      "text/plain": [
       "Text(0, 0.5, 'Avg. Interceptions (Int)')"
      ]
     },
     "execution_count": 28,
     "metadata": {},
     "output_type": "execute_result"
    },
    {
     "data": {
      "image/png": "[encoded data removed]",
      "text/plain": [
       "<Figure size 432x288 with 1 Axes>"
      ]
     },
     "metadata": {},
     "output_type": "display_data"
    }
   ],
   "source": [
    "# Plot average interceptions per game over time\n",
    "plt.plot(nfl_stats_year_gb.index, nfl_stats_year_gb.Int, color='Black')\n",
    "z = np.polyfit(nfl_stats_year_gb.index, nfl_stats_year_gb.Int, 1)\n",
    "p = np.poly1d(z)\n",
    "plt.plot(nfl_stats_year_gb.index, p(nfl_stats_year_gb.index),\"g--\")\n",
    "plt.title('Average Interceptions per Game over Time')\n",
    "plt.xlabel('Year')\n",
    "plt.ylabel('Avg. Interceptions (Int)')"
   ]
  },
  {
   "cell_type": "markdown",
   "metadata": {},
   "source": [
    "## Individual Quarterback Analysis"
   ]
  },
  {
   "cell_type": "markdown",
   "metadata": {},
   "source": [
    "##### Analyze Extremes"
   ]
  },
  {
   "cell_type": "markdown",
   "metadata": {},
   "source": [
    "Below shows when Quarterbacks had high Raw QBR because they were playing bad teams."
   ]
  },
  {
   "cell_type": "markdown",
   "metadata": {},
   "source": [
    "##### Highest QBR Analysis"
   ]
  },
  {
   "cell_type": "code",
   "execution_count": 29,
   "metadata": {},
   "outputs": [
    {
     "data": {
      "text/html": [
       "<div>\n",
       "<style scoped>\n",
       "    .dataframe tbody tr th:only-of-type {\n",
       "        vertical-align: middle;\n",
       "    }\n",
       "\n",
       "    .dataframe tbody tr th {\n",
       "        vertical-align: top;\n",
       "    }\n",
       "\n",
       "    .dataframe thead th {\n",
       "        text-align: right;\n",
       "    }\n",
       "</style>\n",
       "<table border=\"1\" class=\"dataframe\">\n",
       "  <thead>\n",
       "    <tr style=\"text-align: right;\">\n",
       "      <th></th>\n",
       "      <th>Player</th>\n",
       "      <th>Total QBR</th>\n",
       "      <th>Passer Rating</th>\n",
       "      <th>Game Results</th>\n",
       "      <th>Year</th>\n",
       "      <th>Cmp</th>\n",
       "      <th>Att</th>\n",
       "      <th>Yds</th>\n",
       "      <th>TD</th>\n",
       "      <th>Int</th>\n",
       "      <th>Rush Att</th>\n",
       "      <th>Rush Yds</th>\n",
       "      <th>Rush TD</th>\n",
       "    </tr>\n",
       "  </thead>\n",
       "  <tbody>\n",
       "    <tr>\n",
       "      <th>1570</th>\n",
       "      <td>Carson Palmer, CIN</td>\n",
       "      <td>99.8</td>\n",
       "      <td>146.7</td>\n",
       "      <td>W 45-10  @ CHI in Wk 7</td>\n",
       "      <td>2009</td>\n",
       "      <td>20</td>\n",
       "      <td>24.0</td>\n",
       "      <td>233</td>\n",
       "      <td>0</td>\n",
       "      <td>0</td>\n",
       "      <td>0</td>\n",
       "      <td>0</td>\n",
       "      <td>0</td>\n",
       "    </tr>\n",
       "    <tr>\n",
       "      <th>3494</th>\n",
       "      <td>Colin Kaepernick, SF</td>\n",
       "      <td>99.8</td>\n",
       "      <td>117.7</td>\n",
       "      <td>W 42-10  @ JAX in Wk 8</td>\n",
       "      <td>2013</td>\n",
       "      <td>10</td>\n",
       "      <td>16.0</td>\n",
       "      <td>164</td>\n",
       "      <td>2</td>\n",
       "      <td>0</td>\n",
       "      <td>7</td>\n",
       "      <td>54</td>\n",
       "      <td>2</td>\n",
       "    </tr>\n",
       "  </tbody>\n",
       "</table>\n",
       "</div>"
      ],
      "text/plain": [
       "                    Player  Total QBR  Passer Rating            Game Results  \\\n",
       "1570    Carson Palmer, CIN       99.8          146.7  W 45-10  @ CHI in Wk 7   \n",
       "3494  Colin Kaepernick, SF       99.8          117.7  W 42-10  @ JAX in Wk 8   \n",
       "\n",
       "      Year  Cmp   Att  Yds  TD  Int  Rush Att  Rush Yds  Rush TD  \n",
       "1570  2009   20  24.0  233   0    0         0         0        0  \n",
       "3494  2013   10  16.0  164   2    0         7        54        2  "
      ]
     },
     "execution_count": 29,
     "metadata": {},
     "output_type": "execute_result"
    }
   ],
   "source": [
    "high_qbr = merged_df[merged_df['TOTAL QBR'] == 99.8][['PLAYER','TOTAL QBR','Rate','RESULT','Year',\n",
    "                                           'Cmp','Att','Yds','TD.1','Int','Att.1', 'Yds.2', 'TD.2']]\n",
    "\n",
    "high_qbr.columns = ['Player','Total QBR','Passer Rating','Game Results','Year','Cmp','Att','Yds','TD','Int','Rush Att',\n",
    "                    'Rush Yds','Rush TD']\n",
    "high_qbr"
   ]
  },
  {
   "cell_type": "markdown",
   "metadata": {},
   "source": [
    "Interesting that Palmer's Passer Rating is much higher compared to Kaepernick's."
   ]
  },
  {
   "cell_type": "code",
   "execution_count": 30,
   "metadata": {},
   "outputs": [
    {
     "data": {
      "text/html": [
       "<div>\n",
       "<style scoped>\n",
       "    .dataframe tbody tr th:only-of-type {\n",
       "        vertical-align: middle;\n",
       "    }\n",
       "\n",
       "    .dataframe tbody tr th {\n",
       "        vertical-align: top;\n",
       "    }\n",
       "\n",
       "    .dataframe thead th {\n",
       "        text-align: right;\n",
       "    }\n",
       "</style>\n",
       "<table border=\"1\" class=\"dataframe\">\n",
       "  <thead>\n",
       "    <tr style=\"text-align: right;\">\n",
       "      <th></th>\n",
       "      <th>Player</th>\n",
       "      <th>Total QBR</th>\n",
       "      <th>Passer Rating</th>\n",
       "      <th>Game Results</th>\n",
       "      <th>Year</th>\n",
       "      <th>Cmp</th>\n",
       "      <th>Att</th>\n",
       "      <th>Yds</th>\n",
       "      <th>TD</th>\n",
       "      <th>Int</th>\n",
       "      <th>Rush Att</th>\n",
       "      <th>Rush Yds</th>\n",
       "      <th>Rush TD</th>\n",
       "    </tr>\n",
       "  </thead>\n",
       "  <tbody>\n",
       "    <tr>\n",
       "      <th>4512</th>\n",
       "      <td>Peyton Manning, DEN</td>\n",
       "      <td>0.3</td>\n",
       "      <td>0.0</td>\n",
       "      <td>L 29-13  @ KC in Wk 10</td>\n",
       "      <td>2015</td>\n",
       "      <td>5</td>\n",
       "      <td>20.0</td>\n",
       "      <td>35</td>\n",
       "      <td>0</td>\n",
       "      <td>4</td>\n",
       "      <td>0</td>\n",
       "      <td>0</td>\n",
       "      <td>0</td>\n",
       "    </tr>\n",
       "  </tbody>\n",
       "</table>\n",
       "</div>"
      ],
      "text/plain": [
       "                   Player  Total QBR  Passer Rating            Game Results  \\\n",
       "4512  Peyton Manning, DEN        0.3            0.0  L 29-13  @ KC in Wk 10   \n",
       "\n",
       "      Year  Cmp   Att  Yds  TD  Int  Rush Att  Rush Yds  Rush TD  \n",
       "4512  2015    5  20.0   35   0    4         0         0        0  "
      ]
     },
     "execution_count": 30,
     "metadata": {},
     "output_type": "execute_result"
    }
   ],
   "source": [
    "##### Lowest QBR Analysis\n",
    "low_qbr = merged_df[merged_df['TOTAL QBR'] == merged_df['TOTAL QBR'].min()][['PLAYER','TOTAL QBR','Rate','RESULT',\n",
    "                                                                             'Year','Cmp','Att','Yds','TD.1','Int',\n",
    "                                                                             'Att.1', 'Yds.2', 'TD.2']]\n",
    "\n",
    "low_qbr.columns = ['Player','Total QBR','Passer Rating','Game Results','Year','Cmp','Att','Yds','TD','Int','Rush Att',\n",
    "                    'Rush Yds','Rush TD']\n",
    "low_qbr"
   ]
  },
  {
   "cell_type": "markdown",
   "metadata": {},
   "source": [
    "##### Highest Passer Rating"
   ]
  },
  {
   "cell_type": "code",
   "execution_count": 31,
   "metadata": {},
   "outputs": [
    {
     "data": {
      "text/html": [
       "<div>\n",
       "<style scoped>\n",
       "    .dataframe tbody tr th:only-of-type {\n",
       "        vertical-align: middle;\n",
       "    }\n",
       "\n",
       "    .dataframe tbody tr th {\n",
       "        vertical-align: top;\n",
       "    }\n",
       "\n",
       "    .dataframe thead th {\n",
       "        text-align: right;\n",
       "    }\n",
       "</style>\n",
       "<table border=\"1\" class=\"dataframe\">\n",
       "  <thead>\n",
       "    <tr style=\"text-align: right;\">\n",
       "      <th></th>\n",
       "      <th>Player</th>\n",
       "      <th>Total QBR</th>\n",
       "      <th>Passer Rating</th>\n",
       "      <th>Game Results</th>\n",
       "      <th>Year</th>\n",
       "      <th>Cmp</th>\n",
       "      <th>Att</th>\n",
       "      <th>Yds</th>\n",
       "      <th>TD</th>\n",
       "      <th>Int</th>\n",
       "      <th>Rush Att</th>\n",
       "      <th>Rush Yds</th>\n",
       "      <th>Rush TD</th>\n",
       "    </tr>\n",
       "  </thead>\n",
       "  <tbody>\n",
       "    <tr>\n",
       "      <th>537</th>\n",
       "      <td>Donovan McNabb, PHI</td>\n",
       "      <td>98.6</td>\n",
       "      <td>158.3</td>\n",
       "      <td>W 56-21  @ DET in Wk 3</td>\n",
       "      <td>2007</td>\n",
       "      <td>21</td>\n",
       "      <td>26.0</td>\n",
       "      <td>381</td>\n",
       "      <td>0</td>\n",
       "      <td>0</td>\n",
       "      <td>3</td>\n",
       "      <td>7</td>\n",
       "      <td>0</td>\n",
       "    </tr>\n",
       "    <tr>\n",
       "      <th>644</th>\n",
       "      <td>Tom Brady, NE</td>\n",
       "      <td>99.7</td>\n",
       "      <td>158.3</td>\n",
       "      <td>W 49-28  @ MIA in Wk 7</td>\n",
       "      <td>2007</td>\n",
       "      <td>21</td>\n",
       "      <td>25.0</td>\n",
       "      <td>354</td>\n",
       "      <td>0</td>\n",
       "      <td>0</td>\n",
       "      <td>0</td>\n",
       "      <td>0</td>\n",
       "      <td>0</td>\n",
       "    </tr>\n",
       "    <tr>\n",
       "      <th>693</th>\n",
       "      <td>Ben Roethlisberger, PIT</td>\n",
       "      <td>99.1</td>\n",
       "      <td>158.3</td>\n",
       "      <td>W 38-7  @ BAL in Wk 9</td>\n",
       "      <td>2007</td>\n",
       "      <td>13</td>\n",
       "      <td>16.0</td>\n",
       "      <td>209</td>\n",
       "      <td>0</td>\n",
       "      <td>0</td>\n",
       "      <td>0</td>\n",
       "      <td>0</td>\n",
       "      <td>0</td>\n",
       "    </tr>\n",
       "    <tr>\n",
       "      <th>968</th>\n",
       "      <td>Kurt Warner, ARI</td>\n",
       "      <td>96.1</td>\n",
       "      <td>158.3</td>\n",
       "      <td>W 31-10  @ MIA in Wk 2</td>\n",
       "      <td>2008</td>\n",
       "      <td>19</td>\n",
       "      <td>24.0</td>\n",
       "      <td>361</td>\n",
       "      <td>0</td>\n",
       "      <td>0</td>\n",
       "      <td>0</td>\n",
       "      <td>0</td>\n",
       "      <td>0</td>\n",
       "    </tr>\n",
       "    <tr>\n",
       "      <th>1696</th>\n",
       "      <td>Drew Brees, NO</td>\n",
       "      <td>99.1</td>\n",
       "      <td>158.3</td>\n",
       "      <td>W 38-17  @ NE in Wk 12</td>\n",
       "      <td>2009</td>\n",
       "      <td>18</td>\n",
       "      <td>23.0</td>\n",
       "      <td>371</td>\n",
       "      <td>0</td>\n",
       "      <td>0</td>\n",
       "      <td>1</td>\n",
       "      <td>-1</td>\n",
       "      <td>0</td>\n",
       "    </tr>\n",
       "    <tr>\n",
       "      <th>2164</th>\n",
       "      <td>Tom Brady, NE</td>\n",
       "      <td>93.2</td>\n",
       "      <td>158.3</td>\n",
       "      <td>W 45-24  @ DET in Wk 12</td>\n",
       "      <td>2010</td>\n",
       "      <td>21</td>\n",
       "      <td>27.0</td>\n",
       "      <td>341</td>\n",
       "      <td>0</td>\n",
       "      <td>0</td>\n",
       "      <td>4</td>\n",
       "      <td>1</td>\n",
       "      <td>0</td>\n",
       "    </tr>\n",
       "    <tr>\n",
       "      <th>3087</th>\n",
       "      <td>Robert Griffin III, WSH</td>\n",
       "      <td>91.9</td>\n",
       "      <td>158.3</td>\n",
       "      <td>W 31-6  @ PHI in Wk 11</td>\n",
       "      <td>2012</td>\n",
       "      <td>14</td>\n",
       "      <td>15.0</td>\n",
       "      <td>200</td>\n",
       "      <td>0</td>\n",
       "      <td>0</td>\n",
       "      <td>12</td>\n",
       "      <td>84</td>\n",
       "      <td>0</td>\n",
       "    </tr>\n",
       "    <tr>\n",
       "      <th>3517</th>\n",
       "      <td>Nick Foles, PHI</td>\n",
       "      <td>98.4</td>\n",
       "      <td>158.3</td>\n",
       "      <td>W 49-20  @ OAK in Wk 9</td>\n",
       "      <td>2013</td>\n",
       "      <td>22</td>\n",
       "      <td>28.0</td>\n",
       "      <td>406</td>\n",
       "      <td>0</td>\n",
       "      <td>0</td>\n",
       "      <td>4</td>\n",
       "      <td>10</td>\n",
       "      <td>0</td>\n",
       "    </tr>\n",
       "    <tr>\n",
       "      <th>3683</th>\n",
       "      <td>Alex Smith, KC</td>\n",
       "      <td>87.5</td>\n",
       "      <td>158.3</td>\n",
       "      <td>W 56-31  @ OAK in Wk 15</td>\n",
       "      <td>2013</td>\n",
       "      <td>17</td>\n",
       "      <td>20.0</td>\n",
       "      <td>287</td>\n",
       "      <td>0</td>\n",
       "      <td>0</td>\n",
       "      <td>4</td>\n",
       "      <td>17</td>\n",
       "      <td>0</td>\n",
       "    </tr>\n",
       "    <tr>\n",
       "      <th>4217</th>\n",
       "      <td>Geno Smith, NYJ</td>\n",
       "      <td>89.2</td>\n",
       "      <td>158.3</td>\n",
       "      <td>W 37-24  @ MIA in Wk 17</td>\n",
       "      <td>2014</td>\n",
       "      <td>20</td>\n",
       "      <td>25.0</td>\n",
       "      <td>358</td>\n",
       "      <td>0</td>\n",
       "      <td>0</td>\n",
       "      <td>5</td>\n",
       "      <td>18</td>\n",
       "      <td>0</td>\n",
       "    </tr>\n",
       "    <tr>\n",
       "      <th>4246</th>\n",
       "      <td>Marcus Mariota, TEN</td>\n",
       "      <td>95.6</td>\n",
       "      <td>158.3</td>\n",
       "      <td>W 42-14  @ TB in Wk 1</td>\n",
       "      <td>2015</td>\n",
       "      <td>13</td>\n",
       "      <td>15.0</td>\n",
       "      <td>209</td>\n",
       "      <td>0</td>\n",
       "      <td>0</td>\n",
       "      <td>2</td>\n",
       "      <td>6</td>\n",
       "      <td>0</td>\n",
       "    </tr>\n",
       "    <tr>\n",
       "      <th>4411</th>\n",
       "      <td>Ryan Tannehill, MIA</td>\n",
       "      <td>94.7</td>\n",
       "      <td>158.3</td>\n",
       "      <td>W 44-26  @ HOU in Wk 7</td>\n",
       "      <td>2015</td>\n",
       "      <td>18</td>\n",
       "      <td>19.0</td>\n",
       "      <td>282</td>\n",
       "      <td>0</td>\n",
       "      <td>0</td>\n",
       "      <td>1</td>\n",
       "      <td>3</td>\n",
       "      <td>0</td>\n",
       "    </tr>\n",
       "    <tr>\n",
       "      <th>4494</th>\n",
       "      <td>Kirk Cousins, WSH</td>\n",
       "      <td>56.0</td>\n",
       "      <td>158.3</td>\n",
       "      <td>W 47-14  @ NO in Wk 10</td>\n",
       "      <td>2015</td>\n",
       "      <td>20</td>\n",
       "      <td>25.0</td>\n",
       "      <td>324</td>\n",
       "      <td>0</td>\n",
       "      <td>0</td>\n",
       "      <td>0</td>\n",
       "      <td>0</td>\n",
       "      <td>0</td>\n",
       "    </tr>\n",
       "    <tr>\n",
       "      <th>5744</th>\n",
       "      <td>Jared Goff, LAR</td>\n",
       "      <td>96.1</td>\n",
       "      <td>158.3</td>\n",
       "      <td>W 38-31  @ MIN in Wk 4</td>\n",
       "      <td>2018</td>\n",
       "      <td>26</td>\n",
       "      <td>33.0</td>\n",
       "      <td>465</td>\n",
       "      <td>0</td>\n",
       "      <td>0</td>\n",
       "      <td>2</td>\n",
       "      <td>7</td>\n",
       "      <td>0</td>\n",
       "    </tr>\n",
       "  </tbody>\n",
       "</table>\n",
       "</div>"
      ],
      "text/plain": [
       "                       Player  Total QBR  Passer Rating  \\\n",
       "537       Donovan McNabb, PHI       98.6          158.3   \n",
       "644             Tom Brady, NE       99.7          158.3   \n",
       "693   Ben Roethlisberger, PIT       99.1          158.3   \n",
       "968          Kurt Warner, ARI       96.1          158.3   \n",
       "1696           Drew Brees, NO       99.1          158.3   \n",
       "2164            Tom Brady, NE       93.2          158.3   \n",
       "3087  Robert Griffin III, WSH       91.9          158.3   \n",
       "3517          Nick Foles, PHI       98.4          158.3   \n",
       "3683           Alex Smith, KC       87.5          158.3   \n",
       "4217          Geno Smith, NYJ       89.2          158.3   \n",
       "4246      Marcus Mariota, TEN       95.6          158.3   \n",
       "4411      Ryan Tannehill, MIA       94.7          158.3   \n",
       "4494        Kirk Cousins, WSH       56.0          158.3   \n",
       "5744          Jared Goff, LAR       96.1          158.3   \n",
       "\n",
       "                 Game Results  Year  Cmp   Att  Yds  TD  Int  Rush Att  \\\n",
       "537    W 56-21  @ DET in Wk 3  2007   21  26.0  381   0    0         3   \n",
       "644    W 49-28  @ MIA in Wk 7  2007   21  25.0  354   0    0         0   \n",
       "693     W 38-7  @ BAL in Wk 9  2007   13  16.0  209   0    0         0   \n",
       "968    W 31-10  @ MIA in Wk 2  2008   19  24.0  361   0    0         0   \n",
       "1696   W 38-17  @ NE in Wk 12  2009   18  23.0  371   0    0         1   \n",
       "2164  W 45-24  @ DET in Wk 12  2010   21  27.0  341   0    0         4   \n",
       "3087   W 31-6  @ PHI in Wk 11  2012   14  15.0  200   0    0        12   \n",
       "3517   W 49-20  @ OAK in Wk 9  2013   22  28.0  406   0    0         4   \n",
       "3683  W 56-31  @ OAK in Wk 15  2013   17  20.0  287   0    0         4   \n",
       "4217  W 37-24  @ MIA in Wk 17  2014   20  25.0  358   0    0         5   \n",
       "4246    W 42-14  @ TB in Wk 1  2015   13  15.0  209   0    0         2   \n",
       "4411   W 44-26  @ HOU in Wk 7  2015   18  19.0  282   0    0         1   \n",
       "4494   W 47-14  @ NO in Wk 10  2015   20  25.0  324   0    0         0   \n",
       "5744   W 38-31  @ MIN in Wk 4  2018   26  33.0  465   0    0         2   \n",
       "\n",
       "      Rush Yds  Rush TD  \n",
       "537          7        0  \n",
       "644          0        0  \n",
       "693          0        0  \n",
       "968          0        0  \n",
       "1696        -1        0  \n",
       "2164         1        0  \n",
       "3087        84        0  \n",
       "3517        10        0  \n",
       "3683        17        0  \n",
       "4217        18        0  \n",
       "4246         6        0  \n",
       "4411         3        0  \n",
       "4494         0        0  \n",
       "5744         7        0  "
      ]
     },
     "execution_count": 31,
     "metadata": {},
     "output_type": "execute_result"
    }
   ],
   "source": [
    "high_pr = merged_df[merged_df['Rate'] == 158.3][['PLAYER','TOTAL QBR','Rate','RESULT','Year','Cmp','Att',\n",
    "                                                 'Yds','TD.1','Int','Att.1', 'Yds.2', 'TD.2']]\n",
    "\n",
    "high_pr.columns = ['Player','Total QBR','Passer Rating','Game Results','Year','Cmp','Att','Yds',\n",
    "                   'TD','Int','Rush Att','Rush Yds','Rush TD']\n",
    "high_pr"
   ]
  },
  {
   "cell_type": "code",
   "execution_count": 32,
   "metadata": {},
   "outputs": [
    {
     "data": {
      "text/plain": [
       "324.85714285714283"
      ]
     },
     "execution_count": 32,
     "metadata": {},
     "output_type": "execute_result"
    }
   ],
   "source": [
    "# Find average total Passing Yards over the QBs with perfect passer ratings\n",
    "high_pr.Yds.mean()"
   ]
  },
  {
   "cell_type": "code",
   "execution_count": 34,
   "metadata": {},
   "outputs": [
    {
     "data": {
      "text/plain": [
       "0.8193146417445483"
      ]
     },
     "execution_count": 34,
     "metadata": {},
     "output_type": "execute_result"
    }
   ],
   "source": [
    "# Find completion percentage\n",
    "high_pr.Cmp.sum() / high_pr.Att.sum()"
   ]
  },
  {
   "cell_type": "code",
   "execution_count": 36,
   "metadata": {},
   "outputs": [
    {
     "data": {
      "text/plain": [
       "14"
      ]
     },
     "execution_count": 36,
     "metadata": {},
     "output_type": "execute_result"
    }
   ],
   "source": [
    "high_pr.shape[0] # A perfect passer rating was achieved in 14 games in our dataset"
   ]
  },
  {
   "cell_type": "code",
   "execution_count": 38,
   "metadata": {},
   "outputs": [
    {
     "data": {
      "text/plain": [
       "81.63759999999998"
      ]
     },
     "execution_count": 38,
     "metadata": {},
     "output_type": "execute_result"
    }
   ],
   "source": [
    "# Average completion percentage is in the 98th percentile of quarterback completion percentages\n",
    "np.percentile(merged_df['Cmp.'], 98)"
   ]
  },
  {
   "cell_type": "markdown",
   "metadata": {},
   "source": [
    "Kirk Cousins is an anomaly. Very interesting. Might want to graph this."
   ]
  },
  {
   "cell_type": "code",
   "execution_count": 39,
   "metadata": {},
   "outputs": [
    {
     "data": {
      "text/html": [
       "<div>\n",
       "<style scoped>\n",
       "    .dataframe tbody tr th:only-of-type {\n",
       "        vertical-align: middle;\n",
       "    }\n",
       "\n",
       "    .dataframe tbody tr th {\n",
       "        vertical-align: top;\n",
       "    }\n",
       "\n",
       "    .dataframe thead th {\n",
       "        text-align: right;\n",
       "    }\n",
       "</style>\n",
       "<table border=\"1\" class=\"dataframe\">\n",
       "  <thead>\n",
       "    <tr style=\"text-align: right;\">\n",
       "      <th></th>\n",
       "      <th>Player</th>\n",
       "      <th>Total QBR</th>\n",
       "      <th>Passer Rating</th>\n",
       "      <th>Game Results</th>\n",
       "      <th>Year</th>\n",
       "      <th>Cmp</th>\n",
       "      <th>Att</th>\n",
       "      <th>Yds</th>\n",
       "      <th>TD</th>\n",
       "      <th>Int</th>\n",
       "      <th>Rush Att</th>\n",
       "      <th>Rush Yds</th>\n",
       "      <th>Rush TD</th>\n",
       "    </tr>\n",
       "  </thead>\n",
       "  <tbody>\n",
       "    <tr>\n",
       "      <th>422</th>\n",
       "      <td>Joey Harrington, MIA</td>\n",
       "      <td>5.4</td>\n",
       "      <td>0.0</td>\n",
       "      <td>L 21-0  @ BUF in Wk 15</td>\n",
       "      <td>2006</td>\n",
       "      <td>5</td>\n",
       "      <td>17.0</td>\n",
       "      <td>20</td>\n",
       "      <td>0</td>\n",
       "      <td>2</td>\n",
       "      <td>1</td>\n",
       "      <td>7</td>\n",
       "      <td>0</td>\n",
       "    </tr>\n",
       "    <tr>\n",
       "      <th>4512</th>\n",
       "      <td>Peyton Manning, DEN</td>\n",
       "      <td>0.3</td>\n",
       "      <td>0.0</td>\n",
       "      <td>L 29-13  @ KC in Wk 10</td>\n",
       "      <td>2015</td>\n",
       "      <td>5</td>\n",
       "      <td>20.0</td>\n",
       "      <td>35</td>\n",
       "      <td>0</td>\n",
       "      <td>4</td>\n",
       "      <td>0</td>\n",
       "      <td>0</td>\n",
       "      <td>0</td>\n",
       "    </tr>\n",
       "    <tr>\n",
       "      <th>5679</th>\n",
       "      <td>Nathan Peterman, BUF</td>\n",
       "      <td>0.7</td>\n",
       "      <td>0.0</td>\n",
       "      <td>L 47-3  @ BAL in Wk 1</td>\n",
       "      <td>2018</td>\n",
       "      <td>5</td>\n",
       "      <td>18.0</td>\n",
       "      <td>24</td>\n",
       "      <td>0</td>\n",
       "      <td>2</td>\n",
       "      <td>1</td>\n",
       "      <td>1</td>\n",
       "      <td>0</td>\n",
       "    </tr>\n",
       "  </tbody>\n",
       "</table>\n",
       "</div>"
      ],
      "text/plain": [
       "                    Player  Total QBR  Passer Rating            Game Results  \\\n",
       "422   Joey Harrington, MIA        5.4            0.0  L 21-0  @ BUF in Wk 15   \n",
       "4512   Peyton Manning, DEN        0.3            0.0  L 29-13  @ KC in Wk 10   \n",
       "5679  Nathan Peterman, BUF        0.7            0.0   L 47-3  @ BAL in Wk 1   \n",
       "\n",
       "      Year  Cmp   Att  Yds  TD  Int  Rush Att  Rush Yds  Rush TD  \n",
       "422   2006    5  17.0   20   0    2         1         7        0  \n",
       "4512  2015    5  20.0   35   0    4         0         0        0  \n",
       "5679  2018    5  18.0   24   0    2         1         1        0  "
      ]
     },
     "execution_count": 39,
     "metadata": {},
     "output_type": "execute_result"
    }
   ],
   "source": [
    "low_pr = merged_df[merged_df['Rate'] == merged_df['Rate'].min()][['PLAYER','TOTAL QBR','Rate','RESULT','Year','Cmp',\n",
    "                                                                  'Att','Yds','TD.1','Int','Att.1', 'Yds.2', 'TD.2']]\n",
    "\n",
    "low_pr.columns = ['Player','Total QBR','Passer Rating','Game Results','Year','Cmp','Att','Yds',\n",
    "              'TD','Int','Rush Att','Rush Yds','Rush TD']\n",
    "low_pr"
   ]
  },
  {
   "cell_type": "code",
   "execution_count": 40,
   "metadata": {},
   "outputs": [
    {
     "data": {
      "text/plain": [
       "26.333333333333332"
      ]
     },
     "execution_count": 40,
     "metadata": {},
     "output_type": "execute_result"
    }
   ],
   "source": [
    "# Average passing yards of quarterbacks with the worst possible passer rating (0)\n",
    "low_pr.Yds.mean()"
   ]
  },
  {
   "cell_type": "code",
   "execution_count": 41,
   "metadata": {},
   "outputs": [
    {
     "data": {
      "text/html": [
       "<div>\n",
       "<style scoped>\n",
       "    .dataframe tbody tr th:only-of-type {\n",
       "        vertical-align: middle;\n",
       "    }\n",
       "\n",
       "    .dataframe tbody tr th {\n",
       "        vertical-align: top;\n",
       "    }\n",
       "\n",
       "    .dataframe thead th {\n",
       "        text-align: right;\n",
       "    }\n",
       "</style>\n",
       "<table border=\"1\" class=\"dataframe\">\n",
       "  <thead>\n",
       "    <tr style=\"text-align: right;\">\n",
       "      <th></th>\n",
       "      <th>PLAYER</th>\n",
       "      <th>Year</th>\n",
       "      <th>TOTAL QBR</th>\n",
       "      <th>RAW QBR</th>\n",
       "      <th>QBR_diff</th>\n",
       "      <th>Rate</th>\n",
       "      <th>team_win</th>\n",
       "    </tr>\n",
       "  </thead>\n",
       "  <tbody>\n",
       "    <tr>\n",
       "      <th>554</th>\n",
       "      <td>Matt Hasselbeck, SEA</td>\n",
       "      <td>2007</td>\n",
       "      <td>55.0</td>\n",
       "      <td>79.6</td>\n",
       "      <td>-24.6</td>\n",
       "      <td>88.6</td>\n",
       "      <td>1</td>\n",
       "    </tr>\n",
       "    <tr>\n",
       "      <th>2305</th>\n",
       "      <td>Tim Tebow, DEN</td>\n",
       "      <td>2010</td>\n",
       "      <td>37.6</td>\n",
       "      <td>60.1</td>\n",
       "      <td>-22.5</td>\n",
       "      <td>89.4</td>\n",
       "      <td>1</td>\n",
       "    </tr>\n",
       "    <tr>\n",
       "      <th>44</th>\n",
       "      <td>Drew Bledsoe, DAL</td>\n",
       "      <td>2006</td>\n",
       "      <td>46.3</td>\n",
       "      <td>68.1</td>\n",
       "      <td>-21.8</td>\n",
       "      <td>87.3</td>\n",
       "      <td>1</td>\n",
       "    </tr>\n",
       "    <tr>\n",
       "      <th>4494</th>\n",
       "      <td>Kirk Cousins, WSH</td>\n",
       "      <td>2015</td>\n",
       "      <td>56.0</td>\n",
       "      <td>77.1</td>\n",
       "      <td>-21.1</td>\n",
       "      <td>158.3</td>\n",
       "      <td>1</td>\n",
       "    </tr>\n",
       "    <tr>\n",
       "      <th>5341</th>\n",
       "      <td>Deshaun Watson, HOU</td>\n",
       "      <td>2017</td>\n",
       "      <td>41.6</td>\n",
       "      <td>62.3</td>\n",
       "      <td>-20.7</td>\n",
       "      <td>103.4</td>\n",
       "      <td>1</td>\n",
       "    </tr>\n",
       "    <tr>\n",
       "      <th>...</th>\n",
       "      <td>...</td>\n",
       "      <td>...</td>\n",
       "      <td>...</td>\n",
       "      <td>...</td>\n",
       "      <td>...</td>\n",
       "      <td>...</td>\n",
       "      <td>...</td>\n",
       "    </tr>\n",
       "    <tr>\n",
       "      <th>4254</th>\n",
       "      <td>Carson Palmer, ARI</td>\n",
       "      <td>2015</td>\n",
       "      <td>71.6</td>\n",
       "      <td>86.7</td>\n",
       "      <td>-15.1</td>\n",
       "      <td>122.8</td>\n",
       "      <td>1</td>\n",
       "    </tr>\n",
       "    <tr>\n",
       "      <th>1538</th>\n",
       "      <td>Daunte Culpepper, DET</td>\n",
       "      <td>2009</td>\n",
       "      <td>42.6</td>\n",
       "      <td>57.7</td>\n",
       "      <td>-15.1</td>\n",
       "      <td>83.4</td>\n",
       "      <td>0</td>\n",
       "    </tr>\n",
       "    <tr>\n",
       "      <th>4355</th>\n",
       "      <td>Tyrod Taylor, BUF</td>\n",
       "      <td>2015</td>\n",
       "      <td>18.7</td>\n",
       "      <td>33.8</td>\n",
       "      <td>-15.1</td>\n",
       "      <td>82.8</td>\n",
       "      <td>0</td>\n",
       "    </tr>\n",
       "    <tr>\n",
       "      <th>1513</th>\n",
       "      <td>Jay Cutler, CHI</td>\n",
       "      <td>2009</td>\n",
       "      <td>42.0</td>\n",
       "      <td>57.0</td>\n",
       "      <td>-15.0</td>\n",
       "      <td>100.4</td>\n",
       "      <td>1</td>\n",
       "    </tr>\n",
       "    <tr>\n",
       "      <th>3367</th>\n",
       "      <td>Joe Flacco, BAL</td>\n",
       "      <td>2013</td>\n",
       "      <td>54.8</td>\n",
       "      <td>69.8</td>\n",
       "      <td>-15.0</td>\n",
       "      <td>87.3</td>\n",
       "      <td>1</td>\n",
       "    </tr>\n",
       "  </tbody>\n",
       "</table>\n",
       "<p>82 rows × 7 columns</p>\n",
       "</div>"
      ],
      "text/plain": [
       "                     PLAYER  Year  TOTAL QBR  RAW QBR  QBR_diff   Rate  \\\n",
       "554    Matt Hasselbeck, SEA  2007       55.0     79.6     -24.6   88.6   \n",
       "2305         Tim Tebow, DEN  2010       37.6     60.1     -22.5   89.4   \n",
       "44        Drew Bledsoe, DAL  2006       46.3     68.1     -21.8   87.3   \n",
       "4494      Kirk Cousins, WSH  2015       56.0     77.1     -21.1  158.3   \n",
       "5341    Deshaun Watson, HOU  2017       41.6     62.3     -20.7  103.4   \n",
       "...                     ...   ...        ...      ...       ...    ...   \n",
       "4254     Carson Palmer, ARI  2015       71.6     86.7     -15.1  122.8   \n",
       "1538  Daunte Culpepper, DET  2009       42.6     57.7     -15.1   83.4   \n",
       "4355      Tyrod Taylor, BUF  2015       18.7     33.8     -15.1   82.8   \n",
       "1513        Jay Cutler, CHI  2009       42.0     57.0     -15.0  100.4   \n",
       "3367        Joe Flacco, BAL  2013       54.8     69.8     -15.0   87.3   \n",
       "\n",
       "      team_win  \n",
       "554          1  \n",
       "2305         1  \n",
       "44           1  \n",
       "4494         1  \n",
       "5341         1  \n",
       "...        ...  \n",
       "4254         1  \n",
       "1538         0  \n",
       "4355         0  \n",
       "1513         1  \n",
       "3367         1  \n",
       "\n",
       "[82 rows x 7 columns]"
      ]
     },
     "execution_count": 41,
     "metadata": {},
     "output_type": "execute_result"
    }
   ],
   "source": [
    "# Find QBs with the largest differences between Raw QBR and Total QBR\n",
    "merged_df[merged_df.QBR_diff <= -15][['PLAYER','Year','TOTAL QBR','RAW QBR','QBR_diff','Rate','team_win']].sort_values(by='QBR_diff')"
   ]
  },
  {
   "cell_type": "markdown",
   "metadata": {},
   "source": [
    "Kirk Cousins shows up again. Should definitely highlight this game."
   ]
  },
  {
   "cell_type": "markdown",
   "metadata": {},
   "source": [
    "Below shows when Quarterbacks had low Raw QBR because they were playing good teams."
   ]
  },
  {
   "cell_type": "code",
   "execution_count": 42,
   "metadata": {},
   "outputs": [
    {
     "data": {
      "text/html": [
       "<div>\n",
       "<style scoped>\n",
       "    .dataframe tbody tr th:only-of-type {\n",
       "        vertical-align: middle;\n",
       "    }\n",
       "\n",
       "    .dataframe tbody tr th {\n",
       "        vertical-align: top;\n",
       "    }\n",
       "\n",
       "    .dataframe thead th {\n",
       "        text-align: right;\n",
       "    }\n",
       "</style>\n",
       "<table border=\"1\" class=\"dataframe\">\n",
       "  <thead>\n",
       "    <tr style=\"text-align: right;\">\n",
       "      <th></th>\n",
       "      <th>PLAYER</th>\n",
       "      <th>Year</th>\n",
       "      <th>TOTAL QBR</th>\n",
       "      <th>RAW QBR</th>\n",
       "      <th>QBR_diff</th>\n",
       "      <th>Rate</th>\n",
       "      <th>team_win</th>\n",
       "    </tr>\n",
       "  </thead>\n",
       "  <tbody>\n",
       "    <tr>\n",
       "      <th>920</th>\n",
       "      <td>Charlie Batch, PIT</td>\n",
       "      <td>2007</td>\n",
       "      <td>66.3</td>\n",
       "      <td>44.6</td>\n",
       "      <td>21.7</td>\n",
       "      <td>69.0</td>\n",
       "      <td>0</td>\n",
       "    </tr>\n",
       "    <tr>\n",
       "      <th>1397</th>\n",
       "      <td>Tony Romo, DAL</td>\n",
       "      <td>2008</td>\n",
       "      <td>55.6</td>\n",
       "      <td>34.6</td>\n",
       "      <td>21.0</td>\n",
       "      <td>55.8</td>\n",
       "      <td>0</td>\n",
       "    </tr>\n",
       "    <tr>\n",
       "      <th>1266</th>\n",
       "      <td>Kurt Warner, ARI</td>\n",
       "      <td>2008</td>\n",
       "      <td>76.1</td>\n",
       "      <td>57.3</td>\n",
       "      <td>18.8</td>\n",
       "      <td>65.7</td>\n",
       "      <td>0</td>\n",
       "    </tr>\n",
       "    <tr>\n",
       "      <th>1148</th>\n",
       "      <td>Matt Ryan, ATL</td>\n",
       "      <td>2008</td>\n",
       "      <td>42.0</td>\n",
       "      <td>23.4</td>\n",
       "      <td>18.6</td>\n",
       "      <td>68.1</td>\n",
       "      <td>0</td>\n",
       "    </tr>\n",
       "    <tr>\n",
       "      <th>1146</th>\n",
       "      <td>JaMarcus Russell, OAK</td>\n",
       "      <td>2008</td>\n",
       "      <td>46.2</td>\n",
       "      <td>27.7</td>\n",
       "      <td>18.5</td>\n",
       "      <td>66.2</td>\n",
       "      <td>0</td>\n",
       "    </tr>\n",
       "    <tr>\n",
       "      <th>...</th>\n",
       "      <td>...</td>\n",
       "      <td>...</td>\n",
       "      <td>...</td>\n",
       "      <td>...</td>\n",
       "      <td>...</td>\n",
       "      <td>...</td>\n",
       "      <td>...</td>\n",
       "    </tr>\n",
       "    <tr>\n",
       "      <th>1388</th>\n",
       "      <td>David Garrard, JAX</td>\n",
       "      <td>2008</td>\n",
       "      <td>81.2</td>\n",
       "      <td>65.9</td>\n",
       "      <td>15.3</td>\n",
       "      <td>49.9</td>\n",
       "      <td>0</td>\n",
       "    </tr>\n",
       "    <tr>\n",
       "      <th>1446</th>\n",
       "      <td>Byron Leftwich, TB</td>\n",
       "      <td>2009</td>\n",
       "      <td>70.1</td>\n",
       "      <td>54.9</td>\n",
       "      <td>15.2</td>\n",
       "      <td>73.4</td>\n",
       "      <td>0</td>\n",
       "    </tr>\n",
       "    <tr>\n",
       "      <th>4423</th>\n",
       "      <td>Sam Bradford, PHI</td>\n",
       "      <td>2015</td>\n",
       "      <td>42.6</td>\n",
       "      <td>27.5</td>\n",
       "      <td>15.1</td>\n",
       "      <td>58.7</td>\n",
       "      <td>0</td>\n",
       "    </tr>\n",
       "    <tr>\n",
       "      <th>1131</th>\n",
       "      <td>Eli Manning, NYG</td>\n",
       "      <td>2008</td>\n",
       "      <td>79.6</td>\n",
       "      <td>64.6</td>\n",
       "      <td>15.0</td>\n",
       "      <td>87.9</td>\n",
       "      <td>1</td>\n",
       "    </tr>\n",
       "    <tr>\n",
       "      <th>2912</th>\n",
       "      <td>Carson Palmer, OAK</td>\n",
       "      <td>2012</td>\n",
       "      <td>70.3</td>\n",
       "      <td>55.3</td>\n",
       "      <td>15.0</td>\n",
       "      <td>73.4</td>\n",
       "      <td>0</td>\n",
       "    </tr>\n",
       "  </tbody>\n",
       "</table>\n",
       "<p>73 rows × 7 columns</p>\n",
       "</div>"
      ],
      "text/plain": [
       "                     PLAYER  Year  TOTAL QBR  RAW QBR  QBR_diff  Rate  \\\n",
       "920      Charlie Batch, PIT  2007       66.3     44.6      21.7  69.0   \n",
       "1397         Tony Romo, DAL  2008       55.6     34.6      21.0  55.8   \n",
       "1266       Kurt Warner, ARI  2008       76.1     57.3      18.8  65.7   \n",
       "1148         Matt Ryan, ATL  2008       42.0     23.4      18.6  68.1   \n",
       "1146  JaMarcus Russell, OAK  2008       46.2     27.7      18.5  66.2   \n",
       "...                     ...   ...        ...      ...       ...   ...   \n",
       "1388     David Garrard, JAX  2008       81.2     65.9      15.3  49.9   \n",
       "1446     Byron Leftwich, TB  2009       70.1     54.9      15.2  73.4   \n",
       "4423      Sam Bradford, PHI  2015       42.6     27.5      15.1  58.7   \n",
       "1131       Eli Manning, NYG  2008       79.6     64.6      15.0  87.9   \n",
       "2912     Carson Palmer, OAK  2012       70.3     55.3      15.0  73.4   \n",
       "\n",
       "      team_win  \n",
       "920          0  \n",
       "1397         0  \n",
       "1266         0  \n",
       "1148         0  \n",
       "1146         0  \n",
       "...        ...  \n",
       "1388         0  \n",
       "1446         0  \n",
       "4423         0  \n",
       "1131         1  \n",
       "2912         0  \n",
       "\n",
       "[73 rows x 7 columns]"
      ]
     },
     "execution_count": 42,
     "metadata": {},
     "output_type": "execute_result"
    }
   ],
   "source": [
    "merged_df[merged_df.QBR_diff >= 15][['PLAYER','Year','TOTAL QBR','RAW QBR','QBR_diff','Rate','team_win']].sort_values(by='QBR_diff', ascending=False)"
   ]
  },
  {
   "cell_type": "markdown",
   "metadata": {},
   "source": [
    "##### Find Quarterbacks with low average QBR_diff"
   ]
  },
  {
   "cell_type": "code",
   "execution_count": 43,
   "metadata": {},
   "outputs": [
    {
     "data": {
      "text/html": [
       "<div>\n",
       "<style scoped>\n",
       "    .dataframe tbody tr th:only-of-type {\n",
       "        vertical-align: middle;\n",
       "    }\n",
       "\n",
       "    .dataframe tbody tr th {\n",
       "        vertical-align: top;\n",
       "    }\n",
       "\n",
       "    .dataframe thead th {\n",
       "        text-align: right;\n",
       "    }\n",
       "</style>\n",
       "<table border=\"1\" class=\"dataframe\">\n",
       "  <thead>\n",
       "    <tr style=\"text-align: right;\">\n",
       "      <th></th>\n",
       "      <th>QBR_diff</th>\n",
       "      <th>TOTAL QBR</th>\n",
       "      <th>RAW QBR</th>\n",
       "    </tr>\n",
       "    <tr>\n",
       "      <th>name</th>\n",
       "      <th></th>\n",
       "      <th></th>\n",
       "      <th></th>\n",
       "    </tr>\n",
       "  </thead>\n",
       "  <tbody>\n",
       "    <tr>\n",
       "      <th>Matt Barkley</th>\n",
       "      <td>-6.971429</td>\n",
       "      <td>30.814286</td>\n",
       "      <td>37.785714</td>\n",
       "    </tr>\n",
       "    <tr>\n",
       "      <th>Cleo Lemon</th>\n",
       "      <td>-5.030000</td>\n",
       "      <td>45.280000</td>\n",
       "      <td>50.310000</td>\n",
       "    </tr>\n",
       "    <tr>\n",
       "      <th>Nate Sudfeld</th>\n",
       "      <td>-5.000000</td>\n",
       "      <td>34.400000</td>\n",
       "      <td>39.400000</td>\n",
       "    </tr>\n",
       "    <tr>\n",
       "      <th>Drew Bledsoe</th>\n",
       "      <td>-4.960000</td>\n",
       "      <td>56.140000</td>\n",
       "      <td>61.100000</td>\n",
       "    </tr>\n",
       "    <tr>\n",
       "      <th>Sean Mannion</th>\n",
       "      <td>-4.900000</td>\n",
       "      <td>14.500000</td>\n",
       "      <td>19.400000</td>\n",
       "    </tr>\n",
       "    <tr>\n",
       "      <th>Chase Daniel</th>\n",
       "      <td>-4.550000</td>\n",
       "      <td>51.350000</td>\n",
       "      <td>55.900000</td>\n",
       "    </tr>\n",
       "    <tr>\n",
       "      <th>Chris Weinke</th>\n",
       "      <td>-3.766667</td>\n",
       "      <td>17.633333</td>\n",
       "      <td>21.400000</td>\n",
       "    </tr>\n",
       "    <tr>\n",
       "      <th>Matt Flynn</th>\n",
       "      <td>-3.711111</td>\n",
       "      <td>30.688889</td>\n",
       "      <td>34.400000</td>\n",
       "    </tr>\n",
       "    <tr>\n",
       "      <th>Byron Leftwich</th>\n",
       "      <td>-3.618182</td>\n",
       "      <td>43.318182</td>\n",
       "      <td>46.936364</td>\n",
       "    </tr>\n",
       "    <tr>\n",
       "      <th>Quinn Gray</th>\n",
       "      <td>-3.200000</td>\n",
       "      <td>63.600000</td>\n",
       "      <td>66.800000</td>\n",
       "    </tr>\n",
       "  </tbody>\n",
       "</table>\n",
       "</div>"
      ],
      "text/plain": [
       "                QBR_diff  TOTAL QBR    RAW QBR\n",
       "name                                          \n",
       "Matt Barkley   -6.971429  30.814286  37.785714\n",
       "Cleo Lemon     -5.030000  45.280000  50.310000\n",
       "Nate Sudfeld   -5.000000  34.400000  39.400000\n",
       "Drew Bledsoe   -4.960000  56.140000  61.100000\n",
       "Sean Mannion   -4.900000  14.500000  19.400000\n",
       "Chase Daniel   -4.550000  51.350000  55.900000\n",
       "Chris Weinke   -3.766667  17.633333  21.400000\n",
       "Matt Flynn     -3.711111  30.688889  34.400000\n",
       "Byron Leftwich -3.618182  43.318182  46.936364\n",
       "Quinn Gray     -3.200000  63.600000  66.800000"
      ]
     },
     "execution_count": 43,
     "metadata": {},
     "output_type": "execute_result"
    }
   ],
   "source": [
    "merged_df.groupby('name')[['QBR_diff','TOTAL QBR','RAW QBR']].mean().sort_values(by='QBR_diff').head(10)"
   ]
  },
  {
   "cell_type": "markdown",
   "metadata": {},
   "source": [
    "These players have high Raw QBR and low Total QBR, indicating that they played against poor teams."
   ]
  },
  {
   "cell_type": "markdown",
   "metadata": {},
   "source": [
    "##### Find Quarterbacks with high average QBR_diff"
   ]
  },
  {
   "cell_type": "code",
   "execution_count": 44,
   "metadata": {},
   "outputs": [
    {
     "data": {
      "text/html": [
       "<div>\n",
       "<style scoped>\n",
       "    .dataframe tbody tr th:only-of-type {\n",
       "        vertical-align: middle;\n",
       "    }\n",
       "\n",
       "    .dataframe tbody tr th {\n",
       "        vertical-align: top;\n",
       "    }\n",
       "\n",
       "    .dataframe thead th {\n",
       "        text-align: right;\n",
       "    }\n",
       "</style>\n",
       "<table border=\"1\" class=\"dataframe\">\n",
       "  <thead>\n",
       "    <tr style=\"text-align: right;\">\n",
       "      <th></th>\n",
       "      <th>QBR_diff</th>\n",
       "      <th>TOTAL QBR</th>\n",
       "      <th>RAW QBR</th>\n",
       "    </tr>\n",
       "    <tr>\n",
       "      <th>name</th>\n",
       "      <th></th>\n",
       "      <th></th>\n",
       "      <th></th>\n",
       "    </tr>\n",
       "  </thead>\n",
       "  <tbody>\n",
       "    <tr>\n",
       "      <th>Ken Dorsey</th>\n",
       "      <td>11.200000</td>\n",
       "      <td>28.233333</td>\n",
       "      <td>17.033333</td>\n",
       "    </tr>\n",
       "    <tr>\n",
       "      <th>Todd Bouman</th>\n",
       "      <td>8.700000</td>\n",
       "      <td>66.100000</td>\n",
       "      <td>57.400000</td>\n",
       "    </tr>\n",
       "    <tr>\n",
       "      <th>Connor Cook</th>\n",
       "      <td>5.200000</td>\n",
       "      <td>14.700000</td>\n",
       "      <td>9.500000</td>\n",
       "    </tr>\n",
       "    <tr>\n",
       "      <th>Connor Shaw</th>\n",
       "      <td>5.100000</td>\n",
       "      <td>25.100000</td>\n",
       "      <td>20.000000</td>\n",
       "    </tr>\n",
       "    <tr>\n",
       "      <th>Kelly Holcomb</th>\n",
       "      <td>4.300000</td>\n",
       "      <td>35.233333</td>\n",
       "      <td>30.933333</td>\n",
       "    </tr>\n",
       "    <tr>\n",
       "      <th>Johnny Manziel</th>\n",
       "      <td>4.214286</td>\n",
       "      <td>49.857143</td>\n",
       "      <td>45.642857</td>\n",
       "    </tr>\n",
       "    <tr>\n",
       "      <th>Keith Null</th>\n",
       "      <td>4.150000</td>\n",
       "      <td>19.900000</td>\n",
       "      <td>15.750000</td>\n",
       "    </tr>\n",
       "    <tr>\n",
       "      <th>Tom Savage</th>\n",
       "      <td>3.988889</td>\n",
       "      <td>45.077778</td>\n",
       "      <td>41.088889</td>\n",
       "    </tr>\n",
       "    <tr>\n",
       "      <th>Richard Bartel</th>\n",
       "      <td>3.900000</td>\n",
       "      <td>29.200000</td>\n",
       "      <td>25.300000</td>\n",
       "    </tr>\n",
       "    <tr>\n",
       "      <th>Brooks Bollinger</th>\n",
       "      <td>3.550000</td>\n",
       "      <td>16.050000</td>\n",
       "      <td>12.500000</td>\n",
       "    </tr>\n",
       "  </tbody>\n",
       "</table>\n",
       "</div>"
      ],
      "text/plain": [
       "                   QBR_diff  TOTAL QBR    RAW QBR\n",
       "name                                             \n",
       "Ken Dorsey        11.200000  28.233333  17.033333\n",
       "Todd Bouman        8.700000  66.100000  57.400000\n",
       "Connor Cook        5.200000  14.700000   9.500000\n",
       "Connor Shaw        5.100000  25.100000  20.000000\n",
       "Kelly Holcomb      4.300000  35.233333  30.933333\n",
       "Johnny Manziel     4.214286  49.857143  45.642857\n",
       "Keith Null         4.150000  19.900000  15.750000\n",
       "Tom Savage         3.988889  45.077778  41.088889\n",
       "Richard Bartel     3.900000  29.200000  25.300000\n",
       "Brooks Bollinger   3.550000  16.050000  12.500000"
      ]
     },
     "execution_count": 44,
     "metadata": {},
     "output_type": "execute_result"
    }
   ],
   "source": [
    "merged_df.groupby('name')[['QBR_diff','TOTAL QBR','RAW QBR']].mean().sort_values(by='QBR_diff', ascending=False).head(10)"
   ]
  },
  {
   "cell_type": "markdown",
   "metadata": {},
   "source": [
    "These players have low Raw QBR and high Total QBR, indicating that they played against better teams."
   ]
  },
  {
   "cell_type": "markdown",
   "metadata": {},
   "source": [
    "##### Quarterbacks with highest QBR over timespan"
   ]
  },
  {
   "cell_type": "code",
   "execution_count": 45,
   "metadata": {},
   "outputs": [
    {
     "data": {
      "text/html": [
       "<div>\n",
       "<style scoped>\n",
       "    .dataframe tbody tr th:only-of-type {\n",
       "        vertical-align: middle;\n",
       "    }\n",
       "\n",
       "    .dataframe tbody tr th {\n",
       "        vertical-align: top;\n",
       "    }\n",
       "\n",
       "    .dataframe thead th {\n",
       "        text-align: right;\n",
       "    }\n",
       "</style>\n",
       "<table border=\"1\" class=\"dataframe\">\n",
       "  <thead>\n",
       "    <tr style=\"text-align: right;\">\n",
       "      <th></th>\n",
       "      <th>TOTAL QBR</th>\n",
       "      <th>Rate</th>\n",
       "    </tr>\n",
       "    <tr>\n",
       "      <th>name</th>\n",
       "      <th></th>\n",
       "      <th></th>\n",
       "    </tr>\n",
       "  </thead>\n",
       "  <tbody>\n",
       "    <tr>\n",
       "      <th>Patrick Mahomes</th>\n",
       "      <td>81.660000</td>\n",
       "      <td>111.410000</td>\n",
       "    </tr>\n",
       "    <tr>\n",
       "      <th>Billy Volek</th>\n",
       "      <td>79.200000</td>\n",
       "      <td>82.100000</td>\n",
       "    </tr>\n",
       "    <tr>\n",
       "      <th>Peyton Manning</th>\n",
       "      <td>71.906818</td>\n",
       "      <td>99.485606</td>\n",
       "    </tr>\n",
       "    <tr>\n",
       "      <th>Tom Brady</th>\n",
       "      <td>70.960335</td>\n",
       "      <td>101.102235</td>\n",
       "    </tr>\n",
       "    <tr>\n",
       "      <th>Drew Brees</th>\n",
       "      <td>67.723077</td>\n",
       "      <td>101.486667</td>\n",
       "    </tr>\n",
       "    <tr>\n",
       "      <th>Todd Collins</th>\n",
       "      <td>67.300000</td>\n",
       "      <td>107.650000</td>\n",
       "    </tr>\n",
       "    <tr>\n",
       "      <th>Aaron Rodgers</th>\n",
       "      <td>66.534247</td>\n",
       "      <td>104.257534</td>\n",
       "    </tr>\n",
       "    <tr>\n",
       "      <th>Matt Ryan</th>\n",
       "      <td>66.296914</td>\n",
       "      <td>95.809877</td>\n",
       "    </tr>\n",
       "    <tr>\n",
       "      <th>Todd Bouman</th>\n",
       "      <td>66.100000</td>\n",
       "      <td>68.500000</td>\n",
       "    </tr>\n",
       "    <tr>\n",
       "      <th>Dak Prescott</th>\n",
       "      <td>65.907895</td>\n",
       "      <td>96.568421</td>\n",
       "    </tr>\n",
       "  </tbody>\n",
       "</table>\n",
       "</div>"
      ],
      "text/plain": [
       "                 TOTAL QBR        Rate\n",
       "name                                  \n",
       "Patrick Mahomes  81.660000  111.410000\n",
       "Billy Volek      79.200000   82.100000\n",
       "Peyton Manning   71.906818   99.485606\n",
       "Tom Brady        70.960335  101.102235\n",
       "Drew Brees       67.723077  101.486667\n",
       "Todd Collins     67.300000  107.650000\n",
       "Aaron Rodgers    66.534247  104.257534\n",
       "Matt Ryan        66.296914   95.809877\n",
       "Todd Bouman      66.100000   68.500000\n",
       "Dak Prescott     65.907895   96.568421"
      ]
     },
     "execution_count": 45,
     "metadata": {},
     "output_type": "execute_result"
    }
   ],
   "source": [
    "high_career_qbr = merged_df.groupby('name')[['TOTAL QBR','Rate']].mean().sort_values(by='TOTAL QBR', ascending=False).head(10)\n",
    "high_career_qbr"
   ]
  },
  {
   "cell_type": "code",
   "execution_count": 49,
   "metadata": {},
   "outputs": [
    {
     "data": {
      "text/html": [
       "<div>\n",
       "<style scoped>\n",
       "    .dataframe tbody tr th:only-of-type {\n",
       "        vertical-align: middle;\n",
       "    }\n",
       "\n",
       "    .dataframe tbody tr th {\n",
       "        vertical-align: top;\n",
       "    }\n",
       "\n",
       "    .dataframe thead th {\n",
       "        text-align: right;\n",
       "    }\n",
       "</style>\n",
       "<table border=\"1\" class=\"dataframe\">\n",
       "  <thead>\n",
       "    <tr style=\"text-align: right;\">\n",
       "      <th></th>\n",
       "      <th>Total QBR</th>\n",
       "      <th>Passer Rating</th>\n",
       "      <th>Number of Games</th>\n",
       "    </tr>\n",
       "  </thead>\n",
       "  <tbody>\n",
       "    <tr>\n",
       "      <th>Patrick Mahomes</th>\n",
       "      <td>81.660000</td>\n",
       "      <td>111.410000</td>\n",
       "      <td>10</td>\n",
       "    </tr>\n",
       "    <tr>\n",
       "      <th>Billy Volek</th>\n",
       "      <td>79.200000</td>\n",
       "      <td>82.100000</td>\n",
       "      <td>1</td>\n",
       "    </tr>\n",
       "    <tr>\n",
       "      <th>Peyton Manning</th>\n",
       "      <td>71.906818</td>\n",
       "      <td>99.485606</td>\n",
       "      <td>132</td>\n",
       "    </tr>\n",
       "    <tr>\n",
       "      <th>Tom Brady</th>\n",
       "      <td>70.960335</td>\n",
       "      <td>101.102235</td>\n",
       "      <td>179</td>\n",
       "    </tr>\n",
       "    <tr>\n",
       "      <th>Drew Brees</th>\n",
       "      <td>67.723077</td>\n",
       "      <td>101.486667</td>\n",
       "      <td>195</td>\n",
       "    </tr>\n",
       "    <tr>\n",
       "      <th>Todd Collins</th>\n",
       "      <td>67.300000</td>\n",
       "      <td>107.650000</td>\n",
       "      <td>4</td>\n",
       "    </tr>\n",
       "    <tr>\n",
       "      <th>Aaron Rodgers</th>\n",
       "      <td>66.534247</td>\n",
       "      <td>104.257534</td>\n",
       "      <td>146</td>\n",
       "    </tr>\n",
       "    <tr>\n",
       "      <th>Matt Ryan</th>\n",
       "      <td>66.296914</td>\n",
       "      <td>95.809877</td>\n",
       "      <td>162</td>\n",
       "    </tr>\n",
       "    <tr>\n",
       "      <th>Todd Bouman</th>\n",
       "      <td>66.100000</td>\n",
       "      <td>68.500000</td>\n",
       "      <td>1</td>\n",
       "    </tr>\n",
       "    <tr>\n",
       "      <th>Dak Prescott</th>\n",
       "      <td>65.907895</td>\n",
       "      <td>96.568421</td>\n",
       "      <td>38</td>\n",
       "    </tr>\n",
       "  </tbody>\n",
       "</table>\n",
       "</div>"
      ],
      "text/plain": [
       "                 Total QBR  Passer Rating  Number of Games\n",
       "Patrick Mahomes  81.660000     111.410000               10\n",
       "Billy Volek      79.200000      82.100000                1\n",
       "Peyton Manning   71.906818      99.485606              132\n",
       "Tom Brady        70.960335     101.102235              179\n",
       "Drew Brees       67.723077     101.486667              195\n",
       "Todd Collins     67.300000     107.650000                4\n",
       "Aaron Rodgers    66.534247     104.257534              146\n",
       "Matt Ryan        66.296914      95.809877              162\n",
       "Todd Bouman      66.100000      68.500000                1\n",
       "Dak Prescott     65.907895      96.568421               38"
      ]
     },
     "execution_count": 49,
     "metadata": {},
     "output_type": "execute_result"
    }
   ],
   "source": [
    "# Find quarterbacks with the highest average Total QBR over their career\n",
    "high_career_qbr_game_count = merged_df[merged_df.name.isin(high_career_qbr.index)].groupby('name')[['TD']].count()\n",
    "high_career_qbr_merged = pd.concat([high_career_qbr, high_career_qbr_game_count], axis=1).sort_values(by='TOTAL QBR', ascending=False)\n",
    "high_career_qbr_merged.columns = ['Total QBR','Passer Rating','Number of Games']\n",
    "high_career_qbr_merged"
   ]
  },
  {
   "cell_type": "code",
   "execution_count": 51,
   "metadata": {},
   "outputs": [
    {
     "data": {
      "text/html": [
       "<div>\n",
       "<style scoped>\n",
       "    .dataframe tbody tr th:only-of-type {\n",
       "        vertical-align: middle;\n",
       "    }\n",
       "\n",
       "    .dataframe tbody tr th {\n",
       "        vertical-align: top;\n",
       "    }\n",
       "\n",
       "    .dataframe thead th {\n",
       "        text-align: right;\n",
       "    }\n",
       "</style>\n",
       "<table border=\"1\" class=\"dataframe\">\n",
       "  <thead>\n",
       "    <tr style=\"text-align: right;\">\n",
       "      <th></th>\n",
       "      <th>Total QBR</th>\n",
       "      <th>Passer Rating</th>\n",
       "      <th>Number of Games</th>\n",
       "    </tr>\n",
       "  </thead>\n",
       "  <tbody>\n",
       "    <tr>\n",
       "      <th>Patrick Mahomes</th>\n",
       "      <td>81.660000</td>\n",
       "      <td>111.410000</td>\n",
       "      <td>10</td>\n",
       "    </tr>\n",
       "    <tr>\n",
       "      <th>Todd Collins</th>\n",
       "      <td>67.300000</td>\n",
       "      <td>107.650000</td>\n",
       "      <td>4</td>\n",
       "    </tr>\n",
       "    <tr>\n",
       "      <th>Aaron Rodgers</th>\n",
       "      <td>66.534247</td>\n",
       "      <td>104.257534</td>\n",
       "      <td>146</td>\n",
       "    </tr>\n",
       "    <tr>\n",
       "      <th>Drew Brees</th>\n",
       "      <td>67.723077</td>\n",
       "      <td>101.486667</td>\n",
       "      <td>195</td>\n",
       "    </tr>\n",
       "    <tr>\n",
       "      <th>Tom Brady</th>\n",
       "      <td>70.960335</td>\n",
       "      <td>101.102235</td>\n",
       "      <td>179</td>\n",
       "    </tr>\n",
       "    <tr>\n",
       "      <th>Peyton Manning</th>\n",
       "      <td>71.906818</td>\n",
       "      <td>99.485606</td>\n",
       "      <td>132</td>\n",
       "    </tr>\n",
       "    <tr>\n",
       "      <th>Dak Prescott</th>\n",
       "      <td>65.907895</td>\n",
       "      <td>96.568421</td>\n",
       "      <td>38</td>\n",
       "    </tr>\n",
       "    <tr>\n",
       "      <th>Matt Ryan</th>\n",
       "      <td>66.296914</td>\n",
       "      <td>95.809877</td>\n",
       "      <td>162</td>\n",
       "    </tr>\n",
       "    <tr>\n",
       "      <th>Billy Volek</th>\n",
       "      <td>79.200000</td>\n",
       "      <td>82.100000</td>\n",
       "      <td>1</td>\n",
       "    </tr>\n",
       "    <tr>\n",
       "      <th>Todd Bouman</th>\n",
       "      <td>66.100000</td>\n",
       "      <td>68.500000</td>\n",
       "      <td>1</td>\n",
       "    </tr>\n",
       "  </tbody>\n",
       "</table>\n",
       "</div>"
      ],
      "text/plain": [
       "                 Total QBR  Passer Rating  Number of Games\n",
       "Patrick Mahomes  81.660000     111.410000               10\n",
       "Todd Collins     67.300000     107.650000                4\n",
       "Aaron Rodgers    66.534247     104.257534              146\n",
       "Drew Brees       67.723077     101.486667              195\n",
       "Tom Brady        70.960335     101.102235              179\n",
       "Peyton Manning   71.906818      99.485606              132\n",
       "Dak Prescott     65.907895      96.568421               38\n",
       "Matt Ryan        66.296914      95.809877              162\n",
       "Billy Volek      79.200000      82.100000                1\n",
       "Todd Bouman      66.100000      68.500000                1"
      ]
     },
     "execution_count": 51,
     "metadata": {},
     "output_type": "execute_result"
    }
   ],
   "source": [
    "# Find quarterbacks with the highest average Passer Rating over their career\n",
    "high_career_qbr_game_count = merged_df[merged_df.name.isin(high_career_qbr.index)].groupby('name')[['TD']].count()\n",
    "high_career_qbr_merged = pd.concat([high_career_qbr, high_career_qbr_game_count], axis=1).sort_values(by='Rate', ascending=False)\n",
    "high_career_qbr_merged.columns = ['Total QBR','Passer Rating','Number of Games']\n",
    "high_career_qbr_merged"
   ]
  },
  {
   "cell_type": "code",
   "execution_count": 53,
   "metadata": {},
   "outputs": [
    {
     "data": {
      "text/plain": [
       "['Aaron Rodgers',\n",
       " 'Patrick Mahomes',\n",
       " 'Peyton Manning',\n",
       " 'Tom Brady',\n",
       " 'Drew Brees',\n",
       " 'Todd Collins']"
      ]
     },
     "execution_count": 53,
     "metadata": {},
     "output_type": "execute_result"
    }
   ],
   "source": [
    "# Find quarterbacks with high career QBRs and Passer Ratings\n",
    "list(set(high_career_pr.index) & set(high_career_qbr.index))"
   ]
  },
  {
   "cell_type": "code",
   "execution_count": 54,
   "metadata": {},
   "outputs": [],
   "source": [
    "# Find QBs with low career average QBRs\n",
    "low_career_qbr = merged_df.groupby('name')[['TOTAL QBR','Rate']].mean().sort_values(by='TOTAL QBR', ascending=True).head(10)"
   ]
  },
  {
   "cell_type": "code",
   "execution_count": 56,
   "metadata": {},
   "outputs": [
    {
     "data": {
      "text/html": [
       "<div>\n",
       "<style scoped>\n",
       "    .dataframe tbody tr th:only-of-type {\n",
       "        vertical-align: middle;\n",
       "    }\n",
       "\n",
       "    .dataframe tbody tr th {\n",
       "        vertical-align: top;\n",
       "    }\n",
       "\n",
       "    .dataframe thead th {\n",
       "        text-align: right;\n",
       "    }\n",
       "</style>\n",
       "<table border=\"1\" class=\"dataframe\">\n",
       "  <thead>\n",
       "    <tr style=\"text-align: right;\">\n",
       "      <th></th>\n",
       "      <th>Total QBR</th>\n",
       "      <th>Passer Rating</th>\n",
       "      <th>Number of Games</th>\n",
       "    </tr>\n",
       "  </thead>\n",
       "  <tbody>\n",
       "    <tr>\n",
       "      <th>Matt Simms</th>\n",
       "      <td>2.10</td>\n",
       "      <td>38.90</td>\n",
       "      <td>1</td>\n",
       "    </tr>\n",
       "    <tr>\n",
       "      <th>Jamie Martin</th>\n",
       "      <td>2.20</td>\n",
       "      <td>90.30</td>\n",
       "      <td>1</td>\n",
       "    </tr>\n",
       "    <tr>\n",
       "      <th>Brock Berlin</th>\n",
       "      <td>3.00</td>\n",
       "      <td>60.60</td>\n",
       "      <td>1</td>\n",
       "    </tr>\n",
       "    <tr>\n",
       "      <th>Nathan Peterman</th>\n",
       "      <td>6.35</td>\n",
       "      <td>22.70</td>\n",
       "      <td>2</td>\n",
       "    </tr>\n",
       "    <tr>\n",
       "      <th>Greg McElroy</th>\n",
       "      <td>8.00</td>\n",
       "      <td>65.50</td>\n",
       "      <td>1</td>\n",
       "    </tr>\n",
       "    <tr>\n",
       "      <th>Jeff Tuel</th>\n",
       "      <td>10.55</td>\n",
       "      <td>41.70</td>\n",
       "      <td>2</td>\n",
       "    </tr>\n",
       "    <tr>\n",
       "      <th>Sean Mannion</th>\n",
       "      <td>14.50</td>\n",
       "      <td>71.80</td>\n",
       "      <td>1</td>\n",
       "    </tr>\n",
       "    <tr>\n",
       "      <th>Connor Cook</th>\n",
       "      <td>14.70</td>\n",
       "      <td>83.40</td>\n",
       "      <td>1</td>\n",
       "    </tr>\n",
       "    <tr>\n",
       "      <th>Brooks Bollinger</th>\n",
       "      <td>16.05</td>\n",
       "      <td>62.85</td>\n",
       "      <td>2</td>\n",
       "    </tr>\n",
       "    <tr>\n",
       "      <th>Max Hall</th>\n",
       "      <td>16.95</td>\n",
       "      <td>69.55</td>\n",
       "      <td>2</td>\n",
       "    </tr>\n",
       "  </tbody>\n",
       "</table>\n",
       "</div>"
      ],
      "text/plain": [
       "                  Total QBR  Passer Rating  Number of Games\n",
       "Matt Simms             2.10          38.90                1\n",
       "Jamie Martin           2.20          90.30                1\n",
       "Brock Berlin           3.00          60.60                1\n",
       "Nathan Peterman        6.35          22.70                2\n",
       "Greg McElroy           8.00          65.50                1\n",
       "Jeff Tuel             10.55          41.70                2\n",
       "Sean Mannion          14.50          71.80                1\n",
       "Connor Cook           14.70          83.40                1\n",
       "Brooks Bollinger      16.05          62.85                2\n",
       "Max Hall              16.95          69.55                2"
      ]
     },
     "execution_count": 56,
     "metadata": {},
     "output_type": "execute_result"
    }
   ],
   "source": [
    "# Find QBs with low Total QBRs\n",
    "low_career_qbr_game_count = merged_df[merged_df.name.isin(low_career_qbr.index)].groupby('name')[['TD']].count()\n",
    "low_career_qbr_merged = pd.concat([low_career_qbr, low_career_qbr_game_count], axis=1).sort_values(by='TOTAL QBR', ascending=True)\n",
    "low_career_qbr_merged.columns = ['Total QBR','Passer Rating','Number of Games']\n",
    "low_career_qbr_merged"
   ]
  },
  {
   "cell_type": "code",
   "execution_count": 57,
   "metadata": {},
   "outputs": [],
   "source": [
    "# Sort by Passer Rating rather than QBR\n",
    "low_career_pr = merged_df.groupby('name')[['TOTAL QBR','Rate']].mean().sort_values(by='Rate', ascending=True).head(10)"
   ]
  },
  {
   "cell_type": "code",
   "execution_count": 58,
   "metadata": {},
   "outputs": [
    {
     "data": {
      "text/html": [
       "<div>\n",
       "<style scoped>\n",
       "    .dataframe tbody tr th:only-of-type {\n",
       "        vertical-align: middle;\n",
       "    }\n",
       "\n",
       "    .dataframe tbody tr th {\n",
       "        vertical-align: top;\n",
       "    }\n",
       "\n",
       "    .dataframe thead th {\n",
       "        text-align: right;\n",
       "    }\n",
       "</style>\n",
       "<table border=\"1\" class=\"dataframe\">\n",
       "  <thead>\n",
       "    <tr style=\"text-align: right;\">\n",
       "      <th></th>\n",
       "      <th>Total QBR</th>\n",
       "      <th>Passer Rating</th>\n",
       "      <th>Number of Games</th>\n",
       "    </tr>\n",
       "  </thead>\n",
       "  <tbody>\n",
       "    <tr>\n",
       "      <th>Nathan Peterman</th>\n",
       "      <td>6.350000</td>\n",
       "      <td>22.700000</td>\n",
       "      <td>2</td>\n",
       "    </tr>\n",
       "    <tr>\n",
       "      <th>Brian Brohm</th>\n",
       "      <td>17.950000</td>\n",
       "      <td>30.550000</td>\n",
       "      <td>2</td>\n",
       "    </tr>\n",
       "    <tr>\n",
       "      <th>Ken Dorsey</th>\n",
       "      <td>28.233333</td>\n",
       "      <td>35.033333</td>\n",
       "      <td>3</td>\n",
       "    </tr>\n",
       "    <tr>\n",
       "      <th>Matt Simms</th>\n",
       "      <td>2.100000</td>\n",
       "      <td>38.900000</td>\n",
       "      <td>1</td>\n",
       "    </tr>\n",
       "    <tr>\n",
       "      <th>Jeff Tuel</th>\n",
       "      <td>10.550000</td>\n",
       "      <td>41.700000</td>\n",
       "      <td>2</td>\n",
       "    </tr>\n",
       "    <tr>\n",
       "      <th>Keith Null</th>\n",
       "      <td>19.900000</td>\n",
       "      <td>44.350000</td>\n",
       "      <td>2</td>\n",
       "    </tr>\n",
       "    <tr>\n",
       "      <th>Caleb Hanie</th>\n",
       "      <td>23.150000</td>\n",
       "      <td>48.475000</td>\n",
       "      <td>4</td>\n",
       "    </tr>\n",
       "    <tr>\n",
       "      <th>Chris Simms</th>\n",
       "      <td>37.466667</td>\n",
       "      <td>48.500000</td>\n",
       "      <td>3</td>\n",
       "    </tr>\n",
       "    <tr>\n",
       "      <th>Andrew Walter</th>\n",
       "      <td>22.533333</td>\n",
       "      <td>49.366667</td>\n",
       "      <td>12</td>\n",
       "    </tr>\n",
       "    <tr>\n",
       "      <th>Ryan Lindley</th>\n",
       "      <td>18.612500</td>\n",
       "      <td>51.500000</td>\n",
       "      <td>8</td>\n",
       "    </tr>\n",
       "  </tbody>\n",
       "</table>\n",
       "</div>"
      ],
      "text/plain": [
       "                 Total QBR  Passer Rating  Number of Games\n",
       "Nathan Peterman   6.350000      22.700000                2\n",
       "Brian Brohm      17.950000      30.550000                2\n",
       "Ken Dorsey       28.233333      35.033333                3\n",
       "Matt Simms        2.100000      38.900000                1\n",
       "Jeff Tuel        10.550000      41.700000                2\n",
       "Keith Null       19.900000      44.350000                2\n",
       "Caleb Hanie      23.150000      48.475000                4\n",
       "Chris Simms      37.466667      48.500000                3\n",
       "Andrew Walter    22.533333      49.366667               12\n",
       "Ryan Lindley     18.612500      51.500000                8"
      ]
     },
     "execution_count": 58,
     "metadata": {},
     "output_type": "execute_result"
    }
   ],
   "source": [
    "low_career_pr_game_count = merged_df[merged_df.name.isin(low_career_pr.index)].groupby('name')[['TD']].count()\n",
    "low_career_pr_merged = pd.concat([low_career_pr, low_career_pr_game_count], axis=1).sort_values(by='Rate', ascending=True)\n",
    "low_career_pr_merged.columns = ['Total QBR','Passer Rating','Number of Games']\n",
    "low_career_pr_merged"
   ]
  },
  {
   "cell_type": "code",
   "execution_count": 59,
   "metadata": {},
   "outputs": [
    {
     "data": {
      "text/plain": [
       "['Matt Simms', 'Nathan Peterman', 'Jeff Tuel']"
      ]
     },
     "execution_count": 59,
     "metadata": {},
     "output_type": "execute_result"
    }
   ],
   "source": [
    "# Find worst quarterbacks in QBR and Passer Rating\n",
    "list(set(low_career_pr.index) & set(low_career_qbr.index))"
   ]
  },
  {
   "cell_type": "markdown",
   "metadata": {},
   "source": [
    "One could make the argument that these are the three worst NFL Quarterbacks statistically base on low QBR and Passer Rating metrics over their NFL careers."
   ]
  },
  {
   "cell_type": "markdown",
   "metadata": {},
   "source": [
    "### Blake Bortles and Kirk Cousins Analysis"
   ]
  },
  {
   "cell_type": "code",
   "execution_count": 60,
   "metadata": {},
   "outputs": [],
   "source": [
    "merged_df['qbr_minus_pass_rate'] = (merged_df.scale_qbr - merged_df.scale_pass_rate)*100"
   ]
  },
  {
   "cell_type": "code",
   "execution_count": 61,
   "metadata": {},
   "outputs": [],
   "source": [
    "blake_and_kirk = merged_df[(merged_df.name == 'Blake Bortles') | (merged_df.name == 'Kirk Cousins')]"
   ]
  },
  {
   "cell_type": "markdown",
   "metadata": {},
   "source": [
    "##### Blake Bortles"
   ]
  },
  {
   "cell_type": "code",
   "execution_count": 62,
   "metadata": {},
   "outputs": [],
   "source": [
    "# Subset Blake Bortles data\n",
    "blake = merged_df[merged_df.name == 'Blake Bortles']"
   ]
  },
  {
   "cell_type": "code",
   "execution_count": 64,
   "metadata": {},
   "outputs": [
    {
     "data": {
      "text/html": [
       "<div>\n",
       "<style scoped>\n",
       "    .dataframe tbody tr th:only-of-type {\n",
       "        vertical-align: middle;\n",
       "    }\n",
       "\n",
       "    .dataframe tbody tr th {\n",
       "        vertical-align: top;\n",
       "    }\n",
       "\n",
       "    .dataframe thead th {\n",
       "        text-align: right;\n",
       "    }\n",
       "</style>\n",
       "<table border=\"1\" class=\"dataframe\">\n",
       "  <thead>\n",
       "    <tr style=\"text-align: right;\">\n",
       "      <th></th>\n",
       "      <th>Rate</th>\n",
       "      <th>TOTAL QBR</th>\n",
       "      <th>RAW QBR</th>\n",
       "      <th>Cmp</th>\n",
       "      <th>Att</th>\n",
       "      <th>Cmp.</th>\n",
       "      <th>Yds</th>\n",
       "      <th>TD</th>\n",
       "      <th>Int</th>\n",
       "      <th>qbr_minus_pass_rate</th>\n",
       "    </tr>\n",
       "    <tr>\n",
       "      <th>team_win</th>\n",
       "      <th></th>\n",
       "      <th></th>\n",
       "      <th></th>\n",
       "      <th></th>\n",
       "      <th></th>\n",
       "      <th></th>\n",
       "      <th></th>\n",
       "      <th></th>\n",
       "      <th></th>\n",
       "      <th></th>\n",
       "    </tr>\n",
       "  </thead>\n",
       "  <tbody>\n",
       "    <tr>\n",
       "      <th>0</th>\n",
       "      <td>74.857778</td>\n",
       "      <td>41.142222</td>\n",
       "      <td>39.902222</td>\n",
       "      <td>22.533333</td>\n",
       "      <td>38.355556</td>\n",
       "      <td>58.503556</td>\n",
       "      <td>247.977778</td>\n",
       "      <td>1.333333</td>\n",
       "      <td>1.311111</td>\n",
       "      <td>-6.241092</td>\n",
       "    </tr>\n",
       "    <tr>\n",
       "      <th>1</th>\n",
       "      <td>95.034783</td>\n",
       "      <td>58.134783</td>\n",
       "      <td>60.400000</td>\n",
       "      <td>20.217391</td>\n",
       "      <td>33.347826</td>\n",
       "      <td>60.547391</td>\n",
       "      <td>244.956522</td>\n",
       "      <td>1.739130</td>\n",
       "      <td>0.521739</td>\n",
       "      <td>-1.909197</td>\n",
       "    </tr>\n",
       "  </tbody>\n",
       "</table>\n",
       "</div>"
      ],
      "text/plain": [
       "               Rate  TOTAL QBR    RAW QBR        Cmp        Att       Cmp.  \\\n",
       "team_win                                                                     \n",
       "0         74.857778  41.142222  39.902222  22.533333  38.355556  58.503556   \n",
       "1         95.034783  58.134783  60.400000  20.217391  33.347826  60.547391   \n",
       "\n",
       "                 Yds        TD       Int  qbr_minus_pass_rate  \n",
       "team_win                                                       \n",
       "0         247.977778  1.333333  1.311111            -6.241092  \n",
       "1         244.956522  1.739130  0.521739            -1.909197  "
      ]
     },
     "execution_count": 64,
     "metadata": {},
     "output_type": "execute_result"
    }
   ],
   "source": [
    "# Compare his statistics in Team wins and Team losses\n",
    "blake.groupby('team_win')[['Rate','TOTAL QBR','RAW QBR','Cmp', 'Att', 'Cmp.', 'Yds', 'TD','Int','qbr_minus_pass_rate']].mean()"
   ]
  },
  {
   "cell_type": "code",
   "execution_count": 65,
   "metadata": {},
   "outputs": [],
   "source": [
    "# Find average statistics over each Year\n",
    "blake_stats_year_gb = blake.groupby('Year')[['Rate','TOTAL QBR','RAW QBR','Cmp', 'Att', 'Yds', 'TD','Int','team_win']].mean()"
   ]
  },
  {
   "cell_type": "code",
   "execution_count": 66,
   "metadata": {},
   "outputs": [],
   "source": [
    "# Find number of games played by Blake\n",
    "num_games_gb = blake.groupby('Year')[['Cmp']].count()\n",
    "num_games_gb.columns = ['Num_Games']"
   ]
  },
  {
   "cell_type": "code",
   "execution_count": 67,
   "metadata": {},
   "outputs": [],
   "source": [
    "# Find number of wins each year\n",
    "num_wins_gb = blake.groupby('Year')[['team_win']].sum()\n",
    "num_wins_gb.columns = ['Num_Wins']"
   ]
  },
  {
   "cell_type": "code",
   "execution_count": 68,
   "metadata": {},
   "outputs": [
    {
     "data": {
      "text/html": [
       "<div>\n",
       "<style scoped>\n",
       "    .dataframe tbody tr th:only-of-type {\n",
       "        vertical-align: middle;\n",
       "    }\n",
       "\n",
       "    .dataframe tbody tr th {\n",
       "        vertical-align: top;\n",
       "    }\n",
       "\n",
       "    .dataframe thead th {\n",
       "        text-align: right;\n",
       "    }\n",
       "</style>\n",
       "<table border=\"1\" class=\"dataframe\">\n",
       "  <thead>\n",
       "    <tr style=\"text-align: right;\">\n",
       "      <th></th>\n",
       "      <th>Num_Games</th>\n",
       "      <th>Num_Wins</th>\n",
       "      <th>Rate</th>\n",
       "      <th>TOTAL QBR</th>\n",
       "      <th>RAW QBR</th>\n",
       "      <th>Cmp</th>\n",
       "      <th>Att</th>\n",
       "      <th>Yds</th>\n",
       "      <th>TD</th>\n",
       "      <th>Int</th>\n",
       "      <th>team_win</th>\n",
       "    </tr>\n",
       "    <tr>\n",
       "      <th>Year</th>\n",
       "      <th></th>\n",
       "      <th></th>\n",
       "      <th></th>\n",
       "      <th></th>\n",
       "      <th></th>\n",
       "      <th></th>\n",
       "      <th></th>\n",
       "      <th></th>\n",
       "      <th></th>\n",
       "      <th></th>\n",
       "      <th></th>\n",
       "    </tr>\n",
       "  </thead>\n",
       "  <tbody>\n",
       "    <tr>\n",
       "      <th>2014</th>\n",
       "      <td>14</td>\n",
       "      <td>3</td>\n",
       "      <td>69.078571</td>\n",
       "      <td>34.621429</td>\n",
       "      <td>34.157143</td>\n",
       "      <td>20.000000</td>\n",
       "      <td>33.928571</td>\n",
       "      <td>207.714286</td>\n",
       "      <td>0.785714</td>\n",
       "      <td>1.214286</td>\n",
       "      <td>0.214286</td>\n",
       "    </tr>\n",
       "    <tr>\n",
       "      <th>2015</th>\n",
       "      <td>16</td>\n",
       "      <td>5</td>\n",
       "      <td>89.312500</td>\n",
       "      <td>49.587500</td>\n",
       "      <td>50.162500</td>\n",
       "      <td>22.187500</td>\n",
       "      <td>37.875000</td>\n",
       "      <td>276.750000</td>\n",
       "      <td>2.187500</td>\n",
       "      <td>1.125000</td>\n",
       "      <td>0.312500</td>\n",
       "    </tr>\n",
       "    <tr>\n",
       "      <th>2016</th>\n",
       "      <td>16</td>\n",
       "      <td>3</td>\n",
       "      <td>78.300000</td>\n",
       "      <td>42.968750</td>\n",
       "      <td>42.993750</td>\n",
       "      <td>23.000000</td>\n",
       "      <td>39.062500</td>\n",
       "      <td>244.062500</td>\n",
       "      <td>1.437500</td>\n",
       "      <td>1.000000</td>\n",
       "      <td>0.187500</td>\n",
       "    </tr>\n",
       "    <tr>\n",
       "      <th>2017</th>\n",
       "      <td>15</td>\n",
       "      <td>9</td>\n",
       "      <td>88.426667</td>\n",
       "      <td>58.666667</td>\n",
       "      <td>58.613333</td>\n",
       "      <td>20.466667</td>\n",
       "      <td>33.933333</td>\n",
       "      <td>239.466667</td>\n",
       "      <td>1.400000</td>\n",
       "      <td>0.800000</td>\n",
       "      <td>0.600000</td>\n",
       "    </tr>\n",
       "    <tr>\n",
       "      <th>2018</th>\n",
       "      <td>7</td>\n",
       "      <td>3</td>\n",
       "      <td>82.728571</td>\n",
       "      <td>48.985714</td>\n",
       "      <td>48.128571</td>\n",
       "      <td>24.142857</td>\n",
       "      <td>39.714286</td>\n",
       "      <td>280.000000</td>\n",
       "      <td>1.428571</td>\n",
       "      <td>1.142857</td>\n",
       "      <td>0.428571</td>\n",
       "    </tr>\n",
       "  </tbody>\n",
       "</table>\n",
       "</div>"
      ],
      "text/plain": [
       "      Num_Games  Num_Wins       Rate  TOTAL QBR    RAW QBR        Cmp  \\\n",
       "Year                                                                    \n",
       "2014         14         3  69.078571  34.621429  34.157143  20.000000   \n",
       "2015         16         5  89.312500  49.587500  50.162500  22.187500   \n",
       "2016         16         3  78.300000  42.968750  42.993750  23.000000   \n",
       "2017         15         9  88.426667  58.666667  58.613333  20.466667   \n",
       "2018          7         3  82.728571  48.985714  48.128571  24.142857   \n",
       "\n",
       "            Att         Yds        TD       Int  team_win  \n",
       "Year                                                       \n",
       "2014  33.928571  207.714286  0.785714  1.214286  0.214286  \n",
       "2015  37.875000  276.750000  2.187500  1.125000  0.312500  \n",
       "2016  39.062500  244.062500  1.437500  1.000000  0.187500  \n",
       "2017  33.933333  239.466667  1.400000  0.800000  0.600000  \n",
       "2018  39.714286  280.000000  1.428571  1.142857  0.428571  "
      ]
     },
     "execution_count": 68,
     "metadata": {},
     "output_type": "execute_result"
    }
   ],
   "source": [
    "# Analyze results\n",
    "pd.concat([num_games_gb, num_wins_gb, blake_stats_year_gb], axis=1)"
   ]
  },
  {
   "cell_type": "markdown",
   "metadata": {},
   "source": [
    "We can see that Blake's best year came in 2017, where he had 9 wins in 15 games and averaged his highest Total QBR during an NFL season. It is important to note that his Passer Rating was lower in 2017 compared to 2015. This is likely caused by Blake's team finding themselves losing early in games, causing them to pass the ball more. This inflated Blake's stats, therefore leading to a higher Passer Rating."
   ]
  },
  {
   "cell_type": "markdown",
   "metadata": {},
   "source": [
    "##### Kirk Cousins"
   ]
  },
  {
   "cell_type": "code",
   "execution_count": 69,
   "metadata": {},
   "outputs": [],
   "source": [
    "kirk = merged_df[merged_df.name == 'Kirk Cousins']"
   ]
  },
  {
   "cell_type": "code",
   "execution_count": 70,
   "metadata": {},
   "outputs": [
    {
     "data": {
      "text/html": [
       "<div>\n",
       "<style scoped>\n",
       "    .dataframe tbody tr th:only-of-type {\n",
       "        vertical-align: middle;\n",
       "    }\n",
       "\n",
       "    .dataframe tbody tr th {\n",
       "        vertical-align: top;\n",
       "    }\n",
       "\n",
       "    .dataframe thead th {\n",
       "        text-align: right;\n",
       "    }\n",
       "</style>\n",
       "<table border=\"1\" class=\"dataframe\">\n",
       "  <thead>\n",
       "    <tr style=\"text-align: right;\">\n",
       "      <th></th>\n",
       "      <th>Rate</th>\n",
       "      <th>TOTAL QBR</th>\n",
       "      <th>RAW QBR</th>\n",
       "      <th>Cmp</th>\n",
       "      <th>Att</th>\n",
       "      <th>Cmp.</th>\n",
       "      <th>Yds</th>\n",
       "      <th>TD</th>\n",
       "      <th>Int</th>\n",
       "      <th>qbr_minus_pass_rate</th>\n",
       "    </tr>\n",
       "    <tr>\n",
       "      <th>team_win</th>\n",
       "      <th></th>\n",
       "      <th></th>\n",
       "      <th></th>\n",
       "      <th></th>\n",
       "      <th></th>\n",
       "      <th></th>\n",
       "      <th></th>\n",
       "      <th></th>\n",
       "      <th></th>\n",
       "      <th></th>\n",
       "    </tr>\n",
       "  </thead>\n",
       "  <tbody>\n",
       "    <tr>\n",
       "      <th>0</th>\n",
       "      <td>85.068571</td>\n",
       "      <td>51.562857</td>\n",
       "      <td>51.177143</td>\n",
       "      <td>26.057143</td>\n",
       "      <td>40.342857</td>\n",
       "      <td>64.366000</td>\n",
       "      <td>289.971429</td>\n",
       "      <td>1.485714</td>\n",
       "      <td>1.257143</td>\n",
       "      <td>-2.218373</td>\n",
       "    </tr>\n",
       "    <tr>\n",
       "      <th>1</th>\n",
       "      <td>108.238710</td>\n",
       "      <td>65.461290</td>\n",
       "      <td>66.654839</td>\n",
       "      <td>22.193548</td>\n",
       "      <td>32.129032</td>\n",
       "      <td>69.434194</td>\n",
       "      <td>268.451613</td>\n",
       "      <td>1.903226</td>\n",
       "      <td>0.387097</td>\n",
       "      <td>-2.886951</td>\n",
       "    </tr>\n",
       "  </tbody>\n",
       "</table>\n",
       "</div>"
      ],
      "text/plain": [
       "                Rate  TOTAL QBR    RAW QBR        Cmp        Att       Cmp.  \\\n",
       "team_win                                                                      \n",
       "0          85.068571  51.562857  51.177143  26.057143  40.342857  64.366000   \n",
       "1         108.238710  65.461290  66.654839  22.193548  32.129032  69.434194   \n",
       "\n",
       "                 Yds        TD       Int  qbr_minus_pass_rate  \n",
       "team_win                                                       \n",
       "0         289.971429  1.485714  1.257143            -2.218373  \n",
       "1         268.451613  1.903226  0.387097            -2.886951  "
      ]
     },
     "execution_count": 70,
     "metadata": {},
     "output_type": "execute_result"
    }
   ],
   "source": [
    "kirk.groupby('team_win')[['Rate','TOTAL QBR','RAW QBR','Cmp', 'Att', 'Cmp.', 'Yds', 'TD','Int','qbr_minus_pass_rate']].mean()"
   ]
  },
  {
   "cell_type": "code",
   "execution_count": 71,
   "metadata": {},
   "outputs": [
    {
     "data": {
      "text/html": [
       "<div>\n",
       "<style scoped>\n",
       "    .dataframe tbody tr th:only-of-type {\n",
       "        vertical-align: middle;\n",
       "    }\n",
       "\n",
       "    .dataframe tbody tr th {\n",
       "        vertical-align: top;\n",
       "    }\n",
       "\n",
       "    .dataframe thead th {\n",
       "        text-align: right;\n",
       "    }\n",
       "</style>\n",
       "<table border=\"1\" class=\"dataframe\">\n",
       "  <thead>\n",
       "    <tr style=\"text-align: right;\">\n",
       "      <th></th>\n",
       "      <th>Num_Games</th>\n",
       "      <th>Num_Wins</th>\n",
       "      <th>Rate</th>\n",
       "      <th>TOTAL QBR</th>\n",
       "      <th>RAW QBR</th>\n",
       "      <th>Cmp</th>\n",
       "      <th>Att</th>\n",
       "      <th>Yds</th>\n",
       "      <th>TD</th>\n",
       "      <th>Int</th>\n",
       "      <th>team_win</th>\n",
       "    </tr>\n",
       "    <tr>\n",
       "      <th>Year</th>\n",
       "      <th></th>\n",
       "      <th></th>\n",
       "      <th></th>\n",
       "      <th></th>\n",
       "      <th></th>\n",
       "      <th></th>\n",
       "      <th></th>\n",
       "      <th></th>\n",
       "      <th></th>\n",
       "      <th></th>\n",
       "      <th></th>\n",
       "    </tr>\n",
       "  </thead>\n",
       "  <tbody>\n",
       "    <tr>\n",
       "      <th>2012</th>\n",
       "      <td>1</td>\n",
       "      <td>1</td>\n",
       "      <td>104.400000</td>\n",
       "      <td>79.200000</td>\n",
       "      <td>78.700000</td>\n",
       "      <td>26.000000</td>\n",
       "      <td>37.000000</td>\n",
       "      <td>329.000000</td>\n",
       "      <td>2.000000</td>\n",
       "      <td>1.000000</td>\n",
       "      <td>1.000000</td>\n",
       "    </tr>\n",
       "    <tr>\n",
       "      <th>2013</th>\n",
       "      <td>3</td>\n",
       "      <td>0</td>\n",
       "      <td>65.933333</td>\n",
       "      <td>40.900000</td>\n",
       "      <td>47.000000</td>\n",
       "      <td>23.000000</td>\n",
       "      <td>43.333333</td>\n",
       "      <td>249.000000</td>\n",
       "      <td>1.333333</td>\n",
       "      <td>1.666667</td>\n",
       "      <td>0.000000</td>\n",
       "    </tr>\n",
       "    <tr>\n",
       "      <th>2014</th>\n",
       "      <td>6</td>\n",
       "      <td>2</td>\n",
       "      <td>85.050000</td>\n",
       "      <td>48.033333</td>\n",
       "      <td>47.750000</td>\n",
       "      <td>21.000000</td>\n",
       "      <td>34.000000</td>\n",
       "      <td>285.000000</td>\n",
       "      <td>1.666667</td>\n",
       "      <td>1.500000</td>\n",
       "      <td>0.333333</td>\n",
       "    </tr>\n",
       "    <tr>\n",
       "      <th>2015</th>\n",
       "      <td>15</td>\n",
       "      <td>8</td>\n",
       "      <td>100.186667</td>\n",
       "      <td>61.320000</td>\n",
       "      <td>63.886667</td>\n",
       "      <td>24.466667</td>\n",
       "      <td>35.200000</td>\n",
       "      <td>266.000000</td>\n",
       "      <td>1.733333</td>\n",
       "      <td>0.733333</td>\n",
       "      <td>0.533333</td>\n",
       "    </tr>\n",
       "    <tr>\n",
       "      <th>2016</th>\n",
       "      <td>16</td>\n",
       "      <td>8</td>\n",
       "      <td>98.887500</td>\n",
       "      <td>63.675000</td>\n",
       "      <td>63.193750</td>\n",
       "      <td>25.375000</td>\n",
       "      <td>37.875000</td>\n",
       "      <td>307.312500</td>\n",
       "      <td>1.562500</td>\n",
       "      <td>0.750000</td>\n",
       "      <td>0.500000</td>\n",
       "    </tr>\n",
       "    <tr>\n",
       "      <th>2017</th>\n",
       "      <td>16</td>\n",
       "      <td>7</td>\n",
       "      <td>95.406250</td>\n",
       "      <td>56.093750</td>\n",
       "      <td>53.900000</td>\n",
       "      <td>21.687500</td>\n",
       "      <td>33.750000</td>\n",
       "      <td>255.812500</td>\n",
       "      <td>1.687500</td>\n",
       "      <td>0.812500</td>\n",
       "      <td>0.437500</td>\n",
       "    </tr>\n",
       "    <tr>\n",
       "      <th>2018</th>\n",
       "      <td>9</td>\n",
       "      <td>5</td>\n",
       "      <td>100.977778</td>\n",
       "      <td>56.422222</td>\n",
       "      <td>57.722222</td>\n",
       "      <td>28.777778</td>\n",
       "      <td>40.333333</td>\n",
       "      <td>298.333333</td>\n",
       "      <td>1.888889</td>\n",
       "      <td>0.555556</td>\n",
       "      <td>0.555556</td>\n",
       "    </tr>\n",
       "  </tbody>\n",
       "</table>\n",
       "</div>"
      ],
      "text/plain": [
       "      Num_Games  Num_Wins        Rate  TOTAL QBR    RAW QBR        Cmp  \\\n",
       "Year                                                                     \n",
       "2012          1         1  104.400000  79.200000  78.700000  26.000000   \n",
       "2013          3         0   65.933333  40.900000  47.000000  23.000000   \n",
       "2014          6         2   85.050000  48.033333  47.750000  21.000000   \n",
       "2015         15         8  100.186667  61.320000  63.886667  24.466667   \n",
       "2016         16         8   98.887500  63.675000  63.193750  25.375000   \n",
       "2017         16         7   95.406250  56.093750  53.900000  21.687500   \n",
       "2018          9         5  100.977778  56.422222  57.722222  28.777778   \n",
       "\n",
       "            Att         Yds        TD       Int  team_win  \n",
       "Year                                                       \n",
       "2012  37.000000  329.000000  2.000000  1.000000  1.000000  \n",
       "2013  43.333333  249.000000  1.333333  1.666667  0.000000  \n",
       "2014  34.000000  285.000000  1.666667  1.500000  0.333333  \n",
       "2015  35.200000  266.000000  1.733333  0.733333  0.533333  \n",
       "2016  37.875000  307.312500  1.562500  0.750000  0.500000  \n",
       "2017  33.750000  255.812500  1.687500  0.812500  0.437500  \n",
       "2018  40.333333  298.333333  1.888889  0.555556  0.555556  "
      ]
     },
     "execution_count": 71,
     "metadata": {},
     "output_type": "execute_result"
    }
   ],
   "source": [
    "kirk_stats_year_gb = kirk.groupby('Year')[['Rate','TOTAL QBR','RAW QBR','Cmp', 'Att', 'Yds', 'TD','Int','team_win']].mean()\n",
    "\n",
    "num_games_gb = kirk.groupby('Year')[['Cmp']].count()\n",
    "num_games_gb.columns = ['Num_Games']\n",
    "\n",
    "num_wins_gb = kirk.groupby('Year')[['team_win']].sum()\n",
    "num_wins_gb.columns = ['Num_Wins']\n",
    "\n",
    "pd.concat([num_games_gb, num_wins_gb, kirk_stats_year_gb], axis=1)"
   ]
  },
  {
   "cell_type": "code",
   "execution_count": 72,
   "metadata": {},
   "outputs": [
    {
     "data": {
      "text/html": [
       "<div>\n",
       "<style scoped>\n",
       "    .dataframe tbody tr th:only-of-type {\n",
       "        vertical-align: middle;\n",
       "    }\n",
       "\n",
       "    .dataframe tbody tr th {\n",
       "        vertical-align: top;\n",
       "    }\n",
       "\n",
       "    .dataframe thead th {\n",
       "        text-align: right;\n",
       "    }\n",
       "</style>\n",
       "<table border=\"1\" class=\"dataframe\">\n",
       "  <thead>\n",
       "    <tr style=\"text-align: right;\">\n",
       "      <th></th>\n",
       "      <th>QBR</th>\n",
       "      <th>Passer Rating</th>\n",
       "      <th>Cmp</th>\n",
       "      <th>Att</th>\n",
       "      <th>Cmp %</th>\n",
       "      <th>Yds</th>\n",
       "      <th>TD</th>\n",
       "      <th>Int</th>\n",
       "      <th>Scaled QBR Minus Scaled Passer Rating</th>\n",
       "    </tr>\n",
       "    <tr>\n",
       "      <th>name</th>\n",
       "      <th></th>\n",
       "      <th></th>\n",
       "      <th></th>\n",
       "      <th></th>\n",
       "      <th></th>\n",
       "      <th></th>\n",
       "      <th></th>\n",
       "      <th></th>\n",
       "      <th></th>\n",
       "    </tr>\n",
       "  </thead>\n",
       "  <tbody>\n",
       "    <tr>\n",
       "      <th>Blake Bortles</th>\n",
       "      <td>46.889706</td>\n",
       "      <td>81.682353</td>\n",
       "      <td>21.750000</td>\n",
       "      <td>36.661765</td>\n",
       "      <td>59.194853</td>\n",
       "      <td>246.955882</td>\n",
       "      <td>1.470588</td>\n",
       "      <td>1.044118</td>\n",
       "      <td>-4.775893</td>\n",
       "    </tr>\n",
       "    <tr>\n",
       "      <th>Kirk Cousins</th>\n",
       "      <td>58.090909</td>\n",
       "      <td>95.951515</td>\n",
       "      <td>24.242424</td>\n",
       "      <td>36.484848</td>\n",
       "      <td>66.746515</td>\n",
       "      <td>279.863636</td>\n",
       "      <td>1.681818</td>\n",
       "      <td>0.848485</td>\n",
       "      <td>-2.532402</td>\n",
       "    </tr>\n",
       "  </tbody>\n",
       "</table>\n",
       "</div>"
      ],
      "text/plain": [
       "                     QBR  Passer Rating        Cmp        Att      Cmp %  \\\n",
       "name                                                                       \n",
       "Blake Bortles  46.889706      81.682353  21.750000  36.661765  59.194853   \n",
       "Kirk Cousins   58.090909      95.951515  24.242424  36.484848  66.746515   \n",
       "\n",
       "                      Yds        TD       Int  \\\n",
       "name                                            \n",
       "Blake Bortles  246.955882  1.470588  1.044118   \n",
       "Kirk Cousins   279.863636  1.681818  0.848485   \n",
       "\n",
       "               Scaled QBR Minus Scaled Passer Rating  \n",
       "name                                                  \n",
       "Blake Bortles                              -4.775893  \n",
       "Kirk Cousins                               -2.532402  "
      ]
     },
     "execution_count": 72,
     "metadata": {},
     "output_type": "execute_result"
    }
   ],
   "source": [
    "# Comparing Blake Bortles and Kirk Cousins careers directly\n",
    "b_k_gb = blake_and_kirk.groupby('name')[['TOTAL QBR','Rate','Cmp', 'Att', 'Cmp.', 'Yds', 'TD','Int','qbr_minus_pass_rate']].mean()\n",
    "b_k_gb.columns = ['QBR','Passer Rating','Cmp','Att','Cmp %','Yds','TD','Int',\n",
    "                  'Scaled QBR Minus Scaled Passer Rating']\n",
    "b_k_gb"
   ]
  },
  {
   "cell_type": "markdown",
   "metadata": {},
   "source": [
    "Kirk Cousins seems to outperform Blake Bortles in every passing statistic shown in the table above."
   ]
  },
  {
   "cell_type": "code",
   "execution_count": 73,
   "metadata": {},
   "outputs": [
    {
     "data": {
      "text/plain": [
       "-1.180423555019883"
      ]
     },
     "execution_count": 73,
     "metadata": {},
     "output_type": "execute_result"
    }
   ],
   "source": [
    "# Find average difference between scaled Passer Rating and scaled QBR\n",
    "merged_df.qbr_minus_pass_rate.mean() # scaled QBR, on average, 1.18 scaled points less than Passer Rating"
   ]
  },
  {
   "cell_type": "code",
   "execution_count": 74,
   "metadata": {},
   "outputs": [
    {
     "data": {
      "text/plain": [
       "-5.1568391547122765"
      ]
     },
     "execution_count": 74,
     "metadata": {},
     "output_type": "execute_result"
    }
   ],
   "source": [
    "np.percentile(merged_df['qbr_minus_pass_rate'], 40)"
   ]
  },
  {
   "cell_type": "code",
   "execution_count": 75,
   "metadata": {},
   "outputs": [
    {
     "data": {
      "text/plain": [
       "Text(0.5, 1.0, 'Histogram of Scaled Difference Between QBR and Passer Rating per Game')"
      ]
     },
     "execution_count": 75,
     "metadata": {},
     "output_type": "execute_result"
    },
    {
     "data": {
      "image/png": "[encoded data removed]",
      "text/plain": [
       "<Figure size 432x288 with 1 Axes>"
      ]
     },
     "metadata": {},
     "output_type": "display_data"
    }
   ],
   "source": [
    "plt.hist(merged_df['qbr_minus_pass_rate'], color='lime', edgecolor='black', linewidth=1.5)\n",
    "plt.xlabel('Scaled Difference Between QBR and Passer Rating')\n",
    "plt.ylabel('Frequency of Games')\n",
    "plt.title('Histogram of Scaled Difference Between QBR and Passer Rating per Game')"
   ]
  },
  {
   "cell_type": "code",
   "execution_count": 78,
   "metadata": {},
   "outputs": [],
   "source": [
    "# Compare 3 QBs of interest\n",
    "small_qb = merged_df[(merged_df.name.isin(['Blake Bortles','Kirk Cousins','Ryan Fitzpatrick']))]"
   ]
  },
  {
   "cell_type": "code",
   "execution_count": 79,
   "metadata": {},
   "outputs": [
    {
     "data": {
      "text/html": [
       "<div>\n",
       "<style scoped>\n",
       "    .dataframe tbody tr th:only-of-type {\n",
       "        vertical-align: middle;\n",
       "    }\n",
       "\n",
       "    .dataframe tbody tr th {\n",
       "        vertical-align: top;\n",
       "    }\n",
       "\n",
       "    .dataframe thead th {\n",
       "        text-align: right;\n",
       "    }\n",
       "</style>\n",
       "<table border=\"1\" class=\"dataframe\">\n",
       "  <thead>\n",
       "    <tr style=\"text-align: right;\">\n",
       "      <th></th>\n",
       "      <th>QBR</th>\n",
       "      <th>Passer Rating</th>\n",
       "      <th>Cmp</th>\n",
       "      <th>Att</th>\n",
       "      <th>Cmp %</th>\n",
       "      <th>Yds</th>\n",
       "      <th>TD</th>\n",
       "      <th>Int</th>\n",
       "      <th>Scaled QBR Minus Scaled Passer Rating</th>\n",
       "    </tr>\n",
       "    <tr>\n",
       "      <th>name</th>\n",
       "      <th></th>\n",
       "      <th></th>\n",
       "      <th></th>\n",
       "      <th></th>\n",
       "      <th></th>\n",
       "      <th></th>\n",
       "      <th></th>\n",
       "      <th></th>\n",
       "      <th></th>\n",
       "    </tr>\n",
       "  </thead>\n",
       "  <tbody>\n",
       "    <tr>\n",
       "      <th>Blake Bortles</th>\n",
       "      <td>46.889706</td>\n",
       "      <td>81.682353</td>\n",
       "      <td>21.750000</td>\n",
       "      <td>36.661765</td>\n",
       "      <td>59.194853</td>\n",
       "      <td>246.955882</td>\n",
       "      <td>1.470588</td>\n",
       "      <td>1.044118</td>\n",
       "      <td>-4.775893</td>\n",
       "    </tr>\n",
       "    <tr>\n",
       "      <th>Kirk Cousins</th>\n",
       "      <td>58.090909</td>\n",
       "      <td>95.951515</td>\n",
       "      <td>24.242424</td>\n",
       "      <td>36.484848</td>\n",
       "      <td>66.746515</td>\n",
       "      <td>279.863636</td>\n",
       "      <td>1.681818</td>\n",
       "      <td>0.848485</td>\n",
       "      <td>-2.532402</td>\n",
       "    </tr>\n",
       "    <tr>\n",
       "      <th>Ryan Fitzpatrick</th>\n",
       "      <td>50.522131</td>\n",
       "      <td>82.383607</td>\n",
       "      <td>19.754098</td>\n",
       "      <td>32.795082</td>\n",
       "      <td>60.137705</td>\n",
       "      <td>224.065574</td>\n",
       "      <td>1.483607</td>\n",
       "      <td>1.081967</td>\n",
       "      <td>-1.568204</td>\n",
       "    </tr>\n",
       "  </tbody>\n",
       "</table>\n",
       "</div>"
      ],
      "text/plain": [
       "                        QBR  Passer Rating        Cmp        Att      Cmp %  \\\n",
       "name                                                                          \n",
       "Blake Bortles     46.889706      81.682353  21.750000  36.661765  59.194853   \n",
       "Kirk Cousins      58.090909      95.951515  24.242424  36.484848  66.746515   \n",
       "Ryan Fitzpatrick  50.522131      82.383607  19.754098  32.795082  60.137705   \n",
       "\n",
       "                         Yds        TD       Int  \\\n",
       "name                                               \n",
       "Blake Bortles     246.955882  1.470588  1.044118   \n",
       "Kirk Cousins      279.863636  1.681818  0.848485   \n",
       "Ryan Fitzpatrick  224.065574  1.483607  1.081967   \n",
       "\n",
       "                  Scaled QBR Minus Scaled Passer Rating  \n",
       "name                                                     \n",
       "Blake Bortles                                 -4.775893  \n",
       "Kirk Cousins                                  -2.532402  \n",
       "Ryan Fitzpatrick                              -1.568204  "
      ]
     },
     "execution_count": 79,
     "metadata": {},
     "output_type": "execute_result"
    }
   ],
   "source": [
    "small_qb_gb = small_qb.groupby('name')[['TOTAL QBR','Rate','Cmp', 'Att', 'Cmp.', 'Yds', 'TD','Int','qbr_minus_pass_rate']].mean()\n",
    "small_qb_gb.columns = ['QBR','Passer Rating','Cmp','Att','Cmp %','Yds','TD','Int',\n",
    "                  'Scaled QBR Minus Scaled Passer Rating']\n",
    "small_qb_gb"
   ]
  },
  {
   "cell_type": "markdown",
   "metadata": {},
   "source": [
    "Of these 3 QBs, Blake Bortles is the best example of a QB with a high Passer Rating but low QBR. This implies that he padded his stats. Although his stats led to a high Passer Rating, his low QBRs showed that he did not often have a positive impact on his team. This is shown with the large negative Scaled QBR Minus Scaled Passer Rating metric showed in the last column."
   ]
  },
  {
   "cell_type": "code",
   "execution_count": null,
   "metadata": {},
   "outputs": [],
   "source": []
  }
 ],
 "metadata": {
  "kernelspec": {
   "display_name": "Python 3",
   "language": "python",
   "name": "python3"
  },
  "language_info": {
   "codemirror_mode": {
    "name": "ipython",
    "version": 3
   },
   "file_extension": ".py",
   "mimetype": "text/x-python",
   "name": "python",
   "nbconvert_exporter": "python",
   "pygments_lexer": "ipython3",
   "version": "3.6.4"
  }
 },
 "nbformat": 4,
 "nbformat_minor": 2
}
